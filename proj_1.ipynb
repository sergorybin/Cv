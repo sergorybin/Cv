{
 "cells": [
  {
   "cell_type": "markdown",
   "metadata": {},
   "source": [
    "# Выбор локации для скважины"
   ]
  },
  {
   "cell_type": "markdown",
   "metadata": {},
   "source": [
    "Вам предоставлены пробы нефти в трёх регионах от компании «ГлавРосГосНефть»: в каждом 10 000 месторождений, где измерили качество нефти и объём её запасов.\n",
    "\n",
    "**Цель исследования** — нужно решить, где бурить новую скважину. Кроме того, построить модель машинного обучения, которая поможет определить регион, где добыча принесёт наибольшую прибыль и проанализировать возможную прибыль и риски техникой *Bootstrap.*\n",
    "\n",
    "**Ход исследования**\n",
    "\n",
    "Шаги для выбора локации:\n",
    "\n",
    "- В избранном регионе ищут месторождения, для каждого определяют значения признаков;\n",
    "- Строят модель и оценивают объём запасов;\n",
    "- Выбирают месторождения с самым высокими оценками значений. Количество месторождений зависит от бюджета компании и стоимости разработки одной скважины;\n",
    "- Прибыль равна суммарной прибыли отобранных месторождений.\n",
    "\n",
    "О качестве данных известно, что, как минимум, не требуется предобработка, однако, все равно проверим повторно.\n",
    "\n",
    "Таким образом, исследование пройдёт в три этапа:\n",
    "\n",
    "1. Обзор данных.\n",
    "2. Предобработка данных.\n",
    "3. Анализ."
   ]
  },
  {
   "cell_type": "markdown",
   "metadata": {},
   "source": [
    "## Изучение данных"
   ]
  },
  {
   "cell_type": "code",
   "execution_count": 1,
   "metadata": {},
   "outputs": [
    {
     "name": "stdout",
     "output_type": "stream",
     "text": [
      "Requirement already satisfied: imbalanced-learn in /opt/conda/lib/python3.9/site-packages (0.9.1)\n",
      "Requirement already satisfied: scipy>=1.3.2 in /opt/conda/lib/python3.9/site-packages (from imbalanced-learn) (1.9.1)\n",
      "Requirement already satisfied: numpy>=1.17.3 in /opt/conda/lib/python3.9/site-packages (from imbalanced-learn) (1.21.1)\n",
      "Requirement already satisfied: scikit-learn>=1.1.0 in /opt/conda/lib/python3.9/site-packages (from imbalanced-learn) (1.1.2)\n",
      "Requirement already satisfied: joblib>=1.0.0 in /opt/conda/lib/python3.9/site-packages (from imbalanced-learn) (1.1.0)\n",
      "Requirement already satisfied: threadpoolctl>=2.0.0 in /opt/conda/lib/python3.9/site-packages (from imbalanced-learn) (3.1.0)\n",
      "Note: you may need to restart the kernel to use updated packages.\n"
     ]
    }
   ],
   "source": [
    "pip install -U imbalanced-learn"
   ]
  },
  {
   "cell_type": "code",
   "execution_count": 2,
   "metadata": {},
   "outputs": [],
   "source": [
    "import pandas as pd\n",
    "import matplotlib.pyplot as plt\n",
    "import numpy as np\n",
    "import seaborn as sns\n",
    "\n",
    "from sklearn.linear_model import SGDRegressor\n",
    "from sklearn.linear_model import LinearRegression\n",
    "from sklearn.metrics import mean_squared_error\n",
    "from sklearn.utils import shuffle\n",
    "from sklearn.model_selection import train_test_split, cross_val_score, GridSearchCV, KFold\n",
    "from sklearn.preprocessing import MinMaxScaler\n",
    "from sklearn.metrics import make_scorer\n",
    "\n",
    "from numpy.random import RandomState\n",
    "from collections import Counter\n",
    "from imblearn.pipeline import Pipeline, make_pipeline"
   ]
  },
  {
   "cell_type": "code",
   "execution_count": 3,
   "metadata": {},
   "outputs": [],
   "source": [
    "geo_1 = pd.read_csv('/datasets/geo_data_0.csv')\n",
    "geo_2 = pd.read_csv('/datasets/geo_data_1.csv')\n",
    "geo_3 = pd.read_csv('/datasets/geo_data_2.csv')"
   ]
  },
  {
   "cell_type": "markdown",
   "metadata": {},
   "source": [
    "Откроем файл и изучим документацию:"
   ]
  },
  {
   "cell_type": "code",
   "execution_count": 4,
   "metadata": {
    "scrolled": true
   },
   "outputs": [
    {
     "data": {
      "text/html": [
       "<div>\n",
       "<style scoped>\n",
       "    .dataframe tbody tr th:only-of-type {\n",
       "        vertical-align: middle;\n",
       "    }\n",
       "\n",
       "    .dataframe tbody tr th {\n",
       "        vertical-align: top;\n",
       "    }\n",
       "\n",
       "    .dataframe thead th {\n",
       "        text-align: right;\n",
       "    }\n",
       "</style>\n",
       "<table border=\"1\" class=\"dataframe\">\n",
       "  <thead>\n",
       "    <tr style=\"text-align: right;\">\n",
       "      <th></th>\n",
       "      <th>id</th>\n",
       "      <th>f0</th>\n",
       "      <th>f1</th>\n",
       "      <th>f2</th>\n",
       "      <th>product</th>\n",
       "    </tr>\n",
       "  </thead>\n",
       "  <tbody>\n",
       "    <tr>\n",
       "      <th>0</th>\n",
       "      <td>txEyH</td>\n",
       "      <td>0.705745</td>\n",
       "      <td>-0.497823</td>\n",
       "      <td>1.221170</td>\n",
       "      <td>105.280062</td>\n",
       "    </tr>\n",
       "    <tr>\n",
       "      <th>1</th>\n",
       "      <td>2acmU</td>\n",
       "      <td>1.334711</td>\n",
       "      <td>-0.340164</td>\n",
       "      <td>4.365080</td>\n",
       "      <td>73.037750</td>\n",
       "    </tr>\n",
       "    <tr>\n",
       "      <th>2</th>\n",
       "      <td>409Wp</td>\n",
       "      <td>1.022732</td>\n",
       "      <td>0.151990</td>\n",
       "      <td>1.419926</td>\n",
       "      <td>85.265647</td>\n",
       "    </tr>\n",
       "    <tr>\n",
       "      <th>3</th>\n",
       "      <td>iJLyR</td>\n",
       "      <td>-0.032172</td>\n",
       "      <td>0.139033</td>\n",
       "      <td>2.978566</td>\n",
       "      <td>168.620776</td>\n",
       "    </tr>\n",
       "    <tr>\n",
       "      <th>4</th>\n",
       "      <td>Xdl7t</td>\n",
       "      <td>1.988431</td>\n",
       "      <td>0.155413</td>\n",
       "      <td>4.751769</td>\n",
       "      <td>154.036647</td>\n",
       "    </tr>\n",
       "  </tbody>\n",
       "</table>\n",
       "</div>"
      ],
      "text/plain": [
       "      id        f0        f1        f2     product\n",
       "0  txEyH  0.705745 -0.497823  1.221170  105.280062\n",
       "1  2acmU  1.334711 -0.340164  4.365080   73.037750\n",
       "2  409Wp  1.022732  0.151990  1.419926   85.265647\n",
       "3  iJLyR -0.032172  0.139033  2.978566  168.620776\n",
       "4  Xdl7t  1.988431  0.155413  4.751769  154.036647"
      ]
     },
     "execution_count": 4,
     "metadata": {},
     "output_type": "execute_result"
    }
   ],
   "source": [
    "geo_1.head()"
   ]
  },
  {
   "cell_type": "markdown",
   "metadata": {},
   "source": [
    "Одной командой получим общую информацию о данных таблицы:"
   ]
  },
  {
   "cell_type": "code",
   "execution_count": 5,
   "metadata": {},
   "outputs": [
    {
     "name": "stdout",
     "output_type": "stream",
     "text": [
      "<class 'pandas.core.frame.DataFrame'>\n",
      "RangeIndex: 100000 entries, 0 to 99999\n",
      "Data columns (total 5 columns):\n",
      " #   Column   Non-Null Count   Dtype  \n",
      "---  ------   --------------   -----  \n",
      " 0   id       100000 non-null  object \n",
      " 1   f0       100000 non-null  float64\n",
      " 2   f1       100000 non-null  float64\n",
      " 3   f2       100000 non-null  float64\n",
      " 4   product  100000 non-null  float64\n",
      "dtypes: float64(4), object(1)\n",
      "memory usage: 3.8+ MB\n"
     ]
    }
   ],
   "source": [
    "geo_1.info()"
   ]
  },
  {
   "cell_type": "code",
   "execution_count": 6,
   "metadata": {},
   "outputs": [
    {
     "name": "stdout",
     "output_type": "stream",
     "text": [
      "<class 'pandas.core.frame.DataFrame'>\n",
      "RangeIndex: 100000 entries, 0 to 99999\n",
      "Data columns (total 5 columns):\n",
      " #   Column   Non-Null Count   Dtype  \n",
      "---  ------   --------------   -----  \n",
      " 0   id       100000 non-null  object \n",
      " 1   f0       100000 non-null  float64\n",
      " 2   f1       100000 non-null  float64\n",
      " 3   f2       100000 non-null  float64\n",
      " 4   product  100000 non-null  float64\n",
      "dtypes: float64(4), object(1)\n",
      "memory usage: 3.8+ MB\n"
     ]
    }
   ],
   "source": [
    "geo_2.info()"
   ]
  },
  {
   "cell_type": "code",
   "execution_count": 7,
   "metadata": {},
   "outputs": [
    {
     "name": "stdout",
     "output_type": "stream",
     "text": [
      "<class 'pandas.core.frame.DataFrame'>\n",
      "RangeIndex: 100000 entries, 0 to 99999\n",
      "Data columns (total 5 columns):\n",
      " #   Column   Non-Null Count   Dtype  \n",
      "---  ------   --------------   -----  \n",
      " 0   id       100000 non-null  object \n",
      " 1   f0       100000 non-null  float64\n",
      " 2   f1       100000 non-null  float64\n",
      " 3   f2       100000 non-null  float64\n",
      " 4   product  100000 non-null  float64\n",
      "dtypes: float64(4), object(1)\n",
      "memory usage: 3.8+ MB\n"
     ]
    }
   ],
   "source": [
    "geo_3.info()"
   ]
  },
  {
   "cell_type": "markdown",
   "metadata": {},
   "source": [
    "Итак, в таблицах 4 столбца. Тип данных в столбцах — `object`, `float64`.\n",
    "\n",
    "Согласно документации к данным:\n",
    "\n",
    "* `id` — уникальный идентификатор скважины;\n",
    "* `f0, f1, f2` — три признака точек (неважно, что они означают, но сами признаки значимы);\n",
    "* `product` — объём запасов в скважине (тыс. баррелей)."
   ]
  },
  {
   "cell_type": "markdown",
   "metadata": {},
   "source": [
    "**Выводы**\n",
    "\n",
    "Данные представляют собой полную сводку информации о скважинах. \n",
    "\n",
    "Предварительно можно утверждать, что данных достаточно для исследования.\n"
   ]
  },
  {
   "cell_type": "markdown",
   "metadata": {},
   "source": [
    "## Предобработка данных"
   ]
  },
  {
   "cell_type": "markdown",
   "metadata": {},
   "source": [
    "### Локация №1"
   ]
  },
  {
   "cell_type": "markdown",
   "metadata": {},
   "source": [
    "#### Пропуски, дубликаты"
   ]
  },
  {
   "cell_type": "code",
   "execution_count": 8,
   "metadata": {},
   "outputs": [
    {
     "data": {
      "text/plain": [
       "id         0.0\n",
       "f0         0.0\n",
       "f1         0.0\n",
       "f2         0.0\n",
       "product    0.0\n",
       "dtype: float64"
      ]
     },
     "execution_count": 8,
     "metadata": {},
     "output_type": "execute_result"
    }
   ],
   "source": [
    "geo_1.isna().mean() * 100"
   ]
  },
  {
   "cell_type": "markdown",
   "metadata": {},
   "source": [
    "Пропусков не обнаружилось! Посмотрим на дубликаты:"
   ]
  },
  {
   "cell_type": "code",
   "execution_count": 9,
   "metadata": {},
   "outputs": [
    {
     "data": {
      "text/plain": [
       "True"
      ]
     },
     "execution_count": 9,
     "metadata": {},
     "output_type": "execute_result"
    }
   ],
   "source": [
    "geo_1.duplicated().sum() == 0"
   ]
  },
  {
   "cell_type": "markdown",
   "metadata": {},
   "source": [
    "В самой таблице нет дубликатов, проверим совпадают ли где-то `id` по всем локациям:"
   ]
  },
  {
   "cell_type": "code",
   "execution_count": 10,
   "metadata": {},
   "outputs": [
    {
     "name": "stdout",
     "output_type": "stream",
     "text": [
      "Кол-во одинаковых скважин по всем локациям: 49\n"
     ]
    }
   ],
   "source": [
    "all_id  = pd.concat([geo_1['id'], geo_2['id'], geo_3['id']]).reset_index(drop=True)\n",
    "print(f'Кол-во одинаковых скважин по всем локациям:', all_id.duplicated().sum())"
   ]
  },
  {
   "cell_type": "markdown",
   "metadata": {},
   "source": [
    "Ближе рассмотрим такие скважины:"
   ]
  },
  {
   "cell_type": "code",
   "execution_count": 11,
   "metadata": {
    "scrolled": true
   },
   "outputs": [
    {
     "data": {
      "text/plain": [
       "7530      HZww2\n",
       "41724     bxg6G\n",
       "51970     A5aEY\n",
       "63593     QcMuo\n",
       "66136     74z30\n",
       "69163     AGS9W\n",
       "75715     Tdehs\n",
       "90815     fiKDv\n",
       "92341     TtcGQ\n",
       "97785     bsk9y\n",
       "123086    CXJ2r\n",
       "141906    LHZR0\n",
       "146293    pGQRI\n",
       "147203    gnA83\n",
       "175179    mpZhE\n",
       "176544    L1Fdm\n",
       "181779    it2OW\n",
       "182178    bfPNe\n",
       "182873    wt4Uk\n",
       "184461    5ltQ6\n",
       "194352    Q64YW\n",
       "197856    Y2udP\n",
       "199665    g3RRG\n",
       "199975    Mp3uM\n",
       "207260    uSye4\n",
       "209042    LhkAh\n",
       "213672    i2csb\n",
       "217007    g2I86\n",
       "217551    TXPOv\n",
       "227380    2tyMi\n",
       "227885    wqgPo\n",
       "231306    H2jd8\n",
       "240478    uMqiK\n",
       "243233    xCHr8\n",
       "248472    scFN4\n",
       "249106    lFHA5\n",
       "249564    VF7Jo\n",
       "250308    rAJA6\n",
       "255967    KUPhW\n",
       "257741    Suyut\n",
       "261622    D8TNs\n",
       "272896    5ssQt\n",
       "279311    kpKGs\n",
       "280750    TAqwC\n",
       "282577    eVdPR\n",
       "287965    tgOl6\n",
       "291259    G6k8A\n",
       "295090    Vcm5J\n",
       "297706    PyNp5\n",
       "Name: id, dtype: object"
      ]
     },
     "execution_count": 11,
     "metadata": {},
     "output_type": "execute_result"
    }
   ],
   "source": [
    "all_id[all_id.duplicated()]"
   ]
  },
  {
   "cell_type": "code",
   "execution_count": 12,
   "metadata": {
    "scrolled": false
   },
   "outputs": [
    {
     "data": {
      "text/html": [
       "<div>\n",
       "<style scoped>\n",
       "    .dataframe tbody tr th:only-of-type {\n",
       "        vertical-align: middle;\n",
       "    }\n",
       "\n",
       "    .dataframe tbody tr th {\n",
       "        vertical-align: top;\n",
       "    }\n",
       "\n",
       "    .dataframe thead th {\n",
       "        text-align: right;\n",
       "    }\n",
       "</style>\n",
       "<table border=\"1\" class=\"dataframe\">\n",
       "  <thead>\n",
       "    <tr style=\"text-align: right;\">\n",
       "      <th></th>\n",
       "      <th>id</th>\n",
       "      <th>f0</th>\n",
       "      <th>f1</th>\n",
       "      <th>f2</th>\n",
       "      <th>product</th>\n",
       "    </tr>\n",
       "  </thead>\n",
       "  <tbody>\n",
       "    <tr>\n",
       "      <th>931</th>\n",
       "      <td>HZww2</td>\n",
       "      <td>0.755284</td>\n",
       "      <td>0.368511</td>\n",
       "      <td>1.863211</td>\n",
       "      <td>30.681774</td>\n",
       "    </tr>\n",
       "    <tr>\n",
       "      <th>7530</th>\n",
       "      <td>HZww2</td>\n",
       "      <td>1.061194</td>\n",
       "      <td>-0.373969</td>\n",
       "      <td>10.430210</td>\n",
       "      <td>158.828695</td>\n",
       "    </tr>\n",
       "  </tbody>\n",
       "</table>\n",
       "</div>"
      ],
      "text/plain": [
       "         id        f0        f1         f2     product\n",
       "931   HZww2  0.755284  0.368511   1.863211   30.681774\n",
       "7530  HZww2  1.061194 -0.373969  10.430210  158.828695"
      ]
     },
     "metadata": {},
     "output_type": "display_data"
    },
    {
     "data": {
      "text/html": [
       "<div>\n",
       "<style scoped>\n",
       "    .dataframe tbody tr th:only-of-type {\n",
       "        vertical-align: middle;\n",
       "    }\n",
       "\n",
       "    .dataframe tbody tr th {\n",
       "        vertical-align: top;\n",
       "    }\n",
       "\n",
       "    .dataframe thead th {\n",
       "        text-align: right;\n",
       "    }\n",
       "</style>\n",
       "<table border=\"1\" class=\"dataframe\">\n",
       "  <thead>\n",
       "    <tr style=\"text-align: right;\">\n",
       "      <th></th>\n",
       "      <th>id</th>\n",
       "      <th>f0</th>\n",
       "      <th>f1</th>\n",
       "      <th>f2</th>\n",
       "      <th>product</th>\n",
       "    </tr>\n",
       "  </thead>\n",
       "  <tbody>\n",
       "    <tr>\n",
       "      <th>1364</th>\n",
       "      <td>bxg6G</td>\n",
       "      <td>0.411645</td>\n",
       "      <td>0.856830</td>\n",
       "      <td>-3.653440</td>\n",
       "      <td>73.604260</td>\n",
       "    </tr>\n",
       "    <tr>\n",
       "      <th>41724</th>\n",
       "      <td>bxg6G</td>\n",
       "      <td>-0.823752</td>\n",
       "      <td>0.546319</td>\n",
       "      <td>3.630479</td>\n",
       "      <td>93.007798</td>\n",
       "    </tr>\n",
       "  </tbody>\n",
       "</table>\n",
       "</div>"
      ],
      "text/plain": [
       "          id        f0        f1        f2    product\n",
       "1364   bxg6G  0.411645  0.856830 -3.653440  73.604260\n",
       "41724  bxg6G -0.823752  0.546319  3.630479  93.007798"
      ]
     },
     "metadata": {},
     "output_type": "display_data"
    },
    {
     "data": {
      "text/html": [
       "<div>\n",
       "<style scoped>\n",
       "    .dataframe tbody tr th:only-of-type {\n",
       "        vertical-align: middle;\n",
       "    }\n",
       "\n",
       "    .dataframe tbody tr th {\n",
       "        vertical-align: top;\n",
       "    }\n",
       "\n",
       "    .dataframe thead th {\n",
       "        text-align: right;\n",
       "    }\n",
       "</style>\n",
       "<table border=\"1\" class=\"dataframe\">\n",
       "  <thead>\n",
       "    <tr style=\"text-align: right;\">\n",
       "      <th></th>\n",
       "      <th>id</th>\n",
       "      <th>f0</th>\n",
       "      <th>f1</th>\n",
       "      <th>f2</th>\n",
       "      <th>product</th>\n",
       "    </tr>\n",
       "  </thead>\n",
       "  <tbody>\n",
       "    <tr>\n",
       "      <th>3389</th>\n",
       "      <td>A5aEY</td>\n",
       "      <td>-0.039949</td>\n",
       "      <td>0.156872</td>\n",
       "      <td>0.209861</td>\n",
       "      <td>89.249364</td>\n",
       "    </tr>\n",
       "    <tr>\n",
       "      <th>51970</th>\n",
       "      <td>A5aEY</td>\n",
       "      <td>-0.180335</td>\n",
       "      <td>0.935548</td>\n",
       "      <td>-2.094773</td>\n",
       "      <td>33.020205</td>\n",
       "    </tr>\n",
       "  </tbody>\n",
       "</table>\n",
       "</div>"
      ],
      "text/plain": [
       "          id        f0        f1        f2    product\n",
       "3389   A5aEY -0.039949  0.156872  0.209861  89.249364\n",
       "51970  A5aEY -0.180335  0.935548 -2.094773  33.020205"
      ]
     },
     "metadata": {},
     "output_type": "display_data"
    },
    {
     "data": {
      "text/html": [
       "<div>\n",
       "<style scoped>\n",
       "    .dataframe tbody tr th:only-of-type {\n",
       "        vertical-align: middle;\n",
       "    }\n",
       "\n",
       "    .dataframe tbody tr th {\n",
       "        vertical-align: top;\n",
       "    }\n",
       "\n",
       "    .dataframe thead th {\n",
       "        text-align: right;\n",
       "    }\n",
       "</style>\n",
       "<table border=\"1\" class=\"dataframe\">\n",
       "  <thead>\n",
       "    <tr style=\"text-align: right;\">\n",
       "      <th></th>\n",
       "      <th>id</th>\n",
       "      <th>f0</th>\n",
       "      <th>f1</th>\n",
       "      <th>f2</th>\n",
       "      <th>product</th>\n",
       "    </tr>\n",
       "  </thead>\n",
       "  <tbody>\n",
       "    <tr>\n",
       "      <th>1949</th>\n",
       "      <td>QcMuo</td>\n",
       "      <td>0.506563</td>\n",
       "      <td>-0.323775</td>\n",
       "      <td>-2.215583</td>\n",
       "      <td>75.496502</td>\n",
       "    </tr>\n",
       "    <tr>\n",
       "      <th>63593</th>\n",
       "      <td>QcMuo</td>\n",
       "      <td>0.635635</td>\n",
       "      <td>-0.473422</td>\n",
       "      <td>0.862670</td>\n",
       "      <td>64.578675</td>\n",
       "    </tr>\n",
       "  </tbody>\n",
       "</table>\n",
       "</div>"
      ],
      "text/plain": [
       "          id        f0        f1        f2    product\n",
       "1949   QcMuo  0.506563 -0.323775 -2.215583  75.496502\n",
       "63593  QcMuo  0.635635 -0.473422  0.862670  64.578675"
      ]
     },
     "metadata": {},
     "output_type": "display_data"
    },
    {
     "data": {
      "text/html": [
       "<div>\n",
       "<style scoped>\n",
       "    .dataframe tbody tr th:only-of-type {\n",
       "        vertical-align: middle;\n",
       "    }\n",
       "\n",
       "    .dataframe tbody tr th {\n",
       "        vertical-align: top;\n",
       "    }\n",
       "\n",
       "    .dataframe thead th {\n",
       "        text-align: right;\n",
       "    }\n",
       "</style>\n",
       "<table border=\"1\" class=\"dataframe\">\n",
       "  <thead>\n",
       "    <tr style=\"text-align: right;\">\n",
       "      <th></th>\n",
       "      <th>id</th>\n",
       "      <th>f0</th>\n",
       "      <th>f1</th>\n",
       "      <th>f2</th>\n",
       "      <th>product</th>\n",
       "    </tr>\n",
       "  </thead>\n",
       "  <tbody>\n",
       "    <tr>\n",
       "      <th>64022</th>\n",
       "      <td>74z30</td>\n",
       "      <td>0.741456</td>\n",
       "      <td>0.459229</td>\n",
       "      <td>5.153109</td>\n",
       "      <td>140.771492</td>\n",
       "    </tr>\n",
       "    <tr>\n",
       "      <th>66136</th>\n",
       "      <td>74z30</td>\n",
       "      <td>1.084962</td>\n",
       "      <td>-0.312358</td>\n",
       "      <td>6.990771</td>\n",
       "      <td>127.643327</td>\n",
       "    </tr>\n",
       "  </tbody>\n",
       "</table>\n",
       "</div>"
      ],
      "text/plain": [
       "          id        f0        f1        f2     product\n",
       "64022  74z30  0.741456  0.459229  5.153109  140.771492\n",
       "66136  74z30  1.084962 -0.312358  6.990771  127.643327"
      ]
     },
     "metadata": {},
     "output_type": "display_data"
    },
    {
     "data": {
      "text/html": [
       "<div>\n",
       "<style scoped>\n",
       "    .dataframe tbody tr th:only-of-type {\n",
       "        vertical-align: middle;\n",
       "    }\n",
       "\n",
       "    .dataframe tbody tr th {\n",
       "        vertical-align: top;\n",
       "    }\n",
       "\n",
       "    .dataframe thead th {\n",
       "        text-align: right;\n",
       "    }\n",
       "</style>\n",
       "<table border=\"1\" class=\"dataframe\">\n",
       "  <thead>\n",
       "    <tr style=\"text-align: right;\">\n",
       "      <th></th>\n",
       "      <th>id</th>\n",
       "      <th>f0</th>\n",
       "      <th>f1</th>\n",
       "      <th>f2</th>\n",
       "      <th>product</th>\n",
       "    </tr>\n",
       "  </thead>\n",
       "  <tbody>\n",
       "    <tr>\n",
       "      <th>42529</th>\n",
       "      <td>AGS9W</td>\n",
       "      <td>1.454747</td>\n",
       "      <td>-0.479651</td>\n",
       "      <td>0.683380</td>\n",
       "      <td>126.370504</td>\n",
       "    </tr>\n",
       "    <tr>\n",
       "      <th>69163</th>\n",
       "      <td>AGS9W</td>\n",
       "      <td>-0.933795</td>\n",
       "      <td>0.116194</td>\n",
       "      <td>-3.655896</td>\n",
       "      <td>19.230453</td>\n",
       "    </tr>\n",
       "  </tbody>\n",
       "</table>\n",
       "</div>"
      ],
      "text/plain": [
       "          id        f0        f1        f2     product\n",
       "42529  AGS9W  1.454747 -0.479651  0.683380  126.370504\n",
       "69163  AGS9W -0.933795  0.116194 -3.655896   19.230453"
      ]
     },
     "metadata": {},
     "output_type": "display_data"
    },
    {
     "data": {
      "text/html": [
       "<div>\n",
       "<style scoped>\n",
       "    .dataframe tbody tr th:only-of-type {\n",
       "        vertical-align: middle;\n",
       "    }\n",
       "\n",
       "    .dataframe tbody tr th {\n",
       "        vertical-align: top;\n",
       "    }\n",
       "\n",
       "    .dataframe thead th {\n",
       "        text-align: right;\n",
       "    }\n",
       "</style>\n",
       "<table border=\"1\" class=\"dataframe\">\n",
       "  <thead>\n",
       "    <tr style=\"text-align: right;\">\n",
       "      <th></th>\n",
       "      <th>id</th>\n",
       "      <th>f0</th>\n",
       "      <th>f1</th>\n",
       "      <th>f2</th>\n",
       "      <th>product</th>\n",
       "    </tr>\n",
       "  </thead>\n",
       "  <tbody>\n",
       "    <tr>\n",
       "      <th>21426</th>\n",
       "      <td>Tdehs</td>\n",
       "      <td>0.829407</td>\n",
       "      <td>0.298807</td>\n",
       "      <td>-0.049563</td>\n",
       "      <td>96.035308</td>\n",
       "    </tr>\n",
       "    <tr>\n",
       "      <th>75715</th>\n",
       "      <td>Tdehs</td>\n",
       "      <td>0.112079</td>\n",
       "      <td>0.430296</td>\n",
       "      <td>3.218993</td>\n",
       "      <td>60.964018</td>\n",
       "    </tr>\n",
       "  </tbody>\n",
       "</table>\n",
       "</div>"
      ],
      "text/plain": [
       "          id        f0        f1        f2    product\n",
       "21426  Tdehs  0.829407  0.298807 -0.049563  96.035308\n",
       "75715  Tdehs  0.112079  0.430296  3.218993  60.964018"
      ]
     },
     "metadata": {},
     "output_type": "display_data"
    },
    {
     "data": {
      "text/html": [
       "<div>\n",
       "<style scoped>\n",
       "    .dataframe tbody tr th:only-of-type {\n",
       "        vertical-align: middle;\n",
       "    }\n",
       "\n",
       "    .dataframe tbody tr th {\n",
       "        vertical-align: top;\n",
       "    }\n",
       "\n",
       "    .dataframe thead th {\n",
       "        text-align: right;\n",
       "    }\n",
       "</style>\n",
       "<table border=\"1\" class=\"dataframe\">\n",
       "  <thead>\n",
       "    <tr style=\"text-align: right;\">\n",
       "      <th></th>\n",
       "      <th>id</th>\n",
       "      <th>f0</th>\n",
       "      <th>f1</th>\n",
       "      <th>f2</th>\n",
       "      <th>product</th>\n",
       "    </tr>\n",
       "  </thead>\n",
       "  <tbody>\n",
       "    <tr>\n",
       "      <th>16633</th>\n",
       "      <td>fiKDv</td>\n",
       "      <td>0.157341</td>\n",
       "      <td>1.028359</td>\n",
       "      <td>5.585586</td>\n",
       "      <td>95.817889</td>\n",
       "    </tr>\n",
       "    <tr>\n",
       "      <th>90815</th>\n",
       "      <td>fiKDv</td>\n",
       "      <td>0.049883</td>\n",
       "      <td>0.841313</td>\n",
       "      <td>6.394613</td>\n",
       "      <td>137.346586</td>\n",
       "    </tr>\n",
       "  </tbody>\n",
       "</table>\n",
       "</div>"
      ],
      "text/plain": [
       "          id        f0        f1        f2     product\n",
       "16633  fiKDv  0.157341  1.028359  5.585586   95.817889\n",
       "90815  fiKDv  0.049883  0.841313  6.394613  137.346586"
      ]
     },
     "metadata": {},
     "output_type": "display_data"
    },
    {
     "data": {
      "text/html": [
       "<div>\n",
       "<style scoped>\n",
       "    .dataframe tbody tr th:only-of-type {\n",
       "        vertical-align: middle;\n",
       "    }\n",
       "\n",
       "    .dataframe tbody tr th {\n",
       "        vertical-align: top;\n",
       "    }\n",
       "\n",
       "    .dataframe thead th {\n",
       "        text-align: right;\n",
       "    }\n",
       "</style>\n",
       "<table border=\"1\" class=\"dataframe\">\n",
       "  <thead>\n",
       "    <tr style=\"text-align: right;\">\n",
       "      <th></th>\n",
       "      <th>id</th>\n",
       "      <th>f0</th>\n",
       "      <th>f1</th>\n",
       "      <th>f2</th>\n",
       "      <th>product</th>\n",
       "    </tr>\n",
       "  </thead>\n",
       "  <tbody>\n",
       "    <tr>\n",
       "      <th>60140</th>\n",
       "      <td>TtcGQ</td>\n",
       "      <td>0.569276</td>\n",
       "      <td>-0.104876</td>\n",
       "      <td>6.440215</td>\n",
       "      <td>85.350186</td>\n",
       "    </tr>\n",
       "    <tr>\n",
       "      <th>92341</th>\n",
       "      <td>TtcGQ</td>\n",
       "      <td>0.110711</td>\n",
       "      <td>1.022689</td>\n",
       "      <td>0.911381</td>\n",
       "      <td>101.318008</td>\n",
       "    </tr>\n",
       "  </tbody>\n",
       "</table>\n",
       "</div>"
      ],
      "text/plain": [
       "          id        f0        f1        f2     product\n",
       "60140  TtcGQ  0.569276 -0.104876  6.440215   85.350186\n",
       "92341  TtcGQ  0.110711  1.022689  0.911381  101.318008"
      ]
     },
     "metadata": {},
     "output_type": "display_data"
    },
    {
     "data": {
      "text/html": [
       "<div>\n",
       "<style scoped>\n",
       "    .dataframe tbody tr th:only-of-type {\n",
       "        vertical-align: middle;\n",
       "    }\n",
       "\n",
       "    .dataframe tbody tr th {\n",
       "        vertical-align: top;\n",
       "    }\n",
       "\n",
       "    .dataframe thead th {\n",
       "        text-align: right;\n",
       "    }\n",
       "</style>\n",
       "<table border=\"1\" class=\"dataframe\">\n",
       "  <thead>\n",
       "    <tr style=\"text-align: right;\">\n",
       "      <th></th>\n",
       "      <th>id</th>\n",
       "      <th>f0</th>\n",
       "      <th>f1</th>\n",
       "      <th>f2</th>\n",
       "      <th>product</th>\n",
       "    </tr>\n",
       "  </thead>\n",
       "  <tbody>\n",
       "    <tr>\n",
       "      <th>89582</th>\n",
       "      <td>bsk9y</td>\n",
       "      <td>0.398908</td>\n",
       "      <td>-0.400253</td>\n",
       "      <td>10.122376</td>\n",
       "      <td>163.433078</td>\n",
       "    </tr>\n",
       "    <tr>\n",
       "      <th>97785</th>\n",
       "      <td>bsk9y</td>\n",
       "      <td>0.378429</td>\n",
       "      <td>0.005837</td>\n",
       "      <td>0.160827</td>\n",
       "      <td>160.637302</td>\n",
       "    </tr>\n",
       "  </tbody>\n",
       "</table>\n",
       "</div>"
      ],
      "text/plain": [
       "          id        f0        f1         f2     product\n",
       "89582  bsk9y  0.398908 -0.400253  10.122376  163.433078\n",
       "97785  bsk9y  0.378429  0.005837   0.160827  160.637302"
      ]
     },
     "metadata": {},
     "output_type": "display_data"
    },
    {
     "data": {
      "text/html": [
       "<div>\n",
       "<style scoped>\n",
       "    .dataframe tbody tr th:only-of-type {\n",
       "        vertical-align: middle;\n",
       "    }\n",
       "\n",
       "    .dataframe tbody tr th {\n",
       "        vertical-align: top;\n",
       "    }\n",
       "\n",
       "    .dataframe thead th {\n",
       "        text-align: right;\n",
       "    }\n",
       "</style>\n",
       "<table border=\"1\" class=\"dataframe\">\n",
       "  <thead>\n",
       "    <tr style=\"text-align: right;\">\n",
       "      <th></th>\n",
       "      <th>id</th>\n",
       "      <th>f0</th>\n",
       "      <th>f1</th>\n",
       "      <th>f2</th>\n",
       "      <th>product</th>\n",
       "    </tr>\n",
       "  </thead>\n",
       "  <tbody>\n",
       "    <tr>\n",
       "      <th>14777</th>\n",
       "      <td>CXJ2r</td>\n",
       "      <td>1.799663</td>\n",
       "      <td>0.152615</td>\n",
       "      <td>2.30827</td>\n",
       "      <td>124.783815</td>\n",
       "    </tr>\n",
       "  </tbody>\n",
       "</table>\n",
       "</div>"
      ],
      "text/plain": [
       "          id        f0        f1       f2     product\n",
       "14777  CXJ2r  1.799663  0.152615  2.30827  124.783815"
      ]
     },
     "metadata": {},
     "output_type": "display_data"
    },
    {
     "data": {
      "text/html": [
       "<div>\n",
       "<style scoped>\n",
       "    .dataframe tbody tr th:only-of-type {\n",
       "        vertical-align: middle;\n",
       "    }\n",
       "\n",
       "    .dataframe tbody tr th {\n",
       "        vertical-align: top;\n",
       "    }\n",
       "\n",
       "    .dataframe thead th {\n",
       "        text-align: right;\n",
       "    }\n",
       "</style>\n",
       "<table border=\"1\" class=\"dataframe\">\n",
       "  <thead>\n",
       "    <tr style=\"text-align: right;\">\n",
       "      <th></th>\n",
       "      <th>id</th>\n",
       "      <th>f0</th>\n",
       "      <th>f1</th>\n",
       "      <th>f2</th>\n",
       "      <th>product</th>\n",
       "    </tr>\n",
       "  </thead>\n",
       "  <tbody>\n",
       "  </tbody>\n",
       "</table>\n",
       "</div>"
      ],
      "text/plain": [
       "Empty DataFrame\n",
       "Columns: [id, f0, f1, f2, product]\n",
       "Index: []"
      ]
     },
     "metadata": {},
     "output_type": "display_data"
    },
    {
     "data": {
      "text/html": [
       "<div>\n",
       "<style scoped>\n",
       "    .dataframe tbody tr th:only-of-type {\n",
       "        vertical-align: middle;\n",
       "    }\n",
       "\n",
       "    .dataframe tbody tr th {\n",
       "        vertical-align: top;\n",
       "    }\n",
       "\n",
       "    .dataframe thead th {\n",
       "        text-align: right;\n",
       "    }\n",
       "</style>\n",
       "<table border=\"1\" class=\"dataframe\">\n",
       "  <thead>\n",
       "    <tr style=\"text-align: right;\">\n",
       "      <th></th>\n",
       "      <th>id</th>\n",
       "      <th>f0</th>\n",
       "      <th>f1</th>\n",
       "      <th>f2</th>\n",
       "      <th>product</th>\n",
       "    </tr>\n",
       "  </thead>\n",
       "  <tbody>\n",
       "    <tr>\n",
       "      <th>93783</th>\n",
       "      <td>pGQRI</td>\n",
       "      <td>0.04235</td>\n",
       "      <td>-0.052613</td>\n",
       "      <td>2.241901</td>\n",
       "      <td>168.331029</td>\n",
       "    </tr>\n",
       "  </tbody>\n",
       "</table>\n",
       "</div>"
      ],
      "text/plain": [
       "          id       f0        f1        f2     product\n",
       "93783  pGQRI  0.04235 -0.052613  2.241901  168.331029"
      ]
     },
     "metadata": {},
     "output_type": "display_data"
    },
    {
     "data": {
      "text/html": [
       "<div>\n",
       "<style scoped>\n",
       "    .dataframe tbody tr th:only-of-type {\n",
       "        vertical-align: middle;\n",
       "    }\n",
       "\n",
       "    .dataframe tbody tr th {\n",
       "        vertical-align: top;\n",
       "    }\n",
       "\n",
       "    .dataframe thead th {\n",
       "        text-align: right;\n",
       "    }\n",
       "</style>\n",
       "<table border=\"1\" class=\"dataframe\">\n",
       "  <thead>\n",
       "    <tr style=\"text-align: right;\">\n",
       "      <th></th>\n",
       "      <th>id</th>\n",
       "      <th>f0</th>\n",
       "      <th>f1</th>\n",
       "      <th>f2</th>\n",
       "      <th>product</th>\n",
       "    </tr>\n",
       "  </thead>\n",
       "  <tbody>\n",
       "    <tr>\n",
       "      <th>86152</th>\n",
       "      <td>gnA83</td>\n",
       "      <td>0.874183</td>\n",
       "      <td>0.658348</td>\n",
       "      <td>4.315275</td>\n",
       "      <td>78.952516</td>\n",
       "    </tr>\n",
       "  </tbody>\n",
       "</table>\n",
       "</div>"
      ],
      "text/plain": [
       "          id        f0        f1        f2    product\n",
       "86152  gnA83  0.874183  0.658348  4.315275  78.952516"
      ]
     },
     "metadata": {},
     "output_type": "display_data"
    },
    {
     "data": {
      "text/html": [
       "<div>\n",
       "<style scoped>\n",
       "    .dataframe tbody tr th:only-of-type {\n",
       "        vertical-align: middle;\n",
       "    }\n",
       "\n",
       "    .dataframe tbody tr th {\n",
       "        vertical-align: top;\n",
       "    }\n",
       "\n",
       "    .dataframe thead th {\n",
       "        text-align: right;\n",
       "    }\n",
       "</style>\n",
       "<table border=\"1\" class=\"dataframe\">\n",
       "  <thead>\n",
       "    <tr style=\"text-align: right;\">\n",
       "      <th></th>\n",
       "      <th>id</th>\n",
       "      <th>f0</th>\n",
       "      <th>f1</th>\n",
       "      <th>f2</th>\n",
       "      <th>product</th>\n",
       "    </tr>\n",
       "  </thead>\n",
       "  <tbody>\n",
       "    <tr>\n",
       "      <th>66852</th>\n",
       "      <td>mpZhE</td>\n",
       "      <td>1.050752</td>\n",
       "      <td>0.001206</td>\n",
       "      <td>3.015799</td>\n",
       "      <td>102.323401</td>\n",
       "    </tr>\n",
       "  </tbody>\n",
       "</table>\n",
       "</div>"
      ],
      "text/plain": [
       "          id        f0        f1        f2     product\n",
       "66852  mpZhE  1.050752  0.001206  3.015799  102.323401"
      ]
     },
     "metadata": {},
     "output_type": "display_data"
    },
    {
     "data": {
      "text/html": [
       "<div>\n",
       "<style scoped>\n",
       "    .dataframe tbody tr th:only-of-type {\n",
       "        vertical-align: middle;\n",
       "    }\n",
       "\n",
       "    .dataframe tbody tr th {\n",
       "        vertical-align: top;\n",
       "    }\n",
       "\n",
       "    .dataframe thead th {\n",
       "        text-align: right;\n",
       "    }\n",
       "</style>\n",
       "<table border=\"1\" class=\"dataframe\">\n",
       "  <thead>\n",
       "    <tr style=\"text-align: right;\">\n",
       "      <th></th>\n",
       "      <th>id</th>\n",
       "      <th>f0</th>\n",
       "      <th>f1</th>\n",
       "      <th>f2</th>\n",
       "      <th>product</th>\n",
       "    </tr>\n",
       "  </thead>\n",
       "  <tbody>\n",
       "    <tr>\n",
       "      <th>71547</th>\n",
       "      <td>L1Fdm</td>\n",
       "      <td>-0.870625</td>\n",
       "      <td>0.216046</td>\n",
       "      <td>6.551127</td>\n",
       "      <td>99.473405</td>\n",
       "    </tr>\n",
       "  </tbody>\n",
       "</table>\n",
       "</div>"
      ],
      "text/plain": [
       "          id        f0        f1        f2    product\n",
       "71547  L1Fdm -0.870625  0.216046  6.551127  99.473405"
      ]
     },
     "metadata": {},
     "output_type": "display_data"
    },
    {
     "data": {
      "text/html": [
       "<div>\n",
       "<style scoped>\n",
       "    .dataframe tbody tr th:only-of-type {\n",
       "        vertical-align: middle;\n",
       "    }\n",
       "\n",
       "    .dataframe tbody tr th {\n",
       "        vertical-align: top;\n",
       "    }\n",
       "\n",
       "    .dataframe thead th {\n",
       "        text-align: right;\n",
       "    }\n",
       "</style>\n",
       "<table border=\"1\" class=\"dataframe\">\n",
       "  <thead>\n",
       "    <tr style=\"text-align: right;\">\n",
       "      <th></th>\n",
       "      <th>id</th>\n",
       "      <th>f0</th>\n",
       "      <th>f1</th>\n",
       "      <th>f2</th>\n",
       "      <th>product</th>\n",
       "    </tr>\n",
       "  </thead>\n",
       "  <tbody>\n",
       "    <tr>\n",
       "      <th>75589</th>\n",
       "      <td>it2OW</td>\n",
       "      <td>-0.64966</td>\n",
       "      <td>0.966137</td>\n",
       "      <td>7.852383</td>\n",
       "      <td>152.939409</td>\n",
       "    </tr>\n",
       "  </tbody>\n",
       "</table>\n",
       "</div>"
      ],
      "text/plain": [
       "          id       f0        f1        f2     product\n",
       "75589  it2OW -0.64966  0.966137  7.852383  152.939409"
      ]
     },
     "metadata": {},
     "output_type": "display_data"
    },
    {
     "data": {
      "text/html": [
       "<div>\n",
       "<style scoped>\n",
       "    .dataframe tbody tr th:only-of-type {\n",
       "        vertical-align: middle;\n",
       "    }\n",
       "\n",
       "    .dataframe tbody tr th {\n",
       "        vertical-align: top;\n",
       "    }\n",
       "\n",
       "    .dataframe thead th {\n",
       "        text-align: right;\n",
       "    }\n",
       "</style>\n",
       "<table border=\"1\" class=\"dataframe\">\n",
       "  <thead>\n",
       "    <tr style=\"text-align: right;\">\n",
       "      <th></th>\n",
       "      <th>id</th>\n",
       "      <th>f0</th>\n",
       "      <th>f1</th>\n",
       "      <th>f2</th>\n",
       "      <th>product</th>\n",
       "    </tr>\n",
       "  </thead>\n",
       "  <tbody>\n",
       "  </tbody>\n",
       "</table>\n",
       "</div>"
      ],
      "text/plain": [
       "Empty DataFrame\n",
       "Columns: [id, f0, f1, f2, product]\n",
       "Index: []"
      ]
     },
     "metadata": {},
     "output_type": "display_data"
    },
    {
     "data": {
      "text/html": [
       "<div>\n",
       "<style scoped>\n",
       "    .dataframe tbody tr th:only-of-type {\n",
       "        vertical-align: middle;\n",
       "    }\n",
       "\n",
       "    .dataframe tbody tr th {\n",
       "        vertical-align: top;\n",
       "    }\n",
       "\n",
       "    .dataframe thead th {\n",
       "        text-align: right;\n",
       "    }\n",
       "</style>\n",
       "<table border=\"1\" class=\"dataframe\">\n",
       "  <thead>\n",
       "    <tr style=\"text-align: right;\">\n",
       "      <th></th>\n",
       "      <th>id</th>\n",
       "      <th>f0</th>\n",
       "      <th>f1</th>\n",
       "      <th>f2</th>\n",
       "      <th>product</th>\n",
       "    </tr>\n",
       "  </thead>\n",
       "  <tbody>\n",
       "  </tbody>\n",
       "</table>\n",
       "</div>"
      ],
      "text/plain": [
       "Empty DataFrame\n",
       "Columns: [id, f0, f1, f2, product]\n",
       "Index: []"
      ]
     },
     "metadata": {},
     "output_type": "display_data"
    },
    {
     "data": {
      "text/html": [
       "<div>\n",
       "<style scoped>\n",
       "    .dataframe tbody tr th:only-of-type {\n",
       "        vertical-align: middle;\n",
       "    }\n",
       "\n",
       "    .dataframe tbody tr th {\n",
       "        vertical-align: top;\n",
       "    }\n",
       "\n",
       "    .dataframe thead th {\n",
       "        text-align: right;\n",
       "    }\n",
       "</style>\n",
       "<table border=\"1\" class=\"dataframe\">\n",
       "  <thead>\n",
       "    <tr style=\"text-align: right;\">\n",
       "      <th></th>\n",
       "      <th>id</th>\n",
       "      <th>f0</th>\n",
       "      <th>f1</th>\n",
       "      <th>f2</th>\n",
       "      <th>product</th>\n",
       "    </tr>\n",
       "  </thead>\n",
       "  <tbody>\n",
       "  </tbody>\n",
       "</table>\n",
       "</div>"
      ],
      "text/plain": [
       "Empty DataFrame\n",
       "Columns: [id, f0, f1, f2, product]\n",
       "Index: []"
      ]
     },
     "metadata": {},
     "output_type": "display_data"
    },
    {
     "data": {
      "text/html": [
       "<div>\n",
       "<style scoped>\n",
       "    .dataframe tbody tr th:only-of-type {\n",
       "        vertical-align: middle;\n",
       "    }\n",
       "\n",
       "    .dataframe tbody tr th {\n",
       "        vertical-align: top;\n",
       "    }\n",
       "\n",
       "    .dataframe thead th {\n",
       "        text-align: right;\n",
       "    }\n",
       "</style>\n",
       "<table border=\"1\" class=\"dataframe\">\n",
       "  <thead>\n",
       "    <tr style=\"text-align: right;\">\n",
       "      <th></th>\n",
       "      <th>id</th>\n",
       "      <th>f0</th>\n",
       "      <th>f1</th>\n",
       "      <th>f2</th>\n",
       "      <th>product</th>\n",
       "    </tr>\n",
       "  </thead>\n",
       "  <tbody>\n",
       "    <tr>\n",
       "      <th>1419</th>\n",
       "      <td>Q64YW</td>\n",
       "      <td>0.453692</td>\n",
       "      <td>0.851595</td>\n",
       "      <td>1.483317</td>\n",
       "      <td>137.265232</td>\n",
       "    </tr>\n",
       "  </tbody>\n",
       "</table>\n",
       "</div>"
      ],
      "text/plain": [
       "         id        f0        f1        f2     product\n",
       "1419  Q64YW  0.453692  0.851595  1.483317  137.265232"
      ]
     },
     "metadata": {},
     "output_type": "display_data"
    },
    {
     "data": {
      "text/html": [
       "<div>\n",
       "<style scoped>\n",
       "    .dataframe tbody tr th:only-of-type {\n",
       "        vertical-align: middle;\n",
       "    }\n",
       "\n",
       "    .dataframe tbody tr th {\n",
       "        vertical-align: top;\n",
       "    }\n",
       "\n",
       "    .dataframe thead th {\n",
       "        text-align: right;\n",
       "    }\n",
       "</style>\n",
       "<table border=\"1\" class=\"dataframe\">\n",
       "  <thead>\n",
       "    <tr style=\"text-align: right;\">\n",
       "      <th></th>\n",
       "      <th>id</th>\n",
       "      <th>f0</th>\n",
       "      <th>f1</th>\n",
       "      <th>f2</th>\n",
       "      <th>product</th>\n",
       "    </tr>\n",
       "  </thead>\n",
       "  <tbody>\n",
       "    <tr>\n",
       "      <th>44057</th>\n",
       "      <td>Y2udP</td>\n",
       "      <td>1.226808</td>\n",
       "      <td>-0.482702</td>\n",
       "      <td>7.19772</td>\n",
       "      <td>178.864963</td>\n",
       "    </tr>\n",
       "  </tbody>\n",
       "</table>\n",
       "</div>"
      ],
      "text/plain": [
       "          id        f0        f1       f2     product\n",
       "44057  Y2udP  1.226808 -0.482702  7.19772  178.864963"
      ]
     },
     "metadata": {},
     "output_type": "display_data"
    },
    {
     "data": {
      "text/html": [
       "<div>\n",
       "<style scoped>\n",
       "    .dataframe tbody tr th:only-of-type {\n",
       "        vertical-align: middle;\n",
       "    }\n",
       "\n",
       "    .dataframe tbody tr th {\n",
       "        vertical-align: top;\n",
       "    }\n",
       "\n",
       "    .dataframe thead th {\n",
       "        text-align: right;\n",
       "    }\n",
       "</style>\n",
       "<table border=\"1\" class=\"dataframe\">\n",
       "  <thead>\n",
       "    <tr style=\"text-align: right;\">\n",
       "      <th></th>\n",
       "      <th>id</th>\n",
       "      <th>f0</th>\n",
       "      <th>f1</th>\n",
       "      <th>f2</th>\n",
       "      <th>product</th>\n",
       "    </tr>\n",
       "  </thead>\n",
       "  <tbody>\n",
       "    <tr>\n",
       "      <th>44242</th>\n",
       "      <td>g3RRG</td>\n",
       "      <td>1.256835</td>\n",
       "      <td>-0.594468</td>\n",
       "      <td>2.258115</td>\n",
       "      <td>36.909351</td>\n",
       "    </tr>\n",
       "  </tbody>\n",
       "</table>\n",
       "</div>"
      ],
      "text/plain": [
       "          id        f0        f1        f2    product\n",
       "44242  g3RRG  1.256835 -0.594468  2.258115  36.909351"
      ]
     },
     "metadata": {},
     "output_type": "display_data"
    },
    {
     "data": {
      "text/html": [
       "<div>\n",
       "<style scoped>\n",
       "    .dataframe tbody tr th:only-of-type {\n",
       "        vertical-align: middle;\n",
       "    }\n",
       "\n",
       "    .dataframe tbody tr th {\n",
       "        vertical-align: top;\n",
       "    }\n",
       "\n",
       "    .dataframe thead th {\n",
       "        text-align: right;\n",
       "    }\n",
       "</style>\n",
       "<table border=\"1\" class=\"dataframe\">\n",
       "  <thead>\n",
       "    <tr style=\"text-align: right;\">\n",
       "      <th></th>\n",
       "      <th>id</th>\n",
       "      <th>f0</th>\n",
       "      <th>f1</th>\n",
       "      <th>f2</th>\n",
       "      <th>product</th>\n",
       "    </tr>\n",
       "  </thead>\n",
       "  <tbody>\n",
       "    <tr>\n",
       "      <th>87474</th>\n",
       "      <td>Mp3uM</td>\n",
       "      <td>0.233182</td>\n",
       "      <td>0.999516</td>\n",
       "      <td>1.626957</td>\n",
       "      <td>109.425501</td>\n",
       "    </tr>\n",
       "  </tbody>\n",
       "</table>\n",
       "</div>"
      ],
      "text/plain": [
       "          id        f0        f1        f2     product\n",
       "87474  Mp3uM  0.233182  0.999516  1.626957  109.425501"
      ]
     },
     "metadata": {},
     "output_type": "display_data"
    },
    {
     "data": {
      "text/html": [
       "<div>\n",
       "<style scoped>\n",
       "    .dataframe tbody tr th:only-of-type {\n",
       "        vertical-align: middle;\n",
       "    }\n",
       "\n",
       "    .dataframe tbody tr th {\n",
       "        vertical-align: top;\n",
       "    }\n",
       "\n",
       "    .dataframe thead th {\n",
       "        text-align: right;\n",
       "    }\n",
       "</style>\n",
       "<table border=\"1\" class=\"dataframe\">\n",
       "  <thead>\n",
       "    <tr style=\"text-align: right;\">\n",
       "      <th></th>\n",
       "      <th>id</th>\n",
       "      <th>f0</th>\n",
       "      <th>f1</th>\n",
       "      <th>f2</th>\n",
       "      <th>product</th>\n",
       "    </tr>\n",
       "  </thead>\n",
       "  <tbody>\n",
       "    <tr>\n",
       "      <th>14378</th>\n",
       "      <td>uSye4</td>\n",
       "      <td>1.452571</td>\n",
       "      <td>-0.452693</td>\n",
       "      <td>-1.800189</td>\n",
       "      <td>79.717634</td>\n",
       "    </tr>\n",
       "  </tbody>\n",
       "</table>\n",
       "</div>"
      ],
      "text/plain": [
       "          id        f0        f1        f2    product\n",
       "14378  uSye4  1.452571 -0.452693 -1.800189  79.717634"
      ]
     },
     "metadata": {},
     "output_type": "display_data"
    },
    {
     "data": {
      "text/html": [
       "<div>\n",
       "<style scoped>\n",
       "    .dataframe tbody tr th:only-of-type {\n",
       "        vertical-align: middle;\n",
       "    }\n",
       "\n",
       "    .dataframe tbody tr th {\n",
       "        vertical-align: top;\n",
       "    }\n",
       "\n",
       "    .dataframe thead th {\n",
       "        text-align: right;\n",
       "    }\n",
       "</style>\n",
       "<table border=\"1\" class=\"dataframe\">\n",
       "  <thead>\n",
       "    <tr style=\"text-align: right;\">\n",
       "      <th></th>\n",
       "      <th>id</th>\n",
       "      <th>f0</th>\n",
       "      <th>f1</th>\n",
       "      <th>f2</th>\n",
       "      <th>product</th>\n",
       "    </tr>\n",
       "  </thead>\n",
       "  <tbody>\n",
       "    <tr>\n",
       "      <th>69637</th>\n",
       "      <td>LhkAh</td>\n",
       "      <td>-0.016588</td>\n",
       "      <td>0.311455</td>\n",
       "      <td>5.752433</td>\n",
       "      <td>100.077127</td>\n",
       "    </tr>\n",
       "  </tbody>\n",
       "</table>\n",
       "</div>"
      ],
      "text/plain": [
       "          id        f0        f1        f2     product\n",
       "69637  LhkAh -0.016588  0.311455  5.752433  100.077127"
      ]
     },
     "metadata": {},
     "output_type": "display_data"
    },
    {
     "data": {
      "text/html": [
       "<div>\n",
       "<style scoped>\n",
       "    .dataframe tbody tr th:only-of-type {\n",
       "        vertical-align: middle;\n",
       "    }\n",
       "\n",
       "    .dataframe tbody tr th {\n",
       "        vertical-align: top;\n",
       "    }\n",
       "\n",
       "    .dataframe thead th {\n",
       "        text-align: right;\n",
       "    }\n",
       "</style>\n",
       "<table border=\"1\" class=\"dataframe\">\n",
       "  <thead>\n",
       "    <tr style=\"text-align: right;\">\n",
       "      <th></th>\n",
       "      <th>id</th>\n",
       "      <th>f0</th>\n",
       "      <th>f1</th>\n",
       "      <th>f2</th>\n",
       "      <th>product</th>\n",
       "    </tr>\n",
       "  </thead>\n",
       "  <tbody>\n",
       "    <tr>\n",
       "      <th>10765</th>\n",
       "      <td>i2csb</td>\n",
       "      <td>1.87606</td>\n",
       "      <td>0.130102</td>\n",
       "      <td>3.916158</td>\n",
       "      <td>178.191619</td>\n",
       "    </tr>\n",
       "  </tbody>\n",
       "</table>\n",
       "</div>"
      ],
      "text/plain": [
       "          id       f0        f1        f2     product\n",
       "10765  i2csb  1.87606  0.130102  3.916158  178.191619"
      ]
     },
     "metadata": {},
     "output_type": "display_data"
    },
    {
     "data": {
      "text/html": [
       "<div>\n",
       "<style scoped>\n",
       "    .dataframe tbody tr th:only-of-type {\n",
       "        vertical-align: middle;\n",
       "    }\n",
       "\n",
       "    .dataframe tbody tr th {\n",
       "        vertical-align: top;\n",
       "    }\n",
       "\n",
       "    .dataframe thead th {\n",
       "        text-align: right;\n",
       "    }\n",
       "</style>\n",
       "<table border=\"1\" class=\"dataframe\">\n",
       "  <thead>\n",
       "    <tr style=\"text-align: right;\">\n",
       "      <th></th>\n",
       "      <th>id</th>\n",
       "      <th>f0</th>\n",
       "      <th>f1</th>\n",
       "      <th>f2</th>\n",
       "      <th>product</th>\n",
       "    </tr>\n",
       "  </thead>\n",
       "  <tbody>\n",
       "  </tbody>\n",
       "</table>\n",
       "</div>"
      ],
      "text/plain": [
       "Empty DataFrame\n",
       "Columns: [id, f0, f1, f2, product]\n",
       "Index: []"
      ]
     },
     "metadata": {},
     "output_type": "display_data"
    },
    {
     "data": {
      "text/html": [
       "<div>\n",
       "<style scoped>\n",
       "    .dataframe tbody tr th:only-of-type {\n",
       "        vertical-align: middle;\n",
       "    }\n",
       "\n",
       "    .dataframe tbody tr th {\n",
       "        vertical-align: top;\n",
       "    }\n",
       "\n",
       "    .dataframe thead th {\n",
       "        text-align: right;\n",
       "    }\n",
       "</style>\n",
       "<table border=\"1\" class=\"dataframe\">\n",
       "  <thead>\n",
       "    <tr style=\"text-align: right;\">\n",
       "      <th></th>\n",
       "      <th>id</th>\n",
       "      <th>f0</th>\n",
       "      <th>f1</th>\n",
       "      <th>f2</th>\n",
       "      <th>product</th>\n",
       "    </tr>\n",
       "  </thead>\n",
       "  <tbody>\n",
       "    <tr>\n",
       "      <th>50393</th>\n",
       "      <td>TXPOv</td>\n",
       "      <td>-0.614415</td>\n",
       "      <td>0.669327</td>\n",
       "      <td>4.39256</td>\n",
       "      <td>111.029432</td>\n",
       "    </tr>\n",
       "  </tbody>\n",
       "</table>\n",
       "</div>"
      ],
      "text/plain": [
       "          id        f0        f1       f2     product\n",
       "50393  TXPOv -0.614415  0.669327  4.39256  111.029432"
      ]
     },
     "metadata": {},
     "output_type": "display_data"
    },
    {
     "data": {
      "text/html": [
       "<div>\n",
       "<style scoped>\n",
       "    .dataframe tbody tr th:only-of-type {\n",
       "        vertical-align: middle;\n",
       "    }\n",
       "\n",
       "    .dataframe tbody tr th {\n",
       "        vertical-align: top;\n",
       "    }\n",
       "\n",
       "    .dataframe thead th {\n",
       "        text-align: right;\n",
       "    }\n",
       "</style>\n",
       "<table border=\"1\" class=\"dataframe\">\n",
       "  <thead>\n",
       "    <tr style=\"text-align: right;\">\n",
       "      <th></th>\n",
       "      <th>id</th>\n",
       "      <th>f0</th>\n",
       "      <th>f1</th>\n",
       "      <th>f2</th>\n",
       "      <th>product</th>\n",
       "    </tr>\n",
       "  </thead>\n",
       "  <tbody>\n",
       "    <tr>\n",
       "      <th>45429</th>\n",
       "      <td>2tyMi</td>\n",
       "      <td>0.576679</td>\n",
       "      <td>-0.41114</td>\n",
       "      <td>-3.725859</td>\n",
       "      <td>69.292672</td>\n",
       "    </tr>\n",
       "  </tbody>\n",
       "</table>\n",
       "</div>"
      ],
      "text/plain": [
       "          id        f0       f1        f2    product\n",
       "45429  2tyMi  0.576679 -0.41114 -3.725859  69.292672"
      ]
     },
     "metadata": {},
     "output_type": "display_data"
    },
    {
     "data": {
      "text/html": [
       "<div>\n",
       "<style scoped>\n",
       "    .dataframe tbody tr th:only-of-type {\n",
       "        vertical-align: middle;\n",
       "    }\n",
       "\n",
       "    .dataframe tbody tr th {\n",
       "        vertical-align: top;\n",
       "    }\n",
       "\n",
       "    .dataframe thead th {\n",
       "        text-align: right;\n",
       "    }\n",
       "</style>\n",
       "<table border=\"1\" class=\"dataframe\">\n",
       "  <thead>\n",
       "    <tr style=\"text-align: right;\">\n",
       "      <th></th>\n",
       "      <th>id</th>\n",
       "      <th>f0</th>\n",
       "      <th>f1</th>\n",
       "      <th>f2</th>\n",
       "      <th>product</th>\n",
       "    </tr>\n",
       "  </thead>\n",
       "  <tbody>\n",
       "    <tr>\n",
       "      <th>5191</th>\n",
       "      <td>wqgPo</td>\n",
       "      <td>2.009877</td>\n",
       "      <td>-0.119927</td>\n",
       "      <td>5.254332</td>\n",
       "      <td>72.798085</td>\n",
       "    </tr>\n",
       "  </tbody>\n",
       "</table>\n",
       "</div>"
      ],
      "text/plain": [
       "         id        f0        f1        f2    product\n",
       "5191  wqgPo  2.009877 -0.119927  5.254332  72.798085"
      ]
     },
     "metadata": {},
     "output_type": "display_data"
    },
    {
     "data": {
      "text/html": [
       "<div>\n",
       "<style scoped>\n",
       "    .dataframe tbody tr th:only-of-type {\n",
       "        vertical-align: middle;\n",
       "    }\n",
       "\n",
       "    .dataframe tbody tr th {\n",
       "        vertical-align: top;\n",
       "    }\n",
       "\n",
       "    .dataframe thead th {\n",
       "        text-align: right;\n",
       "    }\n",
       "</style>\n",
       "<table border=\"1\" class=\"dataframe\">\n",
       "  <thead>\n",
       "    <tr style=\"text-align: right;\">\n",
       "      <th></th>\n",
       "      <th>id</th>\n",
       "      <th>f0</th>\n",
       "      <th>f1</th>\n",
       "      <th>f2</th>\n",
       "      <th>product</th>\n",
       "    </tr>\n",
       "  </thead>\n",
       "  <tbody>\n",
       "    <tr>\n",
       "      <th>88811</th>\n",
       "      <td>H2jd8</td>\n",
       "      <td>-0.095755</td>\n",
       "      <td>0.549838</td>\n",
       "      <td>4.798969</td>\n",
       "      <td>121.587791</td>\n",
       "    </tr>\n",
       "  </tbody>\n",
       "</table>\n",
       "</div>"
      ],
      "text/plain": [
       "          id        f0        f1        f2     product\n",
       "88811  H2jd8 -0.095755  0.549838  4.798969  121.587791"
      ]
     },
     "metadata": {},
     "output_type": "display_data"
    },
    {
     "data": {
      "text/html": [
       "<div>\n",
       "<style scoped>\n",
       "    .dataframe tbody tr th:only-of-type {\n",
       "        vertical-align: middle;\n",
       "    }\n",
       "\n",
       "    .dataframe tbody tr th {\n",
       "        vertical-align: top;\n",
       "    }\n",
       "\n",
       "    .dataframe thead th {\n",
       "        text-align: right;\n",
       "    }\n",
       "</style>\n",
       "<table border=\"1\" class=\"dataframe\">\n",
       "  <thead>\n",
       "    <tr style=\"text-align: right;\">\n",
       "      <th></th>\n",
       "      <th>id</th>\n",
       "      <th>f0</th>\n",
       "      <th>f1</th>\n",
       "      <th>f2</th>\n",
       "      <th>product</th>\n",
       "    </tr>\n",
       "  </thead>\n",
       "  <tbody>\n",
       "  </tbody>\n",
       "</table>\n",
       "</div>"
      ],
      "text/plain": [
       "Empty DataFrame\n",
       "Columns: [id, f0, f1, f2, product]\n",
       "Index: []"
      ]
     },
     "metadata": {},
     "output_type": "display_data"
    },
    {
     "data": {
      "text/html": [
       "<div>\n",
       "<style scoped>\n",
       "    .dataframe tbody tr th:only-of-type {\n",
       "        vertical-align: middle;\n",
       "    }\n",
       "\n",
       "    .dataframe tbody tr th {\n",
       "        vertical-align: top;\n",
       "    }\n",
       "\n",
       "    .dataframe thead th {\n",
       "        text-align: right;\n",
       "    }\n",
       "</style>\n",
       "<table border=\"1\" class=\"dataframe\">\n",
       "  <thead>\n",
       "    <tr style=\"text-align: right;\">\n",
       "      <th></th>\n",
       "      <th>id</th>\n",
       "      <th>f0</th>\n",
       "      <th>f1</th>\n",
       "      <th>f2</th>\n",
       "      <th>product</th>\n",
       "    </tr>\n",
       "  </thead>\n",
       "  <tbody>\n",
       "  </tbody>\n",
       "</table>\n",
       "</div>"
      ],
      "text/plain": [
       "Empty DataFrame\n",
       "Columns: [id, f0, f1, f2, product]\n",
       "Index: []"
      ]
     },
     "metadata": {},
     "output_type": "display_data"
    },
    {
     "data": {
      "text/html": [
       "<div>\n",
       "<style scoped>\n",
       "    .dataframe tbody tr th:only-of-type {\n",
       "        vertical-align: middle;\n",
       "    }\n",
       "\n",
       "    .dataframe tbody tr th {\n",
       "        vertical-align: top;\n",
       "    }\n",
       "\n",
       "    .dataframe thead th {\n",
       "        text-align: right;\n",
       "    }\n",
       "</style>\n",
       "<table border=\"1\" class=\"dataframe\">\n",
       "  <thead>\n",
       "    <tr style=\"text-align: right;\">\n",
       "      <th></th>\n",
       "      <th>id</th>\n",
       "      <th>f0</th>\n",
       "      <th>f1</th>\n",
       "      <th>f2</th>\n",
       "      <th>product</th>\n",
       "    </tr>\n",
       "  </thead>\n",
       "  <tbody>\n",
       "    <tr>\n",
       "      <th>8454</th>\n",
       "      <td>scFN4</td>\n",
       "      <td>1.209207</td>\n",
       "      <td>-0.491543</td>\n",
       "      <td>0.871066</td>\n",
       "      <td>82.239907</td>\n",
       "    </tr>\n",
       "  </tbody>\n",
       "</table>\n",
       "</div>"
      ],
      "text/plain": [
       "         id        f0        f1        f2    product\n",
       "8454  scFN4  1.209207 -0.491543  0.871066  82.239907"
      ]
     },
     "metadata": {},
     "output_type": "display_data"
    },
    {
     "data": {
      "text/html": [
       "<div>\n",
       "<style scoped>\n",
       "    .dataframe tbody tr th:only-of-type {\n",
       "        vertical-align: middle;\n",
       "    }\n",
       "\n",
       "    .dataframe tbody tr th {\n",
       "        vertical-align: top;\n",
       "    }\n",
       "\n",
       "    .dataframe thead th {\n",
       "        text-align: right;\n",
       "    }\n",
       "</style>\n",
       "<table border=\"1\" class=\"dataframe\">\n",
       "  <thead>\n",
       "    <tr style=\"text-align: right;\">\n",
       "      <th></th>\n",
       "      <th>id</th>\n",
       "      <th>f0</th>\n",
       "      <th>f1</th>\n",
       "      <th>f2</th>\n",
       "      <th>product</th>\n",
       "    </tr>\n",
       "  </thead>\n",
       "  <tbody>\n",
       "    <tr>\n",
       "      <th>90211</th>\n",
       "      <td>lFHA5</td>\n",
       "      <td>0.825315</td>\n",
       "      <td>-0.41553</td>\n",
       "      <td>1.316067</td>\n",
       "      <td>145.287376</td>\n",
       "    </tr>\n",
       "  </tbody>\n",
       "</table>\n",
       "</div>"
      ],
      "text/plain": [
       "          id        f0       f1        f2     product\n",
       "90211  lFHA5  0.825315 -0.41553  1.316067  145.287376"
      ]
     },
     "metadata": {},
     "output_type": "display_data"
    },
    {
     "data": {
      "text/html": [
       "<div>\n",
       "<style scoped>\n",
       "    .dataframe tbody tr th:only-of-type {\n",
       "        vertical-align: middle;\n",
       "    }\n",
       "\n",
       "    .dataframe tbody tr th {\n",
       "        vertical-align: top;\n",
       "    }\n",
       "\n",
       "    .dataframe thead th {\n",
       "        text-align: right;\n",
       "    }\n",
       "</style>\n",
       "<table border=\"1\" class=\"dataframe\">\n",
       "  <thead>\n",
       "    <tr style=\"text-align: right;\">\n",
       "      <th></th>\n",
       "      <th>id</th>\n",
       "      <th>f0</th>\n",
       "      <th>f1</th>\n",
       "      <th>f2</th>\n",
       "      <th>product</th>\n",
       "    </tr>\n",
       "  </thead>\n",
       "  <tbody>\n",
       "  </tbody>\n",
       "</table>\n",
       "</div>"
      ],
      "text/plain": [
       "Empty DataFrame\n",
       "Columns: [id, f0, f1, f2, product]\n",
       "Index: []"
      ]
     },
     "metadata": {},
     "output_type": "display_data"
    },
    {
     "data": {
      "text/html": [
       "<div>\n",
       "<style scoped>\n",
       "    .dataframe tbody tr th:only-of-type {\n",
       "        vertical-align: middle;\n",
       "    }\n",
       "\n",
       "    .dataframe tbody tr th {\n",
       "        vertical-align: top;\n",
       "    }\n",
       "\n",
       "    .dataframe thead th {\n",
       "        text-align: right;\n",
       "    }\n",
       "</style>\n",
       "<table border=\"1\" class=\"dataframe\">\n",
       "  <thead>\n",
       "    <tr style=\"text-align: right;\">\n",
       "      <th></th>\n",
       "      <th>id</th>\n",
       "      <th>f0</th>\n",
       "      <th>f1</th>\n",
       "      <th>f2</th>\n",
       "      <th>product</th>\n",
       "    </tr>\n",
       "  </thead>\n",
       "  <tbody>\n",
       "    <tr>\n",
       "      <th>62675</th>\n",
       "      <td>rAJA6</td>\n",
       "      <td>0.763807</td>\n",
       "      <td>-0.256567</td>\n",
       "      <td>-2.539103</td>\n",
       "      <td>36.295666</td>\n",
       "    </tr>\n",
       "  </tbody>\n",
       "</table>\n",
       "</div>"
      ],
      "text/plain": [
       "          id        f0        f1        f2    product\n",
       "62675  rAJA6  0.763807 -0.256567 -2.539103  36.295666"
      ]
     },
     "metadata": {},
     "output_type": "display_data"
    },
    {
     "data": {
      "text/html": [
       "<div>\n",
       "<style scoped>\n",
       "    .dataframe tbody tr th:only-of-type {\n",
       "        vertical-align: middle;\n",
       "    }\n",
       "\n",
       "    .dataframe tbody tr th {\n",
       "        vertical-align: top;\n",
       "    }\n",
       "\n",
       "    .dataframe thead th {\n",
       "        text-align: right;\n",
       "    }\n",
       "</style>\n",
       "<table border=\"1\" class=\"dataframe\">\n",
       "  <thead>\n",
       "    <tr style=\"text-align: right;\">\n",
       "      <th></th>\n",
       "      <th>id</th>\n",
       "      <th>f0</th>\n",
       "      <th>f1</th>\n",
       "      <th>f2</th>\n",
       "      <th>product</th>\n",
       "    </tr>\n",
       "  </thead>\n",
       "  <tbody>\n",
       "  </tbody>\n",
       "</table>\n",
       "</div>"
      ],
      "text/plain": [
       "Empty DataFrame\n",
       "Columns: [id, f0, f1, f2, product]\n",
       "Index: []"
      ]
     },
     "metadata": {},
     "output_type": "display_data"
    },
    {
     "data": {
      "text/html": [
       "<div>\n",
       "<style scoped>\n",
       "    .dataframe tbody tr th:only-of-type {\n",
       "        vertical-align: middle;\n",
       "    }\n",
       "\n",
       "    .dataframe tbody tr th {\n",
       "        vertical-align: top;\n",
       "    }\n",
       "\n",
       "    .dataframe thead th {\n",
       "        text-align: right;\n",
       "    }\n",
       "</style>\n",
       "<table border=\"1\" class=\"dataframe\">\n",
       "  <thead>\n",
       "    <tr style=\"text-align: right;\">\n",
       "      <th></th>\n",
       "      <th>id</th>\n",
       "      <th>f0</th>\n",
       "      <th>f1</th>\n",
       "      <th>f2</th>\n",
       "      <th>product</th>\n",
       "    </tr>\n",
       "  </thead>\n",
       "  <tbody>\n",
       "    <tr>\n",
       "      <th>11615</th>\n",
       "      <td>Suyut</td>\n",
       "      <td>1.034755</td>\n",
       "      <td>0.211378</td>\n",
       "      <td>5.166985</td>\n",
       "      <td>134.183249</td>\n",
       "    </tr>\n",
       "  </tbody>\n",
       "</table>\n",
       "</div>"
      ],
      "text/plain": [
       "          id        f0        f1        f2     product\n",
       "11615  Suyut  1.034755  0.211378  5.166985  134.183249"
      ]
     },
     "metadata": {},
     "output_type": "display_data"
    },
    {
     "data": {
      "text/html": [
       "<div>\n",
       "<style scoped>\n",
       "    .dataframe tbody tr th:only-of-type {\n",
       "        vertical-align: middle;\n",
       "    }\n",
       "\n",
       "    .dataframe tbody tr th {\n",
       "        vertical-align: top;\n",
       "    }\n",
       "\n",
       "    .dataframe thead th {\n",
       "        text-align: right;\n",
       "    }\n",
       "</style>\n",
       "<table border=\"1\" class=\"dataframe\">\n",
       "  <thead>\n",
       "    <tr style=\"text-align: right;\">\n",
       "      <th></th>\n",
       "      <th>id</th>\n",
       "      <th>f0</th>\n",
       "      <th>f1</th>\n",
       "      <th>f2</th>\n",
       "      <th>product</th>\n",
       "    </tr>\n",
       "  </thead>\n",
       "  <tbody>\n",
       "  </tbody>\n",
       "</table>\n",
       "</div>"
      ],
      "text/plain": [
       "Empty DataFrame\n",
       "Columns: [id, f0, f1, f2, product]\n",
       "Index: []"
      ]
     },
     "metadata": {},
     "output_type": "display_data"
    },
    {
     "data": {
      "text/html": [
       "<div>\n",
       "<style scoped>\n",
       "    .dataframe tbody tr th:only-of-type {\n",
       "        vertical-align: middle;\n",
       "    }\n",
       "\n",
       "    .dataframe tbody tr th {\n",
       "        vertical-align: top;\n",
       "    }\n",
       "\n",
       "    .dataframe thead th {\n",
       "        text-align: right;\n",
       "    }\n",
       "</style>\n",
       "<table border=\"1\" class=\"dataframe\">\n",
       "  <thead>\n",
       "    <tr style=\"text-align: right;\">\n",
       "      <th></th>\n",
       "      <th>id</th>\n",
       "      <th>f0</th>\n",
       "      <th>f1</th>\n",
       "      <th>f2</th>\n",
       "      <th>product</th>\n",
       "    </tr>\n",
       "  </thead>\n",
       "  <tbody>\n",
       "    <tr>\n",
       "      <th>16753</th>\n",
       "      <td>5ssQt</td>\n",
       "      <td>-1.005117</td>\n",
       "      <td>0.268726</td>\n",
       "      <td>-0.407822</td>\n",
       "      <td>53.206029</td>\n",
       "    </tr>\n",
       "  </tbody>\n",
       "</table>\n",
       "</div>"
      ],
      "text/plain": [
       "          id        f0        f1        f2    product\n",
       "16753  5ssQt -1.005117  0.268726 -0.407822  53.206029"
      ]
     },
     "metadata": {},
     "output_type": "display_data"
    },
    {
     "data": {
      "text/html": [
       "<div>\n",
       "<style scoped>\n",
       "    .dataframe tbody tr th:only-of-type {\n",
       "        vertical-align: middle;\n",
       "    }\n",
       "\n",
       "    .dataframe tbody tr th {\n",
       "        vertical-align: top;\n",
       "    }\n",
       "\n",
       "    .dataframe thead th {\n",
       "        text-align: right;\n",
       "    }\n",
       "</style>\n",
       "<table border=\"1\" class=\"dataframe\">\n",
       "  <thead>\n",
       "    <tr style=\"text-align: right;\">\n",
       "      <th></th>\n",
       "      <th>id</th>\n",
       "      <th>f0</th>\n",
       "      <th>f1</th>\n",
       "      <th>f2</th>\n",
       "      <th>product</th>\n",
       "    </tr>\n",
       "  </thead>\n",
       "  <tbody>\n",
       "    <tr>\n",
       "      <th>7781</th>\n",
       "      <td>kpKGs</td>\n",
       "      <td>1.984545</td>\n",
       "      <td>0.356201</td>\n",
       "      <td>-0.876743</td>\n",
       "      <td>53.006141</td>\n",
       "    </tr>\n",
       "  </tbody>\n",
       "</table>\n",
       "</div>"
      ],
      "text/plain": [
       "         id        f0        f1        f2    product\n",
       "7781  kpKGs  1.984545  0.356201 -0.876743  53.006141"
      ]
     },
     "metadata": {},
     "output_type": "display_data"
    },
    {
     "data": {
      "text/html": [
       "<div>\n",
       "<style scoped>\n",
       "    .dataframe tbody tr th:only-of-type {\n",
       "        vertical-align: middle;\n",
       "    }\n",
       "\n",
       "    .dataframe tbody tr th {\n",
       "        vertical-align: top;\n",
       "    }\n",
       "\n",
       "    .dataframe thead th {\n",
       "        text-align: right;\n",
       "    }\n",
       "</style>\n",
       "<table border=\"1\" class=\"dataframe\">\n",
       "  <thead>\n",
       "    <tr style=\"text-align: right;\">\n",
       "      <th></th>\n",
       "      <th>id</th>\n",
       "      <th>f0</th>\n",
       "      <th>f1</th>\n",
       "      <th>f2</th>\n",
       "      <th>product</th>\n",
       "    </tr>\n",
       "  </thead>\n",
       "  <tbody>\n",
       "  </tbody>\n",
       "</table>\n",
       "</div>"
      ],
      "text/plain": [
       "Empty DataFrame\n",
       "Columns: [id, f0, f1, f2, product]\n",
       "Index: []"
      ]
     },
     "metadata": {},
     "output_type": "display_data"
    },
    {
     "data": {
      "text/html": [
       "<div>\n",
       "<style scoped>\n",
       "    .dataframe tbody tr th:only-of-type {\n",
       "        vertical-align: middle;\n",
       "    }\n",
       "\n",
       "    .dataframe tbody tr th {\n",
       "        vertical-align: top;\n",
       "    }\n",
       "\n",
       "    .dataframe thead th {\n",
       "        text-align: right;\n",
       "    }\n",
       "</style>\n",
       "<table border=\"1\" class=\"dataframe\">\n",
       "  <thead>\n",
       "    <tr style=\"text-align: right;\">\n",
       "      <th></th>\n",
       "      <th>id</th>\n",
       "      <th>f0</th>\n",
       "      <th>f1</th>\n",
       "      <th>f2</th>\n",
       "      <th>product</th>\n",
       "    </tr>\n",
       "  </thead>\n",
       "  <tbody>\n",
       "    <tr>\n",
       "      <th>84954</th>\n",
       "      <td>eVdPR</td>\n",
       "      <td>0.948962</td>\n",
       "      <td>0.470545</td>\n",
       "      <td>4.841681</td>\n",
       "      <td>114.21784</td>\n",
       "    </tr>\n",
       "  </tbody>\n",
       "</table>\n",
       "</div>"
      ],
      "text/plain": [
       "          id        f0        f1        f2    product\n",
       "84954  eVdPR  0.948962  0.470545  4.841681  114.21784"
      ]
     },
     "metadata": {},
     "output_type": "display_data"
    },
    {
     "data": {
      "text/html": [
       "<div>\n",
       "<style scoped>\n",
       "    .dataframe tbody tr th:only-of-type {\n",
       "        vertical-align: middle;\n",
       "    }\n",
       "\n",
       "    .dataframe tbody tr th {\n",
       "        vertical-align: top;\n",
       "    }\n",
       "\n",
       "    .dataframe thead th {\n",
       "        text-align: right;\n",
       "    }\n",
       "</style>\n",
       "<table border=\"1\" class=\"dataframe\">\n",
       "  <thead>\n",
       "    <tr style=\"text-align: right;\">\n",
       "      <th></th>\n",
       "      <th>id</th>\n",
       "      <th>f0</th>\n",
       "      <th>f1</th>\n",
       "      <th>f2</th>\n",
       "      <th>product</th>\n",
       "    </tr>\n",
       "  </thead>\n",
       "  <tbody>\n",
       "    <tr>\n",
       "      <th>31017</th>\n",
       "      <td>tgOl6</td>\n",
       "      <td>1.242237</td>\n",
       "      <td>-0.545994</td>\n",
       "      <td>-1.070228</td>\n",
       "      <td>52.566338</td>\n",
       "    </tr>\n",
       "  </tbody>\n",
       "</table>\n",
       "</div>"
      ],
      "text/plain": [
       "          id        f0        f1        f2    product\n",
       "31017  tgOl6  1.242237 -0.545994 -1.070228  52.566338"
      ]
     },
     "metadata": {},
     "output_type": "display_data"
    },
    {
     "data": {
      "text/html": [
       "<div>\n",
       "<style scoped>\n",
       "    .dataframe tbody tr th:only-of-type {\n",
       "        vertical-align: middle;\n",
       "    }\n",
       "\n",
       "    .dataframe tbody tr th {\n",
       "        vertical-align: top;\n",
       "    }\n",
       "\n",
       "    .dataframe thead th {\n",
       "        text-align: right;\n",
       "    }\n",
       "</style>\n",
       "<table border=\"1\" class=\"dataframe\">\n",
       "  <thead>\n",
       "    <tr style=\"text-align: right;\">\n",
       "      <th></th>\n",
       "      <th>id</th>\n",
       "      <th>f0</th>\n",
       "      <th>f1</th>\n",
       "      <th>f2</th>\n",
       "      <th>product</th>\n",
       "    </tr>\n",
       "  </thead>\n",
       "  <tbody>\n",
       "    <tr>\n",
       "      <th>58790</th>\n",
       "      <td>G6k8A</td>\n",
       "      <td>-0.332671</td>\n",
       "      <td>0.873613</td>\n",
       "      <td>0.056776</td>\n",
       "      <td>59.356289</td>\n",
       "    </tr>\n",
       "  </tbody>\n",
       "</table>\n",
       "</div>"
      ],
      "text/plain": [
       "          id        f0        f1        f2    product\n",
       "58790  G6k8A -0.332671  0.873613  0.056776  59.356289"
      ]
     },
     "metadata": {},
     "output_type": "display_data"
    },
    {
     "data": {
      "text/html": [
       "<div>\n",
       "<style scoped>\n",
       "    .dataframe tbody tr th:only-of-type {\n",
       "        vertical-align: middle;\n",
       "    }\n",
       "\n",
       "    .dataframe tbody tr th {\n",
       "        vertical-align: top;\n",
       "    }\n",
       "\n",
       "    .dataframe thead th {\n",
       "        text-align: right;\n",
       "    }\n",
       "</style>\n",
       "<table border=\"1\" class=\"dataframe\">\n",
       "  <thead>\n",
       "    <tr style=\"text-align: right;\">\n",
       "      <th></th>\n",
       "      <th>id</th>\n",
       "      <th>f0</th>\n",
       "      <th>f1</th>\n",
       "      <th>f2</th>\n",
       "      <th>product</th>\n",
       "    </tr>\n",
       "  </thead>\n",
       "  <tbody>\n",
       "  </tbody>\n",
       "</table>\n",
       "</div>"
      ],
      "text/plain": [
       "Empty DataFrame\n",
       "Columns: [id, f0, f1, f2, product]\n",
       "Index: []"
      ]
     },
     "metadata": {},
     "output_type": "display_data"
    },
    {
     "data": {
      "text/html": [
       "<div>\n",
       "<style scoped>\n",
       "    .dataframe tbody tr th:only-of-type {\n",
       "        vertical-align: middle;\n",
       "    }\n",
       "\n",
       "    .dataframe tbody tr th {\n",
       "        vertical-align: top;\n",
       "    }\n",
       "\n",
       "    .dataframe thead th {\n",
       "        text-align: right;\n",
       "    }\n",
       "</style>\n",
       "<table border=\"1\" class=\"dataframe\">\n",
       "  <thead>\n",
       "    <tr style=\"text-align: right;\">\n",
       "      <th></th>\n",
       "      <th>id</th>\n",
       "      <th>f0</th>\n",
       "      <th>f1</th>\n",
       "      <th>f2</th>\n",
       "      <th>product</th>\n",
       "    </tr>\n",
       "  </thead>\n",
       "  <tbody>\n",
       "    <tr>\n",
       "      <th>65468</th>\n",
       "      <td>PyNp5</td>\n",
       "      <td>0.800617</td>\n",
       "      <td>-0.423276</td>\n",
       "      <td>-0.262853</td>\n",
       "      <td>37.280078</td>\n",
       "    </tr>\n",
       "  </tbody>\n",
       "</table>\n",
       "</div>"
      ],
      "text/plain": [
       "          id        f0        f1        f2    product\n",
       "65468  PyNp5  0.800617 -0.423276 -0.262853  37.280078"
      ]
     },
     "metadata": {},
     "output_type": "display_data"
    }
   ],
   "source": [
    "for well in list(all_id[all_id.duplicated()]):\n",
    "    display((geo_1[geo_1['id'] == well]))\n",
    "    "
   ]
  },
  {
   "cell_type": "markdown",
   "metadata": {},
   "source": [
    "Предположим следующий способ по обработке дубликатов в таблице:\n",
    "\n",
    "* если дубликаты в одном таблице, то складываем метрики\n",
    "* если дубликаты в разных, то удаляем их из всех таблиц, т.к. скважины с одинаковым id разных локаций могут отличаться по запасам и на 100 тыс б. => в данном случае непонятно, что корректнее сделать найти максимальное или среднее из строк (в каждой таблице признаки распредлены по-разному), поэтому удалим такие случаи. \n",
    "\n",
    "Предполагаемой причиной возникновения таких совпадаений может являться ошибка протоколирования или поступление данных в систему в разные дни.\n",
    "\n",
    "Удостоверимся, что признаки распредлены неидентично:"
   ]
  },
  {
   "cell_type": "code",
   "execution_count": 13,
   "metadata": {},
   "outputs": [
    {
     "data": {
      "image/png": "[encoded data removed]",
      "text/plain": [
       "<Figure size 720x432 with 1 Axes>"
      ]
     },
     "metadata": {
      "needs_background": "light"
     },
     "output_type": "display_data"
    }
   ],
   "source": [
    "#объединим два графика на одном поле\n",
    "axes = geo_1['f0'].plot(\n",
    "    kind='hist',\n",
    "    grid=True,\n",
    "    figsize=(10, 6),\n",
    "    alpha=0.7,\n",
    "    ylim=(0, 6000),\n",
    "    xlim=(0, 30),\n",
    "    bins = 50,\n",
    "    color = 'orange',\n",
    ")\n",
    "\n",
    "ax_1 = geo_2['f0'].plot(\n",
    "    kind='hist',\n",
    "    grid=True,\n",
    "    figsize=(10, 6),\n",
    "    alpha=0.4,\n",
    "    ylim=(0, 6000),\n",
    "    xlim=(0, 30),\n",
    "    bins = 50,\n",
    "    color = 'blue',\n",
    "    ax = axes\n",
    ")\n",
    "\n",
    "geo_3['f0'].plot(\n",
    "    kind='hist',\n",
    "    grid=True,\n",
    "    figsize=(10, 6),\n",
    "    alpha=0.5,\n",
    "    ylim=(0, 6000),\n",
    "    xlim=(0, 30),\n",
    "    bins = 50,\n",
    "    color = 'pink',\n",
    "    ax = ax_1\n",
    ")\n",
    "\n",
    "plt.title('Распредление признака f0 по локациям')\n",
    "plt.xlabel('Значений признака')\n",
    "plt.ylabel('Частота');"
   ]
  },
  {
   "cell_type": "markdown",
   "metadata": {},
   "source": [
    "Напишем фукнцию, которая будет обрабатывать таблицы по 1му способу:"
   ]
  },
  {
   "cell_type": "code",
   "execution_count": 14,
   "metadata": {},
   "outputs": [],
   "source": [
    "def norm_well_situation_part_1(table, all_id):\n",
    "    for well in list(all_id[all_id.duplicated()]):\n",
    "        cool_table = table[table['id'] == well]\n",
    "        #суммируем строки таблицы и заменяем на сумму если дубликаты в самой таблице\n",
    "        if cool_table.shape[0] == 2:\n",
    "            operation_id = cool_table.head(1)['id'].unique()[0]\n",
    "            operation_f0 = cool_table.head(1)['f0'].unique()[0] + cool_table.tail(1)['f0'].unique()[0]\n",
    "            operation_f1 = cool_table.head(1)['f1'].unique()[0] + cool_table.tail(1)['f1'].unique()[0]\n",
    "            operation_f2 = cool_table.head(1)['f2'].unique()[0] + cool_table.tail(1)['f2'].unique()[0]\n",
    "            operation_product = cool_table.head(1)['product'].unique()[0] + cool_table.tail(1)['product'].unique()[0]\n",
    "            new_cool = {'id':operation_id,\n",
    "                        'f0':operation_f0,\n",
    "                        'f1': operation_f1,\n",
    "                        'f2': operation_f2, \n",
    "                        'product' : operation_product}\n",
    "            #заменяем дубликаты на просуммированную строчку \n",
    "            table = table.append(new_cool, ignore_index=True)\n",
    "    table.drop_duplicates(subset = ['id'], keep='last', inplace=True)\n",
    "    return table"
   ]
  },
  {
   "cell_type": "markdown",
   "metadata": {},
   "source": [
    "Проверим работу функции на простых датафреймах:"
   ]
  },
  {
   "cell_type": "code",
   "execution_count": 15,
   "metadata": {},
   "outputs": [],
   "source": [
    "df = {\n",
    "    'id' : ['1', '2', '3', '1'],\n",
    "    'f0' : [1, 2, 3, 4],\n",
    "    'f1' : [1, 2, 3, 4],\n",
    "    'f2' : [1, 2, 3, 4],\n",
    "    'product' : [2, 10, 1, 5]\n",
    "}\n",
    "df_1 = {\n",
    "    'id' : ['3', '4', '5', '6'],\n",
    "    'f0' : [1, 2, 3, 4],\n",
    "    'f1' : [1, 2, 3, 4],\n",
    "    'f2' : [1, 2, 3, 4],\n",
    "    'product' : [2, 10, 1, 5]\n",
    "}\n",
    "df_2 = {\n",
    "    'id' : ['6', '7', '7', '8'],\n",
    "    'f0' : [1, 2, 3, 4],\n",
    "    'f1' : [1, 2, 3, 4],\n",
    "    'f2' : [1, 2, 3, 4],\n",
    "    'product' : [2, 10, 1, 5]\n",
    "}\n",
    "geo = pd.DataFrame(df)\n",
    "geoo = pd.DataFrame(df_1)\n",
    "geeoo = pd.DataFrame(df_2)"
   ]
  },
  {
   "cell_type": "code",
   "execution_count": 16,
   "metadata": {},
   "outputs": [
    {
     "data": {
      "text/html": [
       "<div>\n",
       "<style scoped>\n",
       "    .dataframe tbody tr th:only-of-type {\n",
       "        vertical-align: middle;\n",
       "    }\n",
       "\n",
       "    .dataframe tbody tr th {\n",
       "        vertical-align: top;\n",
       "    }\n",
       "\n",
       "    .dataframe thead th {\n",
       "        text-align: right;\n",
       "    }\n",
       "</style>\n",
       "<table border=\"1\" class=\"dataframe\">\n",
       "  <thead>\n",
       "    <tr style=\"text-align: right;\">\n",
       "      <th></th>\n",
       "      <th>id</th>\n",
       "      <th>f0</th>\n",
       "      <th>f1</th>\n",
       "      <th>f2</th>\n",
       "      <th>product</th>\n",
       "    </tr>\n",
       "  </thead>\n",
       "  <tbody>\n",
       "    <tr>\n",
       "      <th>0</th>\n",
       "      <td>1</td>\n",
       "      <td>1</td>\n",
       "      <td>1</td>\n",
       "      <td>1</td>\n",
       "      <td>2</td>\n",
       "    </tr>\n",
       "    <tr>\n",
       "      <th>1</th>\n",
       "      <td>2</td>\n",
       "      <td>2</td>\n",
       "      <td>2</td>\n",
       "      <td>2</td>\n",
       "      <td>10</td>\n",
       "    </tr>\n",
       "    <tr>\n",
       "      <th>2</th>\n",
       "      <td>3</td>\n",
       "      <td>3</td>\n",
       "      <td>3</td>\n",
       "      <td>3</td>\n",
       "      <td>1</td>\n",
       "    </tr>\n",
       "    <tr>\n",
       "      <th>3</th>\n",
       "      <td>1</td>\n",
       "      <td>4</td>\n",
       "      <td>4</td>\n",
       "      <td>4</td>\n",
       "      <td>5</td>\n",
       "    </tr>\n",
       "  </tbody>\n",
       "</table>\n",
       "</div>"
      ],
      "text/plain": [
       "  id  f0  f1  f2  product\n",
       "0  1   1   1   1        2\n",
       "1  2   2   2   2       10\n",
       "2  3   3   3   3        1\n",
       "3  1   4   4   4        5"
      ]
     },
     "execution_count": 16,
     "metadata": {},
     "output_type": "execute_result"
    }
   ],
   "source": [
    "geo #датафрейм с дубликатами по id"
   ]
  },
  {
   "cell_type": "code",
   "execution_count": 17,
   "metadata": {},
   "outputs": [
    {
     "data": {
      "text/html": [
       "<div>\n",
       "<style scoped>\n",
       "    .dataframe tbody tr th:only-of-type {\n",
       "        vertical-align: middle;\n",
       "    }\n",
       "\n",
       "    .dataframe tbody tr th {\n",
       "        vertical-align: top;\n",
       "    }\n",
       "\n",
       "    .dataframe thead th {\n",
       "        text-align: right;\n",
       "    }\n",
       "</style>\n",
       "<table border=\"1\" class=\"dataframe\">\n",
       "  <thead>\n",
       "    <tr style=\"text-align: right;\">\n",
       "      <th></th>\n",
       "      <th>id</th>\n",
       "      <th>f0</th>\n",
       "      <th>f1</th>\n",
       "      <th>f2</th>\n",
       "      <th>product</th>\n",
       "    </tr>\n",
       "  </thead>\n",
       "  <tbody>\n",
       "    <tr>\n",
       "      <th>0</th>\n",
       "      <td>3</td>\n",
       "      <td>1</td>\n",
       "      <td>1</td>\n",
       "      <td>1</td>\n",
       "      <td>2</td>\n",
       "    </tr>\n",
       "    <tr>\n",
       "      <th>1</th>\n",
       "      <td>4</td>\n",
       "      <td>2</td>\n",
       "      <td>2</td>\n",
       "      <td>2</td>\n",
       "      <td>10</td>\n",
       "    </tr>\n",
       "    <tr>\n",
       "      <th>2</th>\n",
       "      <td>5</td>\n",
       "      <td>3</td>\n",
       "      <td>3</td>\n",
       "      <td>3</td>\n",
       "      <td>1</td>\n",
       "    </tr>\n",
       "    <tr>\n",
       "      <th>3</th>\n",
       "      <td>6</td>\n",
       "      <td>4</td>\n",
       "      <td>4</td>\n",
       "      <td>4</td>\n",
       "      <td>5</td>\n",
       "    </tr>\n",
       "  </tbody>\n",
       "</table>\n",
       "</div>"
      ],
      "text/plain": [
       "  id  f0  f1  f2  product\n",
       "0  3   1   1   1        2\n",
       "1  4   2   2   2       10\n",
       "2  5   3   3   3        1\n",
       "3  6   4   4   4        5"
      ]
     },
     "execution_count": 17,
     "metadata": {},
     "output_type": "execute_result"
    }
   ],
   "source": [
    "geoo  #датафрейм без дубликатов по id"
   ]
  },
  {
   "cell_type": "code",
   "execution_count": 18,
   "metadata": {},
   "outputs": [
    {
     "name": "stdout",
     "output_type": "stream",
     "text": [
      "Кол-во одинаковых скважин по всем локациям: 4\n"
     ]
    }
   ],
   "source": [
    "all_id_0  = pd.concat([geo['id'], geoo['id'], geeoo['id']]).reset_index(drop=True)\n",
    "print(f'Кол-во одинаковых скважин по всем локациям:', all_id_0.duplicated().sum())"
   ]
  },
  {
   "cell_type": "code",
   "execution_count": 19,
   "metadata": {},
   "outputs": [],
   "source": [
    "geo = norm_well_situation_part_1(geo, all_id_0)"
   ]
  },
  {
   "cell_type": "code",
   "execution_count": 20,
   "metadata": {
    "scrolled": false
   },
   "outputs": [
    {
     "data": {
      "text/html": [
       "<div>\n",
       "<style scoped>\n",
       "    .dataframe tbody tr th:only-of-type {\n",
       "        vertical-align: middle;\n",
       "    }\n",
       "\n",
       "    .dataframe tbody tr th {\n",
       "        vertical-align: top;\n",
       "    }\n",
       "\n",
       "    .dataframe thead th {\n",
       "        text-align: right;\n",
       "    }\n",
       "</style>\n",
       "<table border=\"1\" class=\"dataframe\">\n",
       "  <thead>\n",
       "    <tr style=\"text-align: right;\">\n",
       "      <th></th>\n",
       "      <th>id</th>\n",
       "      <th>f0</th>\n",
       "      <th>f1</th>\n",
       "      <th>f2</th>\n",
       "      <th>product</th>\n",
       "    </tr>\n",
       "  </thead>\n",
       "  <tbody>\n",
       "    <tr>\n",
       "      <th>1</th>\n",
       "      <td>2</td>\n",
       "      <td>2</td>\n",
       "      <td>2</td>\n",
       "      <td>2</td>\n",
       "      <td>10</td>\n",
       "    </tr>\n",
       "    <tr>\n",
       "      <th>2</th>\n",
       "      <td>3</td>\n",
       "      <td>3</td>\n",
       "      <td>3</td>\n",
       "      <td>3</td>\n",
       "      <td>1</td>\n",
       "    </tr>\n",
       "    <tr>\n",
       "      <th>4</th>\n",
       "      <td>1</td>\n",
       "      <td>5</td>\n",
       "      <td>5</td>\n",
       "      <td>5</td>\n",
       "      <td>7</td>\n",
       "    </tr>\n",
       "  </tbody>\n",
       "</table>\n",
       "</div>"
      ],
      "text/plain": [
       "  id  f0  f1  f2  product\n",
       "1  2   2   2   2       10\n",
       "2  3   3   3   3        1\n",
       "4  1   5   5   5        7"
      ]
     },
     "execution_count": 20,
     "metadata": {},
     "output_type": "execute_result"
    }
   ],
   "source": [
    "geo"
   ]
  },
  {
   "cell_type": "code",
   "execution_count": 21,
   "metadata": {},
   "outputs": [],
   "source": [
    "geoo = norm_well_situation_part_1(geoo, all_id_0)"
   ]
  },
  {
   "cell_type": "code",
   "execution_count": 22,
   "metadata": {},
   "outputs": [
    {
     "data": {
      "text/html": [
       "<div>\n",
       "<style scoped>\n",
       "    .dataframe tbody tr th:only-of-type {\n",
       "        vertical-align: middle;\n",
       "    }\n",
       "\n",
       "    .dataframe tbody tr th {\n",
       "        vertical-align: top;\n",
       "    }\n",
       "\n",
       "    .dataframe thead th {\n",
       "        text-align: right;\n",
       "    }\n",
       "</style>\n",
       "<table border=\"1\" class=\"dataframe\">\n",
       "  <thead>\n",
       "    <tr style=\"text-align: right;\">\n",
       "      <th></th>\n",
       "      <th>id</th>\n",
       "      <th>f0</th>\n",
       "      <th>f1</th>\n",
       "      <th>f2</th>\n",
       "      <th>product</th>\n",
       "    </tr>\n",
       "  </thead>\n",
       "  <tbody>\n",
       "    <tr>\n",
       "      <th>0</th>\n",
       "      <td>3</td>\n",
       "      <td>1</td>\n",
       "      <td>1</td>\n",
       "      <td>1</td>\n",
       "      <td>2</td>\n",
       "    </tr>\n",
       "    <tr>\n",
       "      <th>1</th>\n",
       "      <td>4</td>\n",
       "      <td>2</td>\n",
       "      <td>2</td>\n",
       "      <td>2</td>\n",
       "      <td>10</td>\n",
       "    </tr>\n",
       "    <tr>\n",
       "      <th>2</th>\n",
       "      <td>5</td>\n",
       "      <td>3</td>\n",
       "      <td>3</td>\n",
       "      <td>3</td>\n",
       "      <td>1</td>\n",
       "    </tr>\n",
       "    <tr>\n",
       "      <th>3</th>\n",
       "      <td>6</td>\n",
       "      <td>4</td>\n",
       "      <td>4</td>\n",
       "      <td>4</td>\n",
       "      <td>5</td>\n",
       "    </tr>\n",
       "  </tbody>\n",
       "</table>\n",
       "</div>"
      ],
      "text/plain": [
       "  id  f0  f1  f2  product\n",
       "0  3   1   1   1        2\n",
       "1  4   2   2   2       10\n",
       "2  5   3   3   3        1\n",
       "3  6   4   4   4        5"
      ]
     },
     "execution_count": 22,
     "metadata": {},
     "output_type": "execute_result"
    }
   ],
   "source": [
    "geoo"
   ]
  },
  {
   "cell_type": "markdown",
   "metadata": {},
   "source": [
    "Все работает! Теперь обработаем исходные датафреймы:"
   ]
  },
  {
   "cell_type": "code",
   "execution_count": 23,
   "metadata": {},
   "outputs": [],
   "source": [
    "geo_1 = norm_well_situation_part_1(geo_1, all_id)\n",
    "geo_2 = norm_well_situation_part_1(geo_2, all_id)\n",
    "geo_3 = norm_well_situation_part_1(geo_3, all_id)"
   ]
  },
  {
   "cell_type": "markdown",
   "metadata": {},
   "source": [
    "Проверим уменьшилось ли количество дубликатов:"
   ]
  },
  {
   "cell_type": "code",
   "execution_count": 24,
   "metadata": {},
   "outputs": [
    {
     "name": "stdout",
     "output_type": "stream",
     "text": [
      "Кол-во одинаковых скважин по всем локациям: 31\n"
     ]
    }
   ],
   "source": [
    "all_id  = pd.concat([geo_1['id'], geo_2['id'], geo_3['id']]).reset_index(drop=True)\n",
    "print(f'Кол-во одинаковых скважин по всем локациям:', all_id.duplicated().sum())"
   ]
  },
  {
   "cell_type": "markdown",
   "metadata": {},
   "source": [
    "Удалим оставшиеся дубликаты:"
   ]
  },
  {
   "cell_type": "code",
   "execution_count": 25,
   "metadata": {},
   "outputs": [],
   "source": [
    "geo_1 = geo_1.set_index('id')\n",
    "geo_2 = geo_2.set_index('id')\n",
    "geo_3 = geo_3.set_index('id')\n",
    "for well in all_id[all_id.duplicated()].unique():\n",
    "    if well in geo_1.index:\n",
    "        geo_1.drop([well],axis = 0, inplace = True)\n",
    "    if well in geo_2.index:\n",
    "        geo_2.drop([well],axis = 0, inplace = True)\n",
    "    if well in geo_3.index:\n",
    "        geo_3.drop([well],axis = 0, inplace = True)"
   ]
  },
  {
   "cell_type": "code",
   "execution_count": 26,
   "metadata": {},
   "outputs": [],
   "source": [
    "geo_1 = geo_1.reset_index()\n",
    "geo_2 = geo_2.reset_index()\n",
    "geo_3 = geo_3.reset_index()"
   ]
  },
  {
   "cell_type": "code",
   "execution_count": 27,
   "metadata": {},
   "outputs": [
    {
     "name": "stdout",
     "output_type": "stream",
     "text": [
      "Кол-во одинаковых скважин по всем локациям: 0\n"
     ]
    }
   ],
   "source": [
    "all_id  = pd.concat([geo_1['id'], geo_2['id'], geo_3['id']]).reset_index(drop=True)\n",
    "print(f'Кол-во одинаковых скважин по всем локациям:', all_id.duplicated().sum())"
   ]
  },
  {
   "cell_type": "markdown",
   "metadata": {},
   "source": [
    "#### Разделение на выборки"
   ]
  },
  {
   "cell_type": "markdown",
   "metadata": {},
   "source": [
    "Разделим данные на обучающую и тетсовую выборки:\n",
    "\n",
    "`y` - за нее возьмем столбец product\n",
    "\n",
    "`X` - все кроме столбца product, id"
   ]
  },
  {
   "cell_type": "code",
   "execution_count": 28,
   "metadata": {
    "scrolled": false
   },
   "outputs": [
    {
     "data": {
      "text/html": [
       "<div>\n",
       "<style scoped>\n",
       "    .dataframe tbody tr th:only-of-type {\n",
       "        vertical-align: middle;\n",
       "    }\n",
       "\n",
       "    .dataframe tbody tr th {\n",
       "        vertical-align: top;\n",
       "    }\n",
       "\n",
       "    .dataframe thead th {\n",
       "        text-align: right;\n",
       "    }\n",
       "</style>\n",
       "<table border=\"1\" class=\"dataframe\">\n",
       "  <thead>\n",
       "    <tr style=\"text-align: right;\">\n",
       "      <th></th>\n",
       "      <th>id</th>\n",
       "      <th>f0</th>\n",
       "      <th>f1</th>\n",
       "      <th>f2</th>\n",
       "      <th>product</th>\n",
       "    </tr>\n",
       "  </thead>\n",
       "  <tbody>\n",
       "    <tr>\n",
       "      <th>0</th>\n",
       "      <td>txEyH</td>\n",
       "      <td>0.705745</td>\n",
       "      <td>-0.497823</td>\n",
       "      <td>1.221170</td>\n",
       "      <td>105.280062</td>\n",
       "    </tr>\n",
       "    <tr>\n",
       "      <th>1</th>\n",
       "      <td>2acmU</td>\n",
       "      <td>1.334711</td>\n",
       "      <td>-0.340164</td>\n",
       "      <td>4.365080</td>\n",
       "      <td>73.037750</td>\n",
       "    </tr>\n",
       "    <tr>\n",
       "      <th>2</th>\n",
       "      <td>409Wp</td>\n",
       "      <td>1.022732</td>\n",
       "      <td>0.151990</td>\n",
       "      <td>1.419926</td>\n",
       "      <td>85.265647</td>\n",
       "    </tr>\n",
       "    <tr>\n",
       "      <th>3</th>\n",
       "      <td>iJLyR</td>\n",
       "      <td>-0.032172</td>\n",
       "      <td>0.139033</td>\n",
       "      <td>2.978566</td>\n",
       "      <td>168.620776</td>\n",
       "    </tr>\n",
       "    <tr>\n",
       "      <th>4</th>\n",
       "      <td>Xdl7t</td>\n",
       "      <td>1.988431</td>\n",
       "      <td>0.155413</td>\n",
       "      <td>4.751769</td>\n",
       "      <td>154.036647</td>\n",
       "    </tr>\n",
       "    <tr>\n",
       "      <th>...</th>\n",
       "      <td>...</td>\n",
       "      <td>...</td>\n",
       "      <td>...</td>\n",
       "      <td>...</td>\n",
       "      <td>...</td>\n",
       "    </tr>\n",
       "    <tr>\n",
       "      <th>99958</th>\n",
       "      <td>AGS9W</td>\n",
       "      <td>0.520952</td>\n",
       "      <td>-0.363457</td>\n",
       "      <td>-2.972517</td>\n",
       "      <td>145.600958</td>\n",
       "    </tr>\n",
       "    <tr>\n",
       "      <th>99959</th>\n",
       "      <td>Tdehs</td>\n",
       "      <td>0.941485</td>\n",
       "      <td>0.729104</td>\n",
       "      <td>3.169430</td>\n",
       "      <td>156.999326</td>\n",
       "    </tr>\n",
       "    <tr>\n",
       "      <th>99960</th>\n",
       "      <td>fiKDv</td>\n",
       "      <td>0.207224</td>\n",
       "      <td>1.869671</td>\n",
       "      <td>11.980199</td>\n",
       "      <td>233.164476</td>\n",
       "    </tr>\n",
       "    <tr>\n",
       "      <th>99961</th>\n",
       "      <td>TtcGQ</td>\n",
       "      <td>0.679987</td>\n",
       "      <td>0.917812</td>\n",
       "      <td>7.351596</td>\n",
       "      <td>186.668194</td>\n",
       "    </tr>\n",
       "    <tr>\n",
       "      <th>99962</th>\n",
       "      <td>bsk9y</td>\n",
       "      <td>0.777337</td>\n",
       "      <td>-0.394416</td>\n",
       "      <td>10.283204</td>\n",
       "      <td>324.070380</td>\n",
       "    </tr>\n",
       "  </tbody>\n",
       "</table>\n",
       "<p>99963 rows × 5 columns</p>\n",
       "</div>"
      ],
      "text/plain": [
       "          id        f0        f1         f2     product\n",
       "0      txEyH  0.705745 -0.497823   1.221170  105.280062\n",
       "1      2acmU  1.334711 -0.340164   4.365080   73.037750\n",
       "2      409Wp  1.022732  0.151990   1.419926   85.265647\n",
       "3      iJLyR -0.032172  0.139033   2.978566  168.620776\n",
       "4      Xdl7t  1.988431  0.155413   4.751769  154.036647\n",
       "...      ...       ...       ...        ...         ...\n",
       "99958  AGS9W  0.520952 -0.363457  -2.972517  145.600958\n",
       "99959  Tdehs  0.941485  0.729104   3.169430  156.999326\n",
       "99960  fiKDv  0.207224  1.869671  11.980199  233.164476\n",
       "99961  TtcGQ  0.679987  0.917812   7.351596  186.668194\n",
       "99962  bsk9y  0.777337 -0.394416  10.283204  324.070380\n",
       "\n",
       "[99963 rows x 5 columns]"
      ]
     },
     "execution_count": 28,
     "metadata": {},
     "output_type": "execute_result"
    }
   ],
   "source": [
    "geo_1"
   ]
  },
  {
   "cell_type": "code",
   "execution_count": 29,
   "metadata": {},
   "outputs": [],
   "source": [
    "X_geo_1 = geo_1.drop([\"product\",\"id\"], axis=1)\n",
    "y_geo_1 = geo_1[\"product\"]"
   ]
  },
  {
   "cell_type": "code",
   "execution_count": 30,
   "metadata": {},
   "outputs": [],
   "source": [
    "X_train, X_test, y_train, y_test = train_test_split(\n",
    "    X_geo_1, y_geo_1, \n",
    "    test_size=0.2, \n",
    "    random_state=42\n",
    ")"
   ]
  },
  {
   "cell_type": "code",
   "execution_count": 31,
   "metadata": {
    "scrolled": false
   },
   "outputs": [
    {
     "data": {
      "text/html": [
       "<div>\n",
       "<style scoped>\n",
       "    .dataframe tbody tr th:only-of-type {\n",
       "        vertical-align: middle;\n",
       "    }\n",
       "\n",
       "    .dataframe tbody tr th {\n",
       "        vertical-align: top;\n",
       "    }\n",
       "\n",
       "    .dataframe thead th {\n",
       "        text-align: right;\n",
       "    }\n",
       "</style>\n",
       "<table border=\"1\" class=\"dataframe\">\n",
       "  <thead>\n",
       "    <tr style=\"text-align: right;\">\n",
       "      <th></th>\n",
       "      <th>f0</th>\n",
       "      <th>f1</th>\n",
       "      <th>f2</th>\n",
       "    </tr>\n",
       "  </thead>\n",
       "  <tbody>\n",
       "    <tr>\n",
       "      <th>12604</th>\n",
       "      <td>-0.062226</td>\n",
       "      <td>0.375773</td>\n",
       "      <td>3.557455</td>\n",
       "    </tr>\n",
       "    <tr>\n",
       "      <th>89997</th>\n",
       "      <td>0.726233</td>\n",
       "      <td>0.798363</td>\n",
       "      <td>2.141410</td>\n",
       "    </tr>\n",
       "    <tr>\n",
       "      <th>99172</th>\n",
       "      <td>-0.029711</td>\n",
       "      <td>0.231071</td>\n",
       "      <td>4.258408</td>\n",
       "    </tr>\n",
       "    <tr>\n",
       "      <th>89794</th>\n",
       "      <td>0.464464</td>\n",
       "      <td>0.723572</td>\n",
       "      <td>7.202757</td>\n",
       "    </tr>\n",
       "    <tr>\n",
       "      <th>36423</th>\n",
       "      <td>0.134606</td>\n",
       "      <td>0.224370</td>\n",
       "      <td>-6.047276</td>\n",
       "    </tr>\n",
       "    <tr>\n",
       "      <th>...</th>\n",
       "      <td>...</td>\n",
       "      <td>...</td>\n",
       "      <td>...</td>\n",
       "    </tr>\n",
       "    <tr>\n",
       "      <th>6265</th>\n",
       "      <td>0.035706</td>\n",
       "      <td>1.021447</td>\n",
       "      <td>-0.014376</td>\n",
       "    </tr>\n",
       "    <tr>\n",
       "      <th>54886</th>\n",
       "      <td>-0.556188</td>\n",
       "      <td>0.772744</td>\n",
       "      <td>0.844034</td>\n",
       "    </tr>\n",
       "    <tr>\n",
       "      <th>76820</th>\n",
       "      <td>0.243252</td>\n",
       "      <td>-0.093290</td>\n",
       "      <td>1.161646</td>\n",
       "    </tr>\n",
       "    <tr>\n",
       "      <th>860</th>\n",
       "      <td>0.652792</td>\n",
       "      <td>-0.484070</td>\n",
       "      <td>7.155391</td>\n",
       "    </tr>\n",
       "    <tr>\n",
       "      <th>15795</th>\n",
       "      <td>0.884971</td>\n",
       "      <td>-0.466098</td>\n",
       "      <td>2.362888</td>\n",
       "    </tr>\n",
       "  </tbody>\n",
       "</table>\n",
       "<p>79970 rows × 3 columns</p>\n",
       "</div>"
      ],
      "text/plain": [
       "             f0        f1        f2\n",
       "12604 -0.062226  0.375773  3.557455\n",
       "89997  0.726233  0.798363  2.141410\n",
       "99172 -0.029711  0.231071  4.258408\n",
       "89794  0.464464  0.723572  7.202757\n",
       "36423  0.134606  0.224370 -6.047276\n",
       "...         ...       ...       ...\n",
       "6265   0.035706  1.021447 -0.014376\n",
       "54886 -0.556188  0.772744  0.844034\n",
       "76820  0.243252 -0.093290  1.161646\n",
       "860    0.652792 -0.484070  7.155391\n",
       "15795  0.884971 -0.466098  2.362888\n",
       "\n",
       "[79970 rows x 3 columns]"
      ]
     },
     "execution_count": 31,
     "metadata": {},
     "output_type": "execute_result"
    }
   ],
   "source": [
    "X_train"
   ]
  },
  {
   "cell_type": "markdown",
   "metadata": {},
   "source": [
    "#### Стандартизация данных"
   ]
  },
  {
   "cell_type": "markdown",
   "metadata": {},
   "source": [
    "Т.к все признаки различны, ипсользуем стандартизацию, чтобы привести все к одному масштабу:"
   ]
  },
  {
   "cell_type": "code",
   "execution_count": 32,
   "metadata": {},
   "outputs": [],
   "source": [
    "numeric_data = list(X_geo_1.select_dtypes([np.number]).columns)"
   ]
  },
  {
   "cell_type": "code",
   "execution_count": 33,
   "metadata": {},
   "outputs": [],
   "source": [
    "pd.options.mode.chained_assignment = None\n",
    "scaler = MinMaxScaler()\n",
    "scaler.fit(X_train)\n",
    "X_train[numeric_data] = scaler.transform(X_train[numeric_data])\n",
    "X_test[numeric_data] = scaler.transform(X_test[numeric_data])"
   ]
  },
  {
   "cell_type": "code",
   "execution_count": 34,
   "metadata": {
    "scrolled": true
   },
   "outputs": [
    {
     "data": {
      "text/html": [
       "<div>\n",
       "<style scoped>\n",
       "    .dataframe tbody tr th:only-of-type {\n",
       "        vertical-align: middle;\n",
       "    }\n",
       "\n",
       "    .dataframe tbody tr th {\n",
       "        vertical-align: top;\n",
       "    }\n",
       "\n",
       "    .dataframe thead th {\n",
       "        text-align: right;\n",
       "    }\n",
       "</style>\n",
       "<table border=\"1\" class=\"dataframe\">\n",
       "  <thead>\n",
       "    <tr style=\"text-align: right;\">\n",
       "      <th></th>\n",
       "      <th>f0</th>\n",
       "      <th>f1</th>\n",
       "      <th>f2</th>\n",
       "    </tr>\n",
       "  </thead>\n",
       "  <tbody>\n",
       "    <tr>\n",
       "      <th>12604</th>\n",
       "      <td>0.357041</td>\n",
       "      <td>0.450346</td>\n",
       "      <td>0.523897</td>\n",
       "    </tr>\n",
       "    <tr>\n",
       "      <th>89997</th>\n",
       "      <td>0.566130</td>\n",
       "      <td>0.605831</td>\n",
       "      <td>0.469730</td>\n",
       "    </tr>\n",
       "    <tr>\n",
       "      <th>99172</th>\n",
       "      <td>0.365664</td>\n",
       "      <td>0.397106</td>\n",
       "      <td>0.550711</td>\n",
       "    </tr>\n",
       "    <tr>\n",
       "      <th>89794</th>\n",
       "      <td>0.496712</td>\n",
       "      <td>0.578313</td>\n",
       "      <td>0.663339</td>\n",
       "    </tr>\n",
       "    <tr>\n",
       "      <th>36423</th>\n",
       "      <td>0.409238</td>\n",
       "      <td>0.394640</td>\n",
       "      <td>0.156493</td>\n",
       "    </tr>\n",
       "  </tbody>\n",
       "</table>\n",
       "</div>"
      ],
      "text/plain": [
       "             f0        f1        f2\n",
       "12604  0.357041  0.450346  0.523897\n",
       "89997  0.566130  0.605831  0.469730\n",
       "99172  0.365664  0.397106  0.550711\n",
       "89794  0.496712  0.578313  0.663339\n",
       "36423  0.409238  0.394640  0.156493"
      ]
     },
     "execution_count": 34,
     "metadata": {},
     "output_type": "execute_result"
    }
   ],
   "source": [
    "X_train.head()"
   ]
  },
  {
   "cell_type": "markdown",
   "metadata": {},
   "source": [
    "### Локация №2"
   ]
  },
  {
   "cell_type": "markdown",
   "metadata": {},
   "source": [
    "#### Пропуски, дубликаты"
   ]
  },
  {
   "cell_type": "code",
   "execution_count": 35,
   "metadata": {},
   "outputs": [
    {
     "data": {
      "text/plain": [
       "id         0.0\n",
       "f0         0.0\n",
       "f1         0.0\n",
       "f2         0.0\n",
       "product    0.0\n",
       "dtype: float64"
      ]
     },
     "execution_count": 35,
     "metadata": {},
     "output_type": "execute_result"
    }
   ],
   "source": [
    "geo_2.isna().mean() * 100"
   ]
  },
  {
   "cell_type": "markdown",
   "metadata": {},
   "source": [
    "Пропусков не обнаружилось! Посмотрим на дубликаты:"
   ]
  },
  {
   "cell_type": "code",
   "execution_count": 36,
   "metadata": {},
   "outputs": [
    {
     "data": {
      "text/plain": [
       "True"
      ]
     },
     "execution_count": 36,
     "metadata": {},
     "output_type": "execute_result"
    }
   ],
   "source": [
    "geo_2.duplicated().sum() == 0"
   ]
  },
  {
   "cell_type": "markdown",
   "metadata": {},
   "source": [
    "Неявные дубликаты мы обработали еще в разделе по \"Локации №1\". Перейдем к разделению на выборки:"
   ]
  },
  {
   "cell_type": "markdown",
   "metadata": {},
   "source": [
    "#### Разделение на выборки"
   ]
  },
  {
   "cell_type": "markdown",
   "metadata": {},
   "source": [
    "Разделим данные на обучающую и тетсовую выборки:\n",
    "\n",
    "`y` - за нее возьмем столбец product\n",
    "\n",
    "`X` - все кроме столбца product, id"
   ]
  },
  {
   "cell_type": "code",
   "execution_count": 37,
   "metadata": {},
   "outputs": [],
   "source": [
    "X_geo_2 = geo_2.drop([\"product\",\"id\"], axis=1)\n",
    "y_geo_2 = geo_2[\"product\"]"
   ]
  },
  {
   "cell_type": "code",
   "execution_count": 38,
   "metadata": {},
   "outputs": [],
   "source": [
    "X_train_2, X_test_2, y_train_2, y_test_2 = train_test_split(\n",
    "    X_geo_2, y_geo_2, \n",
    "    test_size=0.2, \n",
    "    random_state=42\n",
    ")"
   ]
  },
  {
   "cell_type": "code",
   "execution_count": 39,
   "metadata": {},
   "outputs": [
    {
     "data": {
      "text/html": [
       "<div>\n",
       "<style scoped>\n",
       "    .dataframe tbody tr th:only-of-type {\n",
       "        vertical-align: middle;\n",
       "    }\n",
       "\n",
       "    .dataframe tbody tr th {\n",
       "        vertical-align: top;\n",
       "    }\n",
       "\n",
       "    .dataframe thead th {\n",
       "        text-align: right;\n",
       "    }\n",
       "</style>\n",
       "<table border=\"1\" class=\"dataframe\">\n",
       "  <thead>\n",
       "    <tr style=\"text-align: right;\">\n",
       "      <th></th>\n",
       "      <th>f0</th>\n",
       "      <th>f1</th>\n",
       "      <th>f2</th>\n",
       "    </tr>\n",
       "  </thead>\n",
       "  <tbody>\n",
       "    <tr>\n",
       "      <th>48052</th>\n",
       "      <td>7.934434</td>\n",
       "      <td>0.889582</td>\n",
       "      <td>-0.001522</td>\n",
       "    </tr>\n",
       "    <tr>\n",
       "      <th>38234</th>\n",
       "      <td>12.037407</td>\n",
       "      <td>1.771411</td>\n",
       "      <td>2.006788</td>\n",
       "    </tr>\n",
       "    <tr>\n",
       "      <th>3806</th>\n",
       "      <td>0.465546</td>\n",
       "      <td>-6.955174</td>\n",
       "      <td>4.997481</td>\n",
       "    </tr>\n",
       "    <tr>\n",
       "      <th>63136</th>\n",
       "      <td>8.307240</td>\n",
       "      <td>-2.018355</td>\n",
       "      <td>1.002945</td>\n",
       "    </tr>\n",
       "    <tr>\n",
       "      <th>6006</th>\n",
       "      <td>-10.630533</td>\n",
       "      <td>-2.615793</td>\n",
       "      <td>0.003582</td>\n",
       "    </tr>\n",
       "    <tr>\n",
       "      <th>...</th>\n",
       "      <td>...</td>\n",
       "      <td>...</td>\n",
       "      <td>...</td>\n",
       "    </tr>\n",
       "    <tr>\n",
       "      <th>6265</th>\n",
       "      <td>-3.813139</td>\n",
       "      <td>-4.677472</td>\n",
       "      <td>0.996837</td>\n",
       "    </tr>\n",
       "    <tr>\n",
       "      <th>54886</th>\n",
       "      <td>3.670295</td>\n",
       "      <td>-11.878941</td>\n",
       "      <td>4.001246</td>\n",
       "    </tr>\n",
       "    <tr>\n",
       "      <th>76820</th>\n",
       "      <td>-3.308695</td>\n",
       "      <td>2.557770</td>\n",
       "      <td>2.999423</td>\n",
       "    </tr>\n",
       "    <tr>\n",
       "      <th>860</th>\n",
       "      <td>-2.206408</td>\n",
       "      <td>-6.205406</td>\n",
       "      <td>0.008217</td>\n",
       "    </tr>\n",
       "    <tr>\n",
       "      <th>15795</th>\n",
       "      <td>-9.633901</td>\n",
       "      <td>-8.746342</td>\n",
       "      <td>1.004034</td>\n",
       "    </tr>\n",
       "  </tbody>\n",
       "</table>\n",
       "<p>79985 rows × 3 columns</p>\n",
       "</div>"
      ],
      "text/plain": [
       "              f0         f1        f2\n",
       "48052   7.934434   0.889582 -0.001522\n",
       "38234  12.037407   1.771411  2.006788\n",
       "3806    0.465546  -6.955174  4.997481\n",
       "63136   8.307240  -2.018355  1.002945\n",
       "6006  -10.630533  -2.615793  0.003582\n",
       "...          ...        ...       ...\n",
       "6265   -3.813139  -4.677472  0.996837\n",
       "54886   3.670295 -11.878941  4.001246\n",
       "76820  -3.308695   2.557770  2.999423\n",
       "860    -2.206408  -6.205406  0.008217\n",
       "15795  -9.633901  -8.746342  1.004034\n",
       "\n",
       "[79985 rows x 3 columns]"
      ]
     },
     "execution_count": 39,
     "metadata": {},
     "output_type": "execute_result"
    }
   ],
   "source": [
    "X_train_2"
   ]
  },
  {
   "cell_type": "markdown",
   "metadata": {},
   "source": [
    "#### Стандартизация данных"
   ]
  },
  {
   "cell_type": "code",
   "execution_count": 40,
   "metadata": {},
   "outputs": [],
   "source": [
    "pd.options.mode.chained_assignment = None\n",
    "scaler = MinMaxScaler()\n",
    "scaler.fit(X_train_2)\n",
    "X_train_2[numeric_data] = scaler.transform(X_train_2[numeric_data])\n",
    "X_test_2[numeric_data] = scaler.transform(X_test_2[numeric_data])"
   ]
  },
  {
   "cell_type": "code",
   "execution_count": 41,
   "metadata": {},
   "outputs": [
    {
     "data": {
      "text/html": [
       "<div>\n",
       "<style scoped>\n",
       "    .dataframe tbody tr th:only-of-type {\n",
       "        vertical-align: middle;\n",
       "    }\n",
       "\n",
       "    .dataframe tbody tr th {\n",
       "        vertical-align: top;\n",
       "    }\n",
       "\n",
       "    .dataframe thead th {\n",
       "        text-align: right;\n",
       "    }\n",
       "</style>\n",
       "<table border=\"1\" class=\"dataframe\">\n",
       "  <thead>\n",
       "    <tr style=\"text-align: right;\">\n",
       "      <th></th>\n",
       "      <th>f0</th>\n",
       "      <th>f1</th>\n",
       "      <th>f2</th>\n",
       "    </tr>\n",
       "  </thead>\n",
       "  <tbody>\n",
       "    <tr>\n",
       "      <th>48052</th>\n",
       "      <td>0.647930</td>\n",
       "      <td>0.632270</td>\n",
       "      <td>0.002368</td>\n",
       "    </tr>\n",
       "    <tr>\n",
       "      <th>38234</th>\n",
       "      <td>0.715157</td>\n",
       "      <td>0.652732</td>\n",
       "      <td>0.288481</td>\n",
       "    </tr>\n",
       "    <tr>\n",
       "      <th>3806</th>\n",
       "      <td>0.525552</td>\n",
       "      <td>0.450239</td>\n",
       "      <td>0.714548</td>\n",
       "    </tr>\n",
       "    <tr>\n",
       "      <th>63136</th>\n",
       "      <td>0.654038</td>\n",
       "      <td>0.564794</td>\n",
       "      <td>0.145469</td>\n",
       "    </tr>\n",
       "    <tr>\n",
       "      <th>6006</th>\n",
       "      <td>0.343742</td>\n",
       "      <td>0.550931</td>\n",
       "      <td>0.003095</td>\n",
       "    </tr>\n",
       "    <tr>\n",
       "      <th>...</th>\n",
       "      <td>...</td>\n",
       "      <td>...</td>\n",
       "      <td>...</td>\n",
       "    </tr>\n",
       "    <tr>\n",
       "      <th>6265</th>\n",
       "      <td>0.455445</td>\n",
       "      <td>0.503091</td>\n",
       "      <td>0.144599</td>\n",
       "    </tr>\n",
       "    <tr>\n",
       "      <th>54886</th>\n",
       "      <td>0.578062</td>\n",
       "      <td>0.335988</td>\n",
       "      <td>0.572620</td>\n",
       "    </tr>\n",
       "    <tr>\n",
       "      <th>76820</th>\n",
       "      <td>0.463711</td>\n",
       "      <td>0.670979</td>\n",
       "      <td>0.429896</td>\n",
       "    </tr>\n",
       "    <tr>\n",
       "      <th>860</th>\n",
       "      <td>0.481772</td>\n",
       "      <td>0.467637</td>\n",
       "      <td>0.003756</td>\n",
       "    </tr>\n",
       "    <tr>\n",
       "      <th>15795</th>\n",
       "      <td>0.360072</td>\n",
       "      <td>0.408677</td>\n",
       "      <td>0.145624</td>\n",
       "    </tr>\n",
       "  </tbody>\n",
       "</table>\n",
       "<p>79985 rows × 3 columns</p>\n",
       "</div>"
      ],
      "text/plain": [
       "             f0        f1        f2\n",
       "48052  0.647930  0.632270  0.002368\n",
       "38234  0.715157  0.652732  0.288481\n",
       "3806   0.525552  0.450239  0.714548\n",
       "63136  0.654038  0.564794  0.145469\n",
       "6006   0.343742  0.550931  0.003095\n",
       "...         ...       ...       ...\n",
       "6265   0.455445  0.503091  0.144599\n",
       "54886  0.578062  0.335988  0.572620\n",
       "76820  0.463711  0.670979  0.429896\n",
       "860    0.481772  0.467637  0.003756\n",
       "15795  0.360072  0.408677  0.145624\n",
       "\n",
       "[79985 rows x 3 columns]"
      ]
     },
     "execution_count": 41,
     "metadata": {},
     "output_type": "execute_result"
    }
   ],
   "source": [
    "X_train_2"
   ]
  },
  {
   "cell_type": "markdown",
   "metadata": {},
   "source": [
    "### Локация №3"
   ]
  },
  {
   "cell_type": "markdown",
   "metadata": {},
   "source": [
    "#### Пропуски, дубликаты"
   ]
  },
  {
   "cell_type": "code",
   "execution_count": 42,
   "metadata": {},
   "outputs": [
    {
     "data": {
      "text/plain": [
       "id         0.0\n",
       "f0         0.0\n",
       "f1         0.0\n",
       "f2         0.0\n",
       "product    0.0\n",
       "dtype: float64"
      ]
     },
     "execution_count": 42,
     "metadata": {},
     "output_type": "execute_result"
    }
   ],
   "source": [
    "geo_3.isna().mean() * 100"
   ]
  },
  {
   "cell_type": "markdown",
   "metadata": {},
   "source": [
    "Пропусков не обнаружилось! Посмотрим на дубликаты:"
   ]
  },
  {
   "cell_type": "code",
   "execution_count": 43,
   "metadata": {},
   "outputs": [
    {
     "data": {
      "text/plain": [
       "True"
      ]
     },
     "execution_count": 43,
     "metadata": {},
     "output_type": "execute_result"
    }
   ],
   "source": [
    "geo_3.duplicated().sum() == 0"
   ]
  },
  {
   "cell_type": "markdown",
   "metadata": {},
   "source": [
    "Неявные дубликаты мы обработали еще в разделе по \"Локации №1\". Перейдем к разделению на выборки:"
   ]
  },
  {
   "cell_type": "markdown",
   "metadata": {},
   "source": [
    "#### Разделение на выборки"
   ]
  },
  {
   "cell_type": "markdown",
   "metadata": {},
   "source": [
    "Разделим данные на обучающую и тетсовую выборки:\n",
    "\n",
    "`y` - за нее возьмем столбец product\n",
    "\n",
    "`X` - все кроме столбца product, id"
   ]
  },
  {
   "cell_type": "code",
   "execution_count": 44,
   "metadata": {},
   "outputs": [],
   "source": [
    "X_geo_3 = geo_3.drop([\"product\",\"id\"], axis=1)\n",
    "y_geo_3 = geo_3[\"product\"]"
   ]
  },
  {
   "cell_type": "code",
   "execution_count": 45,
   "metadata": {},
   "outputs": [],
   "source": [
    "X_train_3, X_test_3, y_train_3, y_test_3 = train_test_split(\n",
    "    X_geo_3, y_geo_3, \n",
    "    test_size=0.2, \n",
    "    random_state=42\n",
    ")"
   ]
  },
  {
   "cell_type": "code",
   "execution_count": 46,
   "metadata": {
    "scrolled": true
   },
   "outputs": [
    {
     "data": {
      "text/html": [
       "<div>\n",
       "<style scoped>\n",
       "    .dataframe tbody tr th:only-of-type {\n",
       "        vertical-align: middle;\n",
       "    }\n",
       "\n",
       "    .dataframe tbody tr th {\n",
       "        vertical-align: top;\n",
       "    }\n",
       "\n",
       "    .dataframe thead th {\n",
       "        text-align: right;\n",
       "    }\n",
       "</style>\n",
       "<table border=\"1\" class=\"dataframe\">\n",
       "  <thead>\n",
       "    <tr style=\"text-align: right;\">\n",
       "      <th></th>\n",
       "      <th>f0</th>\n",
       "      <th>f1</th>\n",
       "      <th>f2</th>\n",
       "    </tr>\n",
       "  </thead>\n",
       "  <tbody>\n",
       "    <tr>\n",
       "      <th>8138</th>\n",
       "      <td>4.158744</td>\n",
       "      <td>1.398708</td>\n",
       "      <td>4.340214</td>\n",
       "    </tr>\n",
       "    <tr>\n",
       "      <th>2007</th>\n",
       "      <td>0.123968</td>\n",
       "      <td>-0.100828</td>\n",
       "      <td>1.205108</td>\n",
       "    </tr>\n",
       "    <tr>\n",
       "      <th>89828</th>\n",
       "      <td>-4.212940</td>\n",
       "      <td>-1.646886</td>\n",
       "      <td>1.772746</td>\n",
       "    </tr>\n",
       "    <tr>\n",
       "      <th>88245</th>\n",
       "      <td>-1.805386</td>\n",
       "      <td>0.323563</td>\n",
       "      <td>3.183120</td>\n",
       "    </tr>\n",
       "    <tr>\n",
       "      <th>76287</th>\n",
       "      <td>1.705896</td>\n",
       "      <td>1.451559</td>\n",
       "      <td>1.434843</td>\n",
       "    </tr>\n",
       "    <tr>\n",
       "      <th>...</th>\n",
       "      <td>...</td>\n",
       "      <td>...</td>\n",
       "      <td>...</td>\n",
       "    </tr>\n",
       "    <tr>\n",
       "      <th>6265</th>\n",
       "      <td>-1.842672</td>\n",
       "      <td>-0.003145</td>\n",
       "      <td>0.926830</td>\n",
       "    </tr>\n",
       "    <tr>\n",
       "      <th>54886</th>\n",
       "      <td>0.164229</td>\n",
       "      <td>-1.126222</td>\n",
       "      <td>3.552921</td>\n",
       "    </tr>\n",
       "    <tr>\n",
       "      <th>76820</th>\n",
       "      <td>0.960789</td>\n",
       "      <td>-0.681623</td>\n",
       "      <td>4.791471</td>\n",
       "    </tr>\n",
       "    <tr>\n",
       "      <th>860</th>\n",
       "      <td>-1.446403</td>\n",
       "      <td>-2.164471</td>\n",
       "      <td>3.334692</td>\n",
       "    </tr>\n",
       "    <tr>\n",
       "      <th>15795</th>\n",
       "      <td>-0.592567</td>\n",
       "      <td>0.162813</td>\n",
       "      <td>1.989184</td>\n",
       "    </tr>\n",
       "  </tbody>\n",
       "</table>\n",
       "<p>79980 rows × 3 columns</p>\n",
       "</div>"
      ],
      "text/plain": [
       "             f0        f1        f2\n",
       "8138   4.158744  1.398708  4.340214\n",
       "2007   0.123968 -0.100828  1.205108\n",
       "89828 -4.212940 -1.646886  1.772746\n",
       "88245 -1.805386  0.323563  3.183120\n",
       "76287  1.705896  1.451559  1.434843\n",
       "...         ...       ...       ...\n",
       "6265  -1.842672 -0.003145  0.926830\n",
       "54886  0.164229 -1.126222  3.552921\n",
       "76820  0.960789 -0.681623  4.791471\n",
       "860   -1.446403 -2.164471  3.334692\n",
       "15795 -0.592567  0.162813  1.989184\n",
       "\n",
       "[79980 rows x 3 columns]"
      ]
     },
     "execution_count": 46,
     "metadata": {},
     "output_type": "execute_result"
    }
   ],
   "source": [
    "X_train_3"
   ]
  },
  {
   "cell_type": "markdown",
   "metadata": {},
   "source": [
    "#### Стандартизация данных"
   ]
  },
  {
   "cell_type": "code",
   "execution_count": 47,
   "metadata": {},
   "outputs": [],
   "source": [
    "pd.options.mode.chained_assignment = None\n",
    "scaler = MinMaxScaler()\n",
    "scaler.fit(X_train_3)\n",
    "X_train_3[numeric_data] = scaler.transform(X_train_3[numeric_data])\n",
    "X_test_3[numeric_data] = scaler.transform(X_test_3[numeric_data])"
   ]
  },
  {
   "cell_type": "code",
   "execution_count": 48,
   "metadata": {},
   "outputs": [
    {
     "data": {
      "text/html": [
       "<div>\n",
       "<style scoped>\n",
       "    .dataframe tbody tr th:only-of-type {\n",
       "        vertical-align: middle;\n",
       "    }\n",
       "\n",
       "    .dataframe tbody tr th {\n",
       "        vertical-align: top;\n",
       "    }\n",
       "\n",
       "    .dataframe thead th {\n",
       "        text-align: right;\n",
       "    }\n",
       "</style>\n",
       "<table border=\"1\" class=\"dataframe\">\n",
       "  <thead>\n",
       "    <tr style=\"text-align: right;\">\n",
       "      <th></th>\n",
       "      <th>f0</th>\n",
       "      <th>f1</th>\n",
       "      <th>f2</th>\n",
       "    </tr>\n",
       "  </thead>\n",
       "  <tbody>\n",
       "    <tr>\n",
       "      <th>8138</th>\n",
       "      <td>0.807509</td>\n",
       "      <td>0.568212</td>\n",
       "      <td>0.562656</td>\n",
       "    </tr>\n",
       "    <tr>\n",
       "      <th>2007</th>\n",
       "      <td>0.555308</td>\n",
       "      <td>0.467766</td>\n",
       "      <td>0.452074</td>\n",
       "    </tr>\n",
       "    <tr>\n",
       "      <th>89828</th>\n",
       "      <td>0.284222</td>\n",
       "      <td>0.364204</td>\n",
       "      <td>0.472096</td>\n",
       "    </tr>\n",
       "    <tr>\n",
       "      <th>88245</th>\n",
       "      <td>0.434711</td>\n",
       "      <td>0.496193</td>\n",
       "      <td>0.521843</td>\n",
       "    </tr>\n",
       "    <tr>\n",
       "      <th>76287</th>\n",
       "      <td>0.654190</td>\n",
       "      <td>0.571752</td>\n",
       "      <td>0.460177</td>\n",
       "    </tr>\n",
       "    <tr>\n",
       "      <th>...</th>\n",
       "      <td>...</td>\n",
       "      <td>...</td>\n",
       "      <td>...</td>\n",
       "    </tr>\n",
       "    <tr>\n",
       "      <th>6265</th>\n",
       "      <td>0.432380</td>\n",
       "      <td>0.474309</td>\n",
       "      <td>0.442259</td>\n",
       "    </tr>\n",
       "    <tr>\n",
       "      <th>54886</th>\n",
       "      <td>0.557825</td>\n",
       "      <td>0.399080</td>\n",
       "      <td>0.534886</td>\n",
       "    </tr>\n",
       "    <tr>\n",
       "      <th>76820</th>\n",
       "      <td>0.607615</td>\n",
       "      <td>0.428862</td>\n",
       "      <td>0.578572</td>\n",
       "    </tr>\n",
       "    <tr>\n",
       "      <th>860</th>\n",
       "      <td>0.457150</td>\n",
       "      <td>0.329534</td>\n",
       "      <td>0.527189</td>\n",
       "    </tr>\n",
       "    <tr>\n",
       "      <th>15795</th>\n",
       "      <td>0.510520</td>\n",
       "      <td>0.485426</td>\n",
       "      <td>0.479730</td>\n",
       "    </tr>\n",
       "  </tbody>\n",
       "</table>\n",
       "<p>79980 rows × 3 columns</p>\n",
       "</div>"
      ],
      "text/plain": [
       "             f0        f1        f2\n",
       "8138   0.807509  0.568212  0.562656\n",
       "2007   0.555308  0.467766  0.452074\n",
       "89828  0.284222  0.364204  0.472096\n",
       "88245  0.434711  0.496193  0.521843\n",
       "76287  0.654190  0.571752  0.460177\n",
       "...         ...       ...       ...\n",
       "6265   0.432380  0.474309  0.442259\n",
       "54886  0.557825  0.399080  0.534886\n",
       "76820  0.607615  0.428862  0.578572\n",
       "860    0.457150  0.329534  0.527189\n",
       "15795  0.510520  0.485426  0.479730\n",
       "\n",
       "[79980 rows x 3 columns]"
      ]
     },
     "execution_count": 48,
     "metadata": {},
     "output_type": "execute_result"
    }
   ],
   "source": [
    "X_train_3"
   ]
  },
  {
   "cell_type": "markdown",
   "metadata": {},
   "source": [
    "## Обучение и проверка модели"
   ]
  },
  {
   "cell_type": "markdown",
   "metadata": {},
   "source": [
    "Предобработав данные по регионам, перейдем к обучению моделей. "
   ]
  },
  {
   "cell_type": "code",
   "execution_count": 49,
   "metadata": {},
   "outputs": [],
   "source": [
    "kf = KFold(n_splits=5, shuffle=True)"
   ]
  },
  {
   "cell_type": "markdown",
   "metadata": {},
   "source": [
    "Напишем функции по обучению регрессий и сравним результаты по тесту, чтобы выбрать наилучшую модель для локации. "
   ]
  },
  {
   "cell_type": "code",
   "execution_count": 50,
   "metadata": {},
   "outputs": [],
   "source": [
    "def simple_linear_regression(X_train, y_train, X_test, y_test):\n",
    "    #обучаем модель\n",
    "    model = LinearRegression()\n",
    "    model.fit(X_train, y_train)\n",
    "    \n",
    "    #находим значения кросс-валидации\n",
    "    cv_scores = cross_val_score(model, X_train, y_train, cv=kf, scoring=\"neg_root_mean_squared_error\")\n",
    "    means = np.mean(-cv_scores)\n",
    "    print(\"---------\")\n",
    "    print(\"Cross validation scores:\\n\\t\", \"\\n\\t\".join(\"%.4f\" % x for x in cv_scores))\n",
    "    print(\"Mean CV RMSE = %.4f\" % means)\n",
    "    print(\"-----------------------\")\n",
    "    #тестируем модель\n",
    "    y_pred = model.predict(X_test)\n",
    "    eror = mean_squared_error(y_test, y_pred, squared=False)\n",
    "    print(\"---------\")\n",
    "    print(\"Test RMSE = %.4f\" % eror)\n",
    "    print(\"-----------------------\")\n",
    "    \n",
    "    return (round(eror, 3), round(means, 4), model)"
   ]
  },
  {
   "cell_type": "code",
   "execution_count": 51,
   "metadata": {},
   "outputs": [],
   "source": [
    "def simple_sgd(X_train, y_train, X_test, y_test):\n",
    "    #обучаем модель\n",
    "    model = SGDRegressor(random_state = 42)\n",
    "    model.fit(X_train, y_train)\n",
    "    \n",
    "    #находим значения кросс-валидации\n",
    "    cv_scores = cross_val_score(model, X_train, y_train, cv=kf, scoring=\"neg_root_mean_squared_error\")\n",
    "    means = np.mean(-cv_scores)\n",
    "    print(\"---------\")\n",
    "    print(\"Cross validation scores:\\n\\t\", \"\\n\\t\".join(\"%.4f\" % x for x in cv_scores))\n",
    "    print(\"Mean CV RMSE = %.4f\" % means)\n",
    "    print(\"-----------------------\")\n",
    "    \n",
    "    #оптимизация модели \n",
    "    param_grid = {\n",
    "        'alpha': [0.001],\n",
    "        'learning_rate': ['constant', 'optimal']}\n",
    "    searcher = GridSearchCV(model, param_grid, cv=kf)\n",
    "    searcher.fit(X_train, y_train)\n",
    "    best_= searcher.best_estimator_\n",
    "    \n",
    "    #тестируем модель, используя pipline \n",
    "    simple_pipeline = Pipeline([('regression', best_)])\n",
    "\n",
    "    model = simple_pipeline.fit(X_train, y_train)\n",
    "    y_pred = model.predict(X_test)\n",
    "    eror = mean_squared_error(y_test, y_pred, squared=False)\n",
    "    print(\"---------\")\n",
    "    print(\"Test RMSE = %.4f\" % mean_squared_error(y_test, y_pred, squared=False))\n",
    "    print(\"-----------------------\")\n",
    "    \n",
    "    return (round(eror, 3), round(means, 4), model)"
   ]
  },
  {
   "cell_type": "markdown",
   "metadata": {},
   "source": [
    "Напишем фукнцию, которая отобразит нам финальную таблицу, по которой будем делать выводы:"
   ]
  },
  {
   "cell_type": "code",
   "execution_count": 52,
   "metadata": {},
   "outputs": [],
   "source": [
    "def final_table(rmse_1, mean_1, rmse_2, mean_2):\n",
    "    rmses = []\n",
    "    means = []\n",
    "    rmses.append([rmse_1, rmse_2])\n",
    "    means.append([mean_1, mean_2])\n",
    "    df = {\n",
    "        'rmse' : rmses[0],\n",
    "        'means' : means[0]\n",
    "    }\n",
    "    df = pd.DataFrame(df, index = ['Linear Regression', 'SGD'])\n",
    "    return df"
   ]
  },
  {
   "cell_type": "markdown",
   "metadata": {},
   "source": [
    "### Локация №1"
   ]
  },
  {
   "cell_type": "code",
   "execution_count": 53,
   "metadata": {},
   "outputs": [
    {
     "name": "stdout",
     "output_type": "stream",
     "text": [
      "---------\n",
      "Cross validation scores:\n",
      "\t -37.7661\n",
      "\t-37.3328\n",
      "\t-37.8216\n",
      "\t-37.7407\n",
      "\t-37.8384\n",
      "Mean CV RMSE = 37.6999\n",
      "-----------------------\n",
      "---------\n",
      "Test RMSE = 37.7188\n",
      "-----------------------\n"
     ]
    }
   ],
   "source": [
    "rmse_reg_1, mean_reg_1, model_reg_1 = simple_linear_regression(X_train, y_train, X_test, y_test)"
   ]
  },
  {
   "cell_type": "code",
   "execution_count": 54,
   "metadata": {
    "scrolled": false
   },
   "outputs": [
    {
     "name": "stdout",
     "output_type": "stream",
     "text": [
      "---------\n",
      "Cross validation scores:\n",
      "\t -37.6948\n",
      "\t-37.7745\n",
      "\t-37.4961\n",
      "\t-37.8476\n",
      "\t-37.6993\n",
      "Mean CV RMSE = 37.7025\n",
      "-----------------------\n",
      "---------\n",
      "Test RMSE = 37.7420\n",
      "-----------------------\n"
     ]
    }
   ],
   "source": [
    "rmse_reg_1_sgd, mean_reg_1_sgd, model_reg_1_sgd = simple_sgd(X_train, y_train, X_test, y_test)"
   ]
  },
  {
   "cell_type": "code",
   "execution_count": 55,
   "metadata": {},
   "outputs": [
    {
     "data": {
      "text/html": [
       "<div>\n",
       "<style scoped>\n",
       "    .dataframe tbody tr th:only-of-type {\n",
       "        vertical-align: middle;\n",
       "    }\n",
       "\n",
       "    .dataframe tbody tr th {\n",
       "        vertical-align: top;\n",
       "    }\n",
       "\n",
       "    .dataframe thead th {\n",
       "        text-align: right;\n",
       "    }\n",
       "</style>\n",
       "<table border=\"1\" class=\"dataframe\">\n",
       "  <thead>\n",
       "    <tr style=\"text-align: right;\">\n",
       "      <th></th>\n",
       "      <th>rmse</th>\n",
       "      <th>means</th>\n",
       "    </tr>\n",
       "  </thead>\n",
       "  <tbody>\n",
       "    <tr>\n",
       "      <th>Linear Regression</th>\n",
       "      <td>37.719</td>\n",
       "      <td>37.6999</td>\n",
       "    </tr>\n",
       "    <tr>\n",
       "      <th>SGD</th>\n",
       "      <td>37.742</td>\n",
       "      <td>37.7025</td>\n",
       "    </tr>\n",
       "  </tbody>\n",
       "</table>\n",
       "</div>"
      ],
      "text/plain": [
       "                     rmse    means\n",
       "Linear Regression  37.719  37.6999\n",
       "SGD                37.742  37.7025"
      ]
     },
     "execution_count": 55,
     "metadata": {},
     "output_type": "execute_result"
    }
   ],
   "source": [
    "final_table(rmse_reg_1, mean_reg_1, rmse_reg_1_sgd, mean_reg_1_sgd)"
   ]
  },
  {
   "cell_type": "markdown",
   "metadata": {},
   "source": [
    "В данном случае минимальный rmse именно у линейной регрессии!"
   ]
  },
  {
   "cell_type": "markdown",
   "metadata": {},
   "source": [
    "### Локация №2"
   ]
  },
  {
   "cell_type": "code",
   "execution_count": 56,
   "metadata": {},
   "outputs": [
    {
     "name": "stdout",
     "output_type": "stream",
     "text": [
      "---------\n",
      "Cross validation scores:\n",
      "\t -0.8916\n",
      "\t-0.8936\n",
      "\t-0.8907\n",
      "\t-0.8903\n",
      "\t-0.8917\n",
      "Mean CV RMSE = 0.8916\n",
      "-----------------------\n",
      "---------\n",
      "Test RMSE = 0.8864\n",
      "-----------------------\n"
     ]
    }
   ],
   "source": [
    "rmse_reg_2, mean_reg_2, model_reg_2 = simple_linear_regression(X_train_2, y_train_2, X_test_2, y_test_2)"
   ]
  },
  {
   "cell_type": "code",
   "execution_count": 57,
   "metadata": {},
   "outputs": [
    {
     "name": "stdout",
     "output_type": "stream",
     "text": [
      "---------\n",
      "Cross validation scores:\n",
      "\t -0.8959\n",
      "\t-0.8972\n",
      "\t-0.8952\n",
      "\t-0.8918\n",
      "\t-0.8961\n",
      "Mean CV RMSE = 0.8952\n",
      "-----------------------\n",
      "---------\n",
      "Test RMSE = 1.1707\n",
      "-----------------------\n"
     ]
    }
   ],
   "source": [
    "rmse_reg_2_sgd, mean_reg_2_sgd, model_reg_2_sgd = simple_sgd(X_train_2, y_train_2, X_test_2, y_test_2)"
   ]
  },
  {
   "cell_type": "code",
   "execution_count": 58,
   "metadata": {},
   "outputs": [
    {
     "data": {
      "text/html": [
       "<div>\n",
       "<style scoped>\n",
       "    .dataframe tbody tr th:only-of-type {\n",
       "        vertical-align: middle;\n",
       "    }\n",
       "\n",
       "    .dataframe tbody tr th {\n",
       "        vertical-align: top;\n",
       "    }\n",
       "\n",
       "    .dataframe thead th {\n",
       "        text-align: right;\n",
       "    }\n",
       "</style>\n",
       "<table border=\"1\" class=\"dataframe\">\n",
       "  <thead>\n",
       "    <tr style=\"text-align: right;\">\n",
       "      <th></th>\n",
       "      <th>rmse</th>\n",
       "      <th>means</th>\n",
       "    </tr>\n",
       "  </thead>\n",
       "  <tbody>\n",
       "    <tr>\n",
       "      <th>Linear Regression</th>\n",
       "      <td>0.886</td>\n",
       "      <td>0.8916</td>\n",
       "    </tr>\n",
       "    <tr>\n",
       "      <th>SGD</th>\n",
       "      <td>1.171</td>\n",
       "      <td>0.8952</td>\n",
       "    </tr>\n",
       "  </tbody>\n",
       "</table>\n",
       "</div>"
      ],
      "text/plain": [
       "                    rmse   means\n",
       "Linear Regression  0.886  0.8916\n",
       "SGD                1.171  0.8952"
      ]
     },
     "execution_count": 58,
     "metadata": {},
     "output_type": "execute_result"
    }
   ],
   "source": [
    "final_table(rmse_reg_2, mean_reg_2, rmse_reg_2_sgd, mean_reg_2_sgd)"
   ]
  },
  {
   "cell_type": "markdown",
   "metadata": {},
   "source": [
    "В данном случае минимальный rmse именно у линейной регрессии!"
   ]
  },
  {
   "cell_type": "markdown",
   "metadata": {},
   "source": [
    "### Локация №3"
   ]
  },
  {
   "cell_type": "code",
   "execution_count": 59,
   "metadata": {},
   "outputs": [
    {
     "name": "stdout",
     "output_type": "stream",
     "text": [
      "---------\n",
      "Cross validation scores:\n",
      "\t -40.1056\n",
      "\t-39.7452\n",
      "\t-40.0691\n",
      "\t-40.0724\n",
      "\t-40.0874\n",
      "Mean CV RMSE = 40.0159\n",
      "-----------------------\n",
      "---------\n",
      "Test RMSE = 40.2482\n",
      "-----------------------\n"
     ]
    }
   ],
   "source": [
    "rmse_reg_3, mean_reg_3, model_reg_3 = simple_linear_regression(X_train_3, y_train_3, X_test_3, y_test_3)"
   ]
  },
  {
   "cell_type": "code",
   "execution_count": 60,
   "metadata": {},
   "outputs": [
    {
     "name": "stdout",
     "output_type": "stream",
     "text": [
      "---------\n",
      "Cross validation scores:\n",
      "\t -40.2224\n",
      "\t-40.1985\n",
      "\t-40.0164\n",
      "\t-39.7325\n",
      "\t-39.9194\n",
      "Mean CV RMSE = 40.0178\n",
      "-----------------------\n",
      "---------\n",
      "Test RMSE = 40.2706\n",
      "-----------------------\n"
     ]
    }
   ],
   "source": [
    "rmse_reg_3_sgd, mean_reg_3_sgd, model_reg_3_sgd = simple_sgd(X_train_3, y_train_3, X_test_3, y_test_3)"
   ]
  },
  {
   "cell_type": "code",
   "execution_count": 61,
   "metadata": {},
   "outputs": [
    {
     "data": {
      "text/html": [
       "<div>\n",
       "<style scoped>\n",
       "    .dataframe tbody tr th:only-of-type {\n",
       "        vertical-align: middle;\n",
       "    }\n",
       "\n",
       "    .dataframe tbody tr th {\n",
       "        vertical-align: top;\n",
       "    }\n",
       "\n",
       "    .dataframe thead th {\n",
       "        text-align: right;\n",
       "    }\n",
       "</style>\n",
       "<table border=\"1\" class=\"dataframe\">\n",
       "  <thead>\n",
       "    <tr style=\"text-align: right;\">\n",
       "      <th></th>\n",
       "      <th>rmse</th>\n",
       "      <th>means</th>\n",
       "    </tr>\n",
       "  </thead>\n",
       "  <tbody>\n",
       "    <tr>\n",
       "      <th>Linear Regression</th>\n",
       "      <td>40.248</td>\n",
       "      <td>40.0159</td>\n",
       "    </tr>\n",
       "    <tr>\n",
       "      <th>SGD</th>\n",
       "      <td>40.271</td>\n",
       "      <td>40.0178</td>\n",
       "    </tr>\n",
       "  </tbody>\n",
       "</table>\n",
       "</div>"
      ],
      "text/plain": [
       "                     rmse    means\n",
       "Linear Regression  40.248  40.0159\n",
       "SGD                40.271  40.0178"
      ]
     },
     "execution_count": 61,
     "metadata": {},
     "output_type": "execute_result"
    }
   ],
   "source": [
    "final_table(rmse_reg_3, mean_reg_3, rmse_reg_3_sgd, mean_reg_3_sgd)"
   ]
  },
  {
   "cell_type": "markdown",
   "metadata": {},
   "source": [
    "В данном случае минимальный rmse именно у линейной регрессии!"
   ]
  },
  {
   "cell_type": "markdown",
   "metadata": {},
   "source": [
    "## Подготовка к расчёту прибыли"
   ]
  },
  {
   "cell_type": "markdown",
   "metadata": {},
   "source": [
    "**Известно:**\n",
    "\n",
    "* При разведке региона исследуют 500 точек, из которых с помощью машинного обучения выбирают 200 лучших для разработки.\n",
    "\n",
    "* Бюджет на разработку скважин в регионе — 10 млрд рублей.\n",
    "\n",
    "* При нынешних ценах один баррель сырья приносит 450 рублей дохода. Доход с каждой единицы продукта составляет 450 тыс. рублей, поскольку объём указан в тысячах баррелей.\n",
    "\n",
    "* После оценки рисков нужно оставить лишь те регионы, в которых вероятность убытков меньше 2.5%. Среди них выбирают регион с наибольшей средней прибылью."
   ]
  },
  {
   "cell_type": "code",
   "execution_count": 62,
   "metadata": {},
   "outputs": [],
   "source": [
    "budget = 10**10\n",
    "income_per_barrel = 450 * 10**3 \n",
    "count_200 = 200 \n",
    "count_500 = 500"
   ]
  },
  {
   "cell_type": "code",
   "execution_count": 63,
   "metadata": {},
   "outputs": [],
   "source": [
    "loss_threshold = budget/(income_per_barrel*count_200)"
   ]
  },
  {
   "cell_type": "code",
   "execution_count": 72,
   "metadata": {},
   "outputs": [
    {
     "name": "stdout",
     "output_type": "stream",
     "text": [
      "Минимальная средняя продуктивность скважины (в тыс. баррелей) для достижения порога окупаемости: 112.0\n"
     ]
    }
   ],
   "source": [
    "print('Минимальная средняя продуктивность скважины (в тыс. баррелей) для достижения порога окупаемости:', np.ceil(loss_threshold))"
   ]
  },
  {
   "cell_type": "markdown",
   "metadata": {},
   "source": [
    "## Расчёт прибыли и рисков "
   ]
  },
  {
   "cell_type": "code",
   "execution_count": 65,
   "metadata": {},
   "outputs": [],
   "source": [
    "def predicts(model, X_test):\n",
    "    predictions = pd.Series(model.predict(X_test))\n",
    "    return predictions"
   ]
  },
  {
   "cell_type": "code",
   "execution_count": 99,
   "metadata": {},
   "outputs": [],
   "source": [
    "state = np.random.RandomState(12345)\n",
    "def region_profit(target, predictions):\n",
    "    values = [] \n",
    "    wells = []\n",
    "    for i in range(1000):\n",
    "        target_subsample = target.reset_index(drop=True).sample(500, replace=False, random_state=state)\n",
    "        probs_subsample = predictions[target_subsample.index]\n",
    "        best_pred = pd.Series(probs_subsample).sort_values(ascending=False)[:200]\n",
    "        best_target = target_subsample[best_pred.index]\n",
    "        revenues = income_per_barrel * best_target.sum() - budget\n",
    "        for_well = best_target.sum() / count_200\n",
    "        values.append(revenues)\n",
    "        wells.append(for_well)\n",
    " \n",
    "    values = pd.Series(values)\n",
    "    mean = values.mean()\n",
    "    mean_well_product = for_well.mean()\n",
    "    lower = values.quantile(.025)\n",
    "    upper = values.quantile(.975)\n",
    "    loss_probability = (values<0).mean()\n",
    "    return ((round(lower, 3), round(upper, 3)), round(mean), loss_probability, round(mean_well_product))"
   ]
  },
  {
   "cell_type": "code",
   "execution_count": 97,
   "metadata": {},
   "outputs": [],
   "source": [
    "predictions = predicts(model_reg_1, X_test)\n",
    "predictions_2 = predicts(model_reg_2, X_test_2)\n",
    "predictions_3 = predicts(model_reg_3, X_test_3)"
   ]
  },
  {
   "cell_type": "code",
   "execution_count": 100,
   "metadata": {},
   "outputs": [
    {
     "name": "stdout",
     "output_type": "stream",
     "text": [
      "Region 1:\n",
      "\n",
      "-----------------------------------------\n",
      "Mean: 426988155\n",
      "Mean product for one well: 118\n",
      "If loss threshold was passed: True\n",
      "95% confidence interval: (-56362564.111, 909045501.862)\n",
      "Risk of loss: 0.046\n",
      "-----------------------------------------\n",
      "\n",
      "\n",
      "Region 2:\n",
      "\n",
      "-----------------------------------------\n",
      "Mean: 469201179\n",
      "Mean product for one well: 115\n",
      "If loss threshold was passed: True\n",
      "95% confidence interval: (66643361.352, 856581242.353)\n",
      "Risk of loss: 0.01\n",
      "-----------------------------------------\n",
      "\n",
      "\n",
      "Region 3:\n",
      "\n",
      "-----------------------------------------\n",
      "Mean: 339696239\n",
      "Mean product for one well: 117\n",
      "If loss threshold was passed: True\n",
      "95% confidence interval: (-181934590.273, 856486354.433)\n",
      "Risk of loss: 0.111\n",
      "-----------------------------------------\n",
      "\n",
      "\n"
     ]
    }
   ],
   "source": [
    "i = 1\n",
    "for target, prediction in zip([y_test, y_test_2, y_test_3],\n",
    "                              [predictions, predictions_2, predictions_3]):\n",
    "    interval, mean_revenue, risk, mean_well = region_profit(target, prediction)\n",
    "    print(f\"Region {i}:\")\n",
    "    print(\"\\n-----------------------------------------\")\n",
    "    print(f\"Mean: {mean_revenue}\")\n",
    "    print(f\"Mean product for one well: {mean_well}\")\n",
    "    print(f\"If loss threshold was passed: {mean_well >= loss_threshold}\")\n",
    "    print(f\"95% confidence interval: {interval}\")\n",
    "    print(f\"Risk of loss: {risk}\")\n",
    "    print(\"-----------------------------------------\\n\\n\")\n",
    "    i+=1"
   ]
  },
  {
   "cell_type": "markdown",
   "metadata": {},
   "source": [
    "## Вывод"
   ]
  },
  {
   "cell_type": "markdown",
   "metadata": {},
   "source": [
    "**Обзор данных**\n",
    "\n",
    "- Данные о скважинах получили из трех файлов по локациям `/datasets/geo_1.csv`, `/datasets/geo_2.csv`, `/datasets/geo_3.csv`.\n",
    "- Предварительно качество данных было относительно хорошим: была лишь малая доля дубликатов.\n",
    "- Сами данные представляли из себя сводку информации о скважинах (признаки, объем нефти, id).\n",
    "\n",
    "**Предобработка**\n",
    "\n",
    "- Проверили данные на дубликаты - нашли одинаковые id по локациям, которые впоследствии удалили.\n",
    "- Сделали стандартизацию данных через масштабирование min-max. \n",
    "- Разделели выборки по локациям\n",
    "\n",
    "**Исследование моделей**\n",
    " \n",
    "Регион 1:\n",
    "\n",
    "Лучшая модель - линейная регрессия с ошибкой в 37.7\n",
    "\n",
    "Регион 2:\n",
    "\n",
    "Лучшая модель - линейная регрессия с ошибкой в 0.88\n",
    "\n",
    "Регион 3:\n",
    "\n",
    "Лучшая модель - линейная регрессия с ошибкой в 40.24\n",
    "\n",
    "**Выбор региона для разработки месторождения**\n",
    "\n",
    "Лучшим регионом для дальнейшей работы с месторождениями лучше всего выбрать **локацию №2**, потому что средняя прибыль здесь наибольшая, риск убытков наименьший, а минимальный порог окупаемости достигнут."
   ]
  }
 ],
 "metadata": {
  "ExecuteTimeLog": [
   {
    "duration": 354,
    "start_time": "2022-09-06T12:39:49.245Z"
   },
   {
    "duration": 759,
    "start_time": "2022-09-06T12:39:51.050Z"
   },
   {
    "duration": 15,
    "start_time": "2022-09-06T12:40:14.763Z"
   },
   {
    "duration": 18,
    "start_time": "2022-09-06T12:40:36.034Z"
   },
   {
    "duration": 20,
    "start_time": "2022-09-06T12:40:50.608Z"
   },
   {
    "duration": 16,
    "start_time": "2022-09-06T12:41:03.990Z"
   },
   {
    "duration": 1237,
    "start_time": "2022-09-06T12:41:47.819Z"
   },
   {
    "duration": 7195,
    "start_time": "2022-09-06T12:42:06.183Z"
   },
   {
    "duration": 33,
    "start_time": "2022-09-06T12:42:13.380Z"
   },
   {
    "duration": 2355,
    "start_time": "2022-09-06T12:42:20.055Z"
   },
   {
    "duration": 1209,
    "start_time": "2022-09-06T12:42:22.412Z"
   },
   {
    "duration": 401,
    "start_time": "2022-09-06T12:42:27.087Z"
   },
   {
    "duration": 20,
    "start_time": "2022-09-06T12:42:27.490Z"
   },
   {
    "duration": 15,
    "start_time": "2022-09-06T12:42:27.915Z"
   },
   {
    "duration": 13,
    "start_time": "2022-09-06T12:42:28.488Z"
   },
   {
    "duration": 14,
    "start_time": "2022-09-06T12:42:29.978Z"
   },
   {
    "duration": 3,
    "start_time": "2022-09-06T12:45:59.836Z"
   },
   {
    "duration": 10,
    "start_time": "2022-09-06T12:52:13.115Z"
   },
   {
    "duration": 9,
    "start_time": "2022-09-06T12:52:16.490Z"
   },
   {
    "duration": 11,
    "start_time": "2022-09-06T14:01:37.925Z"
   },
   {
    "duration": 10,
    "start_time": "2022-09-06T14:07:39.014Z"
   },
   {
    "duration": 48,
    "start_time": "2022-09-06T14:08:39.177Z"
   },
   {
    "duration": 471,
    "start_time": "2022-09-06T14:12:40.732Z"
   },
   {
    "duration": 14,
    "start_time": "2022-09-06T14:16:49.358Z"
   },
   {
    "duration": 60,
    "start_time": "2022-09-06T14:17:02.273Z"
   },
   {
    "duration": 59,
    "start_time": "2022-09-06T14:22:22.560Z"
   },
   {
    "duration": 48,
    "start_time": "2022-09-06T14:23:23.178Z"
   },
   {
    "duration": 46,
    "start_time": "2022-09-06T14:23:31.125Z"
   },
   {
    "duration": 5,
    "start_time": "2022-09-06T14:23:41.630Z"
   },
   {
    "duration": 13,
    "start_time": "2022-09-06T14:23:45.307Z"
   },
   {
    "duration": 7,
    "start_time": "2022-09-06T14:23:49.317Z"
   },
   {
    "duration": 1138,
    "start_time": "2022-09-06T14:23:58.141Z"
   },
   {
    "duration": 9,
    "start_time": "2022-09-06T14:24:16.508Z"
   },
   {
    "duration": 61,
    "start_time": "2022-09-06T14:25:01.482Z"
   },
   {
    "duration": 6,
    "start_time": "2022-09-06T14:25:06.540Z"
   },
   {
    "duration": 4,
    "start_time": "2022-09-06T14:25:14.407Z"
   },
   {
    "duration": 37,
    "start_time": "2022-09-06T14:26:44.347Z"
   },
   {
    "duration": 34,
    "start_time": "2022-09-06T14:29:29.287Z"
   },
   {
    "duration": 39,
    "start_time": "2022-09-06T14:29:37.009Z"
   },
   {
    "duration": 34,
    "start_time": "2022-09-06T14:29:42.487Z"
   },
   {
    "duration": 2743,
    "start_time": "2022-09-06T14:30:03.985Z"
   },
   {
    "duration": 1598,
    "start_time": "2022-09-06T14:30:06.731Z"
   },
   {
    "duration": 373,
    "start_time": "2022-09-06T14:30:08.331Z"
   },
   {
    "duration": 14,
    "start_time": "2022-09-06T14:30:08.706Z"
   },
   {
    "duration": 15,
    "start_time": "2022-09-06T14:30:08.723Z"
   },
   {
    "duration": 13,
    "start_time": "2022-09-06T14:30:08.739Z"
   },
   {
    "duration": 13,
    "start_time": "2022-09-06T14:30:08.754Z"
   },
   {
    "duration": 44,
    "start_time": "2022-09-06T14:30:08.769Z"
   },
   {
    "duration": 41,
    "start_time": "2022-09-06T14:30:08.815Z"
   },
   {
    "duration": 82,
    "start_time": "2022-09-06T14:30:08.858Z"
   },
   {
    "duration": 40,
    "start_time": "2022-09-06T14:30:08.941Z"
   },
   {
    "duration": 35,
    "start_time": "2022-09-06T14:30:12.277Z"
   },
   {
    "duration": 378,
    "start_time": "2022-09-06T14:30:40.306Z"
   },
   {
    "duration": 623,
    "start_time": "2022-09-06T14:30:57.937Z"
   },
   {
    "duration": 314,
    "start_time": "2022-09-06T14:41:24.646Z"
   },
   {
    "duration": 148,
    "start_time": "2022-09-06T14:41:50.937Z"
   },
   {
    "duration": 1123,
    "start_time": "2022-09-06T14:44:31.801Z"
   },
   {
    "duration": 573,
    "start_time": "2022-09-06T14:44:36.353Z"
   },
   {
    "duration": 391,
    "start_time": "2022-09-06T14:51:46.148Z"
   },
   {
    "duration": 5,
    "start_time": "2022-09-06T14:54:43.928Z"
   },
   {
    "duration": 9,
    "start_time": "2022-09-06T14:54:58.547Z"
   },
   {
    "duration": 379,
    "start_time": "2022-09-06T14:55:02.821Z"
   },
   {
    "duration": 5,
    "start_time": "2022-09-06T14:55:14.921Z"
   },
   {
    "duration": 487,
    "start_time": "2022-09-06T14:55:15.851Z"
   },
   {
    "duration": 5,
    "start_time": "2022-09-06T14:55:35.628Z"
   },
   {
    "duration": 450,
    "start_time": "2022-09-06T14:55:36.294Z"
   },
   {
    "duration": 4,
    "start_time": "2022-09-06T14:56:00.883Z"
   },
   {
    "duration": 881,
    "start_time": "2022-09-06T14:56:06.201Z"
   },
   {
    "duration": 5,
    "start_time": "2022-09-06T14:56:11.556Z"
   },
   {
    "duration": 452,
    "start_time": "2022-09-06T14:56:12.036Z"
   },
   {
    "duration": 589,
    "start_time": "2022-09-06T14:56:34.542Z"
   },
   {
    "duration": 48,
    "start_time": "2022-09-06T14:56:56.029Z"
   },
   {
    "duration": 458,
    "start_time": "2022-09-06T14:56:59.786Z"
   },
   {
    "duration": 561,
    "start_time": "2022-09-06T14:57:08.920Z"
   },
   {
    "duration": 445,
    "start_time": "2022-09-06T14:57:17.512Z"
   },
   {
    "duration": 1156,
    "start_time": "2022-09-06T14:57:22.524Z"
   },
   {
    "duration": 504,
    "start_time": "2022-09-06T14:57:27.406Z"
   },
   {
    "duration": 401,
    "start_time": "2022-09-06T14:57:36.423Z"
   },
   {
    "duration": 133,
    "start_time": "2022-09-06T14:57:40.909Z"
   },
   {
    "duration": 577,
    "start_time": "2022-09-06T14:57:48.686Z"
   },
   {
    "duration": 6,
    "start_time": "2022-09-06T14:58:29.507Z"
   },
   {
    "duration": 402,
    "start_time": "2022-09-06T14:58:30.687Z"
   },
   {
    "duration": 5,
    "start_time": "2022-09-06T15:01:19.505Z"
   },
   {
    "duration": 393,
    "start_time": "2022-09-06T15:01:20.220Z"
   },
   {
    "duration": 6,
    "start_time": "2022-09-06T15:08:26.987Z"
   },
   {
    "duration": 59,
    "start_time": "2022-09-06T15:08:27.610Z"
   },
   {
    "duration": 6,
    "start_time": "2022-09-06T15:09:08.610Z"
   },
   {
    "duration": 53,
    "start_time": "2022-09-06T15:09:09.187Z"
   },
   {
    "duration": 8,
    "start_time": "2022-09-06T15:09:27.375Z"
   },
   {
    "duration": 56,
    "start_time": "2022-09-06T15:09:27.870Z"
   },
   {
    "duration": 5,
    "start_time": "2022-09-06T15:12:28.169Z"
   },
   {
    "duration": 576,
    "start_time": "2022-09-06T15:12:28.690Z"
   },
   {
    "duration": 5,
    "start_time": "2022-09-06T15:13:01.124Z"
   },
   {
    "duration": 908,
    "start_time": "2022-09-06T15:13:02.157Z"
   },
   {
    "duration": 9,
    "start_time": "2022-09-06T15:13:14.955Z"
   },
   {
    "duration": 987,
    "start_time": "2022-09-06T15:13:15.495Z"
   },
   {
    "duration": 5,
    "start_time": "2022-09-06T15:13:45.619Z"
   },
   {
    "duration": 783,
    "start_time": "2022-09-06T15:13:46.115Z"
   },
   {
    "duration": 5,
    "start_time": "2022-09-06T15:14:16.922Z"
   },
   {
    "duration": 1276,
    "start_time": "2022-09-06T15:14:17.606Z"
   },
   {
    "duration": 6,
    "start_time": "2022-09-06T15:16:34.236Z"
   },
   {
    "duration": 5359,
    "start_time": "2022-09-06T15:16:34.817Z"
   },
   {
    "duration": 5,
    "start_time": "2022-09-06T15:20:11.316Z"
   },
   {
    "duration": 388,
    "start_time": "2022-09-06T15:20:11.885Z"
   },
   {
    "duration": 6,
    "start_time": "2022-09-06T15:20:23.724Z"
   },
   {
    "duration": 437,
    "start_time": "2022-09-06T15:20:24.884Z"
   },
   {
    "duration": 5,
    "start_time": "2022-09-06T15:21:37.880Z"
   },
   {
    "duration": 354,
    "start_time": "2022-09-06T15:21:38.310Z"
   },
   {
    "duration": 6,
    "start_time": "2022-09-06T15:21:44.192Z"
   },
   {
    "duration": 407,
    "start_time": "2022-09-06T15:21:44.633Z"
   },
   {
    "duration": 48,
    "start_time": "2022-09-06T18:11:53.499Z"
   },
   {
    "duration": 6475,
    "start_time": "2022-09-06T18:11:59.280Z"
   },
   {
    "duration": 1364,
    "start_time": "2022-09-06T18:12:05.757Z"
   },
   {
    "duration": 778,
    "start_time": "2022-09-06T18:12:07.122Z"
   },
   {
    "duration": 13,
    "start_time": "2022-09-06T18:12:07.902Z"
   },
   {
    "duration": 14,
    "start_time": "2022-09-06T18:12:07.917Z"
   },
   {
    "duration": 12,
    "start_time": "2022-09-06T18:12:07.933Z"
   },
   {
    "duration": 12,
    "start_time": "2022-09-06T18:12:07.947Z"
   },
   {
    "duration": 17,
    "start_time": "2022-09-06T18:12:07.961Z"
   },
   {
    "duration": 75,
    "start_time": "2022-09-06T18:12:07.980Z"
   },
   {
    "duration": 84,
    "start_time": "2022-09-06T18:12:08.057Z"
   },
   {
    "duration": 41,
    "start_time": "2022-09-06T18:12:08.144Z"
   },
   {
    "duration": 663,
    "start_time": "2022-09-06T18:12:08.187Z"
   },
   {
    "duration": 5,
    "start_time": "2022-09-06T18:12:08.852Z"
   },
   {
    "duration": 11,
    "start_time": "2022-09-06T18:12:08.859Z"
   },
   {
    "duration": 117,
    "start_time": "2022-09-06T18:12:10.171Z"
   },
   {
    "duration": 4,
    "start_time": "2022-09-06T18:12:20.657Z"
   },
   {
    "duration": 4,
    "start_time": "2022-09-06T18:12:30.821Z"
   },
   {
    "duration": 5,
    "start_time": "2022-09-06T18:12:33.955Z"
   },
   {
    "duration": 3,
    "start_time": "2022-09-06T18:12:37.587Z"
   },
   {
    "duration": 20,
    "start_time": "2022-09-06T18:23:16.579Z"
   },
   {
    "duration": 13,
    "start_time": "2022-09-06T18:23:23.745Z"
   },
   {
    "duration": 48,
    "start_time": "2022-09-06T18:23:31.424Z"
   },
   {
    "duration": 628,
    "start_time": "2022-09-06T18:23:45.456Z"
   },
   {
    "duration": 6,
    "start_time": "2022-09-06T18:23:47.682Z"
   },
   {
    "duration": 416,
    "start_time": "2022-09-06T18:24:13.901Z"
   },
   {
    "duration": 6,
    "start_time": "2022-09-06T18:24:31.506Z"
   },
   {
    "duration": 357,
    "start_time": "2022-09-06T18:24:32.931Z"
   },
   {
    "duration": 644,
    "start_time": "2022-09-06T18:24:55.993Z"
   },
   {
    "duration": 51,
    "start_time": "2022-09-06T18:25:00.865Z"
   },
   {
    "duration": 622,
    "start_time": "2022-09-06T18:25:40.262Z"
   },
   {
    "duration": 99,
    "start_time": "2022-09-06T18:25:55.004Z"
   },
   {
    "duration": 6,
    "start_time": "2022-09-06T18:25:59.844Z"
   },
   {
    "duration": 358,
    "start_time": "2022-09-06T18:26:02.029Z"
   },
   {
    "duration": 673,
    "start_time": "2022-09-06T18:26:02.876Z"
   },
   {
    "duration": 43,
    "start_time": "2022-09-06T18:26:09.608Z"
   },
   {
    "duration": 5,
    "start_time": "2022-09-06T18:26:50.337Z"
   },
   {
    "duration": 352,
    "start_time": "2022-09-06T18:26:52.344Z"
   },
   {
    "duration": 652,
    "start_time": "2022-09-06T18:26:58.057Z"
   },
   {
    "duration": 48,
    "start_time": "2022-09-06T18:27:06.744Z"
   },
   {
    "duration": 260,
    "start_time": "2022-09-06T18:28:03.020Z"
   },
   {
    "duration": 60,
    "start_time": "2022-09-06T18:28:10.789Z"
   },
   {
    "duration": 75,
    "start_time": "2022-09-06T18:28:36.232Z"
   },
   {
    "duration": 5,
    "start_time": "2022-09-06T18:28:40.212Z"
   },
   {
    "duration": 358,
    "start_time": "2022-09-06T18:28:42.580Z"
   },
   {
    "duration": 59,
    "start_time": "2022-09-06T18:28:44.122Z"
   },
   {
    "duration": 367,
    "start_time": "2022-09-06T18:29:28.682Z"
   },
   {
    "duration": 373,
    "start_time": "2022-09-06T18:29:34.797Z"
   },
   {
    "duration": 4,
    "start_time": "2022-09-06T19:26:50.426Z"
   },
   {
    "duration": 5,
    "start_time": "2022-09-06T19:26:53.377Z"
   },
   {
    "duration": 55,
    "start_time": "2022-09-06T19:27:04.470Z"
   },
   {
    "duration": 7,
    "start_time": "2022-09-06T19:27:10.431Z"
   },
   {
    "duration": 1245,
    "start_time": "2022-09-06T19:27:37.750Z"
   },
   {
    "duration": 4,
    "start_time": "2022-09-06T19:27:48.231Z"
   },
   {
    "duration": 12,
    "start_time": "2022-09-06T19:27:49.224Z"
   },
   {
    "duration": 6,
    "start_time": "2022-09-06T19:28:02.280Z"
   },
   {
    "duration": 117,
    "start_time": "2022-09-06T19:28:03.754Z"
   },
   {
    "duration": 5,
    "start_time": "2022-09-06T19:28:14.365Z"
   },
   {
    "duration": 13,
    "start_time": "2022-09-06T19:28:16.155Z"
   },
   {
    "duration": 3,
    "start_time": "2022-09-06T19:29:08.076Z"
   },
   {
    "duration": 5,
    "start_time": "2022-09-06T19:29:09.733Z"
   },
   {
    "duration": 7,
    "start_time": "2022-09-06T19:29:10.582Z"
   },
   {
    "duration": 9,
    "start_time": "2022-09-06T19:32:07.649Z"
   },
   {
    "duration": 7,
    "start_time": "2022-09-06T19:32:09.634Z"
   },
   {
    "duration": 5,
    "start_time": "2022-09-06T19:32:46.442Z"
   },
   {
    "duration": 7,
    "start_time": "2022-09-06T19:32:52.879Z"
   },
   {
    "duration": 957,
    "start_time": "2022-09-06T19:32:56.877Z"
   },
   {
    "duration": 9,
    "start_time": "2022-09-06T19:33:15.990Z"
   },
   {
    "duration": 5,
    "start_time": "2022-09-06T19:33:16.621Z"
   },
   {
    "duration": 7,
    "start_time": "2022-09-06T19:33:17.432Z"
   },
   {
    "duration": 13,
    "start_time": "2022-09-06T19:33:18.145Z"
   },
   {
    "duration": 7,
    "start_time": "2022-09-06T19:33:19.558Z"
   },
   {
    "duration": 7,
    "start_time": "2022-09-06T19:33:35.334Z"
   },
   {
    "duration": 6,
    "start_time": "2022-09-06T19:33:39.938Z"
   },
   {
    "duration": 9,
    "start_time": "2022-09-06T19:34:08.042Z"
   },
   {
    "duration": 7,
    "start_time": "2022-09-06T19:34:08.657Z"
   },
   {
    "duration": 7,
    "start_time": "2022-09-06T19:34:09.573Z"
   },
   {
    "duration": 12,
    "start_time": "2022-09-06T19:34:10.232Z"
   },
   {
    "duration": 7,
    "start_time": "2022-09-06T19:34:10.920Z"
   },
   {
    "duration": 6,
    "start_time": "2022-09-06T19:35:42.330Z"
   },
   {
    "duration": 15,
    "start_time": "2022-09-06T19:35:43.129Z"
   },
   {
    "duration": 7,
    "start_time": "2022-09-06T19:35:47.467Z"
   },
   {
    "duration": 12,
    "start_time": "2022-09-06T19:35:59.932Z"
   },
   {
    "duration": 7,
    "start_time": "2022-09-06T19:36:00.874Z"
   },
   {
    "duration": 7,
    "start_time": "2022-09-06T19:36:16.357Z"
   },
   {
    "duration": 7,
    "start_time": "2022-09-06T19:36:19.144Z"
   },
   {
    "duration": 6,
    "start_time": "2022-09-06T19:36:24.772Z"
   },
   {
    "duration": 6,
    "start_time": "2022-09-06T19:36:26.173Z"
   },
   {
    "duration": 10,
    "start_time": "2022-09-06T19:36:27.125Z"
   },
   {
    "duration": 7,
    "start_time": "2022-09-06T19:36:27.791Z"
   },
   {
    "duration": 4,
    "start_time": "2022-09-06T19:40:58.054Z"
   },
   {
    "duration": 5,
    "start_time": "2022-09-06T19:41:31.889Z"
   },
   {
    "duration": 13,
    "start_time": "2022-09-06T19:41:36.386Z"
   },
   {
    "duration": 5,
    "start_time": "2022-09-06T19:41:56.231Z"
   },
   {
    "duration": 16,
    "start_time": "2022-09-06T19:41:56.770Z"
   },
   {
    "duration": 5,
    "start_time": "2022-09-06T19:42:31.778Z"
   },
   {
    "duration": 15,
    "start_time": "2022-09-06T19:42:32.297Z"
   },
   {
    "duration": 5,
    "start_time": "2022-09-06T19:43:10.233Z"
   },
   {
    "duration": 4,
    "start_time": "2022-09-06T19:43:17.035Z"
   },
   {
    "duration": 15,
    "start_time": "2022-09-06T19:43:18.783Z"
   },
   {
    "duration": 10,
    "start_time": "2022-09-06T19:43:42.171Z"
   },
   {
    "duration": 2209,
    "start_time": "2022-09-06T20:19:34.323Z"
   },
   {
    "duration": 1240,
    "start_time": "2022-09-06T20:19:36.534Z"
   },
   {
    "duration": 343,
    "start_time": "2022-09-06T20:19:37.775Z"
   },
   {
    "duration": 13,
    "start_time": "2022-09-06T20:19:38.120Z"
   },
   {
    "duration": 14,
    "start_time": "2022-09-06T20:19:38.135Z"
   },
   {
    "duration": 13,
    "start_time": "2022-09-06T20:19:38.150Z"
   },
   {
    "duration": 23,
    "start_time": "2022-09-06T20:19:38.165Z"
   },
   {
    "duration": 25,
    "start_time": "2022-09-06T20:19:38.189Z"
   },
   {
    "duration": 48,
    "start_time": "2022-09-06T20:19:38.215Z"
   },
   {
    "duration": 65,
    "start_time": "2022-09-06T20:19:38.264Z"
   },
   {
    "duration": 36,
    "start_time": "2022-09-06T20:19:38.331Z"
   },
   {
    "duration": 585,
    "start_time": "2022-09-06T20:19:38.488Z"
   },
   {
    "duration": 149,
    "start_time": "2022-09-06T20:20:13.699Z"
   },
   {
    "duration": 403,
    "start_time": "2022-09-06T20:20:26.808Z"
   },
   {
    "duration": 54,
    "start_time": "2022-09-06T20:25:48.025Z"
   },
   {
    "duration": 104,
    "start_time": "2022-09-06T20:25:52.531Z"
   },
   {
    "duration": 461,
    "start_time": "2022-09-06T20:26:34.578Z"
   },
   {
    "duration": 442,
    "start_time": "2022-09-06T20:26:50.884Z"
   },
   {
    "duration": 388,
    "start_time": "2022-09-06T20:27:07.991Z"
   },
   {
    "duration": 907,
    "start_time": "2022-09-06T20:27:12.671Z"
   },
   {
    "duration": 370,
    "start_time": "2022-09-06T20:27:19.205Z"
   },
   {
    "duration": 352,
    "start_time": "2022-09-06T20:27:23.213Z"
   },
   {
    "duration": 920,
    "start_time": "2022-09-06T20:30:08.103Z"
   },
   {
    "duration": 480,
    "start_time": "2022-09-06T20:30:23.542Z"
   },
   {
    "duration": 97,
    "start_time": "2022-09-06T20:30:49.814Z"
   },
   {
    "duration": 442,
    "start_time": "2022-09-06T20:31:00.347Z"
   },
   {
    "duration": 201,
    "start_time": "2022-09-06T20:35:21.917Z"
   },
   {
    "duration": 215,
    "start_time": "2022-09-06T20:36:02.595Z"
   },
   {
    "duration": 202,
    "start_time": "2022-09-06T20:36:26.947Z"
   },
   {
    "duration": 864,
    "start_time": "2022-09-06T20:37:20.134Z"
   },
   {
    "duration": 227,
    "start_time": "2022-09-06T20:39:02.688Z"
   },
   {
    "duration": 246,
    "start_time": "2022-09-06T20:39:07.881Z"
   },
   {
    "duration": 213,
    "start_time": "2022-09-06T20:40:22.481Z"
   },
   {
    "duration": 921,
    "start_time": "2022-09-06T20:40:49.576Z"
   },
   {
    "duration": 977,
    "start_time": "2022-09-06T20:42:15.629Z"
   },
   {
    "duration": 1056,
    "start_time": "2022-09-06T20:42:27.181Z"
   },
   {
    "duration": 911,
    "start_time": "2022-09-06T20:42:55.647Z"
   },
   {
    "duration": 848,
    "start_time": "2022-09-06T20:43:14.069Z"
   },
   {
    "duration": 965,
    "start_time": "2022-09-06T20:44:14.909Z"
   },
   {
    "duration": 224,
    "start_time": "2022-09-06T20:45:30.708Z"
   },
   {
    "duration": 212,
    "start_time": "2022-09-06T20:50:51.247Z"
   },
   {
    "duration": 224,
    "start_time": "2022-09-06T20:51:03.554Z"
   },
   {
    "duration": 940,
    "start_time": "2022-09-06T20:51:10.050Z"
   },
   {
    "duration": 876,
    "start_time": "2022-09-06T20:53:44.839Z"
   },
   {
    "duration": 883,
    "start_time": "2022-09-06T20:53:50.273Z"
   },
   {
    "duration": 909,
    "start_time": "2022-09-06T20:54:10.609Z"
   },
   {
    "duration": 817,
    "start_time": "2022-09-06T21:01:22.279Z"
   },
   {
    "duration": 2253,
    "start_time": "2022-09-06T21:01:42.559Z"
   },
   {
    "duration": 1236,
    "start_time": "2022-09-06T21:01:44.814Z"
   },
   {
    "duration": 892,
    "start_time": "2022-09-06T21:01:46.052Z"
   },
   {
    "duration": 13,
    "start_time": "2022-09-06T21:01:46.946Z"
   },
   {
    "duration": 15,
    "start_time": "2022-09-06T21:01:46.962Z"
   },
   {
    "duration": 30,
    "start_time": "2022-09-06T21:01:46.979Z"
   },
   {
    "duration": 14,
    "start_time": "2022-09-06T21:01:47.011Z"
   },
   {
    "duration": 13,
    "start_time": "2022-09-06T21:01:47.027Z"
   },
   {
    "duration": 50,
    "start_time": "2022-09-06T21:01:47.041Z"
   },
   {
    "duration": 79,
    "start_time": "2022-09-06T21:01:47.109Z"
   },
   {
    "duration": 62,
    "start_time": "2022-09-06T21:01:47.189Z"
   },
   {
    "duration": 623,
    "start_time": "2022-09-06T21:01:47.253Z"
   },
   {
    "duration": 118,
    "start_time": "2022-09-06T21:02:00.404Z"
   },
   {
    "duration": 817,
    "start_time": "2022-09-06T21:02:26.604Z"
   },
   {
    "duration": 774,
    "start_time": "2022-09-06T21:03:12.486Z"
   },
   {
    "duration": 782,
    "start_time": "2022-09-06T21:08:09.728Z"
   },
   {
    "duration": 6990,
    "start_time": "2022-09-07T09:29:12.070Z"
   },
   {
    "duration": 1343,
    "start_time": "2022-09-07T09:29:19.062Z"
   },
   {
    "duration": 873,
    "start_time": "2022-09-07T09:29:20.408Z"
   },
   {
    "duration": 14,
    "start_time": "2022-09-07T09:29:21.283Z"
   },
   {
    "duration": 15,
    "start_time": "2022-09-07T09:29:21.300Z"
   },
   {
    "duration": 14,
    "start_time": "2022-09-07T09:29:21.317Z"
   },
   {
    "duration": 13,
    "start_time": "2022-09-07T09:29:21.333Z"
   },
   {
    "duration": 12,
    "start_time": "2022-09-07T09:29:21.348Z"
   },
   {
    "duration": 72,
    "start_time": "2022-09-07T09:29:21.361Z"
   },
   {
    "duration": 63,
    "start_time": "2022-09-07T09:29:21.435Z"
   },
   {
    "duration": 32,
    "start_time": "2022-09-07T09:29:21.509Z"
   },
   {
    "duration": 608,
    "start_time": "2022-09-07T09:29:21.543Z"
   },
   {
    "duration": 10,
    "start_time": "2022-09-07T09:29:46.102Z"
   },
   {
    "duration": 89,
    "start_time": "2022-09-07T09:30:11.055Z"
   },
   {
    "duration": 755,
    "start_time": "2022-09-07T09:30:42.097Z"
   },
   {
    "duration": 821,
    "start_time": "2022-09-07T09:30:57.260Z"
   },
   {
    "duration": 801,
    "start_time": "2022-09-07T09:32:19.425Z"
   },
   {
    "duration": 5,
    "start_time": "2022-09-07T09:33:07.928Z"
   },
   {
    "duration": 57,
    "start_time": "2022-09-07T09:33:09.198Z"
   },
   {
    "duration": 7,
    "start_time": "2022-09-07T09:33:09.931Z"
   },
   {
    "duration": 8,
    "start_time": "2022-09-07T09:33:23.855Z"
   },
   {
    "duration": 6,
    "start_time": "2022-09-07T09:33:26.649Z"
   },
   {
    "duration": 6,
    "start_time": "2022-09-07T09:33:27.182Z"
   },
   {
    "duration": 7,
    "start_time": "2022-09-07T09:33:27.724Z"
   },
   {
    "duration": 7,
    "start_time": "2022-09-07T09:33:30.928Z"
   },
   {
    "duration": 8,
    "start_time": "2022-09-07T09:33:31.599Z"
   },
   {
    "duration": 4,
    "start_time": "2022-09-07T09:33:32.647Z"
   },
   {
    "duration": 6,
    "start_time": "2022-09-07T09:33:33.587Z"
   },
   {
    "duration": 11,
    "start_time": "2022-09-07T09:33:34.369Z"
   },
   {
    "duration": 8,
    "start_time": "2022-09-07T09:33:35.392Z"
   },
   {
    "duration": 1729,
    "start_time": "2022-09-07T09:35:50.670Z"
   },
   {
    "duration": 54,
    "start_time": "2022-09-07T09:36:11.657Z"
   },
   {
    "duration": 9,
    "start_time": "2022-09-07T09:36:15.138Z"
   },
   {
    "duration": 8406,
    "start_time": "2022-09-09T14:09:24.104Z"
   },
   {
    "duration": 1404,
    "start_time": "2022-09-09T14:09:32.512Z"
   },
   {
    "duration": 767,
    "start_time": "2022-09-09T14:09:33.918Z"
   },
   {
    "duration": 13,
    "start_time": "2022-09-09T14:09:34.687Z"
   },
   {
    "duration": 16,
    "start_time": "2022-09-09T14:09:34.702Z"
   },
   {
    "duration": 13,
    "start_time": "2022-09-09T14:09:34.719Z"
   },
   {
    "duration": 15,
    "start_time": "2022-09-09T14:09:34.733Z"
   },
   {
    "duration": 34,
    "start_time": "2022-09-09T14:09:34.749Z"
   },
   {
    "duration": 44,
    "start_time": "2022-09-09T14:09:34.784Z"
   },
   {
    "duration": 85,
    "start_time": "2022-09-09T14:09:34.830Z"
   },
   {
    "duration": 41,
    "start_time": "2022-09-09T14:09:34.917Z"
   },
   {
    "duration": 651,
    "start_time": "2022-09-09T14:09:34.959Z"
   },
   {
    "duration": 5,
    "start_time": "2022-09-09T14:09:35.612Z"
   },
   {
    "duration": 11,
    "start_time": "2022-09-09T14:09:35.619Z"
   },
   {
    "duration": 15,
    "start_time": "2022-09-09T14:09:35.632Z"
   },
   {
    "duration": 8,
    "start_time": "2022-09-09T14:09:35.649Z"
   },
   {
    "duration": 7,
    "start_time": "2022-09-09T14:10:03.503Z"
   },
   {
    "duration": 6,
    "start_time": "2022-09-09T14:10:20.499Z"
   },
   {
    "duration": 7,
    "start_time": "2022-09-09T14:10:27.860Z"
   },
   {
    "duration": 1009,
    "start_time": "2022-09-09T14:12:45.510Z"
   },
   {
    "duration": 50,
    "start_time": "2022-09-09T14:13:34.458Z"
   },
   {
    "duration": 2105,
    "start_time": "2022-09-09T14:23:14.874Z"
   },
   {
    "duration": 1205,
    "start_time": "2022-09-09T14:23:16.981Z"
   },
   {
    "duration": 349,
    "start_time": "2022-09-09T14:23:18.188Z"
   },
   {
    "duration": 15,
    "start_time": "2022-09-09T14:23:18.539Z"
   },
   {
    "duration": 26,
    "start_time": "2022-09-09T14:23:18.557Z"
   },
   {
    "duration": 13,
    "start_time": "2022-09-09T14:23:18.585Z"
   },
   {
    "duration": 13,
    "start_time": "2022-09-09T14:23:18.599Z"
   },
   {
    "duration": 11,
    "start_time": "2022-09-09T14:23:18.613Z"
   },
   {
    "duration": 70,
    "start_time": "2022-09-09T14:23:18.625Z"
   },
   {
    "duration": 70,
    "start_time": "2022-09-09T14:23:18.696Z"
   },
   {
    "duration": 39,
    "start_time": "2022-09-09T14:23:18.776Z"
   },
   {
    "duration": 580,
    "start_time": "2022-09-09T14:23:18.817Z"
   },
   {
    "duration": 206,
    "start_time": "2022-09-09T14:24:01.966Z"
   },
   {
    "duration": 192,
    "start_time": "2022-09-09T14:24:15.665Z"
   },
   {
    "duration": 183,
    "start_time": "2022-09-09T14:24:34.669Z"
   },
   {
    "duration": 201,
    "start_time": "2022-09-09T14:24:44.956Z"
   },
   {
    "duration": 322,
    "start_time": "2022-09-09T14:25:06.356Z"
   },
   {
    "duration": 197,
    "start_time": "2022-09-09T14:25:18.563Z"
   },
   {
    "duration": 397,
    "start_time": "2022-09-09T14:25:25.800Z"
   },
   {
    "duration": 282,
    "start_time": "2022-09-09T14:25:36.255Z"
   },
   {
    "duration": 275,
    "start_time": "2022-09-09T14:25:55.906Z"
   },
   {
    "duration": 426,
    "start_time": "2022-09-09T14:26:07.332Z"
   },
   {
    "duration": 64,
    "start_time": "2022-09-09T14:26:39.334Z"
   },
   {
    "duration": 319,
    "start_time": "2022-09-09T14:26:42.575Z"
   },
   {
    "duration": 283,
    "start_time": "2022-09-09T14:26:53.222Z"
   },
   {
    "duration": 298,
    "start_time": "2022-09-09T14:27:09.108Z"
   },
   {
    "duration": 285,
    "start_time": "2022-09-09T14:27:14.213Z"
   },
   {
    "duration": 279,
    "start_time": "2022-09-09T14:27:54.177Z"
   },
   {
    "duration": 490,
    "start_time": "2022-09-09T14:28:52.189Z"
   },
   {
    "duration": 371,
    "start_time": "2022-09-09T14:28:58.302Z"
   },
   {
    "duration": 408,
    "start_time": "2022-09-09T14:29:05.302Z"
   },
   {
    "duration": 395,
    "start_time": "2022-09-09T14:29:17.207Z"
   },
   {
    "duration": 514,
    "start_time": "2022-09-09T14:29:27.751Z"
   },
   {
    "duration": 392,
    "start_time": "2022-09-09T14:32:44.433Z"
   },
   {
    "duration": 430,
    "start_time": "2022-09-09T14:32:58.811Z"
   },
   {
    "duration": 351,
    "start_time": "2022-09-09T14:33:05.592Z"
   },
   {
    "duration": 171,
    "start_time": "2022-09-09T14:37:00.568Z"
   },
   {
    "duration": 2071,
    "start_time": "2022-09-09T14:37:15.166Z"
   },
   {
    "duration": 1145,
    "start_time": "2022-09-09T14:37:17.239Z"
   },
   {
    "duration": 366,
    "start_time": "2022-09-09T14:37:18.385Z"
   },
   {
    "duration": 15,
    "start_time": "2022-09-09T14:37:18.753Z"
   },
   {
    "duration": 17,
    "start_time": "2022-09-09T14:37:18.770Z"
   },
   {
    "duration": 14,
    "start_time": "2022-09-09T14:37:18.788Z"
   },
   {
    "duration": 13,
    "start_time": "2022-09-09T14:37:18.804Z"
   },
   {
    "duration": 12,
    "start_time": "2022-09-09T14:37:18.818Z"
   },
   {
    "duration": 78,
    "start_time": "2022-09-09T14:37:18.831Z"
   },
   {
    "duration": 76,
    "start_time": "2022-09-09T14:37:18.911Z"
   },
   {
    "duration": 38,
    "start_time": "2022-09-09T14:37:18.989Z"
   },
   {
    "duration": 620,
    "start_time": "2022-09-09T14:37:19.029Z"
   },
   {
    "duration": 409,
    "start_time": "2022-09-09T14:37:19.651Z"
   },
   {
    "duration": 14,
    "start_time": "2022-09-09T14:37:20.063Z"
   },
   {
    "duration": 14,
    "start_time": "2022-09-09T14:37:20.078Z"
   },
   {
    "duration": 10,
    "start_time": "2022-09-09T14:37:20.093Z"
   },
   {
    "duration": 9,
    "start_time": "2022-09-09T14:37:20.105Z"
   },
   {
    "duration": 8,
    "start_time": "2022-09-09T14:37:20.115Z"
   },
   {
    "duration": 19,
    "start_time": "2022-09-09T14:37:20.125Z"
   },
   {
    "duration": 10,
    "start_time": "2022-09-09T14:37:20.146Z"
   },
   {
    "duration": 9,
    "start_time": "2022-09-09T14:37:20.157Z"
   },
   {
    "duration": 8,
    "start_time": "2022-09-09T14:37:20.177Z"
   },
   {
    "duration": 947,
    "start_time": "2022-09-09T14:37:20.187Z"
   },
   {
    "duration": 63,
    "start_time": "2022-09-09T14:37:21.136Z"
   },
   {
    "duration": 190,
    "start_time": "2022-09-09T14:37:55.087Z"
   },
   {
    "duration": 39,
    "start_time": "2022-09-09T14:39:26.647Z"
   },
   {
    "duration": 58,
    "start_time": "2022-09-09T14:39:45.076Z"
   },
   {
    "duration": 65,
    "start_time": "2022-09-09T14:40:03.322Z"
   },
   {
    "duration": 2184,
    "start_time": "2022-09-09T14:40:09.276Z"
   },
   {
    "duration": 1215,
    "start_time": "2022-09-09T14:40:11.462Z"
   },
   {
    "duration": 356,
    "start_time": "2022-09-09T14:40:12.679Z"
   },
   {
    "duration": 12,
    "start_time": "2022-09-09T14:40:13.037Z"
   },
   {
    "duration": 14,
    "start_time": "2022-09-09T14:40:13.051Z"
   },
   {
    "duration": 12,
    "start_time": "2022-09-09T14:40:13.076Z"
   },
   {
    "duration": 16,
    "start_time": "2022-09-09T14:40:13.090Z"
   },
   {
    "duration": 11,
    "start_time": "2022-09-09T14:40:13.108Z"
   },
   {
    "duration": 60,
    "start_time": "2022-09-09T14:40:13.120Z"
   },
   {
    "duration": 69,
    "start_time": "2022-09-09T14:40:13.182Z"
   },
   {
    "duration": 54,
    "start_time": "2022-09-09T14:40:13.253Z"
   },
   {
    "duration": 595,
    "start_time": "2022-09-09T14:40:13.309Z"
   },
   {
    "duration": 488,
    "start_time": "2022-09-09T14:40:13.905Z"
   },
   {
    "duration": 6,
    "start_time": "2022-09-09T14:40:14.395Z"
   },
   {
    "duration": 14,
    "start_time": "2022-09-09T14:40:14.402Z"
   },
   {
    "duration": 10,
    "start_time": "2022-09-09T14:40:14.417Z"
   },
   {
    "duration": 9,
    "start_time": "2022-09-09T14:40:14.429Z"
   },
   {
    "duration": 8,
    "start_time": "2022-09-09T14:40:14.439Z"
   },
   {
    "duration": 12,
    "start_time": "2022-09-09T14:40:14.476Z"
   },
   {
    "duration": 13,
    "start_time": "2022-09-09T14:40:14.489Z"
   },
   {
    "duration": 7,
    "start_time": "2022-09-09T14:40:14.503Z"
   },
   {
    "duration": 10,
    "start_time": "2022-09-09T14:40:14.512Z"
   },
   {
    "duration": 1004,
    "start_time": "2022-09-09T14:40:14.523Z"
   },
   {
    "duration": 57,
    "start_time": "2022-09-09T14:40:15.528Z"
   },
   {
    "duration": 40,
    "start_time": "2022-09-09T14:40:15.587Z"
   },
   {
    "duration": 70,
    "start_time": "2022-09-09T14:40:15.629Z"
   },
   {
    "duration": 60,
    "start_time": "2022-09-09T14:40:25.189Z"
   },
   {
    "duration": 48,
    "start_time": "2022-09-09T14:40:25.731Z"
   },
   {
    "duration": 50,
    "start_time": "2022-09-09T14:40:43.675Z"
   },
   {
    "duration": 59,
    "start_time": "2022-09-09T14:40:44.242Z"
   },
   {
    "duration": 162,
    "start_time": "2022-09-09T15:02:48.579Z"
   },
   {
    "duration": 75,
    "start_time": "2022-09-09T15:03:02.038Z"
   },
   {
    "duration": 1234,
    "start_time": "2022-09-09T15:04:55.514Z"
   },
   {
    "duration": 7036,
    "start_time": "2022-09-10T12:27:19.672Z"
   },
   {
    "duration": 1416,
    "start_time": "2022-09-10T12:27:26.710Z"
   },
   {
    "duration": 730,
    "start_time": "2022-09-10T12:27:28.128Z"
   },
   {
    "duration": 17,
    "start_time": "2022-09-10T12:27:28.860Z"
   },
   {
    "duration": 58,
    "start_time": "2022-09-10T12:27:28.880Z"
   },
   {
    "duration": 37,
    "start_time": "2022-09-10T12:27:28.940Z"
   },
   {
    "duration": 28,
    "start_time": "2022-09-10T12:27:28.979Z"
   },
   {
    "duration": 20,
    "start_time": "2022-09-10T12:27:29.010Z"
   },
   {
    "duration": 75,
    "start_time": "2022-09-10T12:27:29.032Z"
   },
   {
    "duration": 63,
    "start_time": "2022-09-10T12:27:29.109Z"
   },
   {
    "duration": 50,
    "start_time": "2022-09-10T12:27:29.174Z"
   },
   {
    "duration": 637,
    "start_time": "2022-09-10T12:27:29.225Z"
   },
   {
    "duration": 424,
    "start_time": "2022-09-10T12:27:29.864Z"
   },
   {
    "duration": 6,
    "start_time": "2022-09-10T12:27:30.290Z"
   },
   {
    "duration": 23,
    "start_time": "2022-09-10T12:27:30.298Z"
   },
   {
    "duration": 55,
    "start_time": "2022-09-10T12:27:30.323Z"
   },
   {
    "duration": 90,
    "start_time": "2022-09-10T12:27:30.380Z"
   },
   {
    "duration": 25,
    "start_time": "2022-09-10T12:27:30.472Z"
   },
   {
    "duration": 31,
    "start_time": "2022-09-10T12:27:30.499Z"
   },
   {
    "duration": 40,
    "start_time": "2022-09-10T12:27:30.532Z"
   },
   {
    "duration": 45,
    "start_time": "2022-09-10T12:27:30.574Z"
   },
   {
    "duration": 36,
    "start_time": "2022-09-10T12:27:30.620Z"
   },
   {
    "duration": 1061,
    "start_time": "2022-09-10T12:27:30.658Z"
   },
   {
    "duration": 53,
    "start_time": "2022-09-10T12:27:31.721Z"
   },
   {
    "duration": 72,
    "start_time": "2022-09-10T12:29:57.043Z"
   },
   {
    "duration": 56,
    "start_time": "2022-09-10T12:29:57.902Z"
   },
   {
    "duration": 60,
    "start_time": "2022-09-10T12:30:16.781Z"
   },
   {
    "duration": 37,
    "start_time": "2022-09-10T12:30:26.992Z"
   },
   {
    "duration": 42,
    "start_time": "2022-09-10T12:30:27.786Z"
   },
   {
    "duration": 825,
    "start_time": "2022-09-10T12:31:24.209Z"
   },
   {
    "duration": 573,
    "start_time": "2022-09-10T12:31:46.393Z"
   },
   {
    "duration": 43,
    "start_time": "2022-09-10T12:32:01.197Z"
   },
   {
    "duration": 857,
    "start_time": "2022-09-10T12:32:05.551Z"
   },
   {
    "duration": 40,
    "start_time": "2022-09-10T12:32:11.224Z"
   },
   {
    "duration": 47,
    "start_time": "2022-09-10T12:32:21.818Z"
   },
   {
    "duration": 44,
    "start_time": "2022-09-10T12:32:25.260Z"
   },
   {
    "duration": 41,
    "start_time": "2022-09-10T12:33:25.841Z"
   },
   {
    "duration": 44,
    "start_time": "2022-09-10T12:33:26.606Z"
   },
   {
    "duration": 53,
    "start_time": "2022-09-10T12:33:27.371Z"
   },
   {
    "duration": 49,
    "start_time": "2022-09-10T12:34:08.759Z"
   },
   {
    "duration": 127,
    "start_time": "2022-09-10T12:35:43.438Z"
   },
   {
    "duration": 11,
    "start_time": "2022-09-10T12:36:29.785Z"
   },
   {
    "duration": 11,
    "start_time": "2022-09-10T12:36:45.286Z"
   },
   {
    "duration": 729,
    "start_time": "2022-09-10T12:36:52.281Z"
   },
   {
    "duration": 4,
    "start_time": "2022-09-10T12:36:57.857Z"
   },
   {
    "duration": 12,
    "start_time": "2022-09-10T12:37:17.740Z"
   },
   {
    "duration": 2306,
    "start_time": "2022-09-10T12:37:37.352Z"
   },
   {
    "duration": 1148,
    "start_time": "2022-09-10T12:37:39.660Z"
   },
   {
    "duration": 350,
    "start_time": "2022-09-10T12:37:40.809Z"
   },
   {
    "duration": 11,
    "start_time": "2022-09-10T12:37:41.161Z"
   },
   {
    "duration": 14,
    "start_time": "2022-09-10T12:37:41.174Z"
   },
   {
    "duration": 12,
    "start_time": "2022-09-10T12:37:41.190Z"
   },
   {
    "duration": 14,
    "start_time": "2022-09-10T12:37:41.222Z"
   },
   {
    "duration": 14,
    "start_time": "2022-09-10T12:37:41.237Z"
   },
   {
    "duration": 41,
    "start_time": "2022-09-10T12:37:41.253Z"
   },
   {
    "duration": 84,
    "start_time": "2022-09-10T12:37:41.295Z"
   },
   {
    "duration": 46,
    "start_time": "2022-09-10T12:37:41.381Z"
   },
   {
    "duration": 612,
    "start_time": "2022-09-10T12:37:41.429Z"
   },
   {
    "duration": 366,
    "start_time": "2022-09-10T12:37:42.043Z"
   },
   {
    "duration": 5,
    "start_time": "2022-09-10T12:37:42.422Z"
   },
   {
    "duration": 13,
    "start_time": "2022-09-10T12:37:42.429Z"
   },
   {
    "duration": 11,
    "start_time": "2022-09-10T12:37:42.444Z"
   },
   {
    "duration": 10,
    "start_time": "2022-09-10T12:37:42.456Z"
   },
   {
    "duration": 6,
    "start_time": "2022-09-10T12:37:42.467Z"
   },
   {
    "duration": 22,
    "start_time": "2022-09-10T12:37:42.474Z"
   },
   {
    "duration": 9,
    "start_time": "2022-09-10T12:37:42.498Z"
   },
   {
    "duration": 6,
    "start_time": "2022-09-10T12:37:42.509Z"
   },
   {
    "duration": 6,
    "start_time": "2022-09-10T12:37:42.522Z"
   },
   {
    "duration": 1027,
    "start_time": "2022-09-10T12:37:42.529Z"
   },
   {
    "duration": 47,
    "start_time": "2022-09-10T12:37:43.558Z"
   },
   {
    "duration": 1439,
    "start_time": "2022-09-10T12:37:43.607Z"
   },
   {
    "duration": 797,
    "start_time": "2022-09-10T12:37:57.796Z"
   },
   {
    "duration": 11,
    "start_time": "2022-09-10T12:38:25.442Z"
   },
   {
    "duration": 15,
    "start_time": "2022-09-10T12:38:55.645Z"
   },
   {
    "duration": 5,
    "start_time": "2022-09-10T12:42:05.035Z"
   },
   {
    "duration": 28,
    "start_time": "2022-09-10T12:42:15.404Z"
   },
   {
    "duration": 5,
    "start_time": "2022-09-10T12:42:21.042Z"
   },
   {
    "duration": 14,
    "start_time": "2022-09-10T12:42:24.190Z"
   },
   {
    "duration": 9,
    "start_time": "2022-09-10T12:42:46.580Z"
   },
   {
    "duration": 4,
    "start_time": "2022-09-10T12:42:51.947Z"
   },
   {
    "duration": 4,
    "start_time": "2022-09-10T12:42:59.238Z"
   },
   {
    "duration": 5,
    "start_time": "2022-09-10T12:43:06.725Z"
   },
   {
    "duration": 9,
    "start_time": "2022-09-10T12:46:45.945Z"
   },
   {
    "duration": 15,
    "start_time": "2022-09-10T12:48:15.309Z"
   },
   {
    "duration": 10,
    "start_time": "2022-09-10T12:50:20.900Z"
   },
   {
    "duration": 1222,
    "start_time": "2022-09-10T12:50:42.773Z"
   },
   {
    "duration": 13,
    "start_time": "2022-09-10T12:50:54.843Z"
   },
   {
    "duration": 71,
    "start_time": "2022-09-10T12:51:08.909Z"
   },
   {
    "duration": 11,
    "start_time": "2022-09-10T13:02:08.881Z"
   },
   {
    "duration": 4,
    "start_time": "2022-09-10T13:02:21.265Z"
   },
   {
    "duration": 13,
    "start_time": "2022-09-10T13:02:24.001Z"
   },
   {
    "duration": 5,
    "start_time": "2022-09-10T13:03:02.907Z"
   },
   {
    "duration": 10,
    "start_time": "2022-09-10T13:03:03.663Z"
   },
   {
    "duration": 8,
    "start_time": "2022-09-10T13:04:00.614Z"
   },
   {
    "duration": 27,
    "start_time": "2022-09-10T13:04:08.249Z"
   },
   {
    "duration": 11,
    "start_time": "2022-09-10T13:04:26.173Z"
   },
   {
    "duration": 6,
    "start_time": "2022-09-10T13:04:30.842Z"
   },
   {
    "duration": 2343,
    "start_time": "2022-09-10T13:17:06.146Z"
   },
   {
    "duration": 1232,
    "start_time": "2022-09-10T13:17:08.491Z"
   },
   {
    "duration": 358,
    "start_time": "2022-09-10T13:17:09.725Z"
   },
   {
    "duration": 12,
    "start_time": "2022-09-10T13:17:10.085Z"
   },
   {
    "duration": 41,
    "start_time": "2022-09-10T13:17:10.099Z"
   },
   {
    "duration": 27,
    "start_time": "2022-09-10T13:17:10.141Z"
   },
   {
    "duration": 17,
    "start_time": "2022-09-10T13:17:10.170Z"
   },
   {
    "duration": 23,
    "start_time": "2022-09-10T13:17:10.189Z"
   },
   {
    "duration": 49,
    "start_time": "2022-09-10T13:17:10.214Z"
   },
   {
    "duration": 98,
    "start_time": "2022-09-10T13:17:10.266Z"
   },
   {
    "duration": 39,
    "start_time": "2022-09-10T13:17:10.367Z"
   },
   {
    "duration": 620,
    "start_time": "2022-09-10T13:17:10.423Z"
   },
   {
    "duration": 376,
    "start_time": "2022-09-10T13:17:11.044Z"
   },
   {
    "duration": 5,
    "start_time": "2022-09-10T13:17:11.422Z"
   },
   {
    "duration": 12,
    "start_time": "2022-09-10T13:17:11.429Z"
   },
   {
    "duration": 11,
    "start_time": "2022-09-10T13:17:11.442Z"
   },
   {
    "duration": 10,
    "start_time": "2022-09-10T13:17:11.454Z"
   },
   {
    "duration": 10,
    "start_time": "2022-09-10T13:17:11.465Z"
   },
   {
    "duration": 13,
    "start_time": "2022-09-10T13:17:11.477Z"
   },
   {
    "duration": 20,
    "start_time": "2022-09-10T13:17:11.492Z"
   },
   {
    "duration": 10,
    "start_time": "2022-09-10T13:17:11.514Z"
   },
   {
    "duration": 14,
    "start_time": "2022-09-10T13:17:11.526Z"
   },
   {
    "duration": 994,
    "start_time": "2022-09-10T13:17:11.541Z"
   },
   {
    "duration": 52,
    "start_time": "2022-09-10T13:17:12.537Z"
   },
   {
    "duration": 1427,
    "start_time": "2022-09-10T13:17:12.590Z"
   },
   {
    "duration": 13,
    "start_time": "2022-09-10T13:17:14.019Z"
   },
   {
    "duration": 56,
    "start_time": "2022-09-10T13:17:14.034Z"
   },
   {
    "duration": 4,
    "start_time": "2022-09-10T13:17:14.094Z"
   },
   {
    "duration": 28,
    "start_time": "2022-09-10T13:17:14.100Z"
   },
   {
    "duration": 6,
    "start_time": "2022-09-10T13:17:14.130Z"
   },
   {
    "duration": 13,
    "start_time": "2022-09-10T13:17:16.220Z"
   },
   {
    "duration": 5,
    "start_time": "2022-09-10T13:17:27.943Z"
   },
   {
    "duration": 6,
    "start_time": "2022-09-10T13:17:48.314Z"
   },
   {
    "duration": 5,
    "start_time": "2022-09-10T13:17:53.716Z"
   },
   {
    "duration": 106,
    "start_time": "2022-09-10T13:18:16.184Z"
   },
   {
    "duration": 13,
    "start_time": "2022-09-10T13:18:35.019Z"
   },
   {
    "duration": 2459,
    "start_time": "2022-09-10T13:22:26.759Z"
   },
   {
    "duration": 1206,
    "start_time": "2022-09-10T13:22:29.220Z"
   },
   {
    "duration": 368,
    "start_time": "2022-09-10T13:22:30.428Z"
   },
   {
    "duration": 25,
    "start_time": "2022-09-10T13:22:30.798Z"
   },
   {
    "duration": 24,
    "start_time": "2022-09-10T13:22:30.826Z"
   },
   {
    "duration": 15,
    "start_time": "2022-09-10T13:22:30.853Z"
   },
   {
    "duration": 19,
    "start_time": "2022-09-10T13:22:30.870Z"
   },
   {
    "duration": 45,
    "start_time": "2022-09-10T13:22:30.891Z"
   },
   {
    "duration": 51,
    "start_time": "2022-09-10T13:22:30.938Z"
   },
   {
    "duration": 95,
    "start_time": "2022-09-10T13:22:30.991Z"
   },
   {
    "duration": 55,
    "start_time": "2022-09-10T13:22:31.088Z"
   },
   {
    "duration": 778,
    "start_time": "2022-09-10T13:22:31.145Z"
   },
   {
    "duration": 384,
    "start_time": "2022-09-10T13:22:31.924Z"
   },
   {
    "duration": 11,
    "start_time": "2022-09-10T13:22:32.311Z"
   },
   {
    "duration": 8,
    "start_time": "2022-09-10T13:22:32.323Z"
   },
   {
    "duration": 14,
    "start_time": "2022-09-10T13:22:32.332Z"
   },
   {
    "duration": 9,
    "start_time": "2022-09-10T13:22:32.348Z"
   },
   {
    "duration": 7,
    "start_time": "2022-09-10T13:22:32.359Z"
   },
   {
    "duration": 15,
    "start_time": "2022-09-10T13:22:32.368Z"
   },
   {
    "duration": 11,
    "start_time": "2022-09-10T13:22:32.385Z"
   },
   {
    "duration": 7,
    "start_time": "2022-09-10T13:22:32.423Z"
   },
   {
    "duration": 14,
    "start_time": "2022-09-10T13:22:32.432Z"
   },
   {
    "duration": 1092,
    "start_time": "2022-09-10T13:22:32.448Z"
   },
   {
    "duration": 52,
    "start_time": "2022-09-10T13:22:33.543Z"
   },
   {
    "duration": 1542,
    "start_time": "2022-09-10T13:22:33.597Z"
   },
   {
    "duration": 13,
    "start_time": "2022-09-10T13:22:35.141Z"
   },
   {
    "duration": 72,
    "start_time": "2022-09-10T13:22:35.155Z"
   },
   {
    "duration": 12,
    "start_time": "2022-09-10T13:22:35.228Z"
   },
   {
    "duration": 9,
    "start_time": "2022-09-10T13:22:35.242Z"
   },
   {
    "duration": 13,
    "start_time": "2022-09-10T13:22:35.253Z"
   },
   {
    "duration": 7,
    "start_time": "2022-09-10T13:22:35.268Z"
   },
   {
    "duration": 13,
    "start_time": "2022-09-10T13:22:38.217Z"
   },
   {
    "duration": 6,
    "start_time": "2022-09-10T13:25:24.056Z"
   },
   {
    "duration": 17,
    "start_time": "2022-09-10T13:25:26.472Z"
   },
   {
    "duration": 8,
    "start_time": "2022-09-10T13:25:27.641Z"
   },
   {
    "duration": 11,
    "start_time": "2022-09-10T13:28:18.534Z"
   },
   {
    "duration": 51,
    "start_time": "2022-09-10T13:28:53.018Z"
   },
   {
    "duration": 5,
    "start_time": "2022-09-10T13:30:54.022Z"
   },
   {
    "duration": 12,
    "start_time": "2022-09-10T13:31:59.671Z"
   },
   {
    "duration": 10,
    "start_time": "2022-09-10T13:32:00.350Z"
   },
   {
    "duration": 12,
    "start_time": "2022-09-10T13:32:18.147Z"
   },
   {
    "duration": 22,
    "start_time": "2022-09-10T13:34:23.088Z"
   },
   {
    "duration": 10,
    "start_time": "2022-09-10T13:34:33.165Z"
   },
   {
    "duration": 10,
    "start_time": "2022-09-10T13:35:57.168Z"
   },
   {
    "duration": 54,
    "start_time": "2022-09-10T13:36:33.884Z"
   },
   {
    "duration": 6,
    "start_time": "2022-09-10T13:38:01.455Z"
   },
   {
    "duration": 11,
    "start_time": "2022-09-10T13:38:58.694Z"
   },
   {
    "duration": 9,
    "start_time": "2022-09-10T13:39:33.457Z"
   },
   {
    "duration": 13,
    "start_time": "2022-09-10T13:39:55.821Z"
   },
   {
    "duration": 17,
    "start_time": "2022-09-10T13:40:43.465Z"
   },
   {
    "duration": 10,
    "start_time": "2022-09-10T13:41:05.920Z"
   },
   {
    "duration": 3,
    "start_time": "2022-09-10T13:44:24.493Z"
   },
   {
    "duration": 7061,
    "start_time": "2022-09-10T20:15:36.100Z"
   },
   {
    "duration": 1399,
    "start_time": "2022-09-10T20:15:43.163Z"
   },
   {
    "duration": 759,
    "start_time": "2022-09-10T20:15:44.564Z"
   },
   {
    "duration": 15,
    "start_time": "2022-09-10T20:15:45.325Z"
   },
   {
    "duration": 14,
    "start_time": "2022-09-10T20:15:45.343Z"
   },
   {
    "duration": 13,
    "start_time": "2022-09-10T20:15:45.359Z"
   },
   {
    "duration": 14,
    "start_time": "2022-09-10T20:15:45.373Z"
   },
   {
    "duration": 35,
    "start_time": "2022-09-10T20:15:45.389Z"
   },
   {
    "duration": 48,
    "start_time": "2022-09-10T20:15:45.426Z"
   },
   {
    "duration": 102,
    "start_time": "2022-09-10T20:15:45.475Z"
   },
   {
    "duration": 46,
    "start_time": "2022-09-10T20:15:45.579Z"
   },
   {
    "duration": 658,
    "start_time": "2022-09-10T20:15:45.627Z"
   },
   {
    "duration": 438,
    "start_time": "2022-09-10T20:15:46.286Z"
   },
   {
    "duration": 7,
    "start_time": "2022-09-10T20:15:46.727Z"
   },
   {
    "duration": 13,
    "start_time": "2022-09-10T20:15:46.735Z"
   },
   {
    "duration": 10,
    "start_time": "2022-09-10T20:15:46.750Z"
   },
   {
    "duration": 11,
    "start_time": "2022-09-10T20:15:46.762Z"
   },
   {
    "duration": 8,
    "start_time": "2022-09-10T20:15:46.775Z"
   },
   {
    "duration": 36,
    "start_time": "2022-09-10T20:15:46.784Z"
   },
   {
    "duration": 8,
    "start_time": "2022-09-10T20:15:46.822Z"
   },
   {
    "duration": 8,
    "start_time": "2022-09-10T20:15:46.831Z"
   },
   {
    "duration": 9,
    "start_time": "2022-09-10T20:15:46.841Z"
   },
   {
    "duration": 1054,
    "start_time": "2022-09-10T20:15:46.852Z"
   },
   {
    "duration": 63,
    "start_time": "2022-09-10T20:15:47.908Z"
   },
   {
    "duration": 1769,
    "start_time": "2022-09-10T20:15:47.973Z"
   },
   {
    "duration": 22,
    "start_time": "2022-09-10T20:15:49.744Z"
   },
   {
    "duration": 60,
    "start_time": "2022-09-10T20:15:49.769Z"
   },
   {
    "duration": 15,
    "start_time": "2022-09-10T20:15:49.832Z"
   },
   {
    "duration": 6,
    "start_time": "2022-09-10T20:15:49.849Z"
   },
   {
    "duration": 18,
    "start_time": "2022-09-10T20:15:49.856Z"
   },
   {
    "duration": 8,
    "start_time": "2022-09-10T20:15:49.876Z"
   },
   {
    "duration": 36,
    "start_time": "2022-09-10T20:15:49.885Z"
   },
   {
    "duration": 5,
    "start_time": "2022-09-10T20:15:49.924Z"
   },
   {
    "duration": 22,
    "start_time": "2022-09-10T20:15:49.931Z"
   },
   {
    "duration": 12,
    "start_time": "2022-09-10T20:15:49.955Z"
   },
   {
    "duration": 14,
    "start_time": "2022-09-10T20:15:49.969Z"
   },
   {
    "duration": 64,
    "start_time": "2022-09-10T20:15:49.985Z"
   },
   {
    "duration": 5,
    "start_time": "2022-09-10T20:15:50.050Z"
   },
   {
    "duration": 16,
    "start_time": "2022-09-10T20:15:50.057Z"
   },
   {
    "duration": 22,
    "start_time": "2022-09-10T20:15:50.075Z"
   },
   {
    "duration": 23,
    "start_time": "2022-09-10T20:15:50.101Z"
   },
   {
    "duration": 32,
    "start_time": "2022-09-10T20:15:50.125Z"
   },
   {
    "duration": 11,
    "start_time": "2022-09-10T20:15:50.159Z"
   },
   {
    "duration": 19,
    "start_time": "2022-09-10T20:15:50.172Z"
   },
   {
    "duration": 50,
    "start_time": "2022-09-10T20:15:50.192Z"
   },
   {
    "duration": 6,
    "start_time": "2022-09-10T20:15:50.243Z"
   },
   {
    "duration": 30,
    "start_time": "2022-09-10T20:15:50.251Z"
   },
   {
    "duration": 18,
    "start_time": "2022-09-10T20:15:50.283Z"
   },
   {
    "duration": 23,
    "start_time": "2022-09-10T20:15:50.303Z"
   },
   {
    "duration": 43,
    "start_time": "2022-09-10T20:15:50.328Z"
   },
   {
    "duration": 22,
    "start_time": "2022-09-10T20:15:50.373Z"
   },
   {
    "duration": 18,
    "start_time": "2022-09-10T20:15:50.397Z"
   },
   {
    "duration": 126,
    "start_time": "2022-09-10T20:15:52.855Z"
   },
   {
    "duration": 9,
    "start_time": "2022-09-10T20:17:08.329Z"
   },
   {
    "duration": 4,
    "start_time": "2022-09-10T20:17:34.435Z"
   },
   {
    "duration": 12,
    "start_time": "2022-09-10T20:17:37.764Z"
   },
   {
    "duration": 12,
    "start_time": "2022-09-10T20:17:42.289Z"
   },
   {
    "duration": 10,
    "start_time": "2022-09-10T20:17:47.988Z"
   },
   {
    "duration": 11,
    "start_time": "2022-09-10T20:18:09.242Z"
   },
   {
    "duration": 18,
    "start_time": "2022-09-10T20:20:02.808Z"
   },
   {
    "duration": 10,
    "start_time": "2022-09-10T20:20:33.862Z"
   },
   {
    "duration": 4,
    "start_time": "2022-09-10T20:21:07.876Z"
   },
   {
    "duration": 4,
    "start_time": "2022-09-10T20:21:11.852Z"
   },
   {
    "duration": 49,
    "start_time": "2022-09-10T20:21:12.560Z"
   },
   {
    "duration": 729,
    "start_time": "2022-09-10T20:21:21.604Z"
   },
   {
    "duration": 645,
    "start_time": "2022-09-10T20:21:29.379Z"
   },
   {
    "duration": 244,
    "start_time": "2022-09-10T20:21:47.780Z"
   },
   {
    "duration": 13682,
    "start_time": "2022-09-10T20:23:32.536Z"
   },
   {
    "duration": 7934,
    "start_time": "2022-09-10T20:23:55.445Z"
   },
   {
    "duration": 10,
    "start_time": "2022-09-10T20:24:56.042Z"
   },
   {
    "duration": 22,
    "start_time": "2022-09-10T20:25:29.621Z"
   },
   {
    "duration": 778,
    "start_time": "2022-09-10T20:26:27.787Z"
   },
   {
    "duration": 5,
    "start_time": "2022-09-10T20:27:37.650Z"
   },
   {
    "duration": 5,
    "start_time": "2022-09-10T20:28:15.105Z"
   },
   {
    "duration": 726,
    "start_time": "2022-09-10T20:28:31.196Z"
   },
   {
    "duration": 15,
    "start_time": "2022-09-10T20:28:47.854Z"
   },
   {
    "duration": 5,
    "start_time": "2022-09-10T20:30:04.949Z"
   },
   {
    "duration": 5,
    "start_time": "2022-09-10T20:30:05.610Z"
   },
   {
    "duration": 734,
    "start_time": "2022-09-10T20:30:06.607Z"
   },
   {
    "duration": 14,
    "start_time": "2022-09-10T20:30:09.394Z"
   },
   {
    "duration": 4,
    "start_time": "2022-09-10T20:30:15.173Z"
   },
   {
    "duration": 5,
    "start_time": "2022-09-10T20:30:15.705Z"
   },
   {
    "duration": 613,
    "start_time": "2022-09-10T20:30:16.246Z"
   },
   {
    "duration": 13,
    "start_time": "2022-09-10T20:30:17.531Z"
   },
   {
    "duration": 3245,
    "start_time": "2022-09-10T20:31:05.813Z"
   },
   {
    "duration": 2041,
    "start_time": "2022-09-10T20:31:09.062Z"
   },
   {
    "duration": 372,
    "start_time": "2022-09-10T20:31:11.106Z"
   },
   {
    "duration": 13,
    "start_time": "2022-09-10T20:31:11.480Z"
   },
   {
    "duration": 15,
    "start_time": "2022-09-10T20:31:11.496Z"
   },
   {
    "duration": 14,
    "start_time": "2022-09-10T20:31:11.521Z"
   },
   {
    "duration": 13,
    "start_time": "2022-09-10T20:31:11.536Z"
   },
   {
    "duration": 18,
    "start_time": "2022-09-10T20:31:11.550Z"
   },
   {
    "duration": 70,
    "start_time": "2022-09-10T20:31:11.570Z"
   },
   {
    "duration": 80,
    "start_time": "2022-09-10T20:31:11.642Z"
   },
   {
    "duration": 44,
    "start_time": "2022-09-10T20:31:11.724Z"
   },
   {
    "duration": 682,
    "start_time": "2022-09-10T20:31:11.770Z"
   },
   {
    "duration": 457,
    "start_time": "2022-09-10T20:31:12.454Z"
   },
   {
    "duration": 6,
    "start_time": "2022-09-10T20:31:12.920Z"
   },
   {
    "duration": 11,
    "start_time": "2022-09-10T20:31:12.927Z"
   },
   {
    "duration": 9,
    "start_time": "2022-09-10T20:31:12.940Z"
   },
   {
    "duration": 10,
    "start_time": "2022-09-10T20:31:12.951Z"
   },
   {
    "duration": 6,
    "start_time": "2022-09-10T20:31:12.963Z"
   },
   {
    "duration": 16,
    "start_time": "2022-09-10T20:31:12.971Z"
   },
   {
    "duration": 33,
    "start_time": "2022-09-10T20:31:12.989Z"
   },
   {
    "duration": 9,
    "start_time": "2022-09-10T20:31:13.024Z"
   },
   {
    "duration": 12,
    "start_time": "2022-09-10T20:31:13.035Z"
   },
   {
    "duration": 1090,
    "start_time": "2022-09-10T20:31:13.049Z"
   },
   {
    "duration": 60,
    "start_time": "2022-09-10T20:31:14.141Z"
   },
   {
    "duration": 1594,
    "start_time": "2022-09-10T20:31:14.203Z"
   },
   {
    "duration": 12,
    "start_time": "2022-09-10T20:31:15.799Z"
   },
   {
    "duration": 79,
    "start_time": "2022-09-10T20:31:15.812Z"
   },
   {
    "duration": 16,
    "start_time": "2022-09-10T20:31:15.893Z"
   },
   {
    "duration": 23,
    "start_time": "2022-09-10T20:31:15.911Z"
   },
   {
    "duration": 28,
    "start_time": "2022-09-10T20:31:15.936Z"
   },
   {
    "duration": 21,
    "start_time": "2022-09-10T20:31:15.966Z"
   },
   {
    "duration": 19,
    "start_time": "2022-09-10T20:31:15.989Z"
   },
   {
    "duration": 7,
    "start_time": "2022-09-10T20:31:16.010Z"
   },
   {
    "duration": 21,
    "start_time": "2022-09-10T20:31:16.019Z"
   },
   {
    "duration": 8,
    "start_time": "2022-09-10T20:31:16.041Z"
   },
   {
    "duration": 17,
    "start_time": "2022-09-10T20:31:16.051Z"
   },
   {
    "duration": 62,
    "start_time": "2022-09-10T20:31:16.070Z"
   },
   {
    "duration": 5,
    "start_time": "2022-09-10T20:31:16.134Z"
   },
   {
    "duration": 17,
    "start_time": "2022-09-10T20:31:16.141Z"
   },
   {
    "duration": 8,
    "start_time": "2022-09-10T20:31:16.159Z"
   },
   {
    "duration": 10,
    "start_time": "2022-09-10T20:31:16.172Z"
   },
   {
    "duration": 47,
    "start_time": "2022-09-10T20:31:16.184Z"
   },
   {
    "duration": 10,
    "start_time": "2022-09-10T20:31:16.233Z"
   },
   {
    "duration": 15,
    "start_time": "2022-09-10T20:31:16.245Z"
   },
   {
    "duration": 48,
    "start_time": "2022-09-10T20:31:16.262Z"
   },
   {
    "duration": 11,
    "start_time": "2022-09-10T20:31:16.312Z"
   },
   {
    "duration": 16,
    "start_time": "2022-09-10T20:31:16.325Z"
   },
   {
    "duration": 7,
    "start_time": "2022-09-10T20:31:16.343Z"
   },
   {
    "duration": 14,
    "start_time": "2022-09-10T20:31:16.352Z"
   },
   {
    "duration": 20,
    "start_time": "2022-09-10T20:31:16.368Z"
   },
   {
    "duration": 9,
    "start_time": "2022-09-10T20:31:16.390Z"
   },
   {
    "duration": 5,
    "start_time": "2022-09-10T20:31:16.401Z"
   },
   {
    "duration": 15,
    "start_time": "2022-09-10T20:31:16.408Z"
   },
   {
    "duration": 3,
    "start_time": "2022-09-10T20:31:16.425Z"
   },
   {
    "duration": 493,
    "start_time": "2022-09-10T20:31:16.429Z"
   },
   {
    "duration": 7790,
    "start_time": "2022-09-10T20:31:16.923Z"
   },
   {
    "duration": 19,
    "start_time": "2022-09-10T20:31:24.715Z"
   },
   {
    "duration": 820,
    "start_time": "2022-09-10T20:31:24.740Z"
   },
   {
    "duration": 6,
    "start_time": "2022-09-10T20:31:25.562Z"
   },
   {
    "duration": 10,
    "start_time": "2022-09-10T20:31:25.569Z"
   },
   {
    "duration": 691,
    "start_time": "2022-09-10T20:31:25.581Z"
   },
   {
    "duration": 47,
    "start_time": "2022-09-10T20:31:26.274Z"
   },
   {
    "duration": 5,
    "start_time": "2022-09-10T20:31:37.995Z"
   },
   {
    "duration": 5,
    "start_time": "2022-09-10T20:31:38.552Z"
   },
   {
    "duration": 711,
    "start_time": "2022-09-10T20:31:42.863Z"
   },
   {
    "duration": 17,
    "start_time": "2022-09-10T20:31:45.677Z"
   },
   {
    "duration": 9038,
    "start_time": "2022-09-12T15:09:07.967Z"
   },
   {
    "duration": 1461,
    "start_time": "2022-09-12T15:09:17.007Z"
   },
   {
    "duration": 812,
    "start_time": "2022-09-12T15:09:18.469Z"
   },
   {
    "duration": 15,
    "start_time": "2022-09-12T15:09:19.283Z"
   },
   {
    "duration": 19,
    "start_time": "2022-09-12T15:09:19.299Z"
   },
   {
    "duration": 19,
    "start_time": "2022-09-12T15:09:19.320Z"
   },
   {
    "duration": 21,
    "start_time": "2022-09-12T15:09:19.341Z"
   },
   {
    "duration": 21,
    "start_time": "2022-09-12T15:09:19.364Z"
   },
   {
    "duration": 54,
    "start_time": "2022-09-12T15:09:19.387Z"
   },
   {
    "duration": 83,
    "start_time": "2022-09-12T15:09:19.445Z"
   },
   {
    "duration": 40,
    "start_time": "2022-09-12T15:09:19.529Z"
   },
   {
    "duration": 684,
    "start_time": "2022-09-12T15:09:19.571Z"
   },
   {
    "duration": 441,
    "start_time": "2022-09-12T15:09:20.256Z"
   },
   {
    "duration": 6,
    "start_time": "2022-09-12T15:09:20.699Z"
   },
   {
    "duration": 42,
    "start_time": "2022-09-12T15:09:20.706Z"
   },
   {
    "duration": 45,
    "start_time": "2022-09-12T15:09:20.750Z"
   },
   {
    "duration": 23,
    "start_time": "2022-09-12T15:09:20.797Z"
   },
   {
    "duration": 27,
    "start_time": "2022-09-12T15:09:20.822Z"
   },
   {
    "duration": 41,
    "start_time": "2022-09-12T15:09:20.851Z"
   },
   {
    "duration": 23,
    "start_time": "2022-09-12T15:09:20.893Z"
   },
   {
    "duration": 45,
    "start_time": "2022-09-12T15:09:20.918Z"
   },
   {
    "duration": 30,
    "start_time": "2022-09-12T15:09:20.965Z"
   },
   {
    "duration": 1077,
    "start_time": "2022-09-12T15:09:20.997Z"
   },
   {
    "duration": 66,
    "start_time": "2022-09-12T15:09:22.076Z"
   },
   {
    "duration": 1678,
    "start_time": "2022-09-12T15:09:22.144Z"
   },
   {
    "duration": 13,
    "start_time": "2022-09-12T15:09:23.824Z"
   },
   {
    "duration": 81,
    "start_time": "2022-09-12T15:09:23.839Z"
   },
   {
    "duration": 13,
    "start_time": "2022-09-12T15:09:23.923Z"
   },
   {
    "duration": 25,
    "start_time": "2022-09-12T15:09:23.938Z"
   },
   {
    "duration": 34,
    "start_time": "2022-09-12T15:09:23.965Z"
   },
   {
    "duration": 17,
    "start_time": "2022-09-12T15:09:24.000Z"
   },
   {
    "duration": 41,
    "start_time": "2022-09-12T15:09:24.019Z"
   },
   {
    "duration": 31,
    "start_time": "2022-09-12T15:09:24.062Z"
   },
   {
    "duration": 30,
    "start_time": "2022-09-12T15:09:24.095Z"
   },
   {
    "duration": 28,
    "start_time": "2022-09-12T15:09:24.127Z"
   },
   {
    "duration": 44,
    "start_time": "2022-09-12T15:09:24.156Z"
   },
   {
    "duration": 67,
    "start_time": "2022-09-12T15:09:24.202Z"
   },
   {
    "duration": 5,
    "start_time": "2022-09-12T15:09:24.271Z"
   },
   {
    "duration": 43,
    "start_time": "2022-09-12T15:09:24.278Z"
   },
   {
    "duration": 39,
    "start_time": "2022-09-12T15:09:24.323Z"
   },
   {
    "duration": 29,
    "start_time": "2022-09-12T15:09:24.364Z"
   },
   {
    "duration": 52,
    "start_time": "2022-09-12T15:09:24.395Z"
   },
   {
    "duration": 16,
    "start_time": "2022-09-12T15:09:24.449Z"
   },
   {
    "duration": 29,
    "start_time": "2022-09-12T15:09:24.466Z"
   },
   {
    "duration": 87,
    "start_time": "2022-09-12T15:09:24.497Z"
   },
   {
    "duration": 5,
    "start_time": "2022-09-12T15:09:24.586Z"
   },
   {
    "duration": 29,
    "start_time": "2022-09-12T15:09:24.594Z"
   },
   {
    "duration": 19,
    "start_time": "2022-09-12T15:09:24.626Z"
   },
   {
    "duration": 65,
    "start_time": "2022-09-12T15:09:24.647Z"
   },
   {
    "duration": 26,
    "start_time": "2022-09-12T15:09:24.714Z"
   },
   {
    "duration": 24,
    "start_time": "2022-09-12T15:09:24.742Z"
   },
   {
    "duration": 31,
    "start_time": "2022-09-12T15:09:24.768Z"
   },
   {
    "duration": 121,
    "start_time": "2022-09-12T15:09:24.800Z"
   },
   {
    "duration": 102,
    "start_time": "2022-09-12T15:09:24.926Z"
   },
   {
    "duration": 394,
    "start_time": "2022-09-12T15:09:25.030Z"
   },
   {
    "duration": 8001,
    "start_time": "2022-09-12T15:09:25.425Z"
   },
   {
    "duration": 14,
    "start_time": "2022-09-12T15:09:33.427Z"
   },
   {
    "duration": 1009,
    "start_time": "2022-09-12T15:09:33.444Z"
   },
   {
    "duration": 5,
    "start_time": "2022-09-12T15:09:34.455Z"
   },
   {
    "duration": 31,
    "start_time": "2022-09-12T15:09:34.461Z"
   },
   {
    "duration": 626,
    "start_time": "2022-09-12T15:09:34.494Z"
   },
   {
    "duration": 14,
    "start_time": "2022-09-12T15:10:08.608Z"
   },
   {
    "duration": 4,
    "start_time": "2022-09-12T15:10:28.437Z"
   },
   {
    "duration": 5,
    "start_time": "2022-09-12T15:10:28.911Z"
   },
   {
    "duration": 620,
    "start_time": "2022-09-12T15:10:29.449Z"
   },
   {
    "duration": 15,
    "start_time": "2022-09-12T15:10:33.199Z"
   },
   {
    "duration": 5,
    "start_time": "2022-09-12T15:12:54.110Z"
   },
   {
    "duration": 5,
    "start_time": "2022-09-12T15:12:54.601Z"
   },
   {
    "duration": 556,
    "start_time": "2022-09-12T15:12:55.062Z"
   },
   {
    "duration": 13,
    "start_time": "2022-09-12T15:12:56.523Z"
   },
   {
    "duration": 2367,
    "start_time": "2022-09-12T15:13:02.823Z"
   },
   {
    "duration": 1383,
    "start_time": "2022-09-12T15:13:05.192Z"
   },
   {
    "duration": 392,
    "start_time": "2022-09-12T15:13:06.577Z"
   },
   {
    "duration": 14,
    "start_time": "2022-09-12T15:13:06.971Z"
   },
   {
    "duration": 17,
    "start_time": "2022-09-12T15:13:06.987Z"
   },
   {
    "duration": 27,
    "start_time": "2022-09-12T15:13:07.006Z"
   },
   {
    "duration": 13,
    "start_time": "2022-09-12T15:13:07.035Z"
   },
   {
    "duration": 13,
    "start_time": "2022-09-12T15:13:07.050Z"
   },
   {
    "duration": 84,
    "start_time": "2022-09-12T15:13:07.065Z"
   },
   {
    "duration": 95,
    "start_time": "2022-09-12T15:13:07.151Z"
   },
   {
    "duration": 48,
    "start_time": "2022-09-12T15:13:07.248Z"
   },
   {
    "duration": 699,
    "start_time": "2022-09-12T15:13:07.298Z"
   },
   {
    "duration": 492,
    "start_time": "2022-09-12T15:13:07.998Z"
   },
   {
    "duration": 7,
    "start_time": "2022-09-12T15:13:08.493Z"
   },
   {
    "duration": 42,
    "start_time": "2022-09-12T15:13:08.501Z"
   },
   {
    "duration": 24,
    "start_time": "2022-09-12T15:13:08.545Z"
   },
   {
    "duration": 27,
    "start_time": "2022-09-12T15:13:08.572Z"
   },
   {
    "duration": 20,
    "start_time": "2022-09-12T15:13:08.601Z"
   },
   {
    "duration": 49,
    "start_time": "2022-09-12T15:13:08.623Z"
   },
   {
    "duration": 28,
    "start_time": "2022-09-12T15:13:08.674Z"
   },
   {
    "duration": 35,
    "start_time": "2022-09-12T15:13:08.704Z"
   },
   {
    "duration": 29,
    "start_time": "2022-09-12T15:13:08.741Z"
   },
   {
    "duration": 1256,
    "start_time": "2022-09-12T15:13:08.772Z"
   },
   {
    "duration": 64,
    "start_time": "2022-09-12T15:13:10.029Z"
   },
   {
    "duration": 1834,
    "start_time": "2022-09-12T15:13:10.095Z"
   },
   {
    "duration": 13,
    "start_time": "2022-09-12T15:13:11.930Z"
   },
   {
    "duration": 77,
    "start_time": "2022-09-12T15:13:11.945Z"
   },
   {
    "duration": 17,
    "start_time": "2022-09-12T15:13:12.024Z"
   },
   {
    "duration": 17,
    "start_time": "2022-09-12T15:13:12.047Z"
   },
   {
    "duration": 18,
    "start_time": "2022-09-12T15:13:12.066Z"
   },
   {
    "duration": 16,
    "start_time": "2022-09-12T15:13:12.087Z"
   },
   {
    "duration": 17,
    "start_time": "2022-09-12T15:13:12.105Z"
   },
   {
    "duration": 20,
    "start_time": "2022-09-12T15:13:12.124Z"
   },
   {
    "duration": 28,
    "start_time": "2022-09-12T15:13:12.146Z"
   },
   {
    "duration": 18,
    "start_time": "2022-09-12T15:13:12.177Z"
   },
   {
    "duration": 24,
    "start_time": "2022-09-12T15:13:12.196Z"
   },
   {
    "duration": 49,
    "start_time": "2022-09-12T15:13:12.222Z"
   },
   {
    "duration": 4,
    "start_time": "2022-09-12T15:13:12.273Z"
   },
   {
    "duration": 21,
    "start_time": "2022-09-12T15:13:12.279Z"
   },
   {
    "duration": 7,
    "start_time": "2022-09-12T15:13:12.302Z"
   },
   {
    "duration": 11,
    "start_time": "2022-09-12T15:13:12.322Z"
   },
   {
    "duration": 23,
    "start_time": "2022-09-12T15:13:12.334Z"
   },
   {
    "duration": 12,
    "start_time": "2022-09-12T15:13:12.359Z"
   },
   {
    "duration": 13,
    "start_time": "2022-09-12T15:13:12.373Z"
   },
   {
    "duration": 72,
    "start_time": "2022-09-12T15:13:12.387Z"
   },
   {
    "duration": 6,
    "start_time": "2022-09-12T15:13:12.461Z"
   },
   {
    "duration": 22,
    "start_time": "2022-09-12T15:13:12.468Z"
   },
   {
    "duration": 9,
    "start_time": "2022-09-12T15:13:12.492Z"
   },
   {
    "duration": 22,
    "start_time": "2022-09-12T15:13:12.503Z"
   },
   {
    "duration": 32,
    "start_time": "2022-09-12T15:13:12.528Z"
   },
   {
    "duration": 10,
    "start_time": "2022-09-12T15:13:12.561Z"
   },
   {
    "duration": 4,
    "start_time": "2022-09-12T15:13:12.573Z"
   },
   {
    "duration": 21,
    "start_time": "2022-09-12T15:13:12.579Z"
   },
   {
    "duration": 3,
    "start_time": "2022-09-12T15:13:12.602Z"
   },
   {
    "duration": 322,
    "start_time": "2022-09-12T15:13:12.607Z"
   },
   {
    "duration": 7444,
    "start_time": "2022-09-12T15:13:13.021Z"
   },
   {
    "duration": 15,
    "start_time": "2022-09-12T15:13:20.467Z"
   },
   {
    "duration": 722,
    "start_time": "2022-09-12T15:13:20.523Z"
   },
   {
    "duration": 5,
    "start_time": "2022-09-12T15:13:21.246Z"
   },
   {
    "duration": 27,
    "start_time": "2022-09-12T15:13:21.252Z"
   },
   {
    "duration": 692,
    "start_time": "2022-09-12T15:13:21.281Z"
   },
   {
    "duration": 4,
    "start_time": "2022-09-12T16:12:33.913Z"
   },
   {
    "duration": 5,
    "start_time": "2022-09-12T16:12:34.554Z"
   },
   {
    "duration": 179,
    "start_time": "2022-09-12T16:12:35.352Z"
   },
   {
    "duration": 12,
    "start_time": "2022-09-12T16:12:38.285Z"
   },
   {
    "duration": 2475,
    "start_time": "2022-09-12T16:12:49.776Z"
   },
   {
    "duration": 1325,
    "start_time": "2022-09-12T16:12:52.253Z"
   },
   {
    "duration": 399,
    "start_time": "2022-09-12T16:12:53.580Z"
   },
   {
    "duration": 14,
    "start_time": "2022-09-12T16:12:53.981Z"
   },
   {
    "duration": 28,
    "start_time": "2022-09-12T16:12:53.996Z"
   },
   {
    "duration": 14,
    "start_time": "2022-09-12T16:12:54.026Z"
   },
   {
    "duration": 20,
    "start_time": "2022-09-12T16:12:54.042Z"
   },
   {
    "duration": 17,
    "start_time": "2022-09-12T16:12:54.064Z"
   },
   {
    "duration": 76,
    "start_time": "2022-09-12T16:12:54.083Z"
   },
   {
    "duration": 107,
    "start_time": "2022-09-12T16:12:54.162Z"
   },
   {
    "duration": 50,
    "start_time": "2022-09-12T16:12:54.271Z"
   },
   {
    "duration": 706,
    "start_time": "2022-09-12T16:12:54.323Z"
   },
   {
    "duration": 449,
    "start_time": "2022-09-12T16:12:55.031Z"
   },
   {
    "duration": 7,
    "start_time": "2022-09-12T16:12:55.482Z"
   },
   {
    "duration": 24,
    "start_time": "2022-09-12T16:12:55.491Z"
   },
   {
    "duration": 16,
    "start_time": "2022-09-12T16:12:55.516Z"
   },
   {
    "duration": 16,
    "start_time": "2022-09-12T16:12:55.534Z"
   },
   {
    "duration": 9,
    "start_time": "2022-09-12T16:12:55.552Z"
   },
   {
    "duration": 21,
    "start_time": "2022-09-12T16:12:55.563Z"
   },
   {
    "duration": 11,
    "start_time": "2022-09-12T16:12:55.586Z"
   },
   {
    "duration": 8,
    "start_time": "2022-09-12T16:12:55.598Z"
   },
   {
    "duration": 16,
    "start_time": "2022-09-12T16:12:55.608Z"
   },
   {
    "duration": 1118,
    "start_time": "2022-09-12T16:12:55.626Z"
   },
   {
    "duration": 77,
    "start_time": "2022-09-12T16:12:56.746Z"
   },
   {
    "duration": 1805,
    "start_time": "2022-09-12T16:12:56.824Z"
   },
   {
    "duration": 12,
    "start_time": "2022-09-12T16:12:58.631Z"
   },
   {
    "duration": 54,
    "start_time": "2022-09-12T16:12:58.645Z"
   },
   {
    "duration": 29,
    "start_time": "2022-09-12T16:12:58.703Z"
   },
   {
    "duration": 12,
    "start_time": "2022-09-12T16:12:58.734Z"
   },
   {
    "duration": 15,
    "start_time": "2022-09-12T16:12:58.748Z"
   },
   {
    "duration": 7,
    "start_time": "2022-09-12T16:12:58.764Z"
   },
   {
    "duration": 10,
    "start_time": "2022-09-12T16:12:58.773Z"
   },
   {
    "duration": 15,
    "start_time": "2022-09-12T16:12:58.785Z"
   },
   {
    "duration": 27,
    "start_time": "2022-09-12T16:12:58.802Z"
   },
   {
    "duration": 13,
    "start_time": "2022-09-12T16:12:58.832Z"
   },
   {
    "duration": 19,
    "start_time": "2022-09-12T16:12:58.848Z"
   },
   {
    "duration": 70,
    "start_time": "2022-09-12T16:12:58.869Z"
   },
   {
    "duration": 9,
    "start_time": "2022-09-12T16:12:58.941Z"
   },
   {
    "duration": 35,
    "start_time": "2022-09-12T16:12:58.952Z"
   },
   {
    "duration": 16,
    "start_time": "2022-09-12T16:12:58.989Z"
   },
   {
    "duration": 12,
    "start_time": "2022-09-12T16:12:59.008Z"
   },
   {
    "duration": 35,
    "start_time": "2022-09-12T16:12:59.023Z"
   },
   {
    "duration": 17,
    "start_time": "2022-09-12T16:12:59.060Z"
   },
   {
    "duration": 19,
    "start_time": "2022-09-12T16:12:59.079Z"
   },
   {
    "duration": 71,
    "start_time": "2022-09-12T16:12:59.101Z"
   },
   {
    "duration": 6,
    "start_time": "2022-09-12T16:12:59.174Z"
   },
   {
    "duration": 29,
    "start_time": "2022-09-12T16:12:59.181Z"
   },
   {
    "duration": 13,
    "start_time": "2022-09-12T16:12:59.211Z"
   },
   {
    "duration": 11,
    "start_time": "2022-09-12T16:12:59.226Z"
   },
   {
    "duration": 53,
    "start_time": "2022-09-12T16:12:59.239Z"
   },
   {
    "duration": 11,
    "start_time": "2022-09-12T16:12:59.294Z"
   },
   {
    "duration": 13,
    "start_time": "2022-09-12T16:12:59.307Z"
   },
   {
    "duration": 23,
    "start_time": "2022-09-12T16:12:59.322Z"
   },
   {
    "duration": 6,
    "start_time": "2022-09-12T16:12:59.347Z"
   },
   {
    "duration": 369,
    "start_time": "2022-09-12T16:12:59.355Z"
   },
   {
    "duration": 7886,
    "start_time": "2022-09-12T16:12:59.725Z"
   },
   {
    "duration": 21,
    "start_time": "2022-09-12T16:13:07.613Z"
   },
   {
    "duration": 820,
    "start_time": "2022-09-12T16:13:07.636Z"
   },
   {
    "duration": 4,
    "start_time": "2022-09-12T16:13:08.458Z"
   },
   {
    "duration": 29,
    "start_time": "2022-09-12T16:13:08.464Z"
   },
   {
    "duration": 213,
    "start_time": "2022-09-12T16:13:08.495Z"
   },
   {
    "duration": 25,
    "start_time": "2022-09-12T16:13:08.710Z"
   },
   {
    "duration": 4,
    "start_time": "2022-09-12T16:13:20.163Z"
   },
   {
    "duration": 5,
    "start_time": "2022-09-12T16:13:20.638Z"
   },
   {
    "duration": 196,
    "start_time": "2022-09-12T16:13:21.091Z"
   },
   {
    "duration": 13,
    "start_time": "2022-09-12T16:13:23.368Z"
   },
   {
    "duration": 2323,
    "start_time": "2022-09-12T16:13:30.592Z"
   },
   {
    "duration": 1362,
    "start_time": "2022-09-12T16:13:32.918Z"
   },
   {
    "duration": 421,
    "start_time": "2022-09-12T16:13:34.282Z"
   },
   {
    "duration": 21,
    "start_time": "2022-09-12T16:13:34.705Z"
   },
   {
    "duration": 32,
    "start_time": "2022-09-12T16:13:34.728Z"
   },
   {
    "duration": 21,
    "start_time": "2022-09-12T16:13:34.762Z"
   },
   {
    "duration": 20,
    "start_time": "2022-09-12T16:13:34.785Z"
   },
   {
    "duration": 55,
    "start_time": "2022-09-12T16:13:34.807Z"
   },
   {
    "duration": 70,
    "start_time": "2022-09-12T16:13:34.864Z"
   },
   {
    "duration": 85,
    "start_time": "2022-09-12T16:13:34.937Z"
   },
   {
    "duration": 47,
    "start_time": "2022-09-12T16:13:35.024Z"
   },
   {
    "duration": 703,
    "start_time": "2022-09-12T16:13:35.073Z"
   },
   {
    "duration": 465,
    "start_time": "2022-09-12T16:13:35.778Z"
   },
   {
    "duration": 7,
    "start_time": "2022-09-12T16:13:36.245Z"
   },
   {
    "duration": 29,
    "start_time": "2022-09-12T16:13:36.254Z"
   },
   {
    "duration": 22,
    "start_time": "2022-09-12T16:13:36.284Z"
   },
   {
    "duration": 44,
    "start_time": "2022-09-12T16:13:36.309Z"
   },
   {
    "duration": 42,
    "start_time": "2022-09-12T16:13:36.355Z"
   },
   {
    "duration": 36,
    "start_time": "2022-09-12T16:13:36.399Z"
   },
   {
    "duration": 40,
    "start_time": "2022-09-12T16:13:36.437Z"
   },
   {
    "duration": 24,
    "start_time": "2022-09-12T16:13:36.479Z"
   },
   {
    "duration": 34,
    "start_time": "2022-09-12T16:13:36.505Z"
   },
   {
    "duration": 1147,
    "start_time": "2022-09-12T16:13:36.541Z"
   },
   {
    "duration": 67,
    "start_time": "2022-09-12T16:13:37.690Z"
   },
   {
    "duration": 1791,
    "start_time": "2022-09-12T16:13:37.759Z"
   },
   {
    "duration": 12,
    "start_time": "2022-09-12T16:13:39.552Z"
   },
   {
    "duration": 65,
    "start_time": "2022-09-12T16:13:39.565Z"
   },
   {
    "duration": 13,
    "start_time": "2022-09-12T16:13:39.634Z"
   },
   {
    "duration": 25,
    "start_time": "2022-09-12T16:13:39.649Z"
   },
   {
    "duration": 27,
    "start_time": "2022-09-12T16:13:39.675Z"
   },
   {
    "duration": 16,
    "start_time": "2022-09-12T16:13:39.704Z"
   },
   {
    "duration": 40,
    "start_time": "2022-09-12T16:13:39.721Z"
   },
   {
    "duration": 23,
    "start_time": "2022-09-12T16:13:39.763Z"
   },
   {
    "duration": 63,
    "start_time": "2022-09-12T16:13:39.787Z"
   },
   {
    "duration": 35,
    "start_time": "2022-09-12T16:13:39.852Z"
   },
   {
    "duration": 34,
    "start_time": "2022-09-12T16:13:39.889Z"
   },
   {
    "duration": 74,
    "start_time": "2022-09-12T16:13:39.925Z"
   },
   {
    "duration": 5,
    "start_time": "2022-09-12T16:13:40.001Z"
   },
   {
    "duration": 40,
    "start_time": "2022-09-12T16:13:40.008Z"
   },
   {
    "duration": 16,
    "start_time": "2022-09-12T16:13:40.050Z"
   },
   {
    "duration": 29,
    "start_time": "2022-09-12T16:13:40.068Z"
   },
   {
    "duration": 34,
    "start_time": "2022-09-12T16:13:40.099Z"
   },
   {
    "duration": 18,
    "start_time": "2022-09-12T16:13:40.135Z"
   },
   {
    "duration": 33,
    "start_time": "2022-09-12T16:13:40.155Z"
   },
   {
    "duration": 72,
    "start_time": "2022-09-12T16:13:40.190Z"
   },
   {
    "duration": 5,
    "start_time": "2022-09-12T16:13:40.264Z"
   },
   {
    "duration": 19,
    "start_time": "2022-09-12T16:13:40.271Z"
   },
   {
    "duration": 21,
    "start_time": "2022-09-12T16:13:40.292Z"
   },
   {
    "duration": 34,
    "start_time": "2022-09-12T16:13:40.315Z"
   },
   {
    "duration": 45,
    "start_time": "2022-09-12T16:13:40.351Z"
   },
   {
    "duration": 26,
    "start_time": "2022-09-12T16:13:40.398Z"
   },
   {
    "duration": 30,
    "start_time": "2022-09-12T16:13:40.426Z"
   },
   {
    "duration": 37,
    "start_time": "2022-09-12T16:13:40.457Z"
   },
   {
    "duration": 32,
    "start_time": "2022-09-12T16:13:40.495Z"
   },
   {
    "duration": 295,
    "start_time": "2022-09-12T16:13:40.529Z"
   },
   {
    "duration": 8795,
    "start_time": "2022-09-12T16:13:40.826Z"
   },
   {
    "duration": 15,
    "start_time": "2022-09-12T16:13:49.622Z"
   },
   {
    "duration": 830,
    "start_time": "2022-09-12T16:13:49.639Z"
   },
   {
    "duration": 4,
    "start_time": "2022-09-12T16:13:50.471Z"
   },
   {
    "duration": 15,
    "start_time": "2022-09-12T16:13:50.477Z"
   },
   {
    "duration": 734,
    "start_time": "2022-09-12T16:13:50.494Z"
   },
   {
    "duration": 15,
    "start_time": "2022-09-12T16:13:51.230Z"
   },
   {
    "duration": 5,
    "start_time": "2022-09-12T16:14:13.072Z"
   },
   {
    "duration": 6,
    "start_time": "2022-09-12T16:14:13.622Z"
   },
   {
    "duration": 672,
    "start_time": "2022-09-12T16:14:14.232Z"
   },
   {
    "duration": 34,
    "start_time": "2022-09-12T16:14:17.386Z"
   },
   {
    "duration": 2258,
    "start_time": "2022-09-12T16:14:25.496Z"
   },
   {
    "duration": 1355,
    "start_time": "2022-09-12T16:14:27.757Z"
   },
   {
    "duration": 386,
    "start_time": "2022-09-12T16:14:29.114Z"
   },
   {
    "duration": 14,
    "start_time": "2022-09-12T16:14:29.502Z"
   },
   {
    "duration": 19,
    "start_time": "2022-09-12T16:14:29.521Z"
   },
   {
    "duration": 13,
    "start_time": "2022-09-12T16:14:29.542Z"
   },
   {
    "duration": 14,
    "start_time": "2022-09-12T16:14:29.557Z"
   },
   {
    "duration": 13,
    "start_time": "2022-09-12T16:14:29.573Z"
   },
   {
    "duration": 81,
    "start_time": "2022-09-12T16:14:29.588Z"
   },
   {
    "duration": 95,
    "start_time": "2022-09-12T16:14:29.671Z"
   },
   {
    "duration": 55,
    "start_time": "2022-09-12T16:14:29.768Z"
   },
   {
    "duration": 719,
    "start_time": "2022-09-12T16:14:29.825Z"
   },
   {
    "duration": 438,
    "start_time": "2022-09-12T16:14:30.546Z"
   },
   {
    "duration": 8,
    "start_time": "2022-09-12T16:14:30.987Z"
   },
   {
    "duration": 26,
    "start_time": "2022-09-12T16:14:30.997Z"
   },
   {
    "duration": 17,
    "start_time": "2022-09-12T16:14:31.025Z"
   },
   {
    "duration": 20,
    "start_time": "2022-09-12T16:14:31.043Z"
   },
   {
    "duration": 11,
    "start_time": "2022-09-12T16:14:31.065Z"
   },
   {
    "duration": 22,
    "start_time": "2022-09-12T16:14:31.078Z"
   },
   {
    "duration": 32,
    "start_time": "2022-09-12T16:14:31.102Z"
   },
   {
    "duration": 19,
    "start_time": "2022-09-12T16:14:31.136Z"
   },
   {
    "duration": 19,
    "start_time": "2022-09-12T16:14:31.156Z"
   },
   {
    "duration": 1106,
    "start_time": "2022-09-12T16:14:31.178Z"
   },
   {
    "duration": 73,
    "start_time": "2022-09-12T16:14:32.286Z"
   },
   {
    "duration": 1825,
    "start_time": "2022-09-12T16:14:32.360Z"
   },
   {
    "duration": 13,
    "start_time": "2022-09-12T16:14:34.187Z"
   },
   {
    "duration": 75,
    "start_time": "2022-09-12T16:14:34.201Z"
   },
   {
    "duration": 12,
    "start_time": "2022-09-12T16:14:34.278Z"
   },
   {
    "duration": 15,
    "start_time": "2022-09-12T16:14:34.292Z"
   },
   {
    "duration": 17,
    "start_time": "2022-09-12T16:14:34.308Z"
   },
   {
    "duration": 7,
    "start_time": "2022-09-12T16:14:34.327Z"
   },
   {
    "duration": 23,
    "start_time": "2022-09-12T16:14:34.336Z"
   },
   {
    "duration": 14,
    "start_time": "2022-09-12T16:14:34.361Z"
   },
   {
    "duration": 39,
    "start_time": "2022-09-12T16:14:34.377Z"
   },
   {
    "duration": 19,
    "start_time": "2022-09-12T16:14:34.418Z"
   },
   {
    "duration": 26,
    "start_time": "2022-09-12T16:14:34.439Z"
   },
   {
    "duration": 46,
    "start_time": "2022-09-12T16:14:34.467Z"
   },
   {
    "duration": 6,
    "start_time": "2022-09-12T16:14:34.514Z"
   },
   {
    "duration": 35,
    "start_time": "2022-09-12T16:14:34.522Z"
   },
   {
    "duration": 8,
    "start_time": "2022-09-12T16:14:34.559Z"
   },
   {
    "duration": 10,
    "start_time": "2022-09-12T16:14:34.571Z"
   },
   {
    "duration": 25,
    "start_time": "2022-09-12T16:14:34.583Z"
   },
   {
    "duration": 9,
    "start_time": "2022-09-12T16:14:34.610Z"
   },
   {
    "duration": 20,
    "start_time": "2022-09-12T16:14:34.621Z"
   },
   {
    "duration": 49,
    "start_time": "2022-09-12T16:14:34.643Z"
   },
   {
    "duration": 5,
    "start_time": "2022-09-12T16:14:34.693Z"
   },
   {
    "duration": 61,
    "start_time": "2022-09-12T16:14:34.700Z"
   },
   {
    "duration": 8,
    "start_time": "2022-09-12T16:14:34.763Z"
   },
   {
    "duration": 17,
    "start_time": "2022-09-12T16:14:34.772Z"
   },
   {
    "duration": 28,
    "start_time": "2022-09-12T16:14:34.790Z"
   },
   {
    "duration": 10,
    "start_time": "2022-09-12T16:14:34.819Z"
   },
   {
    "duration": 8,
    "start_time": "2022-09-12T16:14:34.831Z"
   },
   {
    "duration": 13,
    "start_time": "2022-09-12T16:14:34.841Z"
   },
   {
    "duration": 6,
    "start_time": "2022-09-12T16:14:34.855Z"
   },
   {
    "duration": 362,
    "start_time": "2022-09-12T16:14:34.862Z"
   },
   {
    "duration": 8147,
    "start_time": "2022-09-12T16:14:35.226Z"
   },
   {
    "duration": 46,
    "start_time": "2022-09-12T16:14:43.375Z"
   },
   {
    "duration": 834,
    "start_time": "2022-09-12T16:14:43.423Z"
   },
   {
    "duration": 6,
    "start_time": "2022-09-12T16:14:44.259Z"
   },
   {
    "duration": 6,
    "start_time": "2022-09-12T16:14:44.267Z"
   },
   {
    "duration": 583,
    "start_time": "2022-09-12T16:14:44.275Z"
   },
   {
    "duration": 15,
    "start_time": "2022-09-12T16:14:44.860Z"
   },
   {
    "duration": 4,
    "start_time": "2022-09-12T16:15:00.389Z"
   },
   {
    "duration": 6,
    "start_time": "2022-09-12T16:15:01.012Z"
   },
   {
    "duration": 633,
    "start_time": "2022-09-12T16:15:01.481Z"
   },
   {
    "duration": 14,
    "start_time": "2022-09-12T16:15:06.049Z"
   },
   {
    "duration": 2351,
    "start_time": "2022-09-12T16:15:12.024Z"
   },
   {
    "duration": 1195,
    "start_time": "2022-09-12T16:15:14.377Z"
   },
   {
    "duration": 399,
    "start_time": "2022-09-12T16:15:15.574Z"
   },
   {
    "duration": 13,
    "start_time": "2022-09-12T16:15:15.975Z"
   },
   {
    "duration": 19,
    "start_time": "2022-09-12T16:15:15.990Z"
   },
   {
    "duration": 20,
    "start_time": "2022-09-12T16:15:16.011Z"
   },
   {
    "duration": 16,
    "start_time": "2022-09-12T16:15:16.033Z"
   },
   {
    "duration": 12,
    "start_time": "2022-09-12T16:15:16.051Z"
   },
   {
    "duration": 76,
    "start_time": "2022-09-12T16:15:16.065Z"
   },
   {
    "duration": 93,
    "start_time": "2022-09-12T16:15:16.142Z"
   },
   {
    "duration": 47,
    "start_time": "2022-09-12T16:15:16.237Z"
   },
   {
    "duration": 702,
    "start_time": "2022-09-12T16:15:16.286Z"
   },
   {
    "duration": 445,
    "start_time": "2022-09-12T16:15:16.990Z"
   },
   {
    "duration": 5,
    "start_time": "2022-09-12T16:15:17.439Z"
   },
   {
    "duration": 14,
    "start_time": "2022-09-12T16:15:17.446Z"
   },
   {
    "duration": 10,
    "start_time": "2022-09-12T16:15:17.462Z"
   },
   {
    "duration": 10,
    "start_time": "2022-09-12T16:15:17.474Z"
   },
   {
    "duration": 7,
    "start_time": "2022-09-12T16:15:17.486Z"
   },
   {
    "duration": 31,
    "start_time": "2022-09-12T16:15:17.495Z"
   },
   {
    "duration": 20,
    "start_time": "2022-09-12T16:15:17.528Z"
   },
   {
    "duration": 8,
    "start_time": "2022-09-12T16:15:17.550Z"
   },
   {
    "duration": 11,
    "start_time": "2022-09-12T16:15:17.560Z"
   },
   {
    "duration": 1066,
    "start_time": "2022-09-12T16:15:17.572Z"
   },
   {
    "duration": 56,
    "start_time": "2022-09-12T16:15:18.640Z"
   },
   {
    "duration": 1879,
    "start_time": "2022-09-12T16:15:18.698Z"
   },
   {
    "duration": 13,
    "start_time": "2022-09-12T16:15:20.579Z"
   },
   {
    "duration": 66,
    "start_time": "2022-09-12T16:15:20.594Z"
   },
   {
    "duration": 13,
    "start_time": "2022-09-12T16:15:20.662Z"
   },
   {
    "duration": 8,
    "start_time": "2022-09-12T16:15:20.677Z"
   },
   {
    "duration": 13,
    "start_time": "2022-09-12T16:15:20.687Z"
   },
   {
    "duration": 32,
    "start_time": "2022-09-12T16:15:20.702Z"
   },
   {
    "duration": 32,
    "start_time": "2022-09-12T16:15:20.737Z"
   },
   {
    "duration": 8,
    "start_time": "2022-09-12T16:15:20.771Z"
   },
   {
    "duration": 19,
    "start_time": "2022-09-12T16:15:20.781Z"
   },
   {
    "duration": 10,
    "start_time": "2022-09-12T16:15:20.802Z"
   },
   {
    "duration": 21,
    "start_time": "2022-09-12T16:15:20.813Z"
   },
   {
    "duration": 44,
    "start_time": "2022-09-12T16:15:20.836Z"
   },
   {
    "duration": 5,
    "start_time": "2022-09-12T16:15:20.882Z"
   },
   {
    "duration": 26,
    "start_time": "2022-09-12T16:15:20.889Z"
   },
   {
    "duration": 11,
    "start_time": "2022-09-12T16:15:20.916Z"
   },
   {
    "duration": 16,
    "start_time": "2022-09-12T16:15:20.931Z"
   },
   {
    "duration": 25,
    "start_time": "2022-09-12T16:15:20.948Z"
   },
   {
    "duration": 21,
    "start_time": "2022-09-12T16:15:20.975Z"
   },
   {
    "duration": 16,
    "start_time": "2022-09-12T16:15:20.999Z"
   },
   {
    "duration": 49,
    "start_time": "2022-09-12T16:15:21.017Z"
   },
   {
    "duration": 6,
    "start_time": "2022-09-12T16:15:21.068Z"
   },
   {
    "duration": 20,
    "start_time": "2022-09-12T16:15:21.075Z"
   },
   {
    "duration": 26,
    "start_time": "2022-09-12T16:15:21.097Z"
   },
   {
    "duration": 11,
    "start_time": "2022-09-12T16:15:21.125Z"
   },
   {
    "duration": 23,
    "start_time": "2022-09-12T16:15:21.137Z"
   },
   {
    "duration": 10,
    "start_time": "2022-09-12T16:15:21.161Z"
   },
   {
    "duration": 19,
    "start_time": "2022-09-12T16:15:21.173Z"
   },
   {
    "duration": 15,
    "start_time": "2022-09-12T16:15:21.194Z"
   },
   {
    "duration": 3,
    "start_time": "2022-09-12T16:15:21.220Z"
   },
   {
    "duration": 399,
    "start_time": "2022-09-12T16:15:21.225Z"
   },
   {
    "duration": 8108,
    "start_time": "2022-09-12T16:15:21.626Z"
   },
   {
    "duration": 15,
    "start_time": "2022-09-12T16:15:29.736Z"
   },
   {
    "duration": 907,
    "start_time": "2022-09-12T16:15:29.753Z"
   },
   {
    "duration": 5,
    "start_time": "2022-09-12T16:15:30.662Z"
   },
   {
    "duration": 16,
    "start_time": "2022-09-12T16:15:30.668Z"
   },
   {
    "duration": 767,
    "start_time": "2022-09-12T16:15:30.686Z"
   },
   {
    "duration": 15,
    "start_time": "2022-09-12T16:15:31.455Z"
   },
   {
    "duration": 4,
    "start_time": "2022-09-12T16:15:47.679Z"
   },
   {
    "duration": 5,
    "start_time": "2022-09-12T16:15:48.136Z"
   },
   {
    "duration": 775,
    "start_time": "2022-09-12T16:15:48.622Z"
   },
   {
    "duration": 16,
    "start_time": "2022-09-12T16:15:49.876Z"
   },
   {
    "duration": 4,
    "start_time": "2022-09-12T16:16:02.149Z"
   },
   {
    "duration": 6,
    "start_time": "2022-09-12T16:16:02.600Z"
   },
   {
    "duration": 691,
    "start_time": "2022-09-12T16:16:03.053Z"
   },
   {
    "duration": 14,
    "start_time": "2022-09-12T16:16:04.168Z"
   },
   {
    "duration": 93,
    "start_time": "2022-09-12T16:18:28.633Z"
   },
   {
    "duration": 64,
    "start_time": "2022-09-12T16:18:33.654Z"
   },
   {
    "duration": 47,
    "start_time": "2022-09-12T16:18:47.361Z"
   },
   {
    "duration": 8627,
    "start_time": "2022-09-12T16:18:55.602Z"
   },
   {
    "duration": 23,
    "start_time": "2022-09-12T16:22:36.377Z"
   },
   {
    "duration": 2342,
    "start_time": "2022-09-12T16:22:45.942Z"
   },
   {
    "duration": 1305,
    "start_time": "2022-09-12T16:22:48.287Z"
   },
   {
    "duration": 392,
    "start_time": "2022-09-12T16:22:49.593Z"
   },
   {
    "duration": 14,
    "start_time": "2022-09-12T16:22:49.987Z"
   },
   {
    "duration": 26,
    "start_time": "2022-09-12T16:22:50.004Z"
   },
   {
    "duration": 14,
    "start_time": "2022-09-12T16:22:50.032Z"
   },
   {
    "duration": 38,
    "start_time": "2022-09-12T16:22:50.048Z"
   },
   {
    "duration": 14,
    "start_time": "2022-09-12T16:22:50.089Z"
   },
   {
    "duration": 62,
    "start_time": "2022-09-12T16:22:50.105Z"
   },
   {
    "duration": 95,
    "start_time": "2022-09-12T16:22:50.169Z"
   },
   {
    "duration": 55,
    "start_time": "2022-09-12T16:22:50.266Z"
   },
   {
    "duration": 1034,
    "start_time": "2022-09-12T16:22:50.323Z"
   },
   {
    "duration": 983,
    "start_time": "2022-09-12T16:22:51.359Z"
   },
   {
    "duration": 6,
    "start_time": "2022-09-12T16:22:52.346Z"
   },
   {
    "duration": 67,
    "start_time": "2022-09-12T16:22:52.354Z"
   },
   {
    "duration": 9,
    "start_time": "2022-09-12T16:22:52.423Z"
   },
   {
    "duration": 16,
    "start_time": "2022-09-12T16:22:52.434Z"
   },
   {
    "duration": 8,
    "start_time": "2022-09-12T16:22:52.452Z"
   },
   {
    "duration": 67,
    "start_time": "2022-09-12T16:22:52.461Z"
   },
   {
    "duration": 34,
    "start_time": "2022-09-12T16:22:52.530Z"
   },
   {
    "duration": 55,
    "start_time": "2022-09-12T16:22:52.567Z"
   },
   {
    "duration": 17,
    "start_time": "2022-09-12T16:22:52.624Z"
   },
   {
    "duration": 1348,
    "start_time": "2022-09-12T16:22:52.643Z"
   },
   {
    "duration": 68,
    "start_time": "2022-09-12T16:22:53.993Z"
   },
   {
    "duration": 1773,
    "start_time": "2022-09-12T16:22:54.062Z"
   },
   {
    "duration": 13,
    "start_time": "2022-09-12T16:22:55.837Z"
   },
   {
    "duration": 78,
    "start_time": "2022-09-12T16:22:55.852Z"
   },
   {
    "duration": 13,
    "start_time": "2022-09-12T16:22:55.932Z"
   },
   {
    "duration": 28,
    "start_time": "2022-09-12T16:22:55.947Z"
   },
   {
    "duration": 40,
    "start_time": "2022-09-12T16:22:55.977Z"
   },
   {
    "duration": 34,
    "start_time": "2022-09-12T16:22:56.019Z"
   },
   {
    "duration": 34,
    "start_time": "2022-09-12T16:22:56.055Z"
   },
   {
    "duration": 157,
    "start_time": "2022-09-12T16:22:56.091Z"
   },
   {
    "duration": 0,
    "start_time": "2022-09-12T16:22:56.250Z"
   },
   {
    "duration": 0,
    "start_time": "2022-09-12T16:22:56.251Z"
   },
   {
    "duration": 0,
    "start_time": "2022-09-12T16:22:56.252Z"
   },
   {
    "duration": 0,
    "start_time": "2022-09-12T16:22:56.253Z"
   },
   {
    "duration": 0,
    "start_time": "2022-09-12T16:22:56.255Z"
   },
   {
    "duration": 0,
    "start_time": "2022-09-12T16:22:56.256Z"
   },
   {
    "duration": 0,
    "start_time": "2022-09-12T16:22:56.257Z"
   },
   {
    "duration": 0,
    "start_time": "2022-09-12T16:22:56.258Z"
   },
   {
    "duration": 0,
    "start_time": "2022-09-12T16:22:56.259Z"
   },
   {
    "duration": 0,
    "start_time": "2022-09-12T16:22:56.260Z"
   },
   {
    "duration": 0,
    "start_time": "2022-09-12T16:22:56.261Z"
   },
   {
    "duration": 0,
    "start_time": "2022-09-12T16:22:56.262Z"
   },
   {
    "duration": 0,
    "start_time": "2022-09-12T16:22:56.263Z"
   },
   {
    "duration": 0,
    "start_time": "2022-09-12T16:22:56.264Z"
   },
   {
    "duration": 0,
    "start_time": "2022-09-12T16:22:56.265Z"
   },
   {
    "duration": 0,
    "start_time": "2022-09-12T16:22:56.266Z"
   },
   {
    "duration": 0,
    "start_time": "2022-09-12T16:22:56.267Z"
   },
   {
    "duration": 0,
    "start_time": "2022-09-12T16:22:56.268Z"
   },
   {
    "duration": 0,
    "start_time": "2022-09-12T16:22:56.269Z"
   },
   {
    "duration": 0,
    "start_time": "2022-09-12T16:22:56.270Z"
   },
   {
    "duration": 0,
    "start_time": "2022-09-12T16:22:56.271Z"
   },
   {
    "duration": 14,
    "start_time": "2022-09-12T16:23:05.060Z"
   },
   {
    "duration": 9,
    "start_time": "2022-09-12T16:23:08.170Z"
   },
   {
    "duration": 32,
    "start_time": "2022-09-12T16:23:08.181Z"
   },
   {
    "duration": 52,
    "start_time": "2022-09-12T16:23:08.214Z"
   },
   {
    "duration": 6,
    "start_time": "2022-09-12T16:23:08.268Z"
   },
   {
    "duration": 21,
    "start_time": "2022-09-12T16:23:08.277Z"
   },
   {
    "duration": 20,
    "start_time": "2022-09-12T16:23:08.300Z"
   },
   {
    "duration": 35,
    "start_time": "2022-09-12T16:23:08.322Z"
   },
   {
    "duration": 0,
    "start_time": "2022-09-12T16:23:08.359Z"
   },
   {
    "duration": 0,
    "start_time": "2022-09-12T16:23:08.360Z"
   },
   {
    "duration": 0,
    "start_time": "2022-09-12T16:23:08.362Z"
   },
   {
    "duration": 0,
    "start_time": "2022-09-12T16:23:08.363Z"
   },
   {
    "duration": 0,
    "start_time": "2022-09-12T16:23:08.364Z"
   },
   {
    "duration": 0,
    "start_time": "2022-09-12T16:23:08.366Z"
   },
   {
    "duration": 0,
    "start_time": "2022-09-12T16:23:08.367Z"
   },
   {
    "duration": 0,
    "start_time": "2022-09-12T16:23:08.368Z"
   },
   {
    "duration": 0,
    "start_time": "2022-09-12T16:23:08.369Z"
   },
   {
    "duration": 0,
    "start_time": "2022-09-12T16:23:08.371Z"
   },
   {
    "duration": 0,
    "start_time": "2022-09-12T16:23:08.372Z"
   },
   {
    "duration": 0,
    "start_time": "2022-09-12T16:23:08.373Z"
   },
   {
    "duration": 0,
    "start_time": "2022-09-12T16:23:08.374Z"
   },
   {
    "duration": 0,
    "start_time": "2022-09-12T16:23:08.375Z"
   },
   {
    "duration": 10,
    "start_time": "2022-09-12T16:23:23.088Z"
   },
   {
    "duration": 2471,
    "start_time": "2022-09-12T16:23:28.504Z"
   },
   {
    "duration": 1277,
    "start_time": "2022-09-12T16:23:30.977Z"
   },
   {
    "duration": 389,
    "start_time": "2022-09-12T16:23:32.255Z"
   },
   {
    "duration": 18,
    "start_time": "2022-09-12T16:23:32.647Z"
   },
   {
    "duration": 21,
    "start_time": "2022-09-12T16:23:32.668Z"
   },
   {
    "duration": 29,
    "start_time": "2022-09-12T16:23:32.691Z"
   },
   {
    "duration": 17,
    "start_time": "2022-09-12T16:23:32.722Z"
   },
   {
    "duration": 14,
    "start_time": "2022-09-12T16:23:32.741Z"
   },
   {
    "duration": 67,
    "start_time": "2022-09-12T16:23:32.756Z"
   },
   {
    "duration": 78,
    "start_time": "2022-09-12T16:23:32.824Z"
   },
   {
    "duration": 57,
    "start_time": "2022-09-12T16:23:32.903Z"
   },
   {
    "duration": 667,
    "start_time": "2022-09-12T16:23:32.962Z"
   },
   {
    "duration": 449,
    "start_time": "2022-09-12T16:23:33.631Z"
   },
   {
    "duration": 6,
    "start_time": "2022-09-12T16:23:34.084Z"
   },
   {
    "duration": 29,
    "start_time": "2022-09-12T16:23:34.091Z"
   },
   {
    "duration": 12,
    "start_time": "2022-09-12T16:23:34.122Z"
   },
   {
    "duration": 11,
    "start_time": "2022-09-12T16:23:34.135Z"
   },
   {
    "duration": 15,
    "start_time": "2022-09-12T16:23:34.148Z"
   },
   {
    "duration": 41,
    "start_time": "2022-09-12T16:23:34.165Z"
   },
   {
    "duration": 17,
    "start_time": "2022-09-12T16:23:34.208Z"
   },
   {
    "duration": 9,
    "start_time": "2022-09-12T16:23:34.227Z"
   },
   {
    "duration": 10,
    "start_time": "2022-09-12T16:23:34.237Z"
   },
   {
    "duration": 1044,
    "start_time": "2022-09-12T16:23:34.248Z"
   },
   {
    "duration": 66,
    "start_time": "2022-09-12T16:23:35.293Z"
   },
   {
    "duration": 1652,
    "start_time": "2022-09-12T16:23:35.360Z"
   },
   {
    "duration": 15,
    "start_time": "2022-09-12T16:23:37.014Z"
   },
   {
    "duration": 57,
    "start_time": "2022-09-12T16:23:37.031Z"
   },
   {
    "duration": 12,
    "start_time": "2022-09-12T16:23:37.090Z"
   },
   {
    "duration": 5,
    "start_time": "2022-09-12T16:23:37.121Z"
   },
   {
    "duration": 14,
    "start_time": "2022-09-12T16:23:37.127Z"
   },
   {
    "duration": 11,
    "start_time": "2022-09-12T16:23:37.143Z"
   },
   {
    "duration": 12,
    "start_time": "2022-09-12T16:23:37.156Z"
   },
   {
    "duration": 23,
    "start_time": "2022-09-12T16:23:37.170Z"
   },
   {
    "duration": 13,
    "start_time": "2022-09-12T16:23:37.195Z"
   },
   {
    "duration": 10,
    "start_time": "2022-09-12T16:23:37.221Z"
   },
   {
    "duration": 48,
    "start_time": "2022-09-12T16:23:37.233Z"
   },
   {
    "duration": 5,
    "start_time": "2022-09-12T16:23:37.283Z"
   },
   {
    "duration": 41,
    "start_time": "2022-09-12T16:23:37.289Z"
   },
   {
    "duration": 14,
    "start_time": "2022-09-12T16:23:37.332Z"
   },
   {
    "duration": 34,
    "start_time": "2022-09-12T16:23:37.348Z"
   },
   {
    "duration": 22,
    "start_time": "2022-09-12T16:23:37.385Z"
   },
   {
    "duration": 29,
    "start_time": "2022-09-12T16:23:37.408Z"
   },
   {
    "duration": 75,
    "start_time": "2022-09-12T16:23:37.439Z"
   },
   {
    "duration": 5,
    "start_time": "2022-09-12T16:23:37.515Z"
   },
   {
    "duration": 34,
    "start_time": "2022-09-12T16:23:37.522Z"
   },
   {
    "duration": 10,
    "start_time": "2022-09-12T16:23:37.558Z"
   },
   {
    "duration": 37,
    "start_time": "2022-09-12T16:23:37.570Z"
   },
   {
    "duration": 22,
    "start_time": "2022-09-12T16:23:37.609Z"
   },
   {
    "duration": 21,
    "start_time": "2022-09-12T16:23:37.633Z"
   },
   {
    "duration": 22,
    "start_time": "2022-09-12T16:23:37.655Z"
   },
   {
    "duration": 20,
    "start_time": "2022-09-12T16:23:37.679Z"
   },
   {
    "duration": 323,
    "start_time": "2022-09-12T16:23:37.701Z"
   },
   {
    "duration": 8348,
    "start_time": "2022-09-12T16:23:38.026Z"
   },
   {
    "duration": 51,
    "start_time": "2022-09-12T16:23:46.376Z"
   },
   {
    "duration": 2620,
    "start_time": "2022-09-12T16:25:01.547Z"
   },
   {
    "duration": 1242,
    "start_time": "2022-09-12T16:25:04.170Z"
   },
   {
    "duration": 377,
    "start_time": "2022-09-12T16:25:05.413Z"
   },
   {
    "duration": 14,
    "start_time": "2022-09-12T16:25:05.792Z"
   },
   {
    "duration": 30,
    "start_time": "2022-09-12T16:25:05.808Z"
   },
   {
    "duration": 16,
    "start_time": "2022-09-12T16:25:05.840Z"
   },
   {
    "duration": 45,
    "start_time": "2022-09-12T16:25:05.858Z"
   },
   {
    "duration": 19,
    "start_time": "2022-09-12T16:25:05.905Z"
   },
   {
    "duration": 60,
    "start_time": "2022-09-12T16:25:05.925Z"
   },
   {
    "duration": 79,
    "start_time": "2022-09-12T16:25:05.986Z"
   },
   {
    "duration": 56,
    "start_time": "2022-09-12T16:25:06.067Z"
   },
   {
    "duration": 697,
    "start_time": "2022-09-12T16:25:06.125Z"
   },
   {
    "duration": 433,
    "start_time": "2022-09-12T16:25:06.824Z"
   },
   {
    "duration": 6,
    "start_time": "2022-09-12T16:25:07.261Z"
   },
   {
    "duration": 34,
    "start_time": "2022-09-12T16:25:07.268Z"
   },
   {
    "duration": 28,
    "start_time": "2022-09-12T16:25:07.303Z"
   },
   {
    "duration": 27,
    "start_time": "2022-09-12T16:25:07.333Z"
   },
   {
    "duration": 28,
    "start_time": "2022-09-12T16:25:07.361Z"
   },
   {
    "duration": 37,
    "start_time": "2022-09-12T16:25:07.391Z"
   },
   {
    "duration": 37,
    "start_time": "2022-09-12T16:25:07.429Z"
   },
   {
    "duration": 20,
    "start_time": "2022-09-12T16:25:07.467Z"
   },
   {
    "duration": 30,
    "start_time": "2022-09-12T16:25:07.488Z"
   },
   {
    "duration": 1109,
    "start_time": "2022-09-12T16:25:07.520Z"
   },
   {
    "duration": 66,
    "start_time": "2022-09-12T16:25:08.631Z"
   },
   {
    "duration": 1833,
    "start_time": "2022-09-12T16:25:08.699Z"
   },
   {
    "duration": 12,
    "start_time": "2022-09-12T16:25:10.534Z"
   },
   {
    "duration": 66,
    "start_time": "2022-09-12T16:25:10.548Z"
   },
   {
    "duration": 11,
    "start_time": "2022-09-12T16:25:10.621Z"
   },
   {
    "duration": 15,
    "start_time": "2022-09-12T16:25:10.634Z"
   },
   {
    "duration": 14,
    "start_time": "2022-09-12T16:25:10.650Z"
   },
   {
    "duration": 10,
    "start_time": "2022-09-12T16:25:10.666Z"
   },
   {
    "duration": 8,
    "start_time": "2022-09-12T16:25:10.678Z"
   },
   {
    "duration": 33,
    "start_time": "2022-09-12T16:25:10.687Z"
   },
   {
    "duration": 9,
    "start_time": "2022-09-12T16:25:10.722Z"
   },
   {
    "duration": 15,
    "start_time": "2022-09-12T16:25:10.732Z"
   },
   {
    "duration": 47,
    "start_time": "2022-09-12T16:25:10.749Z"
   },
   {
    "duration": 24,
    "start_time": "2022-09-12T16:25:10.798Z"
   },
   {
    "duration": 22,
    "start_time": "2022-09-12T16:25:10.824Z"
   },
   {
    "duration": 13,
    "start_time": "2022-09-12T16:25:10.847Z"
   },
   {
    "duration": 27,
    "start_time": "2022-09-12T16:25:10.862Z"
   },
   {
    "duration": 16,
    "start_time": "2022-09-12T16:25:10.894Z"
   },
   {
    "duration": 14,
    "start_time": "2022-09-12T16:25:10.912Z"
   },
   {
    "duration": 48,
    "start_time": "2022-09-12T16:25:10.928Z"
   },
   {
    "duration": 6,
    "start_time": "2022-09-12T16:25:10.978Z"
   },
   {
    "duration": 18,
    "start_time": "2022-09-12T16:25:10.985Z"
   },
   {
    "duration": 12,
    "start_time": "2022-09-12T16:25:11.020Z"
   },
   {
    "duration": 31,
    "start_time": "2022-09-12T16:25:11.034Z"
   },
   {
    "duration": 12,
    "start_time": "2022-09-12T16:25:11.067Z"
   },
   {
    "duration": 5,
    "start_time": "2022-09-12T16:25:11.081Z"
   },
   {
    "duration": 13,
    "start_time": "2022-09-12T16:25:11.088Z"
   },
   {
    "duration": 18,
    "start_time": "2022-09-12T16:25:11.103Z"
   },
   {
    "duration": 411,
    "start_time": "2022-09-12T16:25:11.122Z"
   },
   {
    "duration": 7736,
    "start_time": "2022-09-12T16:25:11.621Z"
   },
   {
    "duration": 11,
    "start_time": "2022-09-12T16:25:19.359Z"
   },
   {
    "duration": 2286,
    "start_time": "2022-09-12T16:26:28.849Z"
   },
   {
    "duration": 1222,
    "start_time": "2022-09-12T16:26:31.137Z"
   },
   {
    "duration": 401,
    "start_time": "2022-09-12T16:26:32.361Z"
   },
   {
    "duration": 15,
    "start_time": "2022-09-12T16:26:32.764Z"
   },
   {
    "duration": 39,
    "start_time": "2022-09-12T16:26:32.781Z"
   },
   {
    "duration": 38,
    "start_time": "2022-09-12T16:26:32.821Z"
   },
   {
    "duration": 61,
    "start_time": "2022-09-12T16:26:32.862Z"
   },
   {
    "duration": 20,
    "start_time": "2022-09-12T16:26:32.924Z"
   },
   {
    "duration": 62,
    "start_time": "2022-09-12T16:26:32.946Z"
   },
   {
    "duration": 87,
    "start_time": "2022-09-12T16:26:33.010Z"
   },
   {
    "duration": 48,
    "start_time": "2022-09-12T16:26:33.099Z"
   },
   {
    "duration": 693,
    "start_time": "2022-09-12T16:26:33.149Z"
   },
   {
    "duration": 441,
    "start_time": "2022-09-12T16:26:33.844Z"
   },
   {
    "duration": 6,
    "start_time": "2022-09-12T16:26:34.288Z"
   },
   {
    "duration": 28,
    "start_time": "2022-09-12T16:26:34.296Z"
   },
   {
    "duration": 20,
    "start_time": "2022-09-12T16:26:34.326Z"
   },
   {
    "duration": 30,
    "start_time": "2022-09-12T16:26:34.348Z"
   },
   {
    "duration": 17,
    "start_time": "2022-09-12T16:26:34.380Z"
   },
   {
    "duration": 40,
    "start_time": "2022-09-12T16:26:34.399Z"
   },
   {
    "duration": 27,
    "start_time": "2022-09-12T16:26:34.441Z"
   },
   {
    "duration": 16,
    "start_time": "2022-09-12T16:26:34.470Z"
   },
   {
    "duration": 20,
    "start_time": "2022-09-12T16:26:34.488Z"
   },
   {
    "duration": 1040,
    "start_time": "2022-09-12T16:26:34.510Z"
   },
   {
    "duration": 57,
    "start_time": "2022-09-12T16:26:35.552Z"
   },
   {
    "duration": 1703,
    "start_time": "2022-09-12T16:26:35.620Z"
   },
   {
    "duration": 13,
    "start_time": "2022-09-12T16:26:37.325Z"
   },
   {
    "duration": 56,
    "start_time": "2022-09-12T16:26:37.339Z"
   },
   {
    "duration": 31,
    "start_time": "2022-09-12T16:26:37.396Z"
   },
   {
    "duration": 7,
    "start_time": "2022-09-12T16:26:37.428Z"
   },
   {
    "duration": 18,
    "start_time": "2022-09-12T16:26:37.437Z"
   },
   {
    "duration": 10,
    "start_time": "2022-09-12T16:26:37.457Z"
   },
   {
    "duration": 8,
    "start_time": "2022-09-12T16:26:37.469Z"
   },
   {
    "duration": 16,
    "start_time": "2022-09-12T16:26:37.478Z"
   },
   {
    "duration": 25,
    "start_time": "2022-09-12T16:26:37.496Z"
   },
   {
    "duration": 11,
    "start_time": "2022-09-12T16:26:37.522Z"
   },
   {
    "duration": 48,
    "start_time": "2022-09-12T16:26:37.535Z"
   },
   {
    "duration": 4,
    "start_time": "2022-09-12T16:26:37.585Z"
   },
   {
    "duration": 30,
    "start_time": "2022-09-12T16:26:37.591Z"
   },
   {
    "duration": 10,
    "start_time": "2022-09-12T16:26:37.623Z"
   },
   {
    "duration": 20,
    "start_time": "2022-09-12T16:26:37.634Z"
   },
   {
    "duration": 10,
    "start_time": "2022-09-12T16:26:37.657Z"
   },
   {
    "duration": 18,
    "start_time": "2022-09-12T16:26:37.668Z"
   },
   {
    "duration": 64,
    "start_time": "2022-09-12T16:26:37.688Z"
   },
   {
    "duration": 4,
    "start_time": "2022-09-12T16:26:37.753Z"
   },
   {
    "duration": 39,
    "start_time": "2022-09-12T16:26:37.759Z"
   },
   {
    "duration": 13,
    "start_time": "2022-09-12T16:26:37.800Z"
   },
   {
    "duration": 21,
    "start_time": "2022-09-12T16:26:37.815Z"
   },
   {
    "duration": 11,
    "start_time": "2022-09-12T16:26:37.838Z"
   },
   {
    "duration": 6,
    "start_time": "2022-09-12T16:26:37.850Z"
   },
   {
    "duration": 26,
    "start_time": "2022-09-12T16:26:37.857Z"
   },
   {
    "duration": 4,
    "start_time": "2022-09-12T16:26:37.884Z"
   },
   {
    "duration": 438,
    "start_time": "2022-09-12T16:26:37.889Z"
   },
   {
    "duration": 325,
    "start_time": "2022-09-12T16:26:38.329Z"
   },
   {
    "duration": 0,
    "start_time": "2022-09-12T16:26:38.656Z"
   },
   {
    "duration": 2396,
    "start_time": "2022-09-12T16:27:06.338Z"
   },
   {
    "duration": 1332,
    "start_time": "2022-09-12T16:27:08.736Z"
   },
   {
    "duration": 368,
    "start_time": "2022-09-12T16:27:10.069Z"
   },
   {
    "duration": 13,
    "start_time": "2022-09-12T16:27:10.439Z"
   },
   {
    "duration": 14,
    "start_time": "2022-09-12T16:27:10.455Z"
   },
   {
    "duration": 13,
    "start_time": "2022-09-12T16:27:10.471Z"
   },
   {
    "duration": 35,
    "start_time": "2022-09-12T16:27:10.486Z"
   },
   {
    "duration": 12,
    "start_time": "2022-09-12T16:27:10.523Z"
   },
   {
    "duration": 51,
    "start_time": "2022-09-12T16:27:10.537Z"
   },
   {
    "duration": 101,
    "start_time": "2022-09-12T16:27:10.591Z"
   },
   {
    "duration": 54,
    "start_time": "2022-09-12T16:27:10.694Z"
   },
   {
    "duration": 646,
    "start_time": "2022-09-12T16:27:10.749Z"
   },
   {
    "duration": 485,
    "start_time": "2022-09-12T16:27:11.396Z"
   },
   {
    "duration": 8,
    "start_time": "2022-09-12T16:27:11.886Z"
   },
   {
    "duration": 34,
    "start_time": "2022-09-12T16:27:11.896Z"
   },
   {
    "duration": 22,
    "start_time": "2022-09-12T16:27:11.932Z"
   },
   {
    "duration": 11,
    "start_time": "2022-09-12T16:27:11.956Z"
   },
   {
    "duration": 8,
    "start_time": "2022-09-12T16:27:11.969Z"
   },
   {
    "duration": 24,
    "start_time": "2022-09-12T16:27:11.979Z"
   },
   {
    "duration": 7,
    "start_time": "2022-09-12T16:27:12.006Z"
   },
   {
    "duration": 10,
    "start_time": "2022-09-12T16:27:12.015Z"
   },
   {
    "duration": 15,
    "start_time": "2022-09-12T16:27:12.026Z"
   },
   {
    "duration": 1086,
    "start_time": "2022-09-12T16:27:12.042Z"
   },
   {
    "duration": 62,
    "start_time": "2022-09-12T16:27:13.130Z"
   },
   {
    "duration": 1728,
    "start_time": "2022-09-12T16:27:13.194Z"
   },
   {
    "duration": 11,
    "start_time": "2022-09-12T16:27:14.924Z"
   },
   {
    "duration": 55,
    "start_time": "2022-09-12T16:27:14.937Z"
   },
   {
    "duration": 32,
    "start_time": "2022-09-12T16:27:14.994Z"
   },
   {
    "duration": 5,
    "start_time": "2022-09-12T16:27:15.028Z"
   },
   {
    "duration": 16,
    "start_time": "2022-09-12T16:27:15.034Z"
   },
   {
    "duration": 11,
    "start_time": "2022-09-12T16:27:15.051Z"
   },
   {
    "duration": 13,
    "start_time": "2022-09-12T16:27:15.064Z"
   },
   {
    "duration": 21,
    "start_time": "2022-09-12T16:27:15.079Z"
   },
   {
    "duration": 8,
    "start_time": "2022-09-12T16:27:15.102Z"
   },
   {
    "duration": 11,
    "start_time": "2022-09-12T16:27:15.121Z"
   },
   {
    "duration": 43,
    "start_time": "2022-09-12T16:27:15.134Z"
   },
   {
    "duration": 4,
    "start_time": "2022-09-12T16:27:15.179Z"
   },
   {
    "duration": 38,
    "start_time": "2022-09-12T16:27:15.185Z"
   },
   {
    "duration": 11,
    "start_time": "2022-09-12T16:27:15.225Z"
   },
   {
    "duration": 18,
    "start_time": "2022-09-12T16:27:15.238Z"
   },
   {
    "duration": 11,
    "start_time": "2022-09-12T16:27:15.260Z"
   },
   {
    "duration": 17,
    "start_time": "2022-09-12T16:27:15.273Z"
   },
   {
    "duration": 68,
    "start_time": "2022-09-12T16:27:15.291Z"
   },
   {
    "duration": 6,
    "start_time": "2022-09-12T16:27:15.360Z"
   },
   {
    "duration": 18,
    "start_time": "2022-09-12T16:27:15.367Z"
   },
   {
    "duration": 11,
    "start_time": "2022-09-12T16:27:15.386Z"
   },
   {
    "duration": 32,
    "start_time": "2022-09-12T16:27:15.398Z"
   },
   {
    "duration": 10,
    "start_time": "2022-09-12T16:27:15.432Z"
   },
   {
    "duration": 5,
    "start_time": "2022-09-12T16:27:15.444Z"
   },
   {
    "duration": 23,
    "start_time": "2022-09-12T16:27:15.450Z"
   },
   {
    "duration": 6,
    "start_time": "2022-09-12T16:27:15.475Z"
   },
   {
    "duration": 542,
    "start_time": "2022-09-12T16:27:15.482Z"
   },
   {
    "duration": 319,
    "start_time": "2022-09-12T16:27:16.027Z"
   },
   {
    "duration": 0,
    "start_time": "2022-09-12T16:27:16.348Z"
   },
   {
    "duration": 4,
    "start_time": "2022-09-12T16:29:05.516Z"
   },
   {
    "duration": 12,
    "start_time": "2022-09-12T16:29:15.513Z"
   },
   {
    "duration": 3,
    "start_time": "2022-09-12T16:29:17.077Z"
   },
   {
    "duration": 541,
    "start_time": "2022-09-12T16:29:18.185Z"
   },
   {
    "duration": 11423,
    "start_time": "2022-09-12T16:29:28.980Z"
   },
   {
    "duration": 18,
    "start_time": "2022-09-12T16:29:46.708Z"
   },
   {
    "duration": 17,
    "start_time": "2022-09-12T16:30:28.858Z"
   },
   {
    "duration": 4,
    "start_time": "2022-09-12T16:30:29.627Z"
   },
   {
    "duration": 338,
    "start_time": "2022-09-12T16:30:30.191Z"
   },
   {
    "duration": 13,
    "start_time": "2022-09-12T16:30:48.560Z"
   },
   {
    "duration": 7,
    "start_time": "2022-09-12T16:30:57.804Z"
   },
   {
    "duration": 6,
    "start_time": "2022-09-12T16:31:45.722Z"
   },
   {
    "duration": 11,
    "start_time": "2022-09-12T16:32:00.455Z"
   },
   {
    "duration": 3,
    "start_time": "2022-09-12T16:32:01.155Z"
   },
   {
    "duration": 306,
    "start_time": "2022-09-12T16:32:01.921Z"
   },
   {
    "duration": 8426,
    "start_time": "2022-09-12T16:32:05.106Z"
   },
   {
    "duration": 14,
    "start_time": "2022-09-12T16:32:19.450Z"
   },
   {
    "duration": 12,
    "start_time": "2022-09-12T16:32:30.201Z"
   },
   {
    "duration": 425,
    "start_time": "2022-09-12T16:35:02.698Z"
   },
   {
    "duration": 4,
    "start_time": "2022-09-12T16:38:11.668Z"
   },
   {
    "duration": 6,
    "start_time": "2022-09-12T16:42:30.324Z"
   },
   {
    "duration": 615,
    "start_time": "2022-09-12T16:43:03.114Z"
   },
   {
    "duration": 6,
    "start_time": "2022-09-12T16:43:35.204Z"
   },
   {
    "duration": 8240,
    "start_time": "2022-09-12T16:44:02.965Z"
   },
   {
    "duration": 6,
    "start_time": "2022-09-12T16:45:09.442Z"
   },
   {
    "duration": 8277,
    "start_time": "2022-09-12T16:45:11.927Z"
   },
   {
    "duration": 6,
    "start_time": "2022-09-12T16:47:18.540Z"
   },
   {
    "duration": 7248,
    "start_time": "2022-09-12T16:47:25.778Z"
   },
   {
    "duration": 5,
    "start_time": "2022-09-12T16:48:03.736Z"
   },
   {
    "duration": 6911,
    "start_time": "2022-09-12T16:48:06.619Z"
   },
   {
    "duration": 6,
    "start_time": "2022-09-12T16:48:35.454Z"
   },
   {
    "duration": 7137,
    "start_time": "2022-09-12T16:48:39.391Z"
   },
   {
    "duration": 7,
    "start_time": "2022-09-12T16:51:41.961Z"
   },
   {
    "duration": 7323,
    "start_time": "2022-09-12T16:51:45.103Z"
   },
   {
    "duration": 7,
    "start_time": "2022-09-12T16:52:37.191Z"
   },
   {
    "duration": 7664,
    "start_time": "2022-09-12T16:52:38.762Z"
   },
   {
    "duration": 5,
    "start_time": "2022-09-12T16:54:30.399Z"
   },
   {
    "duration": 6,
    "start_time": "2022-09-12T16:54:31.627Z"
   },
   {
    "duration": 463,
    "start_time": "2022-09-12T16:54:37.166Z"
   },
   {
    "duration": 5,
    "start_time": "2022-09-12T16:55:05.401Z"
   },
   {
    "duration": 488,
    "start_time": "2022-09-12T16:55:07.837Z"
   },
   {
    "duration": 7,
    "start_time": "2022-09-12T16:55:20.936Z"
   },
   {
    "duration": 7951,
    "start_time": "2022-09-12T16:55:23.475Z"
   },
   {
    "duration": 8,
    "start_time": "2022-09-12T16:58:15.333Z"
   },
   {
    "duration": 7554,
    "start_time": "2022-09-12T16:58:18.579Z"
   },
   {
    "duration": 6,
    "start_time": "2022-09-12T17:10:31.924Z"
   },
   {
    "duration": 7193,
    "start_time": "2022-09-12T17:10:37.633Z"
   },
   {
    "duration": 666,
    "start_time": "2022-09-12T17:31:01.160Z"
   },
   {
    "duration": 2370,
    "start_time": "2022-09-12T17:34:55.091Z"
   },
   {
    "duration": 1295,
    "start_time": "2022-09-12T17:34:57.463Z"
   },
   {
    "duration": 448,
    "start_time": "2022-09-12T17:34:58.760Z"
   },
   {
    "duration": 17,
    "start_time": "2022-09-12T17:34:59.210Z"
   },
   {
    "duration": 16,
    "start_time": "2022-09-12T17:34:59.230Z"
   },
   {
    "duration": 15,
    "start_time": "2022-09-12T17:34:59.248Z"
   },
   {
    "duration": 14,
    "start_time": "2022-09-12T17:34:59.265Z"
   },
   {
    "duration": 47,
    "start_time": "2022-09-12T17:34:59.281Z"
   },
   {
    "duration": 53,
    "start_time": "2022-09-12T17:34:59.330Z"
   },
   {
    "duration": 97,
    "start_time": "2022-09-12T17:34:59.384Z"
   },
   {
    "duration": 50,
    "start_time": "2022-09-12T17:34:59.483Z"
   },
   {
    "duration": 710,
    "start_time": "2022-09-12T17:34:59.535Z"
   },
   {
    "duration": 446,
    "start_time": "2022-09-12T17:35:00.247Z"
   },
   {
    "duration": 7,
    "start_time": "2022-09-12T17:35:00.696Z"
   },
   {
    "duration": 53,
    "start_time": "2022-09-12T17:35:00.705Z"
   },
   {
    "duration": 18,
    "start_time": "2022-09-12T17:35:00.762Z"
   },
   {
    "duration": 19,
    "start_time": "2022-09-12T17:35:00.782Z"
   },
   {
    "duration": 13,
    "start_time": "2022-09-12T17:35:00.803Z"
   },
   {
    "duration": 32,
    "start_time": "2022-09-12T17:35:00.818Z"
   },
   {
    "duration": 13,
    "start_time": "2022-09-12T17:35:00.852Z"
   },
   {
    "duration": 10,
    "start_time": "2022-09-12T17:35:00.867Z"
   },
   {
    "duration": 16,
    "start_time": "2022-09-12T17:35:00.879Z"
   },
   {
    "duration": 1081,
    "start_time": "2022-09-12T17:35:00.897Z"
   },
   {
    "duration": 70,
    "start_time": "2022-09-12T17:35:01.979Z"
   },
   {
    "duration": 1807,
    "start_time": "2022-09-12T17:35:02.051Z"
   },
   {
    "duration": 16,
    "start_time": "2022-09-12T17:35:03.861Z"
   },
   {
    "duration": 69,
    "start_time": "2022-09-12T17:35:03.879Z"
   },
   {
    "duration": 13,
    "start_time": "2022-09-12T17:35:03.950Z"
   },
   {
    "duration": 16,
    "start_time": "2022-09-12T17:35:03.964Z"
   },
   {
    "duration": 31,
    "start_time": "2022-09-12T17:35:03.981Z"
   },
   {
    "duration": 34,
    "start_time": "2022-09-12T17:35:04.013Z"
   },
   {
    "duration": 34,
    "start_time": "2022-09-12T17:35:04.049Z"
   },
   {
    "duration": 23,
    "start_time": "2022-09-12T17:35:04.085Z"
   },
   {
    "duration": 26,
    "start_time": "2022-09-12T17:35:04.110Z"
   },
   {
    "duration": 19,
    "start_time": "2022-09-12T17:35:04.137Z"
   },
   {
    "duration": 65,
    "start_time": "2022-09-12T17:35:04.157Z"
   },
   {
    "duration": 5,
    "start_time": "2022-09-12T17:35:04.224Z"
   },
   {
    "duration": 35,
    "start_time": "2022-09-12T17:35:04.230Z"
   },
   {
    "duration": 18,
    "start_time": "2022-09-12T17:35:04.267Z"
   },
   {
    "duration": 34,
    "start_time": "2022-09-12T17:35:04.287Z"
   },
   {
    "duration": 20,
    "start_time": "2022-09-12T17:35:04.326Z"
   },
   {
    "duration": 35,
    "start_time": "2022-09-12T17:35:04.348Z"
   },
   {
    "duration": 54,
    "start_time": "2022-09-12T17:35:04.384Z"
   },
   {
    "duration": 5,
    "start_time": "2022-09-12T17:35:04.441Z"
   },
   {
    "duration": 35,
    "start_time": "2022-09-12T17:35:04.448Z"
   },
   {
    "duration": 18,
    "start_time": "2022-09-12T17:35:04.485Z"
   },
   {
    "duration": 27,
    "start_time": "2022-09-12T17:35:04.505Z"
   },
   {
    "duration": 36,
    "start_time": "2022-09-12T17:35:04.534Z"
   },
   {
    "duration": 29,
    "start_time": "2022-09-12T17:35:04.572Z"
   },
   {
    "duration": 26,
    "start_time": "2022-09-12T17:35:04.603Z"
   },
   {
    "duration": 32,
    "start_time": "2022-09-12T17:35:04.631Z"
   },
   {
    "duration": 774,
    "start_time": "2022-09-12T17:35:04.665Z"
   },
   {
    "duration": 8284,
    "start_time": "2022-09-12T17:35:05.441Z"
   },
   {
    "duration": 1221,
    "start_time": "2022-09-12T17:35:13.727Z"
   },
   {
    "duration": 1001,
    "start_time": "2022-09-12T17:47:04.321Z"
   },
   {
    "duration": 5,
    "start_time": "2022-09-12T18:18:53.047Z"
   },
   {
    "duration": 7,
    "start_time": "2022-09-12T18:18:55.684Z"
   },
   {
    "duration": 694,
    "start_time": "2022-09-12T18:18:56.938Z"
   },
   {
    "duration": 10029,
    "start_time": "2022-09-12T18:19:00.492Z"
   },
   {
    "duration": 18,
    "start_time": "2022-09-12T18:19:12.410Z"
   },
   {
    "duration": 5,
    "start_time": "2022-09-12T18:25:14.801Z"
   },
   {
    "duration": 6,
    "start_time": "2022-09-12T18:25:15.502Z"
   },
   {
    "duration": 946,
    "start_time": "2022-09-12T18:25:18.683Z"
   },
   {
    "duration": 7,
    "start_time": "2022-09-12T18:25:54.606Z"
   },
   {
    "duration": 5,
    "start_time": "2022-09-12T18:25:57.198Z"
   },
   {
    "duration": 686,
    "start_time": "2022-09-12T18:26:00.043Z"
   },
   {
    "duration": 9199,
    "start_time": "2022-09-12T18:26:07.926Z"
   },
   {
    "duration": 974,
    "start_time": "2022-09-12T18:26:20.748Z"
   },
   {
    "duration": 7,
    "start_time": "2022-09-12T18:33:46.688Z"
   },
   {
    "duration": 5,
    "start_time": "2022-09-12T18:35:36.530Z"
   },
   {
    "duration": 6,
    "start_time": "2022-09-12T18:35:37.313Z"
   },
   {
    "duration": 13,
    "start_time": "2022-09-12T18:35:54.677Z"
   },
   {
    "duration": 5,
    "start_time": "2022-09-12T18:36:05.023Z"
   },
   {
    "duration": 7,
    "start_time": "2022-09-12T18:36:05.772Z"
   },
   {
    "duration": 768,
    "start_time": "2022-09-12T18:36:07.662Z"
   },
   {
    "duration": 9186,
    "start_time": "2022-09-12T18:36:09.334Z"
   },
   {
    "duration": 898,
    "start_time": "2022-09-12T18:36:25.322Z"
   },
   {
    "duration": 9707,
    "start_time": "2022-09-12T18:36:59.822Z"
   },
   {
    "duration": 4,
    "start_time": "2022-09-12T18:40:47.755Z"
   },
   {
    "duration": 7,
    "start_time": "2022-09-12T18:41:26.674Z"
   },
   {
    "duration": 23128,
    "start_time": "2022-09-12T18:41:32.867Z"
   },
   {
    "duration": 7,
    "start_time": "2022-09-12T18:44:28.489Z"
   },
   {
    "duration": 836,
    "start_time": "2022-09-12T18:45:38.389Z"
   },
   {
    "duration": 4745,
    "start_time": "2022-09-12T18:45:39.227Z"
   },
   {
    "duration": 7,
    "start_time": "2022-09-12T18:49:07.637Z"
   },
   {
    "duration": 1548,
    "start_time": "2022-09-12T18:49:14.679Z"
   },
   {
    "duration": 7,
    "start_time": "2022-09-12T18:51:13.518Z"
   },
   {
    "duration": 95,
    "start_time": "2022-09-12T18:59:59.026Z"
   },
   {
    "duration": 2326,
    "start_time": "2022-09-12T19:06:08.193Z"
   },
   {
    "duration": 1374,
    "start_time": "2022-09-12T19:06:10.521Z"
   },
   {
    "duration": 394,
    "start_time": "2022-09-12T19:06:11.897Z"
   },
   {
    "duration": 15,
    "start_time": "2022-09-12T19:06:12.293Z"
   },
   {
    "duration": 23,
    "start_time": "2022-09-12T19:06:12.310Z"
   },
   {
    "duration": 14,
    "start_time": "2022-09-12T19:06:12.335Z"
   },
   {
    "duration": 17,
    "start_time": "2022-09-12T19:06:12.351Z"
   },
   {
    "duration": 12,
    "start_time": "2022-09-12T19:06:12.370Z"
   },
   {
    "duration": 79,
    "start_time": "2022-09-12T19:06:12.383Z"
   },
   {
    "duration": 96,
    "start_time": "2022-09-12T19:06:12.464Z"
   },
   {
    "duration": 47,
    "start_time": "2022-09-12T19:06:12.561Z"
   },
   {
    "duration": 668,
    "start_time": "2022-09-12T19:06:12.620Z"
   },
   {
    "duration": 445,
    "start_time": "2022-09-12T19:06:13.290Z"
   },
   {
    "duration": 7,
    "start_time": "2022-09-12T19:06:13.739Z"
   },
   {
    "duration": 26,
    "start_time": "2022-09-12T19:06:13.748Z"
   },
   {
    "duration": 13,
    "start_time": "2022-09-12T19:06:13.776Z"
   },
   {
    "duration": 12,
    "start_time": "2022-09-12T19:06:13.791Z"
   },
   {
    "duration": 8,
    "start_time": "2022-09-12T19:06:13.805Z"
   },
   {
    "duration": 18,
    "start_time": "2022-09-12T19:06:13.815Z"
   },
   {
    "duration": 21,
    "start_time": "2022-09-12T19:06:13.835Z"
   },
   {
    "duration": 10,
    "start_time": "2022-09-12T19:06:13.858Z"
   },
   {
    "duration": 13,
    "start_time": "2022-09-12T19:06:13.870Z"
   },
   {
    "duration": 1069,
    "start_time": "2022-09-12T19:06:13.885Z"
   },
   {
    "duration": 70,
    "start_time": "2022-09-12T19:06:14.956Z"
   },
   {
    "duration": 1762,
    "start_time": "2022-09-12T19:06:15.028Z"
   },
   {
    "duration": 12,
    "start_time": "2022-09-12T19:06:16.792Z"
   },
   {
    "duration": 83,
    "start_time": "2022-09-12T19:06:16.806Z"
   },
   {
    "duration": 13,
    "start_time": "2022-09-12T19:06:16.891Z"
   },
   {
    "duration": 17,
    "start_time": "2022-09-12T19:06:16.906Z"
   },
   {
    "duration": 16,
    "start_time": "2022-09-12T19:06:16.925Z"
   },
   {
    "duration": 11,
    "start_time": "2022-09-12T19:06:16.943Z"
   },
   {
    "duration": 14,
    "start_time": "2022-09-12T19:06:16.956Z"
   },
   {
    "duration": 17,
    "start_time": "2022-09-12T19:06:16.972Z"
   },
   {
    "duration": 8,
    "start_time": "2022-09-12T19:06:16.991Z"
   },
   {
    "duration": 29,
    "start_time": "2022-09-12T19:06:17.000Z"
   },
   {
    "duration": 43,
    "start_time": "2022-09-12T19:06:17.031Z"
   },
   {
    "duration": 6,
    "start_time": "2022-09-12T19:06:17.076Z"
   },
   {
    "duration": 40,
    "start_time": "2022-09-12T19:06:17.083Z"
   },
   {
    "duration": 11,
    "start_time": "2022-09-12T19:06:17.124Z"
   },
   {
    "duration": 18,
    "start_time": "2022-09-12T19:06:17.136Z"
   },
   {
    "duration": 11,
    "start_time": "2022-09-12T19:06:17.157Z"
   },
   {
    "duration": 15,
    "start_time": "2022-09-12T19:06:17.170Z"
   },
   {
    "duration": 76,
    "start_time": "2022-09-12T19:06:17.186Z"
   },
   {
    "duration": 6,
    "start_time": "2022-09-12T19:06:17.263Z"
   },
   {
    "duration": 17,
    "start_time": "2022-09-12T19:06:17.271Z"
   },
   {
    "duration": 14,
    "start_time": "2022-09-12T19:06:17.290Z"
   },
   {
    "duration": 15,
    "start_time": "2022-09-12T19:06:17.321Z"
   },
   {
    "duration": 10,
    "start_time": "2022-09-12T19:06:17.338Z"
   },
   {
    "duration": 5,
    "start_time": "2022-09-12T19:06:17.350Z"
   },
   {
    "duration": 6,
    "start_time": "2022-09-12T19:06:17.357Z"
   },
   {
    "duration": 13,
    "start_time": "2022-09-12T19:06:17.365Z"
   },
   {
    "duration": 758,
    "start_time": "2022-09-12T19:06:17.380Z"
   },
   {
    "duration": 21285,
    "start_time": "2022-09-12T19:06:22.937Z"
   },
   {
    "duration": 7,
    "start_time": "2022-09-12T19:07:48.137Z"
   },
   {
    "duration": 903,
    "start_time": "2022-09-12T19:07:49.817Z"
   },
   {
    "duration": 1845,
    "start_time": "2022-09-12T19:07:50.723Z"
   },
   {
    "duration": 6,
    "start_time": "2022-09-12T19:08:36.632Z"
   },
   {
    "duration": 35484,
    "start_time": "2022-09-12T19:08:40.438Z"
   },
   {
    "duration": 7,
    "start_time": "2022-09-12T19:09:57.959Z"
   },
   {
    "duration": 34323,
    "start_time": "2022-09-12T19:10:00.501Z"
   },
   {
    "duration": 7,
    "start_time": "2022-09-12T19:10:41.230Z"
   },
   {
    "duration": 812,
    "start_time": "2022-09-12T19:10:43.418Z"
   },
   {
    "duration": 7096,
    "start_time": "2022-09-12T19:10:44.231Z"
   },
   {
    "duration": 7,
    "start_time": "2022-09-12T19:11:12.658Z"
   },
   {
    "duration": 769,
    "start_time": "2022-09-12T19:11:13.961Z"
   },
   {
    "duration": 31697,
    "start_time": "2022-09-12T19:11:14.825Z"
   },
   {
    "duration": 6,
    "start_time": "2022-09-12T19:11:49.698Z"
   },
   {
    "duration": 760,
    "start_time": "2022-09-12T19:11:51.670Z"
   },
   {
    "duration": 99,
    "start_time": "2022-09-12T19:12:18.328Z"
   },
   {
    "duration": 801,
    "start_time": "2022-09-12T19:12:18.429Z"
   },
   {
    "duration": 7792,
    "start_time": "2022-09-12T19:12:19.232Z"
   },
   {
    "duration": 6,
    "start_time": "2022-09-12T19:12:39.235Z"
   },
   {
    "duration": 836,
    "start_time": "2022-09-12T19:12:41.988Z"
   },
   {
    "duration": 11022,
    "start_time": "2022-09-12T19:12:42.830Z"
   },
   {
    "duration": 7,
    "start_time": "2022-09-12T19:13:13.330Z"
   },
   {
    "duration": 808,
    "start_time": "2022-09-12T19:13:14.422Z"
   },
   {
    "duration": 19814,
    "start_time": "2022-09-12T19:13:15.321Z"
   },
   {
    "duration": 2336,
    "start_time": "2022-09-12T19:13:42.036Z"
   },
   {
    "duration": 1286,
    "start_time": "2022-09-12T19:13:44.375Z"
   },
   {
    "duration": 383,
    "start_time": "2022-09-12T19:13:45.663Z"
   },
   {
    "duration": 14,
    "start_time": "2022-09-12T19:13:46.049Z"
   },
   {
    "duration": 29,
    "start_time": "2022-09-12T19:13:46.064Z"
   },
   {
    "duration": 14,
    "start_time": "2022-09-12T19:13:46.095Z"
   },
   {
    "duration": 14,
    "start_time": "2022-09-12T19:13:46.121Z"
   },
   {
    "duration": 12,
    "start_time": "2022-09-12T19:13:46.137Z"
   },
   {
    "duration": 69,
    "start_time": "2022-09-12T19:13:46.151Z"
   },
   {
    "duration": 82,
    "start_time": "2022-09-12T19:13:46.223Z"
   },
   {
    "duration": 57,
    "start_time": "2022-09-12T19:13:46.307Z"
   },
   {
    "duration": 684,
    "start_time": "2022-09-12T19:13:46.366Z"
   },
   {
    "duration": 436,
    "start_time": "2022-09-12T19:13:47.052Z"
   },
   {
    "duration": 6,
    "start_time": "2022-09-12T19:13:47.490Z"
   },
   {
    "duration": 13,
    "start_time": "2022-09-12T19:13:47.498Z"
   },
   {
    "duration": 8,
    "start_time": "2022-09-12T19:13:47.520Z"
   },
   {
    "duration": 13,
    "start_time": "2022-09-12T19:13:47.530Z"
   },
   {
    "duration": 7,
    "start_time": "2022-09-12T19:13:47.544Z"
   },
   {
    "duration": 20,
    "start_time": "2022-09-12T19:13:47.553Z"
   },
   {
    "duration": 12,
    "start_time": "2022-09-12T19:13:47.574Z"
   },
   {
    "duration": 7,
    "start_time": "2022-09-12T19:13:47.588Z"
   },
   {
    "duration": 28,
    "start_time": "2022-09-12T19:13:47.596Z"
   },
   {
    "duration": 1081,
    "start_time": "2022-09-12T19:13:47.625Z"
   },
   {
    "duration": 63,
    "start_time": "2022-09-12T19:13:48.708Z"
   },
   {
    "duration": 1954,
    "start_time": "2022-09-12T19:13:48.773Z"
   },
   {
    "duration": 13,
    "start_time": "2022-09-12T19:13:50.729Z"
   },
   {
    "duration": 78,
    "start_time": "2022-09-12T19:13:50.745Z"
   },
   {
    "duration": 13,
    "start_time": "2022-09-12T19:13:50.826Z"
   },
   {
    "duration": 10,
    "start_time": "2022-09-12T19:13:50.841Z"
   },
   {
    "duration": 14,
    "start_time": "2022-09-12T19:13:50.853Z"
   },
   {
    "duration": 12,
    "start_time": "2022-09-12T19:13:50.869Z"
   },
   {
    "duration": 9,
    "start_time": "2022-09-12T19:13:50.883Z"
   },
   {
    "duration": 35,
    "start_time": "2022-09-12T19:13:50.894Z"
   },
   {
    "duration": 8,
    "start_time": "2022-09-12T19:13:50.931Z"
   },
   {
    "duration": 17,
    "start_time": "2022-09-12T19:13:50.940Z"
   },
   {
    "duration": 44,
    "start_time": "2022-09-12T19:13:50.959Z"
   },
   {
    "duration": 20,
    "start_time": "2022-09-12T19:13:51.004Z"
   },
   {
    "duration": 22,
    "start_time": "2022-09-12T19:13:51.026Z"
   },
   {
    "duration": 13,
    "start_time": "2022-09-12T19:13:51.049Z"
   },
   {
    "duration": 15,
    "start_time": "2022-09-12T19:13:51.064Z"
   },
   {
    "duration": 10,
    "start_time": "2022-09-12T19:13:51.081Z"
   },
   {
    "duration": 28,
    "start_time": "2022-09-12T19:13:51.093Z"
   },
   {
    "duration": 48,
    "start_time": "2022-09-12T19:13:51.123Z"
   },
   {
    "duration": 5,
    "start_time": "2022-09-12T19:13:51.173Z"
   },
   {
    "duration": 19,
    "start_time": "2022-09-12T19:13:51.180Z"
   },
   {
    "duration": 28,
    "start_time": "2022-09-12T19:13:51.200Z"
   },
   {
    "duration": 15,
    "start_time": "2022-09-12T19:13:51.229Z"
   },
   {
    "duration": 10,
    "start_time": "2022-09-12T19:13:51.246Z"
   },
   {
    "duration": 8,
    "start_time": "2022-09-12T19:13:51.258Z"
   },
   {
    "duration": 6,
    "start_time": "2022-09-12T19:13:51.268Z"
   },
   {
    "duration": 6,
    "start_time": "2022-09-12T19:13:51.276Z"
   },
   {
    "duration": 836,
    "start_time": "2022-09-12T19:13:51.284Z"
   },
   {
    "duration": 84,
    "start_time": "2022-09-12T19:14:14.845Z"
   },
   {
    "duration": 799,
    "start_time": "2022-09-12T19:14:14.931Z"
   },
   {
    "duration": 7193,
    "start_time": "2022-09-12T19:14:15.732Z"
   },
   {
    "duration": 763,
    "start_time": "2022-09-12T19:15:24.969Z"
   },
   {
    "duration": 5400,
    "start_time": "2022-09-12T19:15:25.822Z"
   },
   {
    "duration": 936,
    "start_time": "2022-09-12T19:16:18.187Z"
   },
   {
    "duration": 7068,
    "start_time": "2022-09-12T19:16:38.659Z"
   },
   {
    "duration": 6,
    "start_time": "2022-09-12T19:31:10.008Z"
   },
   {
    "duration": 745,
    "start_time": "2022-09-12T19:31:11.686Z"
   },
   {
    "duration": 7101,
    "start_time": "2022-09-12T19:31:12.521Z"
   },
   {
    "duration": 652,
    "start_time": "2022-09-12T19:31:26.278Z"
   },
   {
    "duration": 5413,
    "start_time": "2022-09-12T19:31:26.932Z"
   },
   {
    "duration": 717,
    "start_time": "2022-09-12T19:31:41.014Z"
   },
   {
    "duration": 7318,
    "start_time": "2022-09-12T19:31:41.824Z"
   },
   {
    "duration": 7,
    "start_time": "2022-09-12T19:32:11.105Z"
   },
   {
    "duration": 859,
    "start_time": "2022-09-12T19:32:13.863Z"
   },
   {
    "duration": 34600,
    "start_time": "2022-09-12T19:32:14.724Z"
   },
   {
    "duration": 94,
    "start_time": "2022-09-12T19:32:49.327Z"
   },
   {
    "duration": 745,
    "start_time": "2022-09-12T19:32:49.575Z"
   },
   {
    "duration": 36697,
    "start_time": "2022-09-12T19:32:50.327Z"
   },
   {
    "duration": 786,
    "start_time": "2022-09-12T19:33:35.244Z"
   },
   {
    "duration": 27390,
    "start_time": "2022-09-12T19:33:36.032Z"
   },
   {
    "duration": 995,
    "start_time": "2022-09-12T19:34:03.425Z"
   },
   {
    "duration": 2316,
    "start_time": "2022-09-12T19:35:23.462Z"
   },
   {
    "duration": 1300,
    "start_time": "2022-09-12T19:35:25.780Z"
   },
   {
    "duration": 384,
    "start_time": "2022-09-12T19:35:27.082Z"
   },
   {
    "duration": 14,
    "start_time": "2022-09-12T19:35:27.469Z"
   },
   {
    "duration": 36,
    "start_time": "2022-09-12T19:35:27.485Z"
   },
   {
    "duration": 16,
    "start_time": "2022-09-12T19:35:27.523Z"
   },
   {
    "duration": 13,
    "start_time": "2022-09-12T19:35:27.541Z"
   },
   {
    "duration": 16,
    "start_time": "2022-09-12T19:35:27.556Z"
   },
   {
    "duration": 78,
    "start_time": "2022-09-12T19:35:27.574Z"
   },
   {
    "duration": 96,
    "start_time": "2022-09-12T19:35:27.654Z"
   },
   {
    "duration": 48,
    "start_time": "2022-09-12T19:35:27.752Z"
   },
   {
    "duration": 742,
    "start_time": "2022-09-12T19:35:27.802Z"
   },
   {
    "duration": 499,
    "start_time": "2022-09-12T19:35:28.548Z"
   },
   {
    "duration": 7,
    "start_time": "2022-09-12T19:35:29.050Z"
   },
   {
    "duration": 19,
    "start_time": "2022-09-12T19:35:29.060Z"
   },
   {
    "duration": 16,
    "start_time": "2022-09-12T19:35:29.081Z"
   },
   {
    "duration": 26,
    "start_time": "2022-09-12T19:35:29.099Z"
   },
   {
    "duration": 22,
    "start_time": "2022-09-12T19:35:29.127Z"
   },
   {
    "duration": 47,
    "start_time": "2022-09-12T19:35:29.151Z"
   },
   {
    "duration": 14,
    "start_time": "2022-09-12T19:35:29.200Z"
   },
   {
    "duration": 18,
    "start_time": "2022-09-12T19:35:29.216Z"
   },
   {
    "duration": 19,
    "start_time": "2022-09-12T19:35:29.236Z"
   },
   {
    "duration": 1163,
    "start_time": "2022-09-12T19:35:29.257Z"
   },
   {
    "duration": 60,
    "start_time": "2022-09-12T19:35:30.422Z"
   },
   {
    "duration": 1793,
    "start_time": "2022-09-12T19:35:30.483Z"
   },
   {
    "duration": 12,
    "start_time": "2022-09-12T19:35:32.278Z"
   },
   {
    "duration": 68,
    "start_time": "2022-09-12T19:35:32.292Z"
   },
   {
    "duration": 14,
    "start_time": "2022-09-12T19:35:32.362Z"
   },
   {
    "duration": 8,
    "start_time": "2022-09-12T19:35:32.378Z"
   },
   {
    "duration": 12,
    "start_time": "2022-09-12T19:35:32.388Z"
   },
   {
    "duration": 26,
    "start_time": "2022-09-12T19:35:32.401Z"
   },
   {
    "duration": 8,
    "start_time": "2022-09-12T19:35:32.429Z"
   },
   {
    "duration": 16,
    "start_time": "2022-09-12T19:35:32.439Z"
   },
   {
    "duration": 7,
    "start_time": "2022-09-12T19:35:32.457Z"
   },
   {
    "duration": 13,
    "start_time": "2022-09-12T19:35:32.466Z"
   },
   {
    "duration": 76,
    "start_time": "2022-09-12T19:35:32.481Z"
   },
   {
    "duration": 7,
    "start_time": "2022-09-12T19:35:32.560Z"
   },
   {
    "duration": 28,
    "start_time": "2022-09-12T19:35:32.568Z"
   },
   {
    "duration": 10,
    "start_time": "2022-09-12T19:35:32.598Z"
   },
   {
    "duration": 18,
    "start_time": "2022-09-12T19:35:32.620Z"
   },
   {
    "duration": 13,
    "start_time": "2022-09-12T19:35:32.639Z"
   },
   {
    "duration": 26,
    "start_time": "2022-09-12T19:35:32.654Z"
   },
   {
    "duration": 72,
    "start_time": "2022-09-12T19:35:32.683Z"
   },
   {
    "duration": 6,
    "start_time": "2022-09-12T19:35:32.757Z"
   },
   {
    "duration": 20,
    "start_time": "2022-09-12T19:35:32.764Z"
   },
   {
    "duration": 11,
    "start_time": "2022-09-12T19:35:32.786Z"
   },
   {
    "duration": 30,
    "start_time": "2022-09-12T19:35:32.799Z"
   },
   {
    "duration": 10,
    "start_time": "2022-09-12T19:35:32.830Z"
   },
   {
    "duration": 6,
    "start_time": "2022-09-12T19:35:32.842Z"
   },
   {
    "duration": 7,
    "start_time": "2022-09-12T19:35:32.850Z"
   },
   {
    "duration": 8,
    "start_time": "2022-09-12T19:35:32.858Z"
   },
   {
    "duration": 761,
    "start_time": "2022-09-12T19:35:32.868Z"
   },
   {
    "duration": 53893,
    "start_time": "2022-09-12T19:35:33.631Z"
   },
   {
    "duration": 1001,
    "start_time": "2022-09-12T19:36:27.526Z"
   },
   {
    "duration": 51693,
    "start_time": "2022-09-12T19:36:28.529Z"
   },
   {
    "duration": 907,
    "start_time": "2022-09-12T19:37:20.224Z"
   },
   {
    "duration": 3353,
    "start_time": "2022-09-12T19:42:17.640Z"
   },
   {
    "duration": 1335,
    "start_time": "2022-09-12T19:42:20.996Z"
   },
   {
    "duration": 367,
    "start_time": "2022-09-12T19:42:22.332Z"
   },
   {
    "duration": 22,
    "start_time": "2022-09-12T19:42:22.701Z"
   },
   {
    "duration": 18,
    "start_time": "2022-09-12T19:42:22.725Z"
   },
   {
    "duration": 14,
    "start_time": "2022-09-12T19:42:22.745Z"
   },
   {
    "duration": 15,
    "start_time": "2022-09-12T19:42:22.761Z"
   },
   {
    "duration": 48,
    "start_time": "2022-09-12T19:42:22.779Z"
   },
   {
    "duration": 45,
    "start_time": "2022-09-12T19:42:22.829Z"
   },
   {
    "duration": 94,
    "start_time": "2022-09-12T19:42:22.876Z"
   },
   {
    "duration": 53,
    "start_time": "2022-09-12T19:42:22.972Z"
   },
   {
    "duration": 672,
    "start_time": "2022-09-12T19:42:23.027Z"
   },
   {
    "duration": 454,
    "start_time": "2022-09-12T19:42:23.721Z"
   },
   {
    "duration": 7,
    "start_time": "2022-09-12T19:42:24.180Z"
   },
   {
    "duration": 18,
    "start_time": "2022-09-12T19:42:24.188Z"
   },
   {
    "duration": 18,
    "start_time": "2022-09-12T19:42:24.207Z"
   },
   {
    "duration": 16,
    "start_time": "2022-09-12T19:42:24.227Z"
   },
   {
    "duration": 8,
    "start_time": "2022-09-12T19:42:24.245Z"
   },
   {
    "duration": 24,
    "start_time": "2022-09-12T19:42:24.255Z"
   },
   {
    "duration": 11,
    "start_time": "2022-09-12T19:42:24.280Z"
   },
   {
    "duration": 11,
    "start_time": "2022-09-12T19:42:24.292Z"
   },
   {
    "duration": 18,
    "start_time": "2022-09-12T19:42:24.305Z"
   },
   {
    "duration": 1065,
    "start_time": "2022-09-12T19:42:24.325Z"
   },
   {
    "duration": 63,
    "start_time": "2022-09-12T19:42:25.392Z"
   },
   {
    "duration": 1729,
    "start_time": "2022-09-12T19:42:25.457Z"
   },
   {
    "duration": 12,
    "start_time": "2022-09-12T19:42:27.188Z"
   },
   {
    "duration": 69,
    "start_time": "2022-09-12T19:42:27.202Z"
   },
   {
    "duration": 14,
    "start_time": "2022-09-12T19:42:27.273Z"
   },
   {
    "duration": 9,
    "start_time": "2022-09-12T19:42:27.289Z"
   },
   {
    "duration": 25,
    "start_time": "2022-09-12T19:42:27.299Z"
   },
   {
    "duration": 11,
    "start_time": "2022-09-12T19:42:27.326Z"
   },
   {
    "duration": 10,
    "start_time": "2022-09-12T19:42:27.339Z"
   },
   {
    "duration": 19,
    "start_time": "2022-09-12T19:42:27.351Z"
   },
   {
    "duration": 9,
    "start_time": "2022-09-12T19:42:27.372Z"
   },
   {
    "duration": 14,
    "start_time": "2022-09-12T19:42:27.382Z"
   },
   {
    "duration": 70,
    "start_time": "2022-09-12T19:42:27.397Z"
   },
   {
    "duration": 5,
    "start_time": "2022-09-12T19:42:27.469Z"
   },
   {
    "duration": 17,
    "start_time": "2022-09-12T19:42:27.476Z"
   },
   {
    "duration": 30,
    "start_time": "2022-09-12T19:42:27.495Z"
   },
   {
    "duration": 18,
    "start_time": "2022-09-12T19:42:27.527Z"
   },
   {
    "duration": 11,
    "start_time": "2022-09-12T19:42:27.549Z"
   },
   {
    "duration": 26,
    "start_time": "2022-09-12T19:42:27.561Z"
   },
   {
    "duration": 61,
    "start_time": "2022-09-12T19:42:27.589Z"
   },
   {
    "duration": 5,
    "start_time": "2022-09-12T19:42:27.652Z"
   },
   {
    "duration": 18,
    "start_time": "2022-09-12T19:42:27.659Z"
   },
   {
    "duration": 11,
    "start_time": "2022-09-12T19:42:27.679Z"
   },
   {
    "duration": 33,
    "start_time": "2022-09-12T19:42:27.692Z"
   },
   {
    "duration": 11,
    "start_time": "2022-09-12T19:42:27.727Z"
   },
   {
    "duration": 6,
    "start_time": "2022-09-12T19:42:27.739Z"
   },
   {
    "duration": 6,
    "start_time": "2022-09-12T19:42:27.747Z"
   },
   {
    "duration": 6,
    "start_time": "2022-09-12T19:42:27.755Z"
   },
   {
    "duration": 770,
    "start_time": "2022-09-12T19:42:27.762Z"
   },
   {
    "duration": 54105,
    "start_time": "2022-09-12T19:42:28.622Z"
   },
   {
    "duration": 1093,
    "start_time": "2022-09-12T19:43:22.728Z"
   },
   {
    "duration": 30499,
    "start_time": "2022-09-12T19:43:23.823Z"
   },
   {
    "duration": 807,
    "start_time": "2022-09-12T19:43:54.325Z"
   },
   {
    "duration": 3099,
    "start_time": "2022-09-12T19:46:09.329Z"
   },
   {
    "duration": 1530,
    "start_time": "2022-09-12T19:46:12.431Z"
   },
   {
    "duration": 2365,
    "start_time": "2022-09-12T19:46:52.594Z"
   },
   {
    "duration": 1324,
    "start_time": "2022-09-12T19:46:54.962Z"
   },
   {
    "duration": 385,
    "start_time": "2022-09-12T19:46:56.288Z"
   },
   {
    "duration": 15,
    "start_time": "2022-09-12T19:46:56.676Z"
   },
   {
    "duration": 29,
    "start_time": "2022-09-12T19:46:56.693Z"
   },
   {
    "duration": 13,
    "start_time": "2022-09-12T19:46:56.724Z"
   },
   {
    "duration": 13,
    "start_time": "2022-09-12T19:46:56.739Z"
   },
   {
    "duration": 15,
    "start_time": "2022-09-12T19:46:56.753Z"
   },
   {
    "duration": 83,
    "start_time": "2022-09-12T19:46:56.770Z"
   },
   {
    "duration": 98,
    "start_time": "2022-09-12T19:46:56.857Z"
   },
   {
    "duration": 45,
    "start_time": "2022-09-12T19:46:56.957Z"
   },
   {
    "duration": 660,
    "start_time": "2022-09-12T19:46:57.003Z"
   },
   {
    "duration": 464,
    "start_time": "2022-09-12T19:46:57.665Z"
   },
   {
    "duration": 7,
    "start_time": "2022-09-12T19:46:58.130Z"
   },
   {
    "duration": 11,
    "start_time": "2022-09-12T19:46:58.139Z"
   },
   {
    "duration": 10,
    "start_time": "2022-09-12T19:46:58.152Z"
   },
   {
    "duration": 10,
    "start_time": "2022-09-12T19:46:58.163Z"
   },
   {
    "duration": 12,
    "start_time": "2022-09-12T19:46:58.174Z"
   },
   {
    "duration": 33,
    "start_time": "2022-09-12T19:46:58.188Z"
   },
   {
    "duration": 8,
    "start_time": "2022-09-12T19:46:58.223Z"
   },
   {
    "duration": 8,
    "start_time": "2022-09-12T19:46:58.233Z"
   },
   {
    "duration": 10,
    "start_time": "2022-09-12T19:46:58.243Z"
   },
   {
    "duration": 1125,
    "start_time": "2022-09-12T19:46:58.255Z"
   },
   {
    "duration": 71,
    "start_time": "2022-09-12T19:46:59.382Z"
   },
   {
    "duration": 1848,
    "start_time": "2022-09-12T19:46:59.455Z"
   },
   {
    "duration": 21,
    "start_time": "2022-09-12T19:47:01.304Z"
   },
   {
    "duration": 77,
    "start_time": "2022-09-12T19:47:01.327Z"
   },
   {
    "duration": 13,
    "start_time": "2022-09-12T19:47:01.408Z"
   },
   {
    "duration": 22,
    "start_time": "2022-09-12T19:47:01.423Z"
   },
   {
    "duration": 28,
    "start_time": "2022-09-12T19:47:01.446Z"
   },
   {
    "duration": 32,
    "start_time": "2022-09-12T19:47:01.476Z"
   },
   {
    "duration": 48,
    "start_time": "2022-09-12T19:47:01.510Z"
   },
   {
    "duration": 50,
    "start_time": "2022-09-12T19:47:01.560Z"
   },
   {
    "duration": 30,
    "start_time": "2022-09-12T19:47:01.612Z"
   },
   {
    "duration": 43,
    "start_time": "2022-09-12T19:47:01.644Z"
   },
   {
    "duration": 74,
    "start_time": "2022-09-12T19:47:01.689Z"
   },
   {
    "duration": 11,
    "start_time": "2022-09-12T19:47:01.765Z"
   },
   {
    "duration": 83,
    "start_time": "2022-09-12T19:47:01.778Z"
   },
   {
    "duration": 40,
    "start_time": "2022-09-12T19:47:01.863Z"
   },
   {
    "duration": 48,
    "start_time": "2022-09-12T19:47:01.905Z"
   },
   {
    "duration": 26,
    "start_time": "2022-09-12T19:47:01.956Z"
   },
   {
    "duration": 80,
    "start_time": "2022-09-12T19:47:01.984Z"
   },
   {
    "duration": 86,
    "start_time": "2022-09-12T19:47:02.065Z"
   },
   {
    "duration": 7,
    "start_time": "2022-09-12T19:47:02.153Z"
   },
   {
    "duration": 52,
    "start_time": "2022-09-12T19:47:02.162Z"
   },
   {
    "duration": 34,
    "start_time": "2022-09-12T19:47:02.217Z"
   },
   {
    "duration": 39,
    "start_time": "2022-09-12T19:47:02.253Z"
   },
   {
    "duration": 33,
    "start_time": "2022-09-12T19:47:02.294Z"
   },
   {
    "duration": 33,
    "start_time": "2022-09-12T19:47:02.330Z"
   },
   {
    "duration": 47,
    "start_time": "2022-09-12T19:47:02.366Z"
   },
   {
    "duration": 27,
    "start_time": "2022-09-12T19:47:02.415Z"
   },
   {
    "duration": 888,
    "start_time": "2022-09-12T19:47:02.443Z"
   },
   {
    "duration": 53790,
    "start_time": "2022-09-12T19:47:03.332Z"
   },
   {
    "duration": 805,
    "start_time": "2022-09-12T19:47:57.124Z"
   },
   {
    "duration": 32697,
    "start_time": "2022-09-12T19:47:57.930Z"
   },
   {
    "duration": 901,
    "start_time": "2022-09-12T19:48:30.629Z"
   },
   {
    "duration": 2274,
    "start_time": "2022-09-12T19:54:35.353Z"
   },
   {
    "duration": 1491,
    "start_time": "2022-09-12T19:54:37.629Z"
   },
   {
    "duration": 398,
    "start_time": "2022-09-12T19:54:39.122Z"
   },
   {
    "duration": 13,
    "start_time": "2022-09-12T19:54:39.522Z"
   },
   {
    "duration": 14,
    "start_time": "2022-09-12T19:54:39.537Z"
   },
   {
    "duration": 13,
    "start_time": "2022-09-12T19:54:39.553Z"
   },
   {
    "duration": 14,
    "start_time": "2022-09-12T19:54:39.568Z"
   },
   {
    "duration": 39,
    "start_time": "2022-09-12T19:54:39.584Z"
   },
   {
    "duration": 51,
    "start_time": "2022-09-12T19:54:39.625Z"
   },
   {
    "duration": 106,
    "start_time": "2022-09-12T19:54:39.678Z"
   },
   {
    "duration": 51,
    "start_time": "2022-09-12T19:54:39.785Z"
   },
   {
    "duration": 715,
    "start_time": "2022-09-12T19:54:39.838Z"
   },
   {
    "duration": 447,
    "start_time": "2022-09-12T19:54:40.555Z"
   },
   {
    "duration": 6,
    "start_time": "2022-09-12T19:54:41.004Z"
   },
   {
    "duration": 14,
    "start_time": "2022-09-12T19:54:41.012Z"
   },
   {
    "duration": 14,
    "start_time": "2022-09-12T19:54:41.028Z"
   },
   {
    "duration": 9,
    "start_time": "2022-09-12T19:54:41.044Z"
   },
   {
    "duration": 8,
    "start_time": "2022-09-12T19:54:41.054Z"
   },
   {
    "duration": 17,
    "start_time": "2022-09-12T19:54:41.063Z"
   },
   {
    "duration": 10,
    "start_time": "2022-09-12T19:54:41.082Z"
   },
   {
    "duration": 31,
    "start_time": "2022-09-12T19:54:41.093Z"
   },
   {
    "duration": 16,
    "start_time": "2022-09-12T19:54:41.126Z"
   },
   {
    "duration": 1169,
    "start_time": "2022-09-12T19:54:41.144Z"
   },
   {
    "duration": 70,
    "start_time": "2022-09-12T19:54:42.314Z"
   },
   {
    "duration": 1803,
    "start_time": "2022-09-12T19:54:42.386Z"
   },
   {
    "duration": 12,
    "start_time": "2022-09-12T19:54:44.191Z"
   },
   {
    "duration": 69,
    "start_time": "2022-09-12T19:54:44.205Z"
   },
   {
    "duration": 13,
    "start_time": "2022-09-12T19:54:44.278Z"
   },
   {
    "duration": 9,
    "start_time": "2022-09-12T19:54:44.293Z"
   },
   {
    "duration": 24,
    "start_time": "2022-09-12T19:54:44.304Z"
   },
   {
    "duration": 10,
    "start_time": "2022-09-12T19:54:44.330Z"
   },
   {
    "duration": 9,
    "start_time": "2022-09-12T19:54:44.342Z"
   },
   {
    "duration": 17,
    "start_time": "2022-09-12T19:54:44.353Z"
   },
   {
    "duration": 15,
    "start_time": "2022-09-12T19:54:44.372Z"
   },
   {
    "duration": 32,
    "start_time": "2022-09-12T19:54:44.389Z"
   },
   {
    "duration": 46,
    "start_time": "2022-09-12T19:54:44.423Z"
   },
   {
    "duration": 4,
    "start_time": "2022-09-12T19:54:44.471Z"
   },
   {
    "duration": 23,
    "start_time": "2022-09-12T19:54:44.477Z"
   },
   {
    "duration": 28,
    "start_time": "2022-09-12T19:54:44.502Z"
   },
   {
    "duration": 28,
    "start_time": "2022-09-12T19:54:44.532Z"
   },
   {
    "duration": 10,
    "start_time": "2022-09-12T19:54:44.562Z"
   },
   {
    "duration": 19,
    "start_time": "2022-09-12T19:54:44.574Z"
   },
   {
    "duration": 55,
    "start_time": "2022-09-12T19:54:44.594Z"
   },
   {
    "duration": 5,
    "start_time": "2022-09-12T19:54:44.651Z"
   },
   {
    "duration": 30,
    "start_time": "2022-09-12T19:54:44.658Z"
   },
   {
    "duration": 10,
    "start_time": "2022-09-12T19:54:44.690Z"
   },
   {
    "duration": 22,
    "start_time": "2022-09-12T19:54:44.702Z"
   },
   {
    "duration": 10,
    "start_time": "2022-09-12T19:54:44.726Z"
   },
   {
    "duration": 6,
    "start_time": "2022-09-12T19:54:44.738Z"
   },
   {
    "duration": 10,
    "start_time": "2022-09-12T19:54:44.746Z"
   },
   {
    "duration": 6,
    "start_time": "2022-09-12T19:54:44.758Z"
   },
   {
    "duration": 956,
    "start_time": "2022-09-12T19:54:44.766Z"
   },
   {
    "duration": 4425,
    "start_time": "2022-09-12T19:54:45.725Z"
   },
   {
    "duration": 899,
    "start_time": "2022-09-12T19:54:50.220Z"
   },
   {
    "duration": 3310,
    "start_time": "2022-09-12T19:54:51.122Z"
   },
   {
    "duration": 803,
    "start_time": "2022-09-12T19:54:54.522Z"
   },
   {
    "duration": 4297,
    "start_time": "2022-09-12T19:54:55.327Z"
   },
   {
    "duration": 721,
    "start_time": "2022-09-12T20:01:00.612Z"
   },
   {
    "duration": 2304,
    "start_time": "2022-09-12T20:02:09.410Z"
   },
   {
    "duration": 1297,
    "start_time": "2022-09-12T20:02:11.716Z"
   },
   {
    "duration": 375,
    "start_time": "2022-09-12T20:02:13.015Z"
   },
   {
    "duration": 13,
    "start_time": "2022-09-12T20:02:13.392Z"
   },
   {
    "duration": 21,
    "start_time": "2022-09-12T20:02:13.407Z"
   },
   {
    "duration": 13,
    "start_time": "2022-09-12T20:02:13.430Z"
   },
   {
    "duration": 21,
    "start_time": "2022-09-12T20:02:13.444Z"
   },
   {
    "duration": 13,
    "start_time": "2022-09-12T20:02:13.467Z"
   },
   {
    "duration": 68,
    "start_time": "2022-09-12T20:02:13.482Z"
   },
   {
    "duration": 90,
    "start_time": "2022-09-12T20:02:13.552Z"
   },
   {
    "duration": 44,
    "start_time": "2022-09-12T20:02:13.644Z"
   },
   {
    "duration": 692,
    "start_time": "2022-09-12T20:02:13.690Z"
   },
   {
    "duration": 448,
    "start_time": "2022-09-12T20:02:14.384Z"
   },
   {
    "duration": 6,
    "start_time": "2022-09-12T20:02:14.835Z"
   },
   {
    "duration": 19,
    "start_time": "2022-09-12T20:02:14.843Z"
   },
   {
    "duration": 19,
    "start_time": "2022-09-12T20:02:14.864Z"
   },
   {
    "duration": 12,
    "start_time": "2022-09-12T20:02:14.885Z"
   },
   {
    "duration": 7,
    "start_time": "2022-09-12T20:02:14.899Z"
   },
   {
    "duration": 15,
    "start_time": "2022-09-12T20:02:14.908Z"
   },
   {
    "duration": 9,
    "start_time": "2022-09-12T20:02:14.925Z"
   },
   {
    "duration": 12,
    "start_time": "2022-09-12T20:02:14.935Z"
   },
   {
    "duration": 11,
    "start_time": "2022-09-12T20:02:14.949Z"
   },
   {
    "duration": 1064,
    "start_time": "2022-09-12T20:02:14.962Z"
   },
   {
    "duration": 60,
    "start_time": "2022-09-12T20:02:16.028Z"
   },
   {
    "duration": 1775,
    "start_time": "2022-09-12T20:02:16.090Z"
   },
   {
    "duration": 12,
    "start_time": "2022-09-12T20:02:17.867Z"
   },
   {
    "duration": 65,
    "start_time": "2022-09-12T20:02:17.881Z"
   },
   {
    "duration": 14,
    "start_time": "2022-09-12T20:02:17.947Z"
   },
   {
    "duration": 18,
    "start_time": "2022-09-12T20:02:17.963Z"
   },
   {
    "duration": 15,
    "start_time": "2022-09-12T20:02:17.983Z"
   },
   {
    "duration": 11,
    "start_time": "2022-09-12T20:02:17.999Z"
   },
   {
    "duration": 5,
    "start_time": "2022-09-12T20:02:18.021Z"
   },
   {
    "duration": 16,
    "start_time": "2022-09-12T20:02:18.027Z"
   },
   {
    "duration": 9,
    "start_time": "2022-09-12T20:02:18.044Z"
   },
   {
    "duration": 16,
    "start_time": "2022-09-12T20:02:18.055Z"
   },
   {
    "duration": 66,
    "start_time": "2022-09-12T20:02:18.073Z"
   },
   {
    "duration": 4,
    "start_time": "2022-09-12T20:02:18.141Z"
   },
   {
    "duration": 16,
    "start_time": "2022-09-12T20:02:18.147Z"
   },
   {
    "duration": 10,
    "start_time": "2022-09-12T20:02:18.164Z"
   },
   {
    "duration": 21,
    "start_time": "2022-09-12T20:02:18.176Z"
   },
   {
    "duration": 24,
    "start_time": "2022-09-12T20:02:18.202Z"
   },
   {
    "duration": 15,
    "start_time": "2022-09-12T20:02:18.227Z"
   },
   {
    "duration": 50,
    "start_time": "2022-09-12T20:02:18.244Z"
   },
   {
    "duration": 6,
    "start_time": "2022-09-12T20:02:18.295Z"
   },
   {
    "duration": 13,
    "start_time": "2022-09-12T20:02:18.320Z"
   },
   {
    "duration": 11,
    "start_time": "2022-09-12T20:02:18.335Z"
   },
   {
    "duration": 19,
    "start_time": "2022-09-12T20:02:18.348Z"
   },
   {
    "duration": 10,
    "start_time": "2022-09-12T20:02:18.369Z"
   },
   {
    "duration": 12,
    "start_time": "2022-09-12T20:02:18.381Z"
   },
   {
    "duration": 26,
    "start_time": "2022-09-12T20:02:18.395Z"
   },
   {
    "duration": 12,
    "start_time": "2022-09-12T20:02:18.423Z"
   },
   {
    "duration": 699,
    "start_time": "2022-09-12T20:02:18.437Z"
   },
   {
    "duration": 4206,
    "start_time": "2022-09-12T20:02:19.221Z"
   },
   {
    "duration": 997,
    "start_time": "2022-09-12T20:02:23.431Z"
   },
   {
    "duration": 3398,
    "start_time": "2022-09-12T20:02:24.430Z"
   },
   {
    "duration": 906,
    "start_time": "2022-09-12T20:02:27.830Z"
   },
   {
    "duration": 4503,
    "start_time": "2022-09-12T20:02:28.825Z"
   },
   {
    "duration": 2884,
    "start_time": "2022-09-12T20:04:45.654Z"
   },
   {
    "duration": 1718,
    "start_time": "2022-09-12T20:04:48.541Z"
   },
   {
    "duration": 399,
    "start_time": "2022-09-12T20:04:50.260Z"
   },
   {
    "duration": 13,
    "start_time": "2022-09-12T20:04:50.662Z"
   },
   {
    "duration": 22,
    "start_time": "2022-09-12T20:04:50.677Z"
   },
   {
    "duration": 27,
    "start_time": "2022-09-12T20:04:50.700Z"
   },
   {
    "duration": 14,
    "start_time": "2022-09-12T20:04:50.728Z"
   },
   {
    "duration": 21,
    "start_time": "2022-09-12T20:04:50.744Z"
   },
   {
    "duration": 65,
    "start_time": "2022-09-12T20:04:50.766Z"
   },
   {
    "duration": 91,
    "start_time": "2022-09-12T20:04:50.834Z"
   },
   {
    "duration": 45,
    "start_time": "2022-09-12T20:04:50.926Z"
   },
   {
    "duration": 679,
    "start_time": "2022-09-12T20:04:50.973Z"
   },
   {
    "duration": 463,
    "start_time": "2022-09-12T20:04:51.653Z"
   },
   {
    "duration": 7,
    "start_time": "2022-09-12T20:04:52.121Z"
   },
   {
    "duration": 17,
    "start_time": "2022-09-12T20:04:52.130Z"
   },
   {
    "duration": 9,
    "start_time": "2022-09-12T20:04:52.149Z"
   },
   {
    "duration": 9,
    "start_time": "2022-09-12T20:04:52.160Z"
   },
   {
    "duration": 9,
    "start_time": "2022-09-12T20:04:52.170Z"
   },
   {
    "duration": 32,
    "start_time": "2022-09-12T20:04:52.180Z"
   },
   {
    "duration": 11,
    "start_time": "2022-09-12T20:04:52.214Z"
   },
   {
    "duration": 21,
    "start_time": "2022-09-12T20:04:52.227Z"
   },
   {
    "duration": 34,
    "start_time": "2022-09-12T20:04:52.250Z"
   },
   {
    "duration": 1076,
    "start_time": "2022-09-12T20:04:52.286Z"
   },
   {
    "duration": 68,
    "start_time": "2022-09-12T20:04:53.364Z"
   },
   {
    "duration": 1778,
    "start_time": "2022-09-12T20:04:53.434Z"
   },
   {
    "duration": 15,
    "start_time": "2022-09-12T20:04:55.213Z"
   },
   {
    "duration": 59,
    "start_time": "2022-09-12T20:04:55.230Z"
   },
   {
    "duration": 29,
    "start_time": "2022-09-12T20:04:55.293Z"
   },
   {
    "duration": 30,
    "start_time": "2022-09-12T20:04:55.324Z"
   },
   {
    "duration": 17,
    "start_time": "2022-09-12T20:04:55.356Z"
   },
   {
    "duration": 22,
    "start_time": "2022-09-12T20:04:55.375Z"
   },
   {
    "duration": 57,
    "start_time": "2022-09-12T20:04:55.400Z"
   },
   {
    "duration": 26,
    "start_time": "2022-09-12T20:04:55.459Z"
   },
   {
    "duration": 9,
    "start_time": "2022-09-12T20:04:55.487Z"
   },
   {
    "duration": 14,
    "start_time": "2022-09-12T20:04:55.498Z"
   },
   {
    "duration": 47,
    "start_time": "2022-09-12T20:04:55.513Z"
   },
   {
    "duration": 4,
    "start_time": "2022-09-12T20:04:55.562Z"
   },
   {
    "duration": 27,
    "start_time": "2022-09-12T20:04:55.568Z"
   },
   {
    "duration": 11,
    "start_time": "2022-09-12T20:04:55.597Z"
   },
   {
    "duration": 23,
    "start_time": "2022-09-12T20:04:55.610Z"
   },
   {
    "duration": 9,
    "start_time": "2022-09-12T20:04:55.635Z"
   },
   {
    "duration": 13,
    "start_time": "2022-09-12T20:04:55.646Z"
   },
   {
    "duration": 72,
    "start_time": "2022-09-12T20:04:55.660Z"
   },
   {
    "duration": 5,
    "start_time": "2022-09-12T20:04:55.734Z"
   },
   {
    "duration": 17,
    "start_time": "2022-09-12T20:04:55.741Z"
   },
   {
    "duration": 12,
    "start_time": "2022-09-12T20:04:55.759Z"
   },
   {
    "duration": 28,
    "start_time": "2022-09-12T20:04:55.773Z"
   },
   {
    "duration": 26,
    "start_time": "2022-09-12T20:04:55.803Z"
   },
   {
    "duration": 13,
    "start_time": "2022-09-12T20:04:55.832Z"
   },
   {
    "duration": 6,
    "start_time": "2022-09-12T20:04:55.847Z"
   },
   {
    "duration": 11,
    "start_time": "2022-09-12T20:04:55.854Z"
   },
   {
    "duration": 154,
    "start_time": "2022-09-12T20:04:55.867Z"
   },
   {
    "duration": 0,
    "start_time": "2022-09-12T20:04:56.023Z"
   },
   {
    "duration": 0,
    "start_time": "2022-09-12T20:04:56.024Z"
   },
   {
    "duration": 0,
    "start_time": "2022-09-12T20:04:56.026Z"
   },
   {
    "duration": 0,
    "start_time": "2022-09-12T20:04:56.027Z"
   },
   {
    "duration": 0,
    "start_time": "2022-09-12T20:04:56.028Z"
   },
   {
    "duration": 2320,
    "start_time": "2022-09-12T20:06:22.637Z"
   },
   {
    "duration": 1293,
    "start_time": "2022-09-12T20:06:24.960Z"
   },
   {
    "duration": 388,
    "start_time": "2022-09-12T20:06:26.255Z"
   },
   {
    "duration": 14,
    "start_time": "2022-09-12T20:06:26.645Z"
   },
   {
    "duration": 18,
    "start_time": "2022-09-12T20:06:26.662Z"
   },
   {
    "duration": 42,
    "start_time": "2022-09-12T20:06:26.682Z"
   },
   {
    "duration": 14,
    "start_time": "2022-09-12T20:06:26.726Z"
   },
   {
    "duration": 12,
    "start_time": "2022-09-12T20:06:26.741Z"
   },
   {
    "duration": 73,
    "start_time": "2022-09-12T20:06:26.755Z"
   },
   {
    "duration": 92,
    "start_time": "2022-09-12T20:06:26.830Z"
   },
   {
    "duration": 47,
    "start_time": "2022-09-12T20:06:26.924Z"
   },
   {
    "duration": 686,
    "start_time": "2022-09-12T20:06:26.972Z"
   },
   {
    "duration": 440,
    "start_time": "2022-09-12T20:06:27.660Z"
   },
   {
    "duration": 7,
    "start_time": "2022-09-12T20:06:28.103Z"
   },
   {
    "duration": 14,
    "start_time": "2022-09-12T20:06:28.111Z"
   },
   {
    "duration": 13,
    "start_time": "2022-09-12T20:06:28.127Z"
   },
   {
    "duration": 17,
    "start_time": "2022-09-12T20:06:28.142Z"
   },
   {
    "duration": 10,
    "start_time": "2022-09-12T20:06:28.161Z"
   },
   {
    "duration": 17,
    "start_time": "2022-09-12T20:06:28.173Z"
   },
   {
    "duration": 9,
    "start_time": "2022-09-12T20:06:28.192Z"
   },
   {
    "duration": 19,
    "start_time": "2022-09-12T20:06:28.202Z"
   },
   {
    "duration": 10,
    "start_time": "2022-09-12T20:06:28.223Z"
   },
   {
    "duration": 1156,
    "start_time": "2022-09-12T20:06:28.235Z"
   },
   {
    "duration": 75,
    "start_time": "2022-09-12T20:06:29.393Z"
   },
   {
    "duration": 1825,
    "start_time": "2022-09-12T20:06:29.470Z"
   },
   {
    "duration": 12,
    "start_time": "2022-09-12T20:06:31.297Z"
   },
   {
    "duration": 60,
    "start_time": "2022-09-12T20:06:31.321Z"
   },
   {
    "duration": 12,
    "start_time": "2022-09-12T20:06:31.383Z"
   },
   {
    "duration": 23,
    "start_time": "2022-09-12T20:06:31.397Z"
   },
   {
    "duration": 30,
    "start_time": "2022-09-12T20:06:31.422Z"
   },
   {
    "duration": 14,
    "start_time": "2022-09-12T20:06:31.454Z"
   },
   {
    "duration": 21,
    "start_time": "2022-09-12T20:06:31.470Z"
   },
   {
    "duration": 17,
    "start_time": "2022-09-12T20:06:31.492Z"
   },
   {
    "duration": 15,
    "start_time": "2022-09-12T20:06:31.511Z"
   },
   {
    "duration": 32,
    "start_time": "2022-09-12T20:06:31.527Z"
   },
   {
    "duration": 53,
    "start_time": "2022-09-12T20:06:31.561Z"
   },
   {
    "duration": 5,
    "start_time": "2022-09-12T20:06:31.616Z"
   },
   {
    "duration": 28,
    "start_time": "2022-09-12T20:06:31.623Z"
   },
   {
    "duration": 14,
    "start_time": "2022-09-12T20:06:31.653Z"
   },
   {
    "duration": 26,
    "start_time": "2022-09-12T20:06:31.668Z"
   },
   {
    "duration": 13,
    "start_time": "2022-09-12T20:06:31.698Z"
   },
   {
    "duration": 57,
    "start_time": "2022-09-12T20:06:31.712Z"
   },
   {
    "duration": 84,
    "start_time": "2022-09-12T20:06:31.771Z"
   },
   {
    "duration": 6,
    "start_time": "2022-09-12T20:06:31.856Z"
   },
   {
    "duration": 31,
    "start_time": "2022-09-12T20:06:31.863Z"
   },
   {
    "duration": 16,
    "start_time": "2022-09-12T20:06:31.896Z"
   },
   {
    "duration": 29,
    "start_time": "2022-09-12T20:06:31.914Z"
   },
   {
    "duration": 25,
    "start_time": "2022-09-12T20:06:31.944Z"
   },
   {
    "duration": 18,
    "start_time": "2022-09-12T20:06:31.971Z"
   },
   {
    "duration": 20,
    "start_time": "2022-09-12T20:06:31.991Z"
   },
   {
    "duration": 19,
    "start_time": "2022-09-12T20:06:32.013Z"
   },
   {
    "duration": 133,
    "start_time": "2022-09-12T20:06:32.034Z"
   },
   {
    "duration": 0,
    "start_time": "2022-09-12T20:06:32.169Z"
   },
   {
    "duration": 1,
    "start_time": "2022-09-12T20:06:32.170Z"
   },
   {
    "duration": 0,
    "start_time": "2022-09-12T20:06:32.172Z"
   },
   {
    "duration": 0,
    "start_time": "2022-09-12T20:06:32.174Z"
   },
   {
    "duration": 0,
    "start_time": "2022-09-12T20:06:32.175Z"
   },
   {
    "duration": 4492,
    "start_time": "2022-09-12T20:06:41.131Z"
   },
   {
    "duration": 15,
    "start_time": "2022-09-12T20:07:13.572Z"
   },
   {
    "duration": 3193,
    "start_time": "2022-09-12T20:07:14.334Z"
   },
   {
    "duration": 14,
    "start_time": "2022-09-12T20:07:55.319Z"
   },
   {
    "duration": 2747,
    "start_time": "2022-09-12T20:08:54.191Z"
   },
   {
    "duration": 2114,
    "start_time": "2022-09-12T20:08:56.940Z"
   },
   {
    "duration": 787,
    "start_time": "2022-09-12T20:08:59.056Z"
   },
   {
    "duration": 14,
    "start_time": "2022-09-12T20:08:59.845Z"
   },
   {
    "duration": 66,
    "start_time": "2022-09-12T20:08:59.861Z"
   },
   {
    "duration": 18,
    "start_time": "2022-09-12T20:08:59.928Z"
   },
   {
    "duration": 15,
    "start_time": "2022-09-12T20:08:59.948Z"
   },
   {
    "duration": 64,
    "start_time": "2022-09-12T20:08:59.964Z"
   },
   {
    "duration": 109,
    "start_time": "2022-09-12T20:09:00.030Z"
   },
   {
    "duration": 199,
    "start_time": "2022-09-12T20:09:00.141Z"
   },
   {
    "duration": 100,
    "start_time": "2022-09-12T20:09:00.342Z"
   },
   {
    "duration": 1277,
    "start_time": "2022-09-12T20:09:00.444Z"
   },
   {
    "duration": 569,
    "start_time": "2022-09-12T20:09:01.724Z"
   },
   {
    "duration": 7,
    "start_time": "2022-09-12T20:09:02.295Z"
   },
   {
    "duration": 23,
    "start_time": "2022-09-12T20:09:02.303Z"
   },
   {
    "duration": 15,
    "start_time": "2022-09-12T20:09:02.328Z"
   },
   {
    "duration": 14,
    "start_time": "2022-09-12T20:09:02.344Z"
   },
   {
    "duration": 8,
    "start_time": "2022-09-12T20:09:02.360Z"
   },
   {
    "duration": 15,
    "start_time": "2022-09-12T20:09:02.370Z"
   },
   {
    "duration": 10,
    "start_time": "2022-09-12T20:09:02.387Z"
   },
   {
    "duration": 9,
    "start_time": "2022-09-12T20:09:02.399Z"
   },
   {
    "duration": 16,
    "start_time": "2022-09-12T20:09:02.410Z"
   },
   {
    "duration": 1118,
    "start_time": "2022-09-12T20:09:02.428Z"
   },
   {
    "duration": 61,
    "start_time": "2022-09-12T20:09:03.548Z"
   },
   {
    "duration": 1826,
    "start_time": "2022-09-12T20:09:03.621Z"
   },
   {
    "duration": 13,
    "start_time": "2022-09-12T20:09:05.449Z"
   },
   {
    "duration": 82,
    "start_time": "2022-09-12T20:09:05.464Z"
   },
   {
    "duration": 13,
    "start_time": "2022-09-12T20:09:05.548Z"
   },
   {
    "duration": 5,
    "start_time": "2022-09-12T20:09:05.563Z"
   },
   {
    "duration": 13,
    "start_time": "2022-09-12T20:09:05.569Z"
   },
   {
    "duration": 11,
    "start_time": "2022-09-12T20:09:05.584Z"
   },
   {
    "duration": 27,
    "start_time": "2022-09-12T20:09:05.597Z"
   },
   {
    "duration": 20,
    "start_time": "2022-09-12T20:09:05.626Z"
   },
   {
    "duration": 9,
    "start_time": "2022-09-12T20:09:05.648Z"
   },
   {
    "duration": 14,
    "start_time": "2022-09-12T20:09:05.659Z"
   },
   {
    "duration": 68,
    "start_time": "2022-09-12T20:09:05.674Z"
   },
   {
    "duration": 4,
    "start_time": "2022-09-12T20:09:05.744Z"
   },
   {
    "duration": 27,
    "start_time": "2022-09-12T20:09:05.750Z"
   },
   {
    "duration": 10,
    "start_time": "2022-09-12T20:09:05.779Z"
   },
   {
    "duration": 24,
    "start_time": "2022-09-12T20:09:05.793Z"
   },
   {
    "duration": 12,
    "start_time": "2022-09-12T20:09:05.819Z"
   },
   {
    "duration": 29,
    "start_time": "2022-09-12T20:09:05.833Z"
   },
   {
    "duration": 49,
    "start_time": "2022-09-12T20:09:05.863Z"
   },
   {
    "duration": 7,
    "start_time": "2022-09-12T20:09:05.914Z"
   },
   {
    "duration": 31,
    "start_time": "2022-09-12T20:09:05.923Z"
   },
   {
    "duration": 11,
    "start_time": "2022-09-12T20:09:05.956Z"
   },
   {
    "duration": 30,
    "start_time": "2022-09-12T20:09:05.968Z"
   },
   {
    "duration": 12,
    "start_time": "2022-09-12T20:09:05.999Z"
   },
   {
    "duration": 6,
    "start_time": "2022-09-12T20:09:06.013Z"
   },
   {
    "duration": 10,
    "start_time": "2022-09-12T20:09:06.021Z"
   },
   {
    "duration": 7,
    "start_time": "2022-09-12T20:09:06.033Z"
   },
   {
    "duration": 781,
    "start_time": "2022-09-12T20:09:06.042Z"
   },
   {
    "duration": 4312,
    "start_time": "2022-09-12T20:09:06.826Z"
   },
   {
    "duration": 892,
    "start_time": "2022-09-12T20:09:11.140Z"
   },
   {
    "duration": 3401,
    "start_time": "2022-09-12T20:09:12.123Z"
   },
   {
    "duration": 798,
    "start_time": "2022-09-12T20:09:15.530Z"
   },
   {
    "duration": 5193,
    "start_time": "2022-09-12T20:09:16.330Z"
   },
   {
    "duration": 2216,
    "start_time": "2022-09-12T21:32:15.641Z"
   },
   {
    "duration": 1253,
    "start_time": "2022-09-12T21:32:17.860Z"
   },
   {
    "duration": 378,
    "start_time": "2022-09-12T21:32:19.116Z"
   },
   {
    "duration": 14,
    "start_time": "2022-09-12T21:32:19.496Z"
   },
   {
    "duration": 17,
    "start_time": "2022-09-12T21:32:19.512Z"
   },
   {
    "duration": 13,
    "start_time": "2022-09-12T21:32:19.531Z"
   },
   {
    "duration": 13,
    "start_time": "2022-09-12T21:32:19.545Z"
   },
   {
    "duration": 12,
    "start_time": "2022-09-12T21:32:19.559Z"
   },
   {
    "duration": 73,
    "start_time": "2022-09-12T21:32:19.573Z"
   },
   {
    "duration": 85,
    "start_time": "2022-09-12T21:32:19.648Z"
   },
   {
    "duration": 54,
    "start_time": "2022-09-12T21:32:19.735Z"
   },
   {
    "duration": 641,
    "start_time": "2022-09-12T21:32:19.792Z"
   },
   {
    "duration": 423,
    "start_time": "2022-09-12T21:32:20.435Z"
   },
   {
    "duration": 7,
    "start_time": "2022-09-12T21:32:20.860Z"
   },
   {
    "duration": 16,
    "start_time": "2022-09-12T21:32:20.870Z"
   },
   {
    "duration": 13,
    "start_time": "2022-09-12T21:32:20.888Z"
   },
   {
    "duration": 19,
    "start_time": "2022-09-12T21:32:20.904Z"
   },
   {
    "duration": 11,
    "start_time": "2022-09-12T21:32:20.925Z"
   },
   {
    "duration": 18,
    "start_time": "2022-09-12T21:32:20.938Z"
   },
   {
    "duration": 11,
    "start_time": "2022-09-12T21:32:20.958Z"
   },
   {
    "duration": 8,
    "start_time": "2022-09-12T21:32:20.971Z"
   },
   {
    "duration": 10,
    "start_time": "2022-09-12T21:32:20.981Z"
   },
   {
    "duration": 1102,
    "start_time": "2022-09-12T21:32:20.993Z"
   },
   {
    "duration": 68,
    "start_time": "2022-09-12T21:32:22.097Z"
   },
   {
    "duration": 1758,
    "start_time": "2022-09-12T21:32:22.166Z"
   },
   {
    "duration": 12,
    "start_time": "2022-09-12T21:32:23.926Z"
   },
   {
    "duration": 63,
    "start_time": "2022-09-12T21:32:23.940Z"
   },
   {
    "duration": 14,
    "start_time": "2022-09-12T21:32:24.023Z"
   },
   {
    "duration": 4,
    "start_time": "2022-09-12T21:32:24.039Z"
   },
   {
    "duration": 13,
    "start_time": "2022-09-12T21:32:24.045Z"
   },
   {
    "duration": 10,
    "start_time": "2022-09-12T21:32:24.060Z"
   },
   {
    "duration": 12,
    "start_time": "2022-09-12T21:32:24.072Z"
   },
   {
    "duration": 37,
    "start_time": "2022-09-12T21:32:24.086Z"
   },
   {
    "duration": 9,
    "start_time": "2022-09-12T21:32:24.125Z"
   },
   {
    "duration": 14,
    "start_time": "2022-09-12T21:32:24.136Z"
   },
   {
    "duration": 44,
    "start_time": "2022-09-12T21:32:24.152Z"
   },
   {
    "duration": 24,
    "start_time": "2022-09-12T21:32:24.198Z"
   },
   {
    "duration": 13,
    "start_time": "2022-09-12T21:32:24.224Z"
   },
   {
    "duration": 10,
    "start_time": "2022-09-12T21:32:24.239Z"
   },
   {
    "duration": 16,
    "start_time": "2022-09-12T21:32:24.251Z"
   },
   {
    "duration": 14,
    "start_time": "2022-09-12T21:32:24.268Z"
   },
   {
    "duration": 43,
    "start_time": "2022-09-12T21:32:24.283Z"
   },
   {
    "duration": 48,
    "start_time": "2022-09-12T21:32:24.328Z"
   },
   {
    "duration": 6,
    "start_time": "2022-09-12T21:32:24.378Z"
   },
   {
    "duration": 34,
    "start_time": "2022-09-12T21:32:24.386Z"
   },
   {
    "duration": 10,
    "start_time": "2022-09-12T21:32:24.422Z"
   },
   {
    "duration": 19,
    "start_time": "2022-09-12T21:32:24.434Z"
   },
   {
    "duration": 10,
    "start_time": "2022-09-12T21:32:24.454Z"
   },
   {
    "duration": 5,
    "start_time": "2022-09-12T21:32:24.466Z"
   },
   {
    "duration": 9,
    "start_time": "2022-09-12T21:32:24.472Z"
   },
   {
    "duration": 15,
    "start_time": "2022-09-12T21:32:24.482Z"
   },
   {
    "duration": 827,
    "start_time": "2022-09-12T21:32:24.498Z"
   },
   {
    "duration": 4495,
    "start_time": "2022-09-12T21:32:25.327Z"
   },
   {
    "duration": 999,
    "start_time": "2022-09-12T21:32:29.824Z"
   },
   {
    "duration": 3503,
    "start_time": "2022-09-12T21:32:30.825Z"
   },
   {
    "duration": 794,
    "start_time": "2022-09-12T21:32:34.331Z"
   },
   {
    "duration": 4419,
    "start_time": "2022-09-12T21:32:35.128Z"
   },
   {
    "duration": 73,
    "start_time": "2022-09-12T21:32:39.549Z"
   },
   {
    "duration": 99,
    "start_time": "2022-09-12T21:32:39.623Z"
   },
   {
    "duration": 2,
    "start_time": "2022-09-12T21:34:12.427Z"
   },
   {
    "duration": 2,
    "start_time": "2022-09-12T21:34:34.182Z"
   },
   {
    "duration": 3,
    "start_time": "2022-09-12T21:34:43.540Z"
   },
   {
    "duration": 2,
    "start_time": "2022-09-12T21:35:25.894Z"
   },
   {
    "duration": 2,
    "start_time": "2022-09-12T21:35:26.389Z"
   },
   {
    "duration": 4,
    "start_time": "2022-09-12T21:35:26.806Z"
   },
   {
    "duration": 47,
    "start_time": "2022-09-12T21:35:39.604Z"
   },
   {
    "duration": 3,
    "start_time": "2022-09-12T21:35:43.481Z"
   },
   {
    "duration": 4,
    "start_time": "2022-09-12T21:35:52.089Z"
   },
   {
    "duration": 2137,
    "start_time": "2022-09-12T23:44:15.041Z"
   },
   {
    "duration": 1255,
    "start_time": "2022-09-12T23:44:17.180Z"
   },
   {
    "duration": 368,
    "start_time": "2022-09-12T23:44:18.436Z"
   },
   {
    "duration": 15,
    "start_time": "2022-09-12T23:44:18.806Z"
   },
   {
    "duration": 15,
    "start_time": "2022-09-12T23:44:18.824Z"
   },
   {
    "duration": 18,
    "start_time": "2022-09-12T23:44:18.841Z"
   },
   {
    "duration": 22,
    "start_time": "2022-09-12T23:44:18.861Z"
   },
   {
    "duration": 38,
    "start_time": "2022-09-12T23:44:18.885Z"
   },
   {
    "duration": 63,
    "start_time": "2022-09-12T23:44:18.925Z"
   },
   {
    "duration": 95,
    "start_time": "2022-09-12T23:44:18.990Z"
   },
   {
    "duration": 52,
    "start_time": "2022-09-12T23:44:19.087Z"
   },
   {
    "duration": 626,
    "start_time": "2022-09-12T23:44:19.141Z"
   },
   {
    "duration": 426,
    "start_time": "2022-09-12T23:44:19.769Z"
   },
   {
    "duration": 6,
    "start_time": "2022-09-12T23:44:20.198Z"
   },
   {
    "duration": 18,
    "start_time": "2022-09-12T23:44:20.206Z"
   },
   {
    "duration": 22,
    "start_time": "2022-09-12T23:44:20.225Z"
   },
   {
    "duration": 30,
    "start_time": "2022-09-12T23:44:20.249Z"
   },
   {
    "duration": 29,
    "start_time": "2022-09-12T23:44:20.281Z"
   },
   {
    "duration": 40,
    "start_time": "2022-09-12T23:44:20.312Z"
   },
   {
    "duration": 18,
    "start_time": "2022-09-12T23:44:20.354Z"
   },
   {
    "duration": 31,
    "start_time": "2022-09-12T23:44:20.373Z"
   },
   {
    "duration": 28,
    "start_time": "2022-09-12T23:44:20.406Z"
   },
   {
    "duration": 1024,
    "start_time": "2022-09-12T23:44:20.435Z"
   },
   {
    "duration": 72,
    "start_time": "2022-09-12T23:44:21.460Z"
   },
   {
    "duration": 1596,
    "start_time": "2022-09-12T23:44:21.534Z"
   },
   {
    "duration": 13,
    "start_time": "2022-09-12T23:44:23.132Z"
   },
   {
    "duration": 71,
    "start_time": "2022-09-12T23:44:23.146Z"
   },
   {
    "duration": 14,
    "start_time": "2022-09-12T23:44:23.218Z"
   },
   {
    "duration": 33,
    "start_time": "2022-09-12T23:44:23.234Z"
   },
   {
    "duration": 24,
    "start_time": "2022-09-12T23:44:23.268Z"
   },
   {
    "duration": 32,
    "start_time": "2022-09-12T23:44:23.293Z"
   },
   {
    "duration": 15,
    "start_time": "2022-09-12T23:44:23.326Z"
   },
   {
    "duration": 40,
    "start_time": "2022-09-12T23:44:23.342Z"
   },
   {
    "duration": 40,
    "start_time": "2022-09-12T23:44:23.383Z"
   },
   {
    "duration": 18,
    "start_time": "2022-09-12T23:44:23.425Z"
   },
   {
    "duration": 52,
    "start_time": "2022-09-12T23:44:23.445Z"
   },
   {
    "duration": 5,
    "start_time": "2022-09-12T23:44:23.498Z"
   },
   {
    "duration": 21,
    "start_time": "2022-09-12T23:44:23.504Z"
   },
   {
    "duration": 11,
    "start_time": "2022-09-12T23:44:23.526Z"
   },
   {
    "duration": 19,
    "start_time": "2022-09-12T23:44:23.538Z"
   },
   {
    "duration": 10,
    "start_time": "2022-09-12T23:44:23.561Z"
   },
   {
    "duration": 15,
    "start_time": "2022-09-12T23:44:23.572Z"
   },
   {
    "duration": 67,
    "start_time": "2022-09-12T23:44:23.589Z"
   },
   {
    "duration": 6,
    "start_time": "2022-09-12T23:44:23.657Z"
   },
   {
    "duration": 14,
    "start_time": "2022-09-12T23:44:23.665Z"
   },
   {
    "duration": 10,
    "start_time": "2022-09-12T23:44:23.681Z"
   },
   {
    "duration": 36,
    "start_time": "2022-09-12T23:44:23.692Z"
   },
   {
    "duration": 10,
    "start_time": "2022-09-12T23:44:23.730Z"
   },
   {
    "duration": 11,
    "start_time": "2022-09-12T23:44:23.742Z"
   },
   {
    "duration": 9,
    "start_time": "2022-09-12T23:44:23.754Z"
   },
   {
    "duration": 7,
    "start_time": "2022-09-12T23:44:23.764Z"
   },
   {
    "duration": 756,
    "start_time": "2022-09-12T23:44:23.772Z"
   },
   {
    "duration": 4495,
    "start_time": "2022-09-12T23:44:24.530Z"
   },
   {
    "duration": 911,
    "start_time": "2022-09-12T23:44:29.027Z"
   },
   {
    "duration": 3304,
    "start_time": "2022-09-12T23:44:30.021Z"
   },
   {
    "duration": 894,
    "start_time": "2022-09-12T23:44:33.327Z"
   },
   {
    "duration": 4413,
    "start_time": "2022-09-12T23:44:34.226Z"
   },
   {
    "duration": 6,
    "start_time": "2022-09-12T23:44:38.721Z"
   },
   {
    "duration": 98,
    "start_time": "2022-09-12T23:44:38.731Z"
   },
   {
    "duration": 5,
    "start_time": "2022-09-12T23:44:38.830Z"
   },
   {
    "duration": 153,
    "start_time": "2022-09-12T23:44:38.837Z"
   },
   {
    "duration": 13,
    "start_time": "2022-09-12T23:45:06.667Z"
   },
   {
    "duration": 13,
    "start_time": "2022-09-12T23:45:38.566Z"
   },
   {
    "duration": 58,
    "start_time": "2022-09-12T23:47:21.063Z"
   },
   {
    "duration": 17,
    "start_time": "2022-09-12T23:48:39.403Z"
   },
   {
    "duration": 18,
    "start_time": "2022-09-12T23:49:24.704Z"
   },
   {
    "duration": 18,
    "start_time": "2022-09-12T23:50:46.712Z"
   },
   {
    "duration": 18,
    "start_time": "2022-09-12T23:52:28.592Z"
   },
   {
    "duration": 18,
    "start_time": "2022-09-12T23:54:36.288Z"
   },
   {
    "duration": 16,
    "start_time": "2022-09-12T23:55:22.945Z"
   },
   {
    "duration": 18,
    "start_time": "2022-09-12T23:55:29.112Z"
   },
   {
    "duration": 20,
    "start_time": "2022-09-12T23:55:54.475Z"
   },
   {
    "duration": 65,
    "start_time": "2022-09-12T23:58:11.358Z"
   },
   {
    "duration": 116,
    "start_time": "2022-09-12T23:58:47.006Z"
   },
   {
    "duration": 100,
    "start_time": "2022-09-12T23:59:02.822Z"
   },
   {
    "duration": 40,
    "start_time": "2022-09-13T00:02:14.985Z"
   },
   {
    "duration": 161,
    "start_time": "2022-09-13T00:04:34.861Z"
   },
   {
    "duration": 10,
    "start_time": "2022-09-13T10:48:01.141Z"
   },
   {
    "duration": 4,
    "start_time": "2022-09-13T10:52:56.785Z"
   },
   {
    "duration": 2,
    "start_time": "2022-09-13T10:55:39.264Z"
   },
   {
    "duration": 5,
    "start_time": "2022-09-13T10:56:11.440Z"
   },
   {
    "duration": 38,
    "start_time": "2022-09-13T10:56:11.953Z"
   },
   {
    "duration": 6757,
    "start_time": "2022-09-13T10:56:17.992Z"
   },
   {
    "duration": 1297,
    "start_time": "2022-09-13T10:56:24.752Z"
   },
   {
    "duration": 713,
    "start_time": "2022-09-13T10:56:26.050Z"
   },
   {
    "duration": 12,
    "start_time": "2022-09-13T10:56:26.765Z"
   },
   {
    "duration": 15,
    "start_time": "2022-09-13T10:56:26.779Z"
   },
   {
    "duration": 12,
    "start_time": "2022-09-13T10:56:26.795Z"
   },
   {
    "duration": 19,
    "start_time": "2022-09-13T10:56:26.808Z"
   },
   {
    "duration": 11,
    "start_time": "2022-09-13T10:56:26.828Z"
   },
   {
    "duration": 43,
    "start_time": "2022-09-13T10:56:26.841Z"
   },
   {
    "duration": 85,
    "start_time": "2022-09-13T10:56:26.886Z"
   },
   {
    "duration": 36,
    "start_time": "2022-09-13T10:56:26.973Z"
   },
   {
    "duration": 601,
    "start_time": "2022-09-13T10:56:27.021Z"
   },
   {
    "duration": 363,
    "start_time": "2022-09-13T10:56:27.623Z"
   },
   {
    "duration": 6,
    "start_time": "2022-09-13T10:56:27.989Z"
   },
   {
    "duration": 17,
    "start_time": "2022-09-13T10:56:27.996Z"
   },
   {
    "duration": 10,
    "start_time": "2022-09-13T10:56:28.015Z"
   },
   {
    "duration": 9,
    "start_time": "2022-09-13T10:56:28.027Z"
   },
   {
    "duration": 8,
    "start_time": "2022-09-13T10:56:28.037Z"
   },
   {
    "duration": 23,
    "start_time": "2022-09-13T10:56:28.046Z"
   },
   {
    "duration": 7,
    "start_time": "2022-09-13T10:56:28.070Z"
   },
   {
    "duration": 6,
    "start_time": "2022-09-13T10:56:28.078Z"
   },
   {
    "duration": 11,
    "start_time": "2022-09-13T10:56:28.086Z"
   },
   {
    "duration": 1044,
    "start_time": "2022-09-13T10:56:28.099Z"
   },
   {
    "duration": 53,
    "start_time": "2022-09-13T10:56:29.145Z"
   },
   {
    "duration": 1389,
    "start_time": "2022-09-13T10:56:29.200Z"
   },
   {
    "duration": 11,
    "start_time": "2022-09-13T10:56:30.590Z"
   },
   {
    "duration": 67,
    "start_time": "2022-09-13T10:56:30.602Z"
   },
   {
    "duration": 11,
    "start_time": "2022-09-13T10:56:30.671Z"
   },
   {
    "duration": 48,
    "start_time": "2022-09-13T10:56:30.683Z"
   },
   {
    "duration": 22,
    "start_time": "2022-09-13T10:56:30.732Z"
   },
   {
    "duration": 13,
    "start_time": "2022-09-13T10:56:30.756Z"
   },
   {
    "duration": 27,
    "start_time": "2022-09-13T10:56:30.771Z"
   },
   {
    "duration": 44,
    "start_time": "2022-09-13T10:56:30.800Z"
   },
   {
    "duration": 41,
    "start_time": "2022-09-13T10:56:30.845Z"
   },
   {
    "duration": 38,
    "start_time": "2022-09-13T10:56:30.888Z"
   },
   {
    "duration": 89,
    "start_time": "2022-09-13T10:56:30.927Z"
   },
   {
    "duration": 6,
    "start_time": "2022-09-13T10:56:31.018Z"
   },
   {
    "duration": 27,
    "start_time": "2022-09-13T10:56:31.025Z"
   },
   {
    "duration": 41,
    "start_time": "2022-09-13T10:56:31.054Z"
   },
   {
    "duration": 75,
    "start_time": "2022-09-13T10:56:31.097Z"
   },
   {
    "duration": 11,
    "start_time": "2022-09-13T10:56:31.175Z"
   },
   {
    "duration": 23,
    "start_time": "2022-09-13T10:56:31.187Z"
   },
   {
    "duration": 43,
    "start_time": "2022-09-13T10:56:31.212Z"
   },
   {
    "duration": 4,
    "start_time": "2022-09-13T10:56:31.257Z"
   },
   {
    "duration": 23,
    "start_time": "2022-09-13T10:56:31.262Z"
   },
   {
    "duration": 13,
    "start_time": "2022-09-13T10:56:31.287Z"
   },
   {
    "duration": 20,
    "start_time": "2022-09-13T10:56:31.301Z"
   },
   {
    "duration": 10,
    "start_time": "2022-09-13T10:56:31.322Z"
   },
   {
    "duration": 13,
    "start_time": "2022-09-13T10:56:31.333Z"
   },
   {
    "duration": 16,
    "start_time": "2022-09-13T10:56:31.348Z"
   },
   {
    "duration": 10,
    "start_time": "2022-09-13T10:56:31.365Z"
   },
   {
    "duration": 948,
    "start_time": "2022-09-13T10:56:31.377Z"
   },
   {
    "duration": 4197,
    "start_time": "2022-09-13T10:56:32.327Z"
   },
   {
    "duration": 1098,
    "start_time": "2022-09-13T10:56:36.528Z"
   },
   {
    "duration": 3414,
    "start_time": "2022-09-13T10:56:37.628Z"
   },
   {
    "duration": 987,
    "start_time": "2022-09-13T10:56:41.044Z"
   },
   {
    "duration": 4205,
    "start_time": "2022-09-13T10:56:42.124Z"
   },
   {
    "duration": 91,
    "start_time": "2022-09-13T10:56:46.332Z"
   },
   {
    "duration": 7,
    "start_time": "2022-09-13T10:56:46.424Z"
   },
   {
    "duration": 8,
    "start_time": "2022-09-13T10:56:46.432Z"
   },
   {
    "duration": 7,
    "start_time": "2022-09-13T10:56:46.441Z"
   },
   {
    "duration": 6,
    "start_time": "2022-09-13T10:56:46.449Z"
   },
   {
    "duration": 267,
    "start_time": "2022-09-13T10:56:46.456Z"
   },
   {
    "duration": 4,
    "start_time": "2022-09-13T10:57:53.175Z"
   },
   {
    "duration": 3,
    "start_time": "2022-09-13T10:57:57.665Z"
   },
   {
    "duration": 5,
    "start_time": "2022-09-13T10:57:58.297Z"
   },
   {
    "duration": 1468,
    "start_time": "2022-09-13T10:57:59.034Z"
   },
   {
    "duration": 5,
    "start_time": "2022-09-13T10:59:14.312Z"
   },
   {
    "duration": 1478,
    "start_time": "2022-09-13T10:59:14.852Z"
   },
   {
    "duration": 9,
    "start_time": "2022-09-13T11:00:50.740Z"
   },
   {
    "duration": 11,
    "start_time": "2022-09-13T11:04:10.454Z"
   },
   {
    "duration": 10,
    "start_time": "2022-09-13T11:04:20.506Z"
   },
   {
    "duration": 4192,
    "start_time": "2022-09-13T11:04:36.143Z"
   },
   {
    "duration": 5,
    "start_time": "2022-09-13T11:06:08.669Z"
   },
   {
    "duration": 98,
    "start_time": "2022-09-13T11:06:09.725Z"
   },
   {
    "duration": 3842,
    "start_time": "2022-09-13T11:06:10.372Z"
   },
   {
    "duration": 1430,
    "start_time": "2022-09-13T11:06:19.068Z"
   },
   {
    "duration": 4,
    "start_time": "2022-09-13T11:26:21.162Z"
   },
   {
    "duration": 9,
    "start_time": "2022-09-13T11:26:48.579Z"
   },
   {
    "duration": 2270,
    "start_time": "2022-09-13T11:26:55.360Z"
   },
   {
    "duration": 1706,
    "start_time": "2022-09-13T11:26:57.632Z"
   },
   {
    "duration": 696,
    "start_time": "2022-09-13T11:26:59.339Z"
   },
   {
    "duration": 12,
    "start_time": "2022-09-13T11:27:00.037Z"
   },
   {
    "duration": 26,
    "start_time": "2022-09-13T11:27:00.050Z"
   },
   {
    "duration": 17,
    "start_time": "2022-09-13T11:27:00.077Z"
   },
   {
    "duration": 31,
    "start_time": "2022-09-13T11:27:00.095Z"
   },
   {
    "duration": 12,
    "start_time": "2022-09-13T11:27:00.127Z"
   },
   {
    "duration": 49,
    "start_time": "2022-09-13T11:27:00.140Z"
   },
   {
    "duration": 86,
    "start_time": "2022-09-13T11:27:00.190Z"
   },
   {
    "duration": 38,
    "start_time": "2022-09-13T11:27:00.277Z"
   },
   {
    "duration": 571,
    "start_time": "2022-09-13T11:27:00.321Z"
   },
   {
    "duration": 400,
    "start_time": "2022-09-13T11:27:00.894Z"
   },
   {
    "duration": 6,
    "start_time": "2022-09-13T11:27:01.297Z"
   },
   {
    "duration": 59,
    "start_time": "2022-09-13T11:27:01.305Z"
   },
   {
    "duration": 40,
    "start_time": "2022-09-13T11:27:01.366Z"
   },
   {
    "duration": 26,
    "start_time": "2022-09-13T11:27:01.408Z"
   },
   {
    "duration": 48,
    "start_time": "2022-09-13T11:27:01.436Z"
   },
   {
    "duration": 47,
    "start_time": "2022-09-13T11:27:01.485Z"
   },
   {
    "duration": 32,
    "start_time": "2022-09-13T11:27:01.534Z"
   },
   {
    "duration": 28,
    "start_time": "2022-09-13T11:27:01.568Z"
   },
   {
    "duration": 42,
    "start_time": "2022-09-13T11:27:01.597Z"
   },
   {
    "duration": 1056,
    "start_time": "2022-09-13T11:27:01.640Z"
   },
   {
    "duration": 56,
    "start_time": "2022-09-13T11:27:02.697Z"
   },
   {
    "duration": 1428,
    "start_time": "2022-09-13T11:27:02.755Z"
   },
   {
    "duration": 11,
    "start_time": "2022-09-13T11:27:04.184Z"
   },
   {
    "duration": 58,
    "start_time": "2022-09-13T11:27:04.197Z"
   },
   {
    "duration": 11,
    "start_time": "2022-09-13T11:27:04.256Z"
   },
   {
    "duration": 9,
    "start_time": "2022-09-13T11:27:04.268Z"
   },
   {
    "duration": 13,
    "start_time": "2022-09-13T11:27:04.278Z"
   },
   {
    "duration": 18,
    "start_time": "2022-09-13T11:27:04.292Z"
   },
   {
    "duration": 12,
    "start_time": "2022-09-13T11:27:04.312Z"
   },
   {
    "duration": 15,
    "start_time": "2022-09-13T11:27:04.326Z"
   },
   {
    "duration": 7,
    "start_time": "2022-09-13T11:27:04.342Z"
   },
   {
    "duration": 35,
    "start_time": "2022-09-13T11:27:04.350Z"
   },
   {
    "duration": 40,
    "start_time": "2022-09-13T11:27:04.387Z"
   },
   {
    "duration": 4,
    "start_time": "2022-09-13T11:27:04.428Z"
   },
   {
    "duration": 42,
    "start_time": "2022-09-13T11:27:04.434Z"
   },
   {
    "duration": 16,
    "start_time": "2022-09-13T11:27:04.478Z"
   },
   {
    "duration": 38,
    "start_time": "2022-09-13T11:27:04.496Z"
   },
   {
    "duration": 9,
    "start_time": "2022-09-13T11:27:04.537Z"
   },
   {
    "duration": 17,
    "start_time": "2022-09-13T11:27:04.547Z"
   },
   {
    "duration": 39,
    "start_time": "2022-09-13T11:27:04.565Z"
   },
   {
    "duration": 5,
    "start_time": "2022-09-13T11:27:04.605Z"
   },
   {
    "duration": 12,
    "start_time": "2022-09-13T11:27:04.622Z"
   },
   {
    "duration": 9,
    "start_time": "2022-09-13T11:27:04.635Z"
   },
   {
    "duration": 15,
    "start_time": "2022-09-13T11:27:04.646Z"
   },
   {
    "duration": 10,
    "start_time": "2022-09-13T11:27:04.662Z"
   },
   {
    "duration": 7,
    "start_time": "2022-09-13T11:27:04.673Z"
   },
   {
    "duration": 7,
    "start_time": "2022-09-13T11:27:04.681Z"
   },
   {
    "duration": 33,
    "start_time": "2022-09-13T11:27:04.689Z"
   },
   {
    "duration": 4,
    "start_time": "2022-09-13T11:27:04.723Z"
   },
   {
    "duration": 810,
    "start_time": "2022-09-13T11:27:04.728Z"
   },
   {
    "duration": 4299,
    "start_time": "2022-09-13T11:27:05.624Z"
   },
   {
    "duration": 302,
    "start_time": "2022-09-13T11:27:09.926Z"
   },
   {
    "duration": 0,
    "start_time": "2022-09-13T11:27:10.230Z"
   },
   {
    "duration": 0,
    "start_time": "2022-09-13T11:27:10.232Z"
   },
   {
    "duration": 0,
    "start_time": "2022-09-13T11:27:10.232Z"
   },
   {
    "duration": 0,
    "start_time": "2022-09-13T11:27:10.234Z"
   },
   {
    "duration": 0,
    "start_time": "2022-09-13T11:27:10.235Z"
   },
   {
    "duration": 0,
    "start_time": "2022-09-13T11:27:10.236Z"
   },
   {
    "duration": 0,
    "start_time": "2022-09-13T11:27:10.237Z"
   },
   {
    "duration": 0,
    "start_time": "2022-09-13T11:27:10.238Z"
   },
   {
    "duration": 0,
    "start_time": "2022-09-13T11:27:10.239Z"
   },
   {
    "duration": 0,
    "start_time": "2022-09-13T11:27:10.240Z"
   },
   {
    "duration": 0,
    "start_time": "2022-09-13T11:27:10.241Z"
   },
   {
    "duration": 4,
    "start_time": "2022-09-13T11:27:37.909Z"
   },
   {
    "duration": 4,
    "start_time": "2022-09-13T11:28:26.455Z"
   },
   {
    "duration": 19,
    "start_time": "2022-09-13T11:28:28.977Z"
   },
   {
    "duration": 3,
    "start_time": "2022-09-13T11:28:52.253Z"
   },
   {
    "duration": 16,
    "start_time": "2022-09-13T11:28:55.080Z"
   },
   {
    "duration": 4,
    "start_time": "2022-09-13T11:29:41.449Z"
   },
   {
    "duration": 11,
    "start_time": "2022-09-13T11:29:43.889Z"
   },
   {
    "duration": 3,
    "start_time": "2022-09-13T11:30:19.782Z"
   },
   {
    "duration": 15,
    "start_time": "2022-09-13T11:30:25.368Z"
   },
   {
    "duration": 4,
    "start_time": "2022-09-13T11:30:43.976Z"
   },
   {
    "duration": 9,
    "start_time": "2022-09-13T11:30:51.640Z"
   },
   {
    "duration": 3,
    "start_time": "2022-09-13T11:30:54.356Z"
   },
   {
    "duration": 4,
    "start_time": "2022-09-13T11:32:07.867Z"
   },
   {
    "duration": 7,
    "start_time": "2022-09-13T11:32:10.798Z"
   },
   {
    "duration": 3,
    "start_time": "2022-09-13T11:32:36.956Z"
   },
   {
    "duration": 3914,
    "start_time": "2022-09-13T11:32:39.075Z"
   },
   {
    "duration": 101,
    "start_time": "2022-09-13T11:32:43.023Z"
   },
   {
    "duration": 2,
    "start_time": "2022-09-13T11:33:36.068Z"
   },
   {
    "duration": 4,
    "start_time": "2022-09-13T11:33:40.645Z"
   },
   {
    "duration": 4,
    "start_time": "2022-09-13T11:33:43.901Z"
   },
   {
    "duration": 4,
    "start_time": "2022-09-13T11:33:51.310Z"
   },
   {
    "duration": 4,
    "start_time": "2022-09-13T11:34:00.252Z"
   },
   {
    "duration": 8,
    "start_time": "2022-09-13T11:34:04.848Z"
   },
   {
    "duration": 7,
    "start_time": "2022-09-13T11:34:23.355Z"
   },
   {
    "duration": 4,
    "start_time": "2022-09-13T11:34:27.793Z"
   },
   {
    "duration": 2249,
    "start_time": "2022-09-13T11:35:37.450Z"
   },
   {
    "duration": 1198,
    "start_time": "2022-09-13T11:35:39.701Z"
   },
   {
    "duration": 358,
    "start_time": "2022-09-13T11:35:40.901Z"
   },
   {
    "duration": 12,
    "start_time": "2022-09-13T11:35:41.261Z"
   },
   {
    "duration": 27,
    "start_time": "2022-09-13T11:35:41.275Z"
   },
   {
    "duration": 33,
    "start_time": "2022-09-13T11:35:41.303Z"
   },
   {
    "duration": 21,
    "start_time": "2022-09-13T11:35:41.338Z"
   },
   {
    "duration": 27,
    "start_time": "2022-09-13T11:35:41.360Z"
   },
   {
    "duration": 69,
    "start_time": "2022-09-13T11:35:41.389Z"
   },
   {
    "duration": 73,
    "start_time": "2022-09-13T11:35:41.459Z"
   },
   {
    "duration": 50,
    "start_time": "2022-09-13T11:35:41.533Z"
   },
   {
    "duration": 596,
    "start_time": "2022-09-13T11:35:41.584Z"
   },
   {
    "duration": 373,
    "start_time": "2022-09-13T11:35:42.182Z"
   },
   {
    "duration": 6,
    "start_time": "2022-09-13T11:35:42.557Z"
   },
   {
    "duration": 49,
    "start_time": "2022-09-13T11:35:42.565Z"
   },
   {
    "duration": 30,
    "start_time": "2022-09-13T11:35:42.615Z"
   },
   {
    "duration": 19,
    "start_time": "2022-09-13T11:35:42.647Z"
   },
   {
    "duration": 38,
    "start_time": "2022-09-13T11:35:42.668Z"
   },
   {
    "duration": 60,
    "start_time": "2022-09-13T11:35:42.708Z"
   },
   {
    "duration": 33,
    "start_time": "2022-09-13T11:35:42.769Z"
   },
   {
    "duration": 14,
    "start_time": "2022-09-13T11:35:42.804Z"
   },
   {
    "duration": 30,
    "start_time": "2022-09-13T11:35:42.819Z"
   },
   {
    "duration": 996,
    "start_time": "2022-09-13T11:35:42.851Z"
   },
   {
    "duration": 49,
    "start_time": "2022-09-13T11:35:43.849Z"
   },
   {
    "duration": 1336,
    "start_time": "2022-09-13T11:35:43.900Z"
   },
   {
    "duration": 11,
    "start_time": "2022-09-13T11:35:45.237Z"
   },
   {
    "duration": 43,
    "start_time": "2022-09-13T11:35:45.249Z"
   },
   {
    "duration": 11,
    "start_time": "2022-09-13T11:35:45.293Z"
   },
   {
    "duration": 19,
    "start_time": "2022-09-13T11:35:45.305Z"
   },
   {
    "duration": 14,
    "start_time": "2022-09-13T11:35:45.325Z"
   },
   {
    "duration": 9,
    "start_time": "2022-09-13T11:35:45.340Z"
   },
   {
    "duration": 6,
    "start_time": "2022-09-13T11:35:45.351Z"
   },
   {
    "duration": 14,
    "start_time": "2022-09-13T11:35:45.358Z"
   },
   {
    "duration": 6,
    "start_time": "2022-09-13T11:35:45.374Z"
   },
   {
    "duration": 14,
    "start_time": "2022-09-13T11:35:45.381Z"
   },
   {
    "duration": 54,
    "start_time": "2022-09-13T11:35:45.396Z"
   },
   {
    "duration": 4,
    "start_time": "2022-09-13T11:35:45.452Z"
   },
   {
    "duration": 17,
    "start_time": "2022-09-13T11:35:45.458Z"
   },
   {
    "duration": 9,
    "start_time": "2022-09-13T11:35:45.477Z"
   },
   {
    "duration": 17,
    "start_time": "2022-09-13T11:35:45.487Z"
   },
   {
    "duration": 8,
    "start_time": "2022-09-13T11:35:45.522Z"
   },
   {
    "duration": 13,
    "start_time": "2022-09-13T11:35:45.531Z"
   },
   {
    "duration": 40,
    "start_time": "2022-09-13T11:35:45.545Z"
   },
   {
    "duration": 5,
    "start_time": "2022-09-13T11:35:45.586Z"
   },
   {
    "duration": 32,
    "start_time": "2022-09-13T11:35:45.593Z"
   },
   {
    "duration": 9,
    "start_time": "2022-09-13T11:35:45.627Z"
   },
   {
    "duration": 17,
    "start_time": "2022-09-13T11:35:45.638Z"
   },
   {
    "duration": 13,
    "start_time": "2022-09-13T11:35:45.657Z"
   },
   {
    "duration": 8,
    "start_time": "2022-09-13T11:35:45.672Z"
   },
   {
    "duration": 12,
    "start_time": "2022-09-13T11:35:45.682Z"
   },
   {
    "duration": 11,
    "start_time": "2022-09-13T11:35:45.695Z"
   },
   {
    "duration": 25,
    "start_time": "2022-09-13T11:35:45.708Z"
   },
   {
    "duration": 797,
    "start_time": "2022-09-13T11:35:45.734Z"
   },
   {
    "duration": 4291,
    "start_time": "2022-09-13T11:35:46.532Z"
   },
   {
    "duration": 104,
    "start_time": "2022-09-13T11:35:50.827Z"
   },
   {
    "duration": 809,
    "start_time": "2022-09-13T11:35:51.022Z"
   },
   {
    "duration": 3310,
    "start_time": "2022-09-13T11:35:51.927Z"
   },
   {
    "duration": 101,
    "start_time": "2022-09-13T11:35:55.321Z"
   },
   {
    "duration": 807,
    "start_time": "2022-09-13T11:35:55.424Z"
   },
   {
    "duration": 4090,
    "start_time": "2022-09-13T11:35:56.233Z"
   },
   {
    "duration": 100,
    "start_time": "2022-09-13T11:36:00.325Z"
   },
   {
    "duration": 96,
    "start_time": "2022-09-13T11:36:00.427Z"
   },
   {
    "duration": 15,
    "start_time": "2022-09-13T11:36:00.525Z"
   },
   {
    "duration": 17,
    "start_time": "2022-09-13T11:36:00.541Z"
   },
   {
    "duration": 25,
    "start_time": "2022-09-13T11:36:00.559Z"
   },
   {
    "duration": 12,
    "start_time": "2022-09-13T11:36:00.586Z"
   },
   {
    "duration": 18,
    "start_time": "2022-09-13T11:36:00.599Z"
   },
   {
    "duration": 4072,
    "start_time": "2022-09-13T11:36:00.621Z"
   },
   {
    "duration": 46,
    "start_time": "2022-09-13T11:36:38.279Z"
   },
   {
    "duration": 85,
    "start_time": "2022-09-13T11:36:55.959Z"
   },
   {
    "duration": 52,
    "start_time": "2022-09-13T11:40:06.285Z"
   },
   {
    "duration": 3,
    "start_time": "2022-09-13T11:40:15.306Z"
   },
   {
    "duration": 6,
    "start_time": "2022-09-13T11:47:19.697Z"
   },
   {
    "duration": 61,
    "start_time": "2022-09-13T11:47:20.465Z"
   },
   {
    "duration": 3857,
    "start_time": "2022-09-13T11:47:21.073Z"
   },
   {
    "duration": 7,
    "start_time": "2022-09-13T11:54:05.068Z"
   },
   {
    "duration": 12,
    "start_time": "2022-09-13T11:54:06.161Z"
   },
   {
    "duration": 4062,
    "start_time": "2022-09-13T11:54:06.593Z"
   },
   {
    "duration": 6,
    "start_time": "2022-09-13T11:55:09.777Z"
   },
   {
    "duration": 4005,
    "start_time": "2022-09-13T11:55:11.973Z"
   },
   {
    "duration": 6,
    "start_time": "2022-09-13T11:56:21.647Z"
   },
   {
    "duration": 28,
    "start_time": "2022-09-13T11:56:22.695Z"
   },
   {
    "duration": 4236,
    "start_time": "2022-09-13T11:56:23.193Z"
   },
   {
    "duration": 5,
    "start_time": "2022-09-13T11:56:48.149Z"
   },
   {
    "duration": 13,
    "start_time": "2022-09-13T11:56:48.717Z"
   },
   {
    "duration": 4043,
    "start_time": "2022-09-13T11:56:49.165Z"
   },
   {
    "duration": 6,
    "start_time": "2022-09-13T11:57:00.598Z"
   },
   {
    "duration": 10,
    "start_time": "2022-09-13T11:57:01.511Z"
   },
   {
    "duration": 4056,
    "start_time": "2022-09-13T11:57:01.949Z"
   },
   {
    "duration": 6,
    "start_time": "2022-09-13T11:58:11.677Z"
   },
   {
    "duration": 13,
    "start_time": "2022-09-13T11:58:12.377Z"
   },
   {
    "duration": 3984,
    "start_time": "2022-09-13T11:58:13.045Z"
   },
   {
    "duration": 6,
    "start_time": "2022-09-13T11:58:36.853Z"
   },
   {
    "duration": 5,
    "start_time": "2022-09-13T11:58:49.449Z"
   },
   {
    "duration": 3992,
    "start_time": "2022-09-13T11:58:51.362Z"
   },
   {
    "duration": 7,
    "start_time": "2022-09-13T12:00:21.069Z"
   },
   {
    "duration": 10,
    "start_time": "2022-09-13T12:00:21.684Z"
   },
   {
    "duration": 4133,
    "start_time": "2022-09-13T12:00:22.165Z"
   },
   {
    "duration": 6,
    "start_time": "2022-09-13T12:00:59.757Z"
   },
   {
    "duration": 4023,
    "start_time": "2022-09-13T12:01:02.279Z"
   }
  ],
  "kernelspec": {
   "display_name": "Python 3 (ipykernel)",
   "language": "python",
   "name": "python3"
  },
  "language_info": {
   "codemirror_mode": {
    "name": "ipython",
    "version": 3
   },
   "file_extension": ".py",
   "mimetype": "text/x-python",
   "name": "python",
   "nbconvert_exporter": "python",
   "pygments_lexer": "ipython3",
   "version": "3.9.13"
  },
  "toc": {
   "base_numbering": 1,
   "nav_menu": {},
   "number_sections": true,
   "sideBar": true,
   "skip_h1_title": true,
   "title_cell": "Table of Contents",
   "title_sidebar": "Contents",
   "toc_cell": false,
   "toc_position": {
    "height": "calc(100% - 180px)",
    "left": "10px",
    "top": "150px",
    "width": "199.188px"
   },
   "toc_section_display": true,
   "toc_window_display": true
  }
 },
 "nbformat": 4,
 "nbformat_minor": 2
}
